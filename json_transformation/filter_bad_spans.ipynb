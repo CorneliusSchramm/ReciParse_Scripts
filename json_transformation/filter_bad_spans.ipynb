{
 "metadata": {
  "language_info": {
   "codemirror_mode": {
    "name": "ipython",
    "version": 3
   },
   "file_extension": ".py",
   "mimetype": "text/x-python",
   "name": "python",
   "nbconvert_exporter": "python",
   "pygments_lexer": "ipython3",
   "version": "3.8.3-final"
  },
  "orig_nbformat": 2,
  "kernelspec": {
   "name": "python3",
   "display_name": "Python 3"
  }
 },
 "nbformat": 4,
 "nbformat_minor": 2,
 "cells": [
  {
   "cell_type": "code",
   "execution_count": 3,
   "metadata": {},
   "outputs": [],
   "source": [
    "from prodigy.components.db import connect\n",
    "\n",
    "db = connect()\n",
    "examples = db.get_dataset(\"batch1leo30\")\n",
    "filtered_examples = []\n",
    "for eg in examples:\n",
    "    if \"spans\" in eg:\n",
    "        new_spans = []\n",
    "        for span in eg[\"spans\"]:\n",
    "            if \"start\" not in span or \"end\" not in span:\n",
    "                print(\"Found bad span:\", span)\n",
    "            else:\n",
    "                new_spans.append(span)\n",
    "        eg[\"spans\"] = new_spans\n",
    "    filtered_examples.append(eg)\n",
    "\n",
    "# Add filtered examples to new dataset\n",
    "db.add_dataset(\"myDataset2_filtered\")\n",
    "db.add_examples(filtered_examples, [\"batch1leo30_filtered\"])"
   ]
  },
  {
   "cell_type": "code",
   "execution_count": null,
   "metadata": {},
   "outputs": [],
   "source": []
  }
 ]
}