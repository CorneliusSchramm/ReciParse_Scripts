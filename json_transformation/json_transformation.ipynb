{
 "metadata": {
  "language_info": {
   "codemirror_mode": {
    "name": "ipython",
    "version": 3
   },
   "file_extension": ".py",
   "mimetype": "text/x-python",
   "name": "python",
   "nbconvert_exporter": "python",
   "pygments_lexer": "ipython3",
   "version": "3.8.3-final"
  },
  "orig_nbformat": 2,
  "kernelspec": {
   "name": "python3",
   "display_name": "Python 3"
  }
 },
 "nbformat": 4,
 "nbformat_minor": 2,
 "cells": [
  {
   "source": [
    "## Output JSON NE and Relations to Input JSON for NER Training\n",
    "####  17. November 2020\n",
    "### Input\n",
    "JSON from annotation with NE and relations\n",
    "### Output\n",
    "JSON for input NER Training"
   ],
   "cell_type": "markdown",
   "metadata": {}
  },
  {
   "cell_type": "code",
   "execution_count": 1,
   "metadata": {},
   "outputs": [],
   "source": [
    "import pandas as pd\n",
    "import numpy as np\n",
    "import json"
   ]
  },
  {
   "cell_type": "code",
   "execution_count": 2,
   "metadata": {},
   "outputs": [],
   "source": [
    "# Coco Path\n",
    "# path = r\"C:\\Users\\CocoL\\Universität St.Gallen\\STUD-Capstoneproject Tell 6 - General\\02-Coding\"\n",
    "# Jona Path\n",
    "# path = r\"/Users/jhoff/Universität St.Gallen/STUD-Capstoneproject Tell 6 - Dokumente/General/02-Coding\"\n",
    "# Giovanni Path\n",
    "# path = r\"/Users/jonathanebner/Universität St.Gallen/STUD-Capstoneproject Tell 6 - General/02-Coding\"\n",
    "# Leo Path\n",
    "# path = r\"/Users/Leonidas/Universität St.Gallen/STUD-Capstoneproject Tell 6 - General/02-Coding\"\n",
    "\n",
    "path = r\"/Users/jonathanebner/Desktop/ReciParse_Github/ReciParse_Scripts/test_area/jonathan/JSON_TO_JSONNER\"\n",
    "\n",
    "path = \"/Users/Leonidas/Desktop/Cappi shit\""
   ]
  },
  {
   "cell_type": "code",
   "execution_count": 3,
   "metadata": {},
   "outputs": [],
   "source": [
    "# load input JSON into dict data_input\n",
    "input_name = \"input_json.jsonl\"\n",
    "input_name = \"batch1leo30.jsonl\"\n",
    "data_input = []\n",
    "with open(path + '/' + input_name) as f:\n",
    "  for i in f:\n",
    "    data = json.loads(i)\n",
    "    data_input.append(data)"
   ]
  },
  {
   "source": [
    "### Inhalt Input:\n",
    "\"text\" <br>\n",
    "\"_input_hash\" <br>\n",
    "\"task_hash\" <br>\n",
    "\"spans\" <br>\n",
    "\"tokens\" <br>\n",
    "\"_session_id\" <br>\n",
    "\"_view_id\" <br> \n",
    "\"relations\" <br>\n",
    "\"answer\" <br>"
   ],
   "cell_type": "markdown",
   "metadata": {}
  },
  {
   "source": [
    "### Inhalt Output:\n",
    "\"text\" <br>\n",
    "\"_input_hash\" <br>\n",
    "\"_task_hash\" <br>\n",
    "\"tokens\" <br>\n",
    "\"_session_id\" <br>\n",
    "\"_view_id\" <br>\n",
    "\"spans\" <br>\n",
    "\"answer\" "
   ],
   "cell_type": "markdown",
   "metadata": {}
  },
  {
   "cell_type": "code",
   "execution_count": 4,
   "metadata": {},
   "outputs": [],
   "source": [
    "output_keys = [\"text\", \"_input_hash\", \"_task_hash\", \"tokens\", \"_session_id\", \"_view_id\", \"spans\", \"answer\"]"
   ]
  },
  {
   "cell_type": "code",
   "execution_count": 5,
   "metadata": {},
   "outputs": [],
   "source": [
    "# create output JSON from input JSON\n",
    "output = []\n",
    "for i in range(len(data_input)):\n",
    "    output_ = {}\n",
    "    for key in output_keys:\n",
    "        output_[key] = data_input[i][key]\n",
    "    output.append(output_)"
   ]
  },
  {
   "cell_type": "code",
   "execution_count": 6,
   "metadata": {},
   "outputs": [],
   "source": [
    "# convert dict output into string\n",
    "output_string = json.dumps(output)"
   ]
  },
  {
   "cell_type": "code",
   "execution_count": 7,
   "metadata": {},
   "outputs": [],
   "source": [
    "# write JSON string into JSON file\n",
    "output_name = \"test2.jsonl\"\n",
    "with open(path + \"/\" + output_name,\"w\") as f:\n",
    "  for json_ in output:\n",
    "    json_string = json.dumps(json_)\n",
    "    f.write(json_string + \"\\n\")"
   ]
  },
  {
   "cell_type": "code",
   "execution_count": null,
   "metadata": {},
   "outputs": [],
   "source": []
  },
  {
   "cell_type": "code",
   "execution_count": null,
   "metadata": {},
   "outputs": [],
   "source": []
  }
 ]
}