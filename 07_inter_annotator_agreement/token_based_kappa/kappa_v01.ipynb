{
 "metadata": {
  "language_info": {
   "codemirror_mode": {
    "name": "ipython",
    "version": 3
   },
   "file_extension": ".py",
   "mimetype": "text/x-python",
   "name": "python",
   "nbconvert_exporter": "python",
   "pygments_lexer": "ipython3",
   "version": "3.8.3-final"
  },
  "orig_nbformat": 2,
  "kernelspec": {
   "name": "python3",
   "display_name": "Python 3.8.3 64-bit ('nlp-env': conda)",
   "metadata": {
    "interpreter": {
     "hash": "60fbc5e2f5b4885e593b07e8327173f952414593b97953f7f5df8cd3c66845df"
    }
   }
  }
 },
 "nbformat": 4,
 "nbformat_minor": 2,
 "cells": [
  {
   "cell_type": "code",
   "execution_count": 13,
   "metadata": {},
   "outputs": [],
   "source": [
    "import jsonlines\n",
    "import spacy\n",
    "import spacy.language\n",
    "from spacy.tokens import Doc\n",
    "from spacy.scorer import Scorer\n",
    "from spacy.vocab import Vocab\n",
    "import statsmodels\n",
    "import pandas as pd"
   ]
  },
  {
   "cell_type": "code",
   "execution_count": 3,
   "metadata": {},
   "outputs": [],
   "source": [
    "# path to jsonl overlap files\n",
    "path_coco = r\"/Users/jhoff/Universität St.Gallen/STUD-Capstoneproject Tell 6 - Dokumente/General/02-Coding/01-Data/20_overlap/overlap_total/overlap_coco.jsonl\"\n",
    "path_graf = r\"/Users/jhoff/Universität St.Gallen/STUD-Capstoneproject Tell 6 - Dokumente/General/02-Coding/01-Data/20_overlap/overlap_total/overlap_leo.jsonl\"\n",
    "path_hoff = r\"/Users/jhoff/Universität St.Gallen/STUD-Capstoneproject Tell 6 - Dokumente/General/02-Coding/01-Data/20_overlap/overlap_total/overlap_jona.jsonl\"\n",
    "path_jthn = r\"/Users/jhoff/Universität St.Gallen/STUD-Capstoneproject Tell 6 - Dokumente/General/02-Coding/01-Data/20_overlap/overlap_total/overlap_jonathan.jsonl\""
   ]
  },
  {
   "cell_type": "code",
   "execution_count": 11,
   "metadata": {},
   "outputs": [],
   "source": [
    "def jsonl_to_list(path):\n",
    "    \"\"\"takes path to jsonl file and returns list of dicts\"\"\"\n",
    "    \n",
    "    with jsonlines.open(path) as reader:\n",
    "        list_of_dicts = list(reader)\n",
    "\n",
    "    return list_of_dicts"
   ]
  },
  {
   "cell_type": "code",
   "execution_count": 47,
   "metadata": {},
   "outputs": [],
   "source": [
    "def label_per_token(recipe):\n",
    "    \"\"\"takes annotated recipes as input and returns a dict that maps label to every token\"\"\"\n",
    "\n",
    "    amount_tokens = len(recipe[\"tokens\"])\n",
    "\n",
    "    all_token_dict = { tuple(range(token[\"start\"], token[\"end\"]+1)) : \"None\" for token in recipe[\"tokens\"]}    # each token as list and value \"None\"\n",
    "\n",
    "    for span in recipe[\"spans\"]:\n",
    "\n",
    "        all_chars = list(range(span[\"start\"], span[\"end\"]+1))\n",
    "\n",
    "        label = span[\"label\"]\n",
    "\n",
    "        for char in all_chars:              #compare all characters with all token characters\n",
    "            for tok in all_token_dict.keys():\n",
    "                if char in tok: \n",
    "                    all_token_dict[tok] = label\n",
    "    \n",
    "    print(f\"Amount tokens: {amount_tokens} vs. Length dict: {len(all_token_dict.keys())}\")\n",
    "\n",
    "    return all_token_dict #{token: label}"
   ]
  },
  {
   "cell_type": "code",
   "execution_count": null,
   "metadata": {},
   "outputs": [],
   "source": [
    "def token_table_per_recipe(recipe):\n",
    "    \"\"\"takes example annotated recipe and creates empty dict with token_start_char as indices and ent classes as column labels\"\"\"\n",
    "    \n",
    "    index = [tuple(range(start, end+1)) for token in recipe[\"tokens\"]]\n",
    "\n",
    "    columns = [\"Z\", \"TOOL\", \"VERB\", \"ATTR\", \"PRÄP\", \"ZEITP\", \"DAUER\", \"TEMP\"]\n",
    "\n",
    "    token_table = pd.DataFrame(index=index, columns=columns)\n",
    "\n",
    "    return token_table  #pd style table"
   ]
  },
  {
   "cell_type": "code",
   "execution_count": 9,
   "metadata": {},
   "outputs": [],
   "source": [
    "def calculate_kappa(table):\n",
    "    \"\"\"takes table with tokens and labels as input and returns kappa\"\"\"\n",
    "\n",
    "    kappa = statsmodels.stats.inter_rater.fleiss_kappa(table, method=\"fleiss\")\n",
    "\n",
    "\n",
    "    return kappa"
   ]
  },
  {
   "cell_type": "code",
   "execution_count": 14,
   "metadata": {},
   "outputs": [],
   "source": [
    "# list of individual overlap dicts\n",
    "ov_recipes_coco = jsonl_to_list(path_coco)\n",
    "ov_recipes_graf = jsonl_to_list(path_graf)\n",
    "ov_recipes_hoff = jsonl_to_list(path_hoff)\n",
    "ov_recipes_jthn = jsonl_to_list(path_jthn)\n"
   ]
  },
  {
   "cell_type": "code",
   "execution_count": 46,
   "metadata": {
    "tags": []
   },
   "outputs": [
    {
     "output_type": "stream",
     "name": "stdout",
     "text": [
      "Für die Barbecue Sauce das Öl erhitzen, Zwiebeln glasig anbraten. Knoblauch, Nelken, Tabasco und Kümmel zugeben und 2 Minuten brutzeln lassen. Alle anderen Zutaten (außer den Rippchen) zugeben, aufkochen lassen und 20 Minuten köcheln lassen, bis die Sauce eindickt. Vom Herd nehmen und alles durch ein Sieb passieren.Bei normalen, dünnen Rippchen, diese kurz auf dem Grill anbraten und dann großzügig nach jedem wenden mit der Sauce einpinseln. Die entstehende Kruste darf ruhig etwas schwarz werden, schmeckt extrem lecker. Wichtig ist es, die Rippchen in Bewegung zu halten und im Minutentakt zu wenden und einzupinseln!Dicke Rippchen vor dem Einpinseln länger vorbraten. Oder vorher in heißem Wasser, nicht kochendem, 30 Minuten bis eine Stunde ziehen lassen.Dazu passt ein guter schwäbischer Kartoffelsalat und jede Menge kaltes Bier.\n"
     ]
    }
   ],
   "source": [
    "x = ov_recipes_coco[0]\n",
    "print(x[\"text\"])"
   ]
  },
  {
   "cell_type": "code",
   "execution_count": 32,
   "metadata": {},
   "outputs": [
    {
     "output_type": "stream",
     "name": "stdout",
     "text": [
      "<class 'tuple'>\n"
     ]
    }
   ],
   "source": [
    "x = tuple(range(0, 5))\n",
    "print(type(x))"
   ]
  },
  {
   "cell_type": "code",
   "execution_count": 48,
   "metadata": {},
   "outputs": [
    {
     "output_type": "stream",
     "name": "stdout",
     "text": [
      "Amount tokens: 150 vs. Length dict: 150\n{(0, 1, 2, 3): 'None', (4, 5, 6, 7): 'None', (8, 9, 10, 11, 12, 13, 14, 15, 16): 'None', (17, 18, 19, 20, 21, 22): 'None', (23, 24, 25, 26): 'None', (27, 28, 29): 'Z', (30, 31, 32, 33, 34, 35, 36, 37, 38): 'V', (38, 39): 'V', (40, 41, 42, 43, 44, 45, 46, 47, 48): 'Z', (49, 50, 51, 52, 53, 54, 55): 'ATTR', (56, 57, 58, 59, 60, 61, 62, 63, 64): 'V', (64, 65): 'V', (66, 67, 68, 69, 70, 71, 72, 73, 74, 75): 'Z', (75, 76): 'Z', (77, 78, 79, 80, 81, 82, 83): 'Z', (83, 84): 'Z', (85, 86, 87, 88, 89, 90, 91, 92): 'Z', (93, 94, 95, 96): 'None', (97, 98, 99, 100, 101, 102, 103): 'Z', (104, 105, 106, 107, 108, 109, 110, 111): 'V', (112, 113, 114, 115): 'None', (116, 117): 'DAUER', (118, 119, 120, 121, 122, 123, 124, 125): 'DAUER', (126, 127, 128, 129, 130, 131, 132, 133, 134): 'V', (135, 136, 137, 138, 139, 140, 141): 'None', (141, 142): 'None', (143, 144, 145, 146, 147): 'Z', (148, 149, 150, 151, 152, 153, 154, 155): 'Z', (156, 157, 158, 159, 160, 161, 162, 163): 'Z', (164, 165): 'Z', (165, 166, 167, 168, 169, 170): 'Z', (171, 172, 173, 174): 'Z', (175, 176, 177, 178, 179, 180, 181, 182, 183): 'Z', (183, 184): 'Z', (185, 186, 187, 188, 189, 190, 191, 192): 'V', (192, 193): 'V', (194, 195, 196, 197, 198, 199, 200, 201, 202, 203): 'V', (204, 205, 206, 207, 208, 209, 210): 'None', (211, 212, 213, 214): 'None', (215, 216, 217): 'DAUER', (218, 219, 220, 221, 222, 223, 224, 225): 'DAUER', (226, 227, 228, 229, 230, 231, 232, 233): 'V', (234, 235, 236, 237, 238, 239, 240): 'None', (240, 241): 'None', (242, 243, 244, 245): 'ZEITP', (246, 247, 248, 249): 'ZEITP', (250, 251, 252, 253, 254, 255): 'ZEITP', (256, 257, 258, 259, 260, 261, 262, 263, 264): 'ZEITP', (264, 265): 'ZEITP', (266, 267, 268, 269): 'PRÄP', (270, 271, 272, 273, 274): 'TOOL', (275, 276, 277, 278, 279, 280, 281): 'V', (282, 283, 284, 285): 'None', (286, 287, 288, 289, 290, 291): 'Z', (292, 293, 294, 295, 296, 297): 'PRÄP', (298, 299, 300, 301): 'None', (302, 303, 304, 305, 306): 'TOOL', (307, 308, 309, 310, 311, 312, 313, 314, 315, 316): 'V', (316, 317): 'V', (317, 318, 319, 320): 'None', (321, 322, 323, 324, 325, 326, 327, 328, 329): 'None', (329, 330): 'None', (331, 332, 333, 334, 335, 336, 337): 'Z', (338, 339, 340, 341, 342, 343, 344, 345, 346): 'Z', (346, 347): 'Z', (348, 349, 350, 351, 352, 353): 'None', (354, 355, 356, 357, 358): 'DAUER', (359, 360, 361, 362): 'PRÄP', (363, 364, 365, 366): 'None', (367, 368, 369, 370, 371, 372): 'TOOL', (373, 374, 375, 376, 377, 378, 379, 380, 381): 'V', (382, 383, 384, 385): 'None', (386, 387, 388, 389, 390): 'ZEITP', (391, 392, 393, 394, 395, 396, 397, 398, 399, 400): 'ATTR', (401, 402, 403, 404, 405): 'ATTR', (406, 407, 408, 409, 410, 411): 'ATTR', (412, 413, 414, 415, 416, 417, 418): 'ATTR', (419, 420, 421, 422): 'PRÄP', (423, 424, 425, 426): 'None', (427, 428, 429, 430, 431, 432): 'Z', (433, 434, 435, 436, 437, 438, 439, 440, 441, 442, 443): 'V', (443, 444): 'V', (445, 446, 447, 448): 'None', (449, 450, 451, 452, 453, 454, 455, 456, 457, 458, 459, 460): 'None', (461, 462, 463, 464, 465, 466, 467): 'None', (468, 469, 470, 471, 472): 'None', (473, 474, 475, 476, 477, 478): 'None', (479, 480, 481, 482, 483, 484): 'None', (485, 486, 487, 488, 489, 490, 491, 492): 'None', (493, 494, 495, 496, 497, 498, 499): 'None', (499, 500): 'None', (501, 502, 503, 504, 505, 506, 507, 508, 509): 'None', (510, 511, 512, 513, 514, 515, 516): 'None', (517, 518, 519, 520, 521, 522, 523): 'None', (523, 524): 'None', (525, 526, 527, 528, 529, 530, 531, 532): 'None', (533, 534, 535, 536): 'None', (537, 538, 539): 'None', (539, 540): 'None', (541, 542, 543, 544): 'None', (545, 546, 547, 548, 549, 550, 551, 552, 553): 'Z', (554, 555, 556): 'ATTR', (557, 558, 559, 560, 561, 562, 563, 564, 565): 'ATTR', (566, 567, 568): 'None', (569, 570, 571, 572, 573, 574, 575): 'V', (576, 577, 578, 579): 'None', (580, 581, 582): 'ATTR', (583, 584, 585, 586, 587, 588, 589, 590, 591, 592, 593, 594): 'ATTR', (595, 596, 597): 'None', (598, 599, 600, 601, 602, 603, 604): 'V', (605, 606, 607, 608): 'None', (609, 610, 611, 612, 613, 614, 615, 616, 617, 618, 619, 620, 621): 'V', (621, 622): 'V', (622, 623, 624, 625, 626, 627): 'None', (628, 629, 630, 631, 632, 633, 634, 635, 636): 'None', (637, 638, 639, 640): 'None', (641, 642, 643, 644): 'None', (645, 646, 647, 648, 649, 650, 651, 652, 653, 654, 655): 'None', (656, 657, 658, 659, 660, 661, 662): 'None', (663, 664, 665, 666, 667, 668, 669, 670, 671, 672): 'None', (672, 673): 'None', (674, 675, 676, 677, 678): 'None', (679, 680, 681, 682, 683, 684, 685): 'None', (686, 687, 688): 'None', (689, 690, 691, 692, 693, 694, 695): 'None', (696, 697, 698, 699, 700, 701, 702): 'None', (702, 703): 'None', (704, 705, 706, 707, 708, 709): 'None', (710, 711, 712, 713, 714, 715, 716, 717, 718, 719): 'None', (719, 720): 'None', (721, 722, 723): 'None', (724, 725, 726, 727, 728, 729, 730, 731): 'None', (732, 733, 734, 735): 'None', (736, 737, 738, 739, 740): 'None', (741, 742, 743, 744, 745, 746, 747): 'None', (748, 749, 750, 751, 752, 753, 754): 'None', (755, 756, 757, 758, 759, 760, 761): 'None', (761, 762): 'None', (762, 763, 764, 765, 766): 'None', (767, 768, 769, 770, 771, 772): 'None', (773, 774, 775, 776): 'None', (777, 778, 779, 780, 781, 782): 'None', (783, 784, 785, 786, 787, 788, 789, 790, 791, 792, 793, 794, 795): 'None', (796, 797, 798, 799, 800, 801, 802, 803, 804, 805, 806, 807, 808, 809, 810): 'None', (811, 812, 813, 814): 'None', (815, 816, 817, 818, 819): 'None', (820, 821, 822, 823, 824, 825): 'None', (826, 827, 828, 829, 830, 831, 832): 'None', (833, 834, 835, 836, 837): 'None', (837, 838): 'None'}\n"
     ]
    }
   ],
   "source": [
    "dict = label_per_token(ov_recipes_coco[0])\n",
    "print(dict)"
   ]
  },
  {
   "cell_type": "code",
   "execution_count": null,
   "metadata": {},
   "outputs": [],
   "source": []
  }
 ]
}