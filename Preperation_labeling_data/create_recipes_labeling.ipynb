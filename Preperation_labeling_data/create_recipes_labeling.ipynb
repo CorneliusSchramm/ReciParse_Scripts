{
 "metadata": {
  "language_info": {
   "codemirror_mode": {
    "name": "ipython",
    "version": 3
   },
   "file_extension": ".py",
   "mimetype": "text/x-python",
   "name": "python",
   "nbconvert_exporter": "python",
   "pygments_lexer": "ipython3",
   "version": "3.8.3-final"
  },
  "orig_nbformat": 2,
  "kernelspec": {
   "name": "python3",
   "display_name": "Python 3"
  }
 },
 "nbformat": 4,
 "nbformat_minor": 2,
 "cells": [
  {
   "source": [
    "## Create four Dataset for labeling the recipes\n",
    "####  14. November 2020\n",
    "### Input\n",
    "Chefkoch Instructions data csv-file\n",
    "### Output\n",
    "4 Datasets with 500 different recipes each"
   ],
   "cell_type": "markdown",
   "metadata": {}
  },
  {
   "cell_type": "code",
   "execution_count": 1,
   "metadata": {},
   "outputs": [],
   "source": [
    "# Coco Path\n",
    "# path = r\"C:\\Users\\CocoL\\Universität St.Gallen\\STUD-Capstoneproject Tell 6 - General\\\"\n",
    "# Jona Path\n",
    "# path = r\"/Users/jhoff/Universität St.Gallen/STUD-Capstoneproject Tell 6 - Dokumente/General/\"\n",
    "# Giovanni Path\n",
    "path = r\"/Users/jonathanebner/Universität St.Gallen/STUD-Capstoneproject Tell 6 - General/\"\n",
    "# Leo Path\n",
    "#ath = r\"/Users/Leonidas/Universität St.Gallen/STUD-Capstoneproject Tell 6 - General/\"\n",
    "\n",
    "# Import packages\n",
    "import pandas as pd\n",
    "import numpy as np\n",
    "import spacy"
   ]
  },
  {
   "cell_type": "code",
   "execution_count": 2,
   "metadata": {},
   "outputs": [
    {
     "output_type": "stream",
     "name": "stdout",
     "text": [
      "Number of imported recipes:  12190\n"
     ]
    }
   ],
   "source": [
    "# Load data and seperate instructions at @ as defined\n",
    "data = pd.read_csv(path+\"02-Coding/01-Data/instructions.csv\", sep=\"@\", encoding=\"utf-16\", header=None, error_bad_lines=False)\n",
    "print(\"Number of imported recipes: \",len(data))"
   ]
  },
  {
   "cell_type": "code",
   "execution_count": 3,
   "metadata": {},
   "outputs": [],
   "source": [
    "# Name column text to have the keys named text later\n",
    "data.columns = [\"text\"]"
   ]
  },
  {
   "cell_type": "code",
   "execution_count": 5,
   "metadata": {},
   "outputs": [
    {
     "output_type": "execute_result",
     "data": {
      "text/plain": [
       "                                                text  \\\n",
       "0  Die Eier hart kochen. Dann pellen und mit eine...   \n",
       "1  Vorab folgende Bemerkung: Alle Mengen sind Cir...   \n",
       "2  Die Kirschen abtropfen lassen, dabei den Saft ...   \n",
       "3  Den Spargel säubern, die holzigen Enden abschn...   \n",
       "4  Kohlrabi schälen und klein würfeln. Mit der Br...   \n",
       "\n",
       "                                           Tokenized  Length  \n",
       "0  (Die, Eier, hart, kochen, ., Dann, pellen, und...     341  \n",
       "1  (Vorab, folgende, Bemerkung, :, Alle, Mengen, ...     155  \n",
       "2  (Die, Kirschen, abtropfen, lassen, ,, dabei, d...     133  \n",
       "3  (Den, Spargel, säubern, ,, die, holzigen, Ende...     137  \n",
       "4  (Kohlrabi, schälen, und, klein, würfeln, ., Mi...      89  "
      ],
      "text/html": "<div>\n<style scoped>\n    .dataframe tbody tr th:only-of-type {\n        vertical-align: middle;\n    }\n\n    .dataframe tbody tr th {\n        vertical-align: top;\n    }\n\n    .dataframe thead th {\n        text-align: right;\n    }\n</style>\n<table border=\"1\" class=\"dataframe\">\n  <thead>\n    <tr style=\"text-align: right;\">\n      <th></th>\n      <th>text</th>\n      <th>Tokenized</th>\n      <th>Length</th>\n    </tr>\n  </thead>\n  <tbody>\n    <tr>\n      <th>0</th>\n      <td>Die Eier hart kochen. Dann pellen und mit eine...</td>\n      <td>(Die, Eier, hart, kochen, ., Dann, pellen, und...</td>\n      <td>341</td>\n    </tr>\n    <tr>\n      <th>1</th>\n      <td>Vorab folgende Bemerkung: Alle Mengen sind Cir...</td>\n      <td>(Vorab, folgende, Bemerkung, :, Alle, Mengen, ...</td>\n      <td>155</td>\n    </tr>\n    <tr>\n      <th>2</th>\n      <td>Die Kirschen abtropfen lassen, dabei den Saft ...</td>\n      <td>(Die, Kirschen, abtropfen, lassen, ,, dabei, d...</td>\n      <td>133</td>\n    </tr>\n    <tr>\n      <th>3</th>\n      <td>Den Spargel säubern, die holzigen Enden abschn...</td>\n      <td>(Den, Spargel, säubern, ,, die, holzigen, Ende...</td>\n      <td>137</td>\n    </tr>\n    <tr>\n      <th>4</th>\n      <td>Kohlrabi schälen und klein würfeln. Mit der Br...</td>\n      <td>(Kohlrabi, schälen, und, klein, würfeln, ., Mi...</td>\n      <td>89</td>\n    </tr>\n  </tbody>\n</table>\n</div>"
     },
     "metadata": {},
     "execution_count": 5
    }
   ],
   "source": [
    "# Initiate nlp model\n",
    "disabled = ['parser', 'tagger', 'ner']\n",
    "nlp = spacy.load('de_core_news_lg', disable=disabled)\n",
    "\n",
    "# Create a column with tokenized instructions using spacy\n",
    "data[\"Tokenized\"] = data[\"text\"].apply(nlp) \n",
    "# Create a column with the amount of tokens per recipe\n",
    "data[\"Length\"] = data[\"Tokenized\"].apply(len)\n",
    "data.head()"
   ]
  },
  {
   "cell_type": "code",
   "execution_count": 9,
   "metadata": {},
   "outputs": [
    {
     "output_type": "execute_result",
     "data": {
      "text/plain": [
       "                                                text  \\\n",
       "1  Vorab folgende Bemerkung: Alle Mengen sind Cir...   \n",
       "2  Die Kirschen abtropfen lassen, dabei den Saft ...   \n",
       "3  Den Spargel säubern, die holzigen Enden abschn...   \n",
       "4  Kohlrabi schälen und klein würfeln. Mit der Br...   \n",
       "5  Aus dem Mehl, der Butter, dem Ei und etwas Sal...   \n",
       "\n",
       "                                           Tokenized  Length  \n",
       "1  (Vorab, folgende, Bemerkung, :, Alle, Mengen, ...     155  \n",
       "2  (Die, Kirschen, abtropfen, lassen, ,, dabei, d...     133  \n",
       "3  (Den, Spargel, säubern, ,, die, holzigen, Ende...     137  \n",
       "4  (Kohlrabi, schälen, und, klein, würfeln, ., Mi...      89  \n",
       "5  (Aus, dem, Mehl, ,, der, Butter, ,, dem, Ei, u...     152  "
      ],
      "text/html": "<div>\n<style scoped>\n    .dataframe tbody tr th:only-of-type {\n        vertical-align: middle;\n    }\n\n    .dataframe tbody tr th {\n        vertical-align: top;\n    }\n\n    .dataframe thead th {\n        text-align: right;\n    }\n</style>\n<table border=\"1\" class=\"dataframe\">\n  <thead>\n    <tr style=\"text-align: right;\">\n      <th></th>\n      <th>text</th>\n      <th>Tokenized</th>\n      <th>Length</th>\n    </tr>\n  </thead>\n  <tbody>\n    <tr>\n      <th>1</th>\n      <td>Vorab folgende Bemerkung: Alle Mengen sind Cir...</td>\n      <td>(Vorab, folgende, Bemerkung, :, Alle, Mengen, ...</td>\n      <td>155</td>\n    </tr>\n    <tr>\n      <th>2</th>\n      <td>Die Kirschen abtropfen lassen, dabei den Saft ...</td>\n      <td>(Die, Kirschen, abtropfen, lassen, ,, dabei, d...</td>\n      <td>133</td>\n    </tr>\n    <tr>\n      <th>3</th>\n      <td>Den Spargel säubern, die holzigen Enden abschn...</td>\n      <td>(Den, Spargel, säubern, ,, die, holzigen, Ende...</td>\n      <td>137</td>\n    </tr>\n    <tr>\n      <th>4</th>\n      <td>Kohlrabi schälen und klein würfeln. Mit der Br...</td>\n      <td>(Kohlrabi, schälen, und, klein, würfeln, ., Mi...</td>\n      <td>89</td>\n    </tr>\n    <tr>\n      <th>5</th>\n      <td>Aus dem Mehl, der Butter, dem Ei und etwas Sal...</td>\n      <td>(Aus, dem, Mehl, ,, der, Butter, ,, dem, Ei, u...</td>\n      <td>152</td>\n    </tr>\n  </tbody>\n</table>\n</div>"
     },
     "metadata": {},
     "execution_count": 9
    }
   ],
   "source": [
    "# select all recipes with a token length of smaller 210\n",
    "data_smaller210 = data[data[\"Length\"] < 210]\n",
    "data_2.head()"
   ]
  },
  {
   "cell_type": "code",
   "execution_count": 15,
   "metadata": {},
   "outputs": [
    {
     "output_type": "execute_result",
     "data": {
      "text/plain": [
       "                                                text  \\\n",
       "0  Die Butter zerlassen und den Safran unterrühre...   \n",
       "1  Eine Marinade aus Olivenöl, Apfelessig und But...   \n",
       "2  Kartoffeln schälen, dann würfeln.Pfanne mit Ol...   \n",
       "3  Linsen abspülen und in der Brühe 10 Minuten od...   \n",
       "4  Schweinefleisch, Schinkenspeck, Zwiebeln und P...   \n",
       "\n",
       "                                           Tokenized  Length  \n",
       "0  (Die, Butter, zerlassen, und, den, Safran, unt...     192  \n",
       "1  (Eine, Marinade, aus, Olivenöl, ,, Apfelessig,...      79  \n",
       "2  (Kartoffeln, schälen, ,, dann, würfeln, ., Pfa...     161  \n",
       "3  (Linsen, abspülen, und, in, der, Brühe, 10, Mi...      61  \n",
       "4  (Schweinefleisch, ,, Schinkenspeck, ,, Zwiebel...     133  "
      ],
      "text/html": "<div>\n<style scoped>\n    .dataframe tbody tr th:only-of-type {\n        vertical-align: middle;\n    }\n\n    .dataframe tbody tr th {\n        vertical-align: top;\n    }\n\n    .dataframe thead th {\n        text-align: right;\n    }\n</style>\n<table border=\"1\" class=\"dataframe\">\n  <thead>\n    <tr style=\"text-align: right;\">\n      <th></th>\n      <th>text</th>\n      <th>Tokenized</th>\n      <th>Length</th>\n    </tr>\n  </thead>\n  <tbody>\n    <tr>\n      <th>0</th>\n      <td>Die Butter zerlassen und den Safran unterrühre...</td>\n      <td>(Die, Butter, zerlassen, und, den, Safran, unt...</td>\n      <td>192</td>\n    </tr>\n    <tr>\n      <th>1</th>\n      <td>Eine Marinade aus Olivenöl, Apfelessig und But...</td>\n      <td>(Eine, Marinade, aus, Olivenöl, ,, Apfelessig,...</td>\n      <td>79</td>\n    </tr>\n    <tr>\n      <th>2</th>\n      <td>Kartoffeln schälen, dann würfeln.Pfanne mit Ol...</td>\n      <td>(Kartoffeln, schälen, ,, dann, würfeln, ., Pfa...</td>\n      <td>161</td>\n    </tr>\n    <tr>\n      <th>3</th>\n      <td>Linsen abspülen und in der Brühe 10 Minuten od...</td>\n      <td>(Linsen, abspülen, und, in, der, Brühe, 10, Mi...</td>\n      <td>61</td>\n    </tr>\n    <tr>\n      <th>4</th>\n      <td>Schweinefleisch, Schinkenspeck, Zwiebeln und P...</td>\n      <td>(Schweinefleisch, ,, Schinkenspeck, ,, Zwiebel...</td>\n      <td>133</td>\n    </tr>\n  </tbody>\n</table>\n</div>"
     },
     "metadata": {},
     "execution_count": 15
    }
   ],
   "source": [
    "# shuffle all recipes\n",
    "data_shuffle = data_smaller210.sample(frac=1).reset_index(drop=True)\n",
    "data_shuffle.head()"
   ]
  },
  {
   "cell_type": "code",
   "execution_count": 16,
   "metadata": {},
   "outputs": [],
   "source": [
    "# Anzahl Rezepte pro Person\n",
    "amount_recipes = 500"
   ]
  },
  {
   "cell_type": "code",
   "execution_count": 26,
   "metadata": {},
   "outputs": [],
   "source": [
    "# JONA\n",
    "# Convert pandas dataframe to list of dicts with {\"text\": \"Instruction\"} per dict\n",
    "data_shuffle.iloc[0:amount_recipes,0].to_json(path+\"/02-Coding/01-Data/recipes_labeling/recipes_jona.json\",orient='records',force_ascii=False)"
   ]
  },
  {
   "cell_type": "code",
   "execution_count": 28,
   "metadata": {},
   "outputs": [],
   "source": [
    "# LEO\n",
    "# Convert pandas dataframe to list of dicts with {\"text\": \"Instruction\"} per dict\n",
    "data_shuffle.iloc[amount_recipes:amount_recipes*2,0].to_json(path+\"/02-Coding/01-Data/recipes_labeling/recipes_leo.json\",orient='records',force_ascii=False)"
   ]
  },
  {
   "cell_type": "code",
   "execution_count": 29,
   "metadata": {},
   "outputs": [],
   "source": [
    "# COCO\n",
    "# Convert pandas dataframe to list of dicts with {\"text\": \"Instruction\"} per dict\n",
    "data_shuffle.iloc[amount_recipes*2:amount_recipes*3,0].to_json(path+\"/02-Coding/01-Data/recipes_labeling/recipes_coco.json\",orient='records',force_ascii=False)"
   ]
  },
  {
   "cell_type": "code",
   "execution_count": 30,
   "metadata": {},
   "outputs": [],
   "source": [
    "# JONATHAN\n",
    "# Convert pandas dataframe to list of dicts with {\"text\": \"Instruction\"} per dict\n",
    "data_shuffle.iloc[amount_recipes*3:amount_recipes*4,0].to_json(path+\"/02-Coding/01-Data/recipes_labeling/recipes_jonathan.json\",orient='records',force_ascii=False)"
   ]
  },
  {
   "cell_type": "code",
   "execution_count": null,
   "metadata": {},
   "outputs": [],
   "source": []
  }
 ]
}