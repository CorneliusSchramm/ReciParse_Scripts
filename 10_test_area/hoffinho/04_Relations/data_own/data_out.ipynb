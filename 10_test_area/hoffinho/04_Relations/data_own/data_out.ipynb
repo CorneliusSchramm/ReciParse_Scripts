{
 "metadata": {
  "language_info": {
   "codemirror_mode": {
    "name": "ipython",
    "version": 3
   },
   "file_extension": ".py",
   "mimetype": "text/x-python",
   "name": "python",
   "nbconvert_exporter": "python",
   "pygments_lexer": "ipython3",
   "version": "3.8.3-final"
  },
  "orig_nbformat": 2,
  "kernelspec": {
   "name": "python3",
   "display_name": "Python 3"
  }
 },
 "nbformat": 4,
 "nbformat_minor": 2,
 "cells": [
  {
   "cell_type": "code",
   "execution_count": 25,
   "metadata": {},
   "outputs": [],
   "source": [
    "import json\n",
    "import pandas as pd"
   ]
  },
  {
   "cell_type": "code",
   "execution_count": 26,
   "metadata": {
    "tags": []
   },
   "outputs": [],
   "source": [
    "with open(\"/Users/jhoff/Desktop/Capstone_local/03_Prodigy/01_Data/03_batch1/batch1jona30.jsonl\", 'r') as json_file:\n",
    "    json_list = list(json_file)\n",
    "\n",
    "labeled_recipes = []\n",
    "\n",
    "for json_str in json_list:\n",
    "    result = json.loads(json_str)\n",
    "    labeled_recipes.append(result)"
   ]
  },
  {
   "cell_type": "code",
   "execution_count": 27,
   "metadata": {},
   "outputs": [
    {
     "output_type": "execute_result",
     "data": {
      "text/plain": [
       "                                                text  _input_hash  _task_hash  \\\n",
       "0  Kürbisfleisch würfeln. Möhren schälen und würf...  -1341521526  1095238753   \n",
       "1  Den Seeteufel in 2-3 cm große Würfel, den Schn...  -1866193081  1748702818   \n",
       "2  Die Dörrpflaumen mehrere Stunden (oder über Na...    629654089   436357616   \n",
       "3  Die Schwarte mit einem scharfen Messer rautenf...   2114932071   -35532268   \n",
       "4  Die Eier pochieren. Dafür in einem mittleren T...  -1359228972  1355553320   \n",
       "\n",
       "                                               spans  \\\n",
       "0  [{'text': 'Kürbisfleisch', 'start': 0, 'token_...   \n",
       "1  [{'text': 'Seeteufel', 'start': 4, 'token_star...   \n",
       "2  [{'text': 'Dörrpflaumen', 'start': 4, 'token_s...   \n",
       "3  [{'text': 'Schwarte', 'start': 4, 'token_start...   \n",
       "4  [{'text': 'Eier', 'start': 4, 'token_start': 1...   \n",
       "\n",
       "                                              tokens _session_id   _view_id  \\\n",
       "0  [{'text': 'Kürbisfleisch', 'start': 0, 'end': ...        None  relations   \n",
       "1  [{'text': 'Den', 'start': 0, 'end': 3, 'id': 0...        None  relations   \n",
       "2  [{'text': 'Die', 'start': 0, 'end': 3, 'id': 0...        None  relations   \n",
       "3  [{'text': 'Die', 'start': 0, 'end': 3, 'id': 0...        None  relations   \n",
       "4  [{'text': 'Die', 'start': 0, 'end': 3, 'id': 0...        None  relations   \n",
       "\n",
       "                                           relations  answer  \n",
       "0                                                 []  reject  \n",
       "1  [{'head': 15, 'child': 1, 'head_span': {'start...  accept  \n",
       "2  [{'head': 11, 'child': 1, 'head_span': {'start...  accept  \n",
       "3  [{'head': 7, 'child': 1, 'head_span': {'start'...  accept  \n",
       "4  [{'head': 2, 'child': 1, 'head_span': {'start'...  accept  "
      ],
      "text/html": "<div>\n<style scoped>\n    .dataframe tbody tr th:only-of-type {\n        vertical-align: middle;\n    }\n\n    .dataframe tbody tr th {\n        vertical-align: top;\n    }\n\n    .dataframe thead th {\n        text-align: right;\n    }\n</style>\n<table border=\"1\" class=\"dataframe\">\n  <thead>\n    <tr style=\"text-align: right;\">\n      <th></th>\n      <th>text</th>\n      <th>_input_hash</th>\n      <th>_task_hash</th>\n      <th>spans</th>\n      <th>tokens</th>\n      <th>_session_id</th>\n      <th>_view_id</th>\n      <th>relations</th>\n      <th>answer</th>\n    </tr>\n  </thead>\n  <tbody>\n    <tr>\n      <th>0</th>\n      <td>Kürbisfleisch würfeln. Möhren schälen und würf...</td>\n      <td>-1341521526</td>\n      <td>1095238753</td>\n      <td>[{'text': 'Kürbisfleisch', 'start': 0, 'token_...</td>\n      <td>[{'text': 'Kürbisfleisch', 'start': 0, 'end': ...</td>\n      <td>None</td>\n      <td>relations</td>\n      <td>[]</td>\n      <td>reject</td>\n    </tr>\n    <tr>\n      <th>1</th>\n      <td>Den Seeteufel in 2-3 cm große Würfel, den Schn...</td>\n      <td>-1866193081</td>\n      <td>1748702818</td>\n      <td>[{'text': 'Seeteufel', 'start': 4, 'token_star...</td>\n      <td>[{'text': 'Den', 'start': 0, 'end': 3, 'id': 0...</td>\n      <td>None</td>\n      <td>relations</td>\n      <td>[{'head': 15, 'child': 1, 'head_span': {'start...</td>\n      <td>accept</td>\n    </tr>\n    <tr>\n      <th>2</th>\n      <td>Die Dörrpflaumen mehrere Stunden (oder über Na...</td>\n      <td>629654089</td>\n      <td>436357616</td>\n      <td>[{'text': 'Dörrpflaumen', 'start': 4, 'token_s...</td>\n      <td>[{'text': 'Die', 'start': 0, 'end': 3, 'id': 0...</td>\n      <td>None</td>\n      <td>relations</td>\n      <td>[{'head': 11, 'child': 1, 'head_span': {'start...</td>\n      <td>accept</td>\n    </tr>\n    <tr>\n      <th>3</th>\n      <td>Die Schwarte mit einem scharfen Messer rautenf...</td>\n      <td>2114932071</td>\n      <td>-35532268</td>\n      <td>[{'text': 'Schwarte', 'start': 4, 'token_start...</td>\n      <td>[{'text': 'Die', 'start': 0, 'end': 3, 'id': 0...</td>\n      <td>None</td>\n      <td>relations</td>\n      <td>[{'head': 7, 'child': 1, 'head_span': {'start'...</td>\n      <td>accept</td>\n    </tr>\n    <tr>\n      <th>4</th>\n      <td>Die Eier pochieren. Dafür in einem mittleren T...</td>\n      <td>-1359228972</td>\n      <td>1355553320</td>\n      <td>[{'text': 'Eier', 'start': 4, 'token_start': 1...</td>\n      <td>[{'text': 'Die', 'start': 0, 'end': 3, 'id': 0...</td>\n      <td>None</td>\n      <td>relations</td>\n      <td>[{'head': 2, 'child': 1, 'head_span': {'start'...</td>\n      <td>accept</td>\n    </tr>\n  </tbody>\n</table>\n</div>"
     },
     "metadata": {},
     "execution_count": 27
    }
   ],
   "source": [
    "df = pd.DataFrame(labeled_recipes)\n",
    "df.head(5)"
   ]
  },
  {
   "cell_type": "code",
   "execution_count": 28,
   "metadata": {},
   "outputs": [],
   "source": [
    "with open(\"/Users/jhoff/Desktop/ReciParse_Scripts/10_test_area/hoffinho/04_Relations/02_new/rel_component_2/assets/annotations.jsonl\", 'r') as json_file:\n",
    "    json_list = list(json_file)\n",
    "\n",
    "labeled_texts_original = []\n",
    "\n",
    "for json_str in json_list:\n",
    "    result = json.loads(json_str)\n",
    "    labeled_texts_original.append(result)"
   ]
  },
  {
   "cell_type": "code",
   "execution_count": 22,
   "metadata": {},
   "outputs": [
    {
     "output_type": "execute_result",
     "data": {
      "text/plain": [
       "                                                text  \\\n",
       "0  Furthermore, Smad-phosphorylation was followed...   \n",
       "1  BMP-6 can signal through the ligation of the t...   \n",
       "2  The up-regulation of Id1 mRNA was characterist...   \n",
       "3  This is in line with others, showing that Nogg...   \n",
       "4  Furthermore, BMP-2 has been shown to induce ac...   \n",
       "\n",
       "                                               spans  \\\n",
       "0  [{'text': 'Smad', 'start': 13, 'token_start': ...   \n",
       "1  [{'text': 'BMP-6', 'start': 0, 'token_start': ...   \n",
       "2  [{'text': 'Id1', 'start': 21, 'token_start': 5...   \n",
       "3  [{'text': 'Noggin', 'start': 42, 'token_start'...   \n",
       "4  [{'text': 'BMP-2', 'start': 13, 'token_start':...   \n",
       "\n",
       "                                                meta  _input_hash  _task_hash  \\\n",
       "0  {'source': 'BioNLP 2011 Genia Shared Task, PMC...    -13216227 -1944660624   \n",
       "1  {'source': 'BioNLP 2011 Genia Shared Task, PMC...    727082570   212084727   \n",
       "2  {'source': 'BioNLP 2011 Genia Shared Task, PMC...   -577520572  -967715784   \n",
       "3  {'source': 'BioNLP 2011 Genia Shared Task, PMC...   1372022403 -2146109854   \n",
       "4  {'source': 'BioNLP 2011 Genia Shared Task, PMC...  -1041954416  1574866598   \n",
       "\n",
       "                                              tokens _session_id   _view_id  \\\n",
       "0  [{'text': 'Furthermore', 'start': 0, 'end': 11...        None  relations   \n",
       "1  [{'text': 'BMP-6', 'start': 0, 'end': 5, 'id':...        None  relations   \n",
       "2  [{'text': 'The', 'start': 0, 'end': 3, 'id': 0...        None  relations   \n",
       "3  [{'text': 'This', 'start': 0, 'end': 4, 'id': ...        None  relations   \n",
       "4  [{'text': 'Furthermore', 'start': 0, 'end': 11...        None  relations   \n",
       "\n",
       "                                           relations  answer  \n",
       "0  [{'head': 2, 'child': 10, 'head_span': {'start...  accept  \n",
       "1  [{'head': 0, 'child': 13, 'head_span': {'start...  accept  \n",
       "2  [{'head': 24, 'child': 5, 'head_span': {'start...  accept  \n",
       "3  [{'head': 9, 'child': 14, 'head_span': {'start...  accept  \n",
       "4  [{'head': 2, 'child': 10, 'head_span': {'start...  accept  "
      ],
      "text/html": "<div>\n<style scoped>\n    .dataframe tbody tr th:only-of-type {\n        vertical-align: middle;\n    }\n\n    .dataframe tbody tr th {\n        vertical-align: top;\n    }\n\n    .dataframe thead th {\n        text-align: right;\n    }\n</style>\n<table border=\"1\" class=\"dataframe\">\n  <thead>\n    <tr style=\"text-align: right;\">\n      <th></th>\n      <th>text</th>\n      <th>spans</th>\n      <th>meta</th>\n      <th>_input_hash</th>\n      <th>_task_hash</th>\n      <th>tokens</th>\n      <th>_session_id</th>\n      <th>_view_id</th>\n      <th>relations</th>\n      <th>answer</th>\n    </tr>\n  </thead>\n  <tbody>\n    <tr>\n      <th>0</th>\n      <td>Furthermore, Smad-phosphorylation was followed...</td>\n      <td>[{'text': 'Smad', 'start': 13, 'token_start': ...</td>\n      <td>{'source': 'BioNLP 2011 Genia Shared Task, PMC...</td>\n      <td>-13216227</td>\n      <td>-1944660624</td>\n      <td>[{'text': 'Furthermore', 'start': 0, 'end': 11...</td>\n      <td>None</td>\n      <td>relations</td>\n      <td>[{'head': 2, 'child': 10, 'head_span': {'start...</td>\n      <td>accept</td>\n    </tr>\n    <tr>\n      <th>1</th>\n      <td>BMP-6 can signal through the ligation of the t...</td>\n      <td>[{'text': 'BMP-6', 'start': 0, 'token_start': ...</td>\n      <td>{'source': 'BioNLP 2011 Genia Shared Task, PMC...</td>\n      <td>727082570</td>\n      <td>212084727</td>\n      <td>[{'text': 'BMP-6', 'start': 0, 'end': 5, 'id':...</td>\n      <td>None</td>\n      <td>relations</td>\n      <td>[{'head': 0, 'child': 13, 'head_span': {'start...</td>\n      <td>accept</td>\n    </tr>\n    <tr>\n      <th>2</th>\n      <td>The up-regulation of Id1 mRNA was characterist...</td>\n      <td>[{'text': 'Id1', 'start': 21, 'token_start': 5...</td>\n      <td>{'source': 'BioNLP 2011 Genia Shared Task, PMC...</td>\n      <td>-577520572</td>\n      <td>-967715784</td>\n      <td>[{'text': 'The', 'start': 0, 'end': 3, 'id': 0...</td>\n      <td>None</td>\n      <td>relations</td>\n      <td>[{'head': 24, 'child': 5, 'head_span': {'start...</td>\n      <td>accept</td>\n    </tr>\n    <tr>\n      <th>3</th>\n      <td>This is in line with others, showing that Nogg...</td>\n      <td>[{'text': 'Noggin', 'start': 42, 'token_start'...</td>\n      <td>{'source': 'BioNLP 2011 Genia Shared Task, PMC...</td>\n      <td>1372022403</td>\n      <td>-2146109854</td>\n      <td>[{'text': 'This', 'start': 0, 'end': 4, 'id': ...</td>\n      <td>None</td>\n      <td>relations</td>\n      <td>[{'head': 9, 'child': 14, 'head_span': {'start...</td>\n      <td>accept</td>\n    </tr>\n    <tr>\n      <th>4</th>\n      <td>Furthermore, BMP-2 has been shown to induce ac...</td>\n      <td>[{'text': 'BMP-2', 'start': 13, 'token_start':...</td>\n      <td>{'source': 'BioNLP 2011 Genia Shared Task, PMC...</td>\n      <td>-1041954416</td>\n      <td>1574866598</td>\n      <td>[{'text': 'Furthermore', 'start': 0, 'end': 11...</td>\n      <td>None</td>\n      <td>relations</td>\n      <td>[{'head': 2, 'child': 10, 'head_span': {'start...</td>\n      <td>accept</td>\n    </tr>\n  </tbody>\n</table>\n</div>"
     },
     "metadata": {},
     "execution_count": 22
    }
   ],
   "source": [
    "df2 = pd.DataFrame(labeled_texts_original)\n",
    "df2.head(5)"
   ]
  },
  {
   "cell_type": "code",
   "execution_count": 31,
   "metadata": {},
   "outputs": [
    {
     "output_type": "stream",
     "name": "stdout",
     "text": [
      "<class 'str'>\nDen Seeteufel in 2-3 cm große Würfel, den Schnittlauch in feine Röllchen schneiden.Die Butter zerlassen und die Fischwürfel kurz anziehen lassen. Mit Weißwein ablöschen und zugedeckt 2-3 Minuten ziehen lassen. Die Fischwürfel aus der Pfanne nehmen, mit Salz und Pfeffer würzen und warm stellen.Wermut und Fischfond angießen, auf die Hälfte einkochen. Dann die Sahne zugeben und sämig einkochen. Die Sauce mit der kalten Butter montieren, abschmecken, eventuell eine Prise Zucker hinzufügen. Fischwürfel und Schnittlauchröllchen in die Sauce geben und vorsichtig erwärmen. Nicht mehr kochen.\n<class 'str'>\nBMP-6 can signal through the ligation of the type I receptors Act-RIA, BMP-RIA, and BMP-RIB and the type II receptors BMP-RII, Act-RIIA and Act-RIIB, which lead to the phosphorylation of the receptor Smads (Smad-1, Smad-5, and Smad-8).\n"
     ]
    }
   ],
   "source": [
    "#text\n",
    "print(type(df.iloc[1,0]))\n",
    "print(df.iloc[1,0])\n",
    "print(type(df2.iloc[1,0]))\n",
    "print(df2.iloc[1,0])"
   ]
  },
  {
   "cell_type": "code",
   "execution_count": 33,
   "metadata": {},
   "outputs": [
    {
     "output_type": "stream",
     "name": "stdout",
     "text": [
      "<class 'list'>\n[{'text': 'Seeteufel', 'start': 4, 'token_start': 1, 'token_end': 1, 'end': 13, 'type': 'ent', 'label': 'Z'}, {'text': 'in 2-3 cm große Würfel', 'start': 14, 'token_start': 2, 'token_end': 8, 'end': 36, 'type': 'ent', 'label': 'ATTR'}, {'text': 'Schnittlauch', 'start': 42, 'token_start': 11, 'token_end': 11, 'end': 54, 'type': 'ent', 'label': 'Z'}, {'text': 'in feine Röllchen', 'start': 55, 'token_start': 12, 'token_end': 14, 'end': 72, 'type': 'ent', 'label': 'ATTR'}, {'text': 'schneiden', 'start': 73, 'token_start': 15, 'token_end': 15, 'end': 82, 'type': 'ent', 'label': 'V'}, {'text': 'Butter', 'start': 87, 'token_start': 18, 'token_end': 18, 'end': 93, 'type': 'ent', 'label': 'Z'}, {'text': 'zerlassen', 'start': 94, 'token_start': 19, 'token_end': 19, 'end': 103, 'type': 'ent', 'label': 'V'}, {'text': 'Fischwürfel', 'start': 112, 'token_start': 22, 'token_end': 22, 'end': 123, 'type': 'ent', 'label': 'Z'}, {'text': 'kurz', 'start': 124, 'token_start': 23, 'token_end': 23, 'end': 128, 'type': 'ent', 'label': 'DAUER'}, {'text': 'anziehen', 'start': 129, 'token_start': 24, 'token_end': 24, 'end': 137, 'type': 'ent', 'label': 'V'}, {'text': 'Mit', 'start': 146, 'token_start': 27, 'token_end': 27, 'end': 149, 'type': 'ent', 'label': 'PRÄP'}, {'text': 'Weißwein', 'start': 150, 'token_start': 28, 'token_end': 28, 'end': 158, 'type': 'ent', 'label': 'Z'}, {'text': 'ablöschen', 'start': 159, 'token_start': 29, 'token_end': 29, 'end': 168, 'type': 'ent', 'label': 'V'}, {'text': 'zugedeckt', 'start': 173, 'token_start': 31, 'token_end': 31, 'end': 182, 'type': 'ent', 'label': 'ATTR'}, {'text': '2-3 Minuten', 'start': 183, 'token_start': 32, 'token_end': 35, 'end': 194, 'type': 'ent', 'label': 'DAUER'}, {'text': 'ziehen', 'start': 195, 'token_start': 36, 'token_end': 36, 'end': 201, 'type': 'ent', 'label': 'V'}, {'text': 'Fischwürfel', 'start': 214, 'token_start': 40, 'token_end': 40, 'end': 225, 'type': 'ent', 'label': 'Z'}, {'text': 'aus', 'start': 226, 'token_start': 41, 'token_end': 41, 'end': 229, 'type': 'ent', 'label': 'PRÄP'}, {'text': 'Pfanne', 'start': 234, 'token_start': 43, 'token_end': 43, 'end': 240, 'type': 'ent', 'label': 'TOOL'}, {'text': 'nehmen', 'start': 241, 'token_start': 44, 'token_end': 44, 'end': 247, 'type': 'ent', 'label': 'V'}, {'text': 'mit', 'start': 249, 'token_start': 46, 'token_end': 46, 'end': 252, 'type': 'ent', 'label': 'PRÄP'}, {'text': 'Salz', 'start': 253, 'token_start': 47, 'token_end': 47, 'end': 257, 'type': 'ent', 'label': 'Z'}, {'text': 'Pfeffer', 'start': 262, 'token_start': 49, 'token_end': 49, 'end': 269, 'type': 'ent', 'label': 'Z'}, {'text': 'würzen', 'start': 270, 'token_start': 50, 'token_end': 50, 'end': 276, 'type': 'ent', 'label': 'V'}, {'text': 'warm', 'start': 281, 'token_start': 52, 'token_end': 52, 'end': 285, 'type': 'ent', 'label': 'ATTR'}, {'text': 'stellen', 'start': 286, 'token_start': 53, 'token_end': 53, 'end': 293, 'type': 'ent', 'label': 'V'}, {'text': 'Wermut', 'start': 294, 'token_start': 55, 'token_end': 55, 'end': 300, 'type': 'ent', 'label': 'Z'}, {'text': 'Fischfond', 'start': 305, 'token_start': 57, 'token_end': 57, 'end': 314, 'type': 'ent', 'label': 'Z'}, {'text': 'angießen', 'start': 315, 'token_start': 58, 'token_end': 58, 'end': 323, 'type': 'ent', 'label': 'V'}, {'text': 'auf', 'start': 325, 'token_start': 60, 'token_end': 60, 'end': 328, 'type': 'ent', 'label': 'PRÄP'}, {'start': 333, 'end': 339, 'token_start': 62, 'token_end': 62, 'label': 'ATTR'}, {'text': 'einkochen', 'start': 340, 'token_start': 63, 'token_end': 63, 'end': 349, 'type': 'ent', 'label': 'V'}, {'text': 'Dann', 'start': 351, 'token_start': 65, 'token_end': 65, 'end': 355, 'type': 'ent', 'label': 'ZEITP'}, {'text': 'Sahne', 'start': 360, 'token_start': 67, 'token_end': 67, 'end': 365, 'type': 'ent', 'label': 'Z'}, {'text': 'zugeben', 'start': 366, 'token_start': 68, 'token_end': 68, 'end': 373, 'type': 'ent', 'label': 'V'}, {'text': 'sämig', 'start': 378, 'token_start': 70, 'token_end': 70, 'end': 383, 'type': 'ent', 'label': 'ATTR'}, {'text': 'einkochen', 'start': 384, 'token_start': 71, 'token_end': 71, 'end': 393, 'type': 'ent', 'label': 'V'}, {'text': 'Sauce', 'start': 399, 'token_start': 74, 'token_end': 74, 'end': 404, 'type': 'ent', 'label': 'Z'}, {'text': 'mit', 'start': 405, 'token_start': 75, 'token_end': 75, 'end': 408, 'type': 'ent', 'label': 'PRÄP'}, {'text': 'kalten Butter', 'start': 413, 'token_start': 77, 'token_end': 78, 'end': 426, 'type': 'ent', 'label': 'Z'}, {'text': 'montieren', 'start': 427, 'token_start': 79, 'token_end': 79, 'end': 436, 'type': 'ent', 'label': 'V'}, {'text': 'abschmecken', 'start': 438, 'token_start': 81, 'token_end': 81, 'end': 449, 'type': 'ent', 'label': 'V'}, {'text': 'Fischwürfel', 'start': 491, 'token_start': 89, 'token_end': 89, 'end': 502, 'type': 'ent', 'label': 'Z'}, {'text': 'Schnittlauchröllchen', 'start': 507, 'token_start': 91, 'token_end': 91, 'end': 527, 'type': 'ent', 'label': 'Z'}, {'text': 'in', 'start': 528, 'token_start': 92, 'token_end': 92, 'end': 530, 'type': 'ent', 'label': 'PRÄP'}, {'text': 'Sauce', 'start': 535, 'token_start': 94, 'token_end': 94, 'end': 540, 'type': 'ent', 'label': 'Z'}, {'text': 'geben', 'start': 541, 'token_start': 95, 'token_end': 95, 'end': 546, 'type': 'ent', 'label': 'V'}, {'text': 'vorsichtig', 'start': 551, 'token_start': 97, 'token_end': 97, 'end': 561, 'type': 'ent', 'label': 'ATTR'}, {'text': 'erwärmen', 'start': 562, 'token_start': 98, 'token_end': 98, 'end': 570, 'type': 'ent', 'label': 'V'}, {'start': 572, 'end': 582, 'token_start': 100, 'token_end': 101, 'label': 'ATTR'}, {'start': 583, 'end': 589, 'token_start': 102, 'token_end': 102, 'label': 'V'}]\n<class 'list'>\n[{'text': 'BMP-6', 'start': 0, 'token_start': 0, 'token_end': 0, 'end': 5, 'type': 'span', 'label': 'GGP'}, {'text': 'Act-RIA', 'start': 62, 'token_start': 11, 'token_end': 13, 'end': 69, 'type': 'span', 'label': 'GGP'}, {'text': 'BMP-RIA', 'start': 71, 'token_start': 15, 'token_end': 17, 'end': 78, 'type': 'span', 'label': 'GGP'}, {'text': 'BMP-RIB', 'start': 84, 'token_start': 20, 'token_end': 22, 'end': 91, 'type': 'span', 'label': 'GGP'}, {'text': 'BMP-RII', 'start': 118, 'token_start': 28, 'token_end': 30, 'end': 125, 'type': 'span', 'label': 'GGP'}, {'text': 'Act-RIIA', 'start': 127, 'token_start': 32, 'token_end': 34, 'end': 135, 'type': 'span', 'label': 'GGP'}, {'text': 'Act-RIIB', 'start': 140, 'token_start': 36, 'token_end': 38, 'end': 148, 'type': 'span', 'label': 'GGP'}, {'text': 'Smad-1', 'start': 207, 'token_start': 50, 'token_end': 50, 'end': 213, 'type': 'span', 'label': 'GGP'}, {'text': 'Smad-5', 'start': 215, 'token_start': 52, 'token_end': 52, 'end': 221, 'type': 'span', 'label': 'GGP'}, {'text': 'Smad-8', 'start': 227, 'token_start': 55, 'token_end': 55, 'end': 233, 'type': 'span', 'label': 'GGP'}]\n"
     ]
    }
   ],
   "source": [
    "#spans\n",
    "print(type(df.iloc[1,3])) #warum manchmal nicht \"end\" und \"type\" --> {'start': 572, 'end': 582, 'token_start': 100, 'token_end': 101, 'label': 'ATTR'}, {'start': 583, 'end': 589, 'token_start': 102, 'token_end': 102, 'label': 'V'}]\n",
    "print(df.iloc[1,3])\n",
    "\n",
    "print(type(df2.iloc[1,1]))\n",
    "print(df2.iloc[1,1])"
   ]
  },
  {
   "cell_type": "code",
   "execution_count": 34,
   "metadata": {},
   "outputs": [
    {
     "output_type": "stream",
     "name": "stdout",
     "text": [
      "<class 'list'>\n[{'text': 'Den', 'start': 0, 'end': 3, 'id': 0, 'ws': True, 'disabled': False}, {'text': 'Seeteufel', 'start': 4, 'end': 13, 'id': 1, 'ws': True, 'disabled': False}, {'text': 'in', 'start': 14, 'end': 16, 'id': 2, 'ws': True, 'disabled': False}, {'text': '2', 'start': 17, 'end': 18, 'id': 3, 'ws': False, 'disabled': False}, {'text': '-', 'start': 18, 'end': 19, 'id': 4, 'ws': False, 'disabled': False}, {'text': '3', 'start': 19, 'end': 20, 'id': 5, 'ws': True, 'disabled': False}, {'text': 'cm', 'start': 21, 'end': 23, 'id': 6, 'ws': True, 'disabled': False}, {'text': 'große', 'start': 24, 'end': 29, 'id': 7, 'ws': True, 'disabled': False}, {'text': 'Würfel', 'start': 30, 'end': 36, 'id': 8, 'ws': False, 'disabled': False}, {'text': ',', 'start': 36, 'end': 37, 'id': 9, 'ws': True, 'disabled': False}, {'text': 'den', 'start': 38, 'end': 41, 'id': 10, 'ws': True, 'disabled': False}, {'text': 'Schnittlauch', 'start': 42, 'end': 54, 'id': 11, 'ws': True, 'disabled': False}, {'text': 'in', 'start': 55, 'end': 57, 'id': 12, 'ws': True, 'disabled': False}, {'text': 'feine', 'start': 58, 'end': 63, 'id': 13, 'ws': True, 'disabled': False}, {'text': 'Röllchen', 'start': 64, 'end': 72, 'id': 14, 'ws': True, 'disabled': False}, {'text': 'schneiden', 'start': 73, 'end': 82, 'id': 15, 'ws': False, 'disabled': False}, {'text': '.', 'start': 82, 'end': 83, 'id': 16, 'ws': False, 'disabled': False}, {'text': 'Die', 'start': 83, 'end': 86, 'id': 17, 'ws': True, 'disabled': False}, {'text': 'Butter', 'start': 87, 'end': 93, 'id': 18, 'ws': True, 'disabled': False}, {'text': 'zerlassen', 'start': 94, 'end': 103, 'id': 19, 'ws': True, 'disabled': False}, {'text': 'und', 'start': 104, 'end': 107, 'id': 20, 'ws': True, 'disabled': False}, {'text': 'die', 'start': 108, 'end': 111, 'id': 21, 'ws': True, 'disabled': False}, {'text': 'Fischwürfel', 'start': 112, 'end': 123, 'id': 22, 'ws': True, 'disabled': False}, {'text': 'kurz', 'start': 124, 'end': 128, 'id': 23, 'ws': True, 'disabled': False}, {'text': 'anziehen', 'start': 129, 'end': 137, 'id': 24, 'ws': True, 'disabled': False}, {'text': 'lassen', 'start': 138, 'end': 144, 'id': 25, 'ws': False, 'disabled': False}, {'text': '.', 'start': 144, 'end': 145, 'id': 26, 'ws': True, 'disabled': False}, {'text': 'Mit', 'start': 146, 'end': 149, 'id': 27, 'ws': True, 'disabled': False}, {'text': 'Weißwein', 'start': 150, 'end': 158, 'id': 28, 'ws': True, 'disabled': False}, {'text': 'ablöschen', 'start': 159, 'end': 168, 'id': 29, 'ws': True, 'disabled': False}, {'text': 'und', 'start': 169, 'end': 172, 'id': 30, 'ws': True, 'disabled': False}, {'text': 'zugedeckt', 'start': 173, 'end': 182, 'id': 31, 'ws': True, 'disabled': False}, {'text': '2', 'start': 183, 'end': 184, 'id': 32, 'ws': False, 'disabled': False}, {'text': '-', 'start': 184, 'end': 185, 'id': 33, 'ws': False, 'disabled': False}, {'text': '3', 'start': 185, 'end': 186, 'id': 34, 'ws': True, 'disabled': False}, {'text': 'Minuten', 'start': 187, 'end': 194, 'id': 35, 'ws': True, 'disabled': False}, {'text': 'ziehen', 'start': 195, 'end': 201, 'id': 36, 'ws': True, 'disabled': False}, {'text': 'lassen', 'start': 202, 'end': 208, 'id': 37, 'ws': False, 'disabled': False}, {'text': '.', 'start': 208, 'end': 209, 'id': 38, 'ws': True, 'disabled': False}, {'text': 'Die', 'start': 210, 'end': 213, 'id': 39, 'ws': True, 'disabled': False}, {'text': 'Fischwürfel', 'start': 214, 'end': 225, 'id': 40, 'ws': True, 'disabled': False}, {'text': 'aus', 'start': 226, 'end': 229, 'id': 41, 'ws': True, 'disabled': False}, {'text': 'der', 'start': 230, 'end': 233, 'id': 42, 'ws': True, 'disabled': False}, {'text': 'Pfanne', 'start': 234, 'end': 240, 'id': 43, 'ws': True, 'disabled': False}, {'text': 'nehmen', 'start': 241, 'end': 247, 'id': 44, 'ws': False, 'disabled': False}, {'text': ',', 'start': 247, 'end': 248, 'id': 45, 'ws': True, 'disabled': False}, {'text': 'mit', 'start': 249, 'end': 252, 'id': 46, 'ws': True, 'disabled': False}, {'text': 'Salz', 'start': 253, 'end': 257, 'id': 47, 'ws': True, 'disabled': False}, {'text': 'und', 'start': 258, 'end': 261, 'id': 48, 'ws': True, 'disabled': False}, {'text': 'Pfeffer', 'start': 262, 'end': 269, 'id': 49, 'ws': True, 'disabled': False}, {'text': 'würzen', 'start': 270, 'end': 276, 'id': 50, 'ws': True, 'disabled': False}, {'text': 'und', 'start': 277, 'end': 280, 'id': 51, 'ws': True, 'disabled': False}, {'text': 'warm', 'start': 281, 'end': 285, 'id': 52, 'ws': True, 'disabled': False}, {'text': 'stellen', 'start': 286, 'end': 293, 'id': 53, 'ws': False, 'disabled': False}, {'text': '.', 'start': 293, 'end': 294, 'id': 54, 'ws': False, 'disabled': False}, {'text': 'Wermut', 'start': 294, 'end': 300, 'id': 55, 'ws': True, 'disabled': False}, {'text': 'und', 'start': 301, 'end': 304, 'id': 56, 'ws': True, 'disabled': False}, {'text': 'Fischfond', 'start': 305, 'end': 314, 'id': 57, 'ws': True, 'disabled': False}, {'text': 'angießen', 'start': 315, 'end': 323, 'id': 58, 'ws': False, 'disabled': False}, {'text': ',', 'start': 323, 'end': 324, 'id': 59, 'ws': True, 'disabled': False}, {'text': 'auf', 'start': 325, 'end': 328, 'id': 60, 'ws': True, 'disabled': False}, {'text': 'die', 'start': 329, 'end': 332, 'id': 61, 'ws': True, 'disabled': False}, {'text': 'Hälfte', 'start': 333, 'end': 339, 'id': 62, 'ws': True, 'disabled': False}, {'text': 'einkochen', 'start': 340, 'end': 349, 'id': 63, 'ws': False, 'disabled': False}, {'text': '.', 'start': 349, 'end': 350, 'id': 64, 'ws': True, 'disabled': False}, {'text': 'Dann', 'start': 351, 'end': 355, 'id': 65, 'ws': True, 'disabled': False}, {'text': 'die', 'start': 356, 'end': 359, 'id': 66, 'ws': True, 'disabled': False}, {'text': 'Sahne', 'start': 360, 'end': 365, 'id': 67, 'ws': True, 'disabled': False}, {'text': 'zugeben', 'start': 366, 'end': 373, 'id': 68, 'ws': True, 'disabled': False}, {'text': 'und', 'start': 374, 'end': 377, 'id': 69, 'ws': True, 'disabled': False}, {'text': 'sämig', 'start': 378, 'end': 383, 'id': 70, 'ws': True, 'disabled': False}, {'text': 'einkochen', 'start': 384, 'end': 393, 'id': 71, 'ws': False, 'disabled': False}, {'text': '.', 'start': 393, 'end': 394, 'id': 72, 'ws': True, 'disabled': False}, {'text': 'Die', 'start': 395, 'end': 398, 'id': 73, 'ws': True, 'disabled': False}, {'text': 'Sauce', 'start': 399, 'end': 404, 'id': 74, 'ws': True, 'disabled': False}, {'text': 'mit', 'start': 405, 'end': 408, 'id': 75, 'ws': True, 'disabled': False}, {'text': 'der', 'start': 409, 'end': 412, 'id': 76, 'ws': True, 'disabled': False}, {'text': 'kalten', 'start': 413, 'end': 419, 'id': 77, 'ws': True, 'disabled': False}, {'text': 'Butter', 'start': 420, 'end': 426, 'id': 78, 'ws': True, 'disabled': False}, {'text': 'montieren', 'start': 427, 'end': 436, 'id': 79, 'ws': False, 'disabled': False}, {'text': ',', 'start': 436, 'end': 437, 'id': 80, 'ws': True, 'disabled': False}, {'text': 'abschmecken', 'start': 438, 'end': 449, 'id': 81, 'ws': False, 'disabled': False}, {'text': ',', 'start': 449, 'end': 450, 'id': 82, 'ws': True, 'disabled': False}, {'text': 'eventuell', 'start': 451, 'end': 460, 'id': 83, 'ws': True, 'disabled': False}, {'text': 'eine', 'start': 461, 'end': 465, 'id': 84, 'ws': True, 'disabled': False}, {'text': 'Prise', 'start': 466, 'end': 471, 'id': 85, 'ws': True, 'disabled': False}, {'text': 'Zucker', 'start': 472, 'end': 478, 'id': 86, 'ws': True, 'disabled': False}, {'text': 'hinzufügen', 'start': 479, 'end': 489, 'id': 87, 'ws': False, 'disabled': False}, {'text': '.', 'start': 489, 'end': 490, 'id': 88, 'ws': True, 'disabled': False}, {'text': 'Fischwürfel', 'start': 491, 'end': 502, 'id': 89, 'ws': True, 'disabled': False}, {'text': 'und', 'start': 503, 'end': 506, 'id': 90, 'ws': True, 'disabled': False}, {'text': 'Schnittlauchröllchen', 'start': 507, 'end': 527, 'id': 91, 'ws': True, 'disabled': False}, {'text': 'in', 'start': 528, 'end': 530, 'id': 92, 'ws': True, 'disabled': False}, {'text': 'die', 'start': 531, 'end': 534, 'id': 93, 'ws': True, 'disabled': False}, {'text': 'Sauce', 'start': 535, 'end': 540, 'id': 94, 'ws': True, 'disabled': False}, {'text': 'geben', 'start': 541, 'end': 546, 'id': 95, 'ws': True, 'disabled': False}, {'text': 'und', 'start': 547, 'end': 550, 'id': 96, 'ws': True, 'disabled': False}, {'text': 'vorsichtig', 'start': 551, 'end': 561, 'id': 97, 'ws': True, 'disabled': False}, {'text': 'erwärmen', 'start': 562, 'end': 570, 'id': 98, 'ws': False, 'disabled': False}, {'text': '.', 'start': 570, 'end': 571, 'id': 99, 'ws': True, 'disabled': False}, {'text': 'Nicht', 'start': 572, 'end': 577, 'id': 100, 'ws': True, 'disabled': False}, {'text': 'mehr', 'start': 578, 'end': 582, 'id': 101, 'ws': True, 'disabled': False}, {'text': 'kochen', 'start': 583, 'end': 589, 'id': 102, 'ws': False, 'disabled': False}, {'text': '.', 'start': 589, 'end': 590, 'id': 103, 'ws': False, 'disabled': False}]\n<class 'list'>\n[{'text': 'BMP-6', 'start': 0, 'end': 5, 'id': 0, 'ws': True, 'disabled': False}, {'text': 'can', 'start': 6, 'end': 9, 'id': 1, 'ws': True, 'disabled': True}, {'text': 'signal', 'start': 10, 'end': 16, 'id': 2, 'ws': True, 'disabled': True}, {'text': 'through', 'start': 17, 'end': 24, 'id': 3, 'ws': True, 'disabled': True}, {'text': 'the', 'start': 25, 'end': 28, 'id': 4, 'ws': True, 'disabled': True}, {'text': 'ligation', 'start': 29, 'end': 37, 'id': 5, 'ws': True, 'disabled': True}, {'text': 'of', 'start': 38, 'end': 40, 'id': 6, 'ws': True, 'disabled': True}, {'text': 'the', 'start': 41, 'end': 44, 'id': 7, 'ws': True, 'disabled': True}, {'text': 'type', 'start': 45, 'end': 49, 'id': 8, 'ws': True, 'disabled': True}, {'text': 'I', 'start': 50, 'end': 51, 'id': 9, 'ws': True, 'disabled': True}, {'text': 'receptors', 'start': 52, 'end': 61, 'id': 10, 'ws': True, 'disabled': True}, {'text': 'Act', 'start': 62, 'end': 65, 'id': 11, 'ws': False, 'disabled': False}, {'text': '-', 'start': 65, 'end': 66, 'id': 12, 'ws': False, 'disabled': False}, {'text': 'RIA', 'start': 66, 'end': 69, 'id': 13, 'ws': False, 'disabled': False}, {'text': ',', 'start': 69, 'end': 70, 'id': 14, 'ws': True, 'disabled': True}, {'text': 'BMP', 'start': 71, 'end': 74, 'id': 15, 'ws': False, 'disabled': False}, {'text': '-', 'start': 74, 'end': 75, 'id': 16, 'ws': False, 'disabled': False}, {'text': 'RIA', 'start': 75, 'end': 78, 'id': 17, 'ws': False, 'disabled': False}, {'text': ',', 'start': 78, 'end': 79, 'id': 18, 'ws': True, 'disabled': True}, {'text': 'and', 'start': 80, 'end': 83, 'id': 19, 'ws': True, 'disabled': True}, {'text': 'BMP', 'start': 84, 'end': 87, 'id': 20, 'ws': False, 'disabled': False}, {'text': '-', 'start': 87, 'end': 88, 'id': 21, 'ws': False, 'disabled': False}, {'text': 'RIB', 'start': 88, 'end': 91, 'id': 22, 'ws': True, 'disabled': False}, {'text': 'and', 'start': 92, 'end': 95, 'id': 23, 'ws': True, 'disabled': True}, {'text': 'the', 'start': 96, 'end': 99, 'id': 24, 'ws': True, 'disabled': True}, {'text': 'type', 'start': 100, 'end': 104, 'id': 25, 'ws': True, 'disabled': True}, {'text': 'II', 'start': 105, 'end': 107, 'id': 26, 'ws': True, 'disabled': True}, {'text': 'receptors', 'start': 108, 'end': 117, 'id': 27, 'ws': True, 'disabled': True}, {'text': 'BMP', 'start': 118, 'end': 121, 'id': 28, 'ws': False, 'disabled': False}, {'text': '-', 'start': 121, 'end': 122, 'id': 29, 'ws': False, 'disabled': False}, {'text': 'RII', 'start': 122, 'end': 125, 'id': 30, 'ws': False, 'disabled': False}, {'text': ',', 'start': 125, 'end': 126, 'id': 31, 'ws': True, 'disabled': True}, {'text': 'Act', 'start': 127, 'end': 130, 'id': 32, 'ws': False, 'disabled': False}, {'text': '-', 'start': 130, 'end': 131, 'id': 33, 'ws': False, 'disabled': False}, {'text': 'RIIA', 'start': 131, 'end': 135, 'id': 34, 'ws': True, 'disabled': False}, {'text': 'and', 'start': 136, 'end': 139, 'id': 35, 'ws': True, 'disabled': True}, {'text': 'Act', 'start': 140, 'end': 143, 'id': 36, 'ws': False, 'disabled': False}, {'text': '-', 'start': 143, 'end': 144, 'id': 37, 'ws': False, 'disabled': False}, {'text': 'RIIB', 'start': 144, 'end': 148, 'id': 38, 'ws': False, 'disabled': False}, {'text': ',', 'start': 148, 'end': 149, 'id': 39, 'ws': True, 'disabled': True}, {'text': 'which', 'start': 150, 'end': 155, 'id': 40, 'ws': True, 'disabled': True}, {'text': 'lead', 'start': 156, 'end': 160, 'id': 41, 'ws': True, 'disabled': True}, {'text': 'to', 'start': 161, 'end': 163, 'id': 42, 'ws': True, 'disabled': True}, {'text': 'the', 'start': 164, 'end': 167, 'id': 43, 'ws': True, 'disabled': True}, {'text': 'phosphorylation', 'start': 168, 'end': 183, 'id': 44, 'ws': True, 'disabled': True}, {'text': 'of', 'start': 184, 'end': 186, 'id': 45, 'ws': True, 'disabled': True}, {'text': 'the', 'start': 187, 'end': 190, 'id': 46, 'ws': True, 'disabled': True}, {'text': 'receptor', 'start': 191, 'end': 199, 'id': 47, 'ws': True, 'disabled': True}, {'text': 'Smads', 'start': 200, 'end': 205, 'id': 48, 'ws': True, 'disabled': True}, {'text': '(', 'start': 206, 'end': 207, 'id': 49, 'ws': False, 'disabled': True}, {'text': 'Smad-1', 'start': 207, 'end': 213, 'id': 50, 'ws': False, 'disabled': False}, {'text': ',', 'start': 213, 'end': 214, 'id': 51, 'ws': True, 'disabled': True}, {'text': 'Smad-5', 'start': 215, 'end': 221, 'id': 52, 'ws': False, 'disabled': False}, {'text': ',', 'start': 221, 'end': 222, 'id': 53, 'ws': True, 'disabled': True}, {'text': 'and', 'start': 223, 'end': 226, 'id': 54, 'ws': True, 'disabled': True}, {'text': 'Smad-8', 'start': 227, 'end': 233, 'id': 55, 'ws': False, 'disabled': False}, {'text': ')', 'start': 233, 'end': 234, 'id': 56, 'ws': False, 'disabled': True}, {'text': '.', 'start': 234, 'end': 235, 'id': 57, 'ws': False, 'disabled': True}]\n"
     ]
    }
   ],
   "source": [
    "#tokens\n",
    "print(type(df.iloc[1,4]))\n",
    "print(df.iloc[1,4])\n",
    "\n",
    "print(type(df2.iloc[1,5]))\n",
    "print(df2.iloc[1,5])"
   ]
  },
  {
   "cell_type": "code",
   "execution_count": 35,
   "metadata": {},
   "outputs": [
    {
     "output_type": "stream",
     "name": "stdout",
     "text": [
      "<class 'list'>\n[{'head': 15, 'child': 1, 'head_span': {'start': 73, 'end': 82, 'token_start': 15, 'token_end': 15, 'label': 'V'}, 'child_span': {'start': 4, 'end': 13, 'token_start': 1, 'token_end': 1, 'label': 'Z'}, 'color': '#c5bdf4', 'label': 'ARG0'}, {'head': 15, 'child': 8, 'head_span': {'start': 73, 'end': 82, 'token_start': 15, 'token_end': 15, 'label': 'V'}, 'child_span': {'start': 14, 'end': 36, 'token_start': 2, 'token_end': 8, 'label': 'ATTR'}, 'color': '#d9fbad', 'label': 'ARG'}, {'head': 15, 'child': 11, 'head_span': {'start': 73, 'end': 82, 'token_start': 15, 'token_end': 15, 'label': 'V'}, 'child_span': {'start': 42, 'end': 54, 'token_start': 11, 'token_end': 11, 'label': 'Z'}, 'color': '#c5bdf4', 'label': 'ARG0'}, {'head': 15, 'child': 14, 'head_span': {'start': 73, 'end': 82, 'token_start': 15, 'token_end': 15, 'label': 'V'}, 'child_span': {'start': 55, 'end': 72, 'token_start': 12, 'token_end': 14, 'label': 'ATTR'}, 'color': '#d9fbad', 'label': 'ARG'}, {'head': 19, 'child': 18, 'head_span': {'start': 94, 'end': 103, 'token_start': 19, 'token_end': 19, 'label': 'V'}, 'child_span': {'start': 87, 'end': 93, 'token_start': 18, 'token_end': 18, 'label': 'Z'}, 'color': '#c5bdf4', 'label': 'ARG0'}, {'head': 24, 'child': 22, 'head_span': {'start': 129, 'end': 137, 'token_start': 24, 'token_end': 24, 'label': 'V'}, 'child_span': {'start': 112, 'end': 123, 'token_start': 22, 'token_end': 22, 'label': 'Z'}, 'color': '#c5bdf4', 'label': 'ARG0'}, {'head': 24, 'child': 23, 'head_span': {'start': 129, 'end': 137, 'token_start': 24, 'token_end': 24, 'label': 'V'}, 'child_span': {'start': 124, 'end': 128, 'token_start': 23, 'token_end': 23, 'label': 'DAUER'}, 'color': '#d9fbad', 'label': 'ARG'}, {'head': 29, 'child': 28, 'head_span': {'start': 159, 'end': 168, 'token_start': 29, 'token_end': 29, 'label': 'V'}, 'child_span': {'start': 150, 'end': 158, 'token_start': 28, 'token_end': 28, 'label': 'Z'}, 'color': '#ffd882', 'label': 'ARG1'}, {'head': 29, 'child': 22, 'head_span': {'start': 159, 'end': 168, 'token_start': 29, 'token_end': 29, 'label': 'V'}, 'child_span': {'start': 112, 'end': 123, 'token_start': 22, 'token_end': 22, 'label': 'Z'}, 'color': '#c5bdf4', 'label': 'ARG0'}, {'head': 29, 'child': 27, 'head_span': {'start': 159, 'end': 168, 'token_start': 29, 'token_end': 29, 'label': 'V'}, 'child_span': {'start': 146, 'end': 149, 'token_start': 27, 'token_end': 27, 'label': 'PRÄP'}, 'color': '#d9fbad', 'label': 'ARG'}, {'head': 36, 'child': 22, 'head_span': {'start': 195, 'end': 201, 'token_start': 36, 'token_end': 36, 'label': 'V'}, 'child_span': {'start': 112, 'end': 123, 'token_start': 22, 'token_end': 22, 'label': 'Z'}, 'color': '#c5bdf4', 'label': 'ARG0'}, {'head': 36, 'child': 31, 'head_span': {'start': 195, 'end': 201, 'token_start': 36, 'token_end': 36, 'label': 'V'}, 'child_span': {'start': 173, 'end': 182, 'token_start': 31, 'token_end': 31, 'label': 'ATTR'}, 'color': '#d9fbad', 'label': 'ARG'}, {'head': 36, 'child': 35, 'head_span': {'start': 195, 'end': 201, 'token_start': 36, 'token_end': 36, 'label': 'V'}, 'child_span': {'start': 183, 'end': 194, 'token_start': 32, 'token_end': 35, 'label': 'DAUER'}, 'color': '#d9fbad', 'label': 'ARG'}, {'head': 44, 'child': 40, 'head_span': {'start': 241, 'end': 247, 'token_start': 44, 'token_end': 44, 'label': 'V'}, 'child_span': {'start': 214, 'end': 225, 'token_start': 40, 'token_end': 40, 'label': 'Z'}, 'color': '#c5bdf4', 'label': 'ARG0'}, {'head': 44, 'child': 43, 'head_span': {'start': 241, 'end': 247, 'token_start': 44, 'token_end': 44, 'label': 'V'}, 'child_span': {'start': 234, 'end': 240, 'token_start': 43, 'token_end': 43, 'label': 'TOOL'}, 'color': '#ffd882', 'label': 'ARG1'}, {'head': 44, 'child': 41, 'head_span': {'start': 241, 'end': 247, 'token_start': 44, 'token_end': 44, 'label': 'V'}, 'child_span': {'start': 226, 'end': 229, 'token_start': 41, 'token_end': 41, 'label': 'PRÄP'}, 'color': '#d9fbad', 'label': 'ARG'}, {'head': 50, 'child': 40, 'head_span': {'start': 270, 'end': 276, 'token_start': 50, 'token_end': 50, 'label': 'V'}, 'child_span': {'start': 214, 'end': 225, 'token_start': 40, 'token_end': 40, 'label': 'Z'}, 'color': '#c5bdf4', 'label': 'ARG0'}, {'head': 50, 'child': 47, 'head_span': {'start': 270, 'end': 276, 'token_start': 50, 'token_end': 50, 'label': 'V'}, 'child_span': {'start': 253, 'end': 257, 'token_start': 47, 'token_end': 47, 'label': 'Z'}, 'color': '#ffd882', 'label': 'ARG1'}, {'head': 50, 'child': 49, 'head_span': {'start': 270, 'end': 276, 'token_start': 50, 'token_end': 50, 'label': 'V'}, 'child_span': {'start': 262, 'end': 269, 'token_start': 49, 'token_end': 49, 'label': 'Z'}, 'color': '#ffd882', 'label': 'ARG1'}, {'head': 50, 'child': 46, 'head_span': {'start': 270, 'end': 276, 'token_start': 50, 'token_end': 50, 'label': 'V'}, 'child_span': {'start': 249, 'end': 252, 'token_start': 46, 'token_end': 46, 'label': 'PRÄP'}, 'color': '#d9fbad', 'label': 'ARG'}, {'head': 53, 'child': 40, 'head_span': {'start': 286, 'end': 293, 'token_start': 53, 'token_end': 53, 'label': 'V'}, 'child_span': {'start': 214, 'end': 225, 'token_start': 40, 'token_end': 40, 'label': 'Z'}, 'color': '#c5bdf4', 'label': 'ARG0'}, {'head': 53, 'child': 52, 'head_span': {'start': 286, 'end': 293, 'token_start': 53, 'token_end': 53, 'label': 'V'}, 'child_span': {'start': 281, 'end': 285, 'token_start': 52, 'token_end': 52, 'label': 'ATTR'}, 'color': '#d9fbad', 'label': 'ARG'}, {'head': 58, 'child': 55, 'head_span': {'start': 315, 'end': 323, 'token_start': 58, 'token_end': 58, 'label': 'V'}, 'child_span': {'start': 294, 'end': 300, 'token_start': 55, 'token_end': 55, 'label': 'Z'}, 'color': '#c5bdf4', 'label': 'ARG0'}, {'head': 58, 'child': 57, 'head_span': {'start': 315, 'end': 323, 'token_start': 58, 'token_end': 58, 'label': 'V'}, 'child_span': {'start': 305, 'end': 314, 'token_start': 57, 'token_end': 57, 'label': 'Z'}, 'color': '#c5bdf4', 'label': 'ARG0'}, {'head': 63, 'child': 60, 'head_span': {'start': 340, 'end': 349, 'token_start': 63, 'token_end': 63, 'label': 'V'}, 'child_span': {'start': 325, 'end': 328, 'token_start': 60, 'token_end': 60, 'label': 'PRÄP'}, 'color': '#d9fbad', 'label': 'ARG'}, {'head': 63, 'child': 62, 'head_span': {'start': 340, 'end': 349, 'token_start': 63, 'token_end': 63, 'label': 'V'}, 'child_span': {'start': 333, 'end': 339, 'token_start': 62, 'token_end': 62, 'label': 'ATTR'}, 'color': '#d9fbad', 'label': 'ARG'}, {'head': 63, 'child': 57, 'head_span': {'start': 340, 'end': 349, 'token_start': 63, 'token_end': 63, 'label': 'V'}, 'child_span': {'start': 305, 'end': 314, 'token_start': 57, 'token_end': 57, 'label': 'Z'}, 'color': '#c5bdf4', 'label': 'ARG0'}, {'head': 68, 'child': 57, 'head_span': {'start': 366, 'end': 373, 'token_start': 68, 'token_end': 68, 'label': 'V'}, 'child_span': {'start': 305, 'end': 314, 'token_start': 57, 'token_end': 57, 'label': 'Z'}, 'color': '#ffd882', 'label': 'ARG1'}, {'head': 68, 'child': 67, 'head_span': {'start': 366, 'end': 373, 'token_start': 68, 'token_end': 68, 'label': 'V'}, 'child_span': {'start': 360, 'end': 365, 'token_start': 67, 'token_end': 67, 'label': 'Z'}, 'color': '#c5bdf4', 'label': 'ARG0'}, {'head': 68, 'child': 65, 'head_span': {'start': 366, 'end': 373, 'token_start': 68, 'token_end': 68, 'label': 'V'}, 'child_span': {'start': 351, 'end': 355, 'token_start': 65, 'token_end': 65, 'label': 'ZEITP'}, 'color': '#d9fbad', 'label': 'ARG'}, {'head': 71, 'child': 67, 'head_span': {'start': 384, 'end': 393, 'token_start': 71, 'token_end': 71, 'label': 'V'}, 'child_span': {'start': 360, 'end': 365, 'token_start': 67, 'token_end': 67, 'label': 'Z'}, 'color': '#c5bdf4', 'label': 'ARG0'}, {'head': 71, 'child': 70, 'head_span': {'start': 384, 'end': 393, 'token_start': 71, 'token_end': 71, 'label': 'V'}, 'child_span': {'start': 378, 'end': 383, 'token_start': 70, 'token_end': 70, 'label': 'ATTR'}, 'color': '#d9fbad', 'label': 'ARG'}, {'head': 79, 'child': 74, 'head_span': {'start': 427, 'end': 436, 'token_start': 79, 'token_end': 79, 'label': 'V'}, 'child_span': {'start': 399, 'end': 404, 'token_start': 74, 'token_end': 74, 'label': 'Z'}, 'color': '#c5bdf4', 'label': 'ARG0'}, {'head': 79, 'child': 78, 'head_span': {'start': 427, 'end': 436, 'token_start': 79, 'token_end': 79, 'label': 'V'}, 'child_span': {'start': 413, 'end': 426, 'token_start': 77, 'token_end': 78, 'label': 'Z'}, 'color': '#ffd882', 'label': 'ARG1'}, {'head': 79, 'child': 75, 'head_span': {'start': 427, 'end': 436, 'token_start': 79, 'token_end': 79, 'label': 'V'}, 'child_span': {'start': 405, 'end': 408, 'token_start': 75, 'token_end': 75, 'label': 'PRÄP'}, 'color': '#d9fbad', 'label': 'ARG'}, {'head': 81, 'child': 74, 'head_span': {'start': 438, 'end': 449, 'token_start': 81, 'token_end': 81, 'label': 'V'}, 'child_span': {'start': 399, 'end': 404, 'token_start': 74, 'token_end': 74, 'label': 'Z'}, 'color': '#c5bdf4', 'label': 'ARG0'}, {'head': 95, 'child': 89, 'head_span': {'start': 541, 'end': 546, 'token_start': 95, 'token_end': 95, 'label': 'V'}, 'child_span': {'start': 491, 'end': 502, 'token_start': 89, 'token_end': 89, 'label': 'Z'}, 'color': '#c5bdf4', 'label': 'ARG0'}, {'head': 95, 'child': 91, 'head_span': {'start': 541, 'end': 546, 'token_start': 95, 'token_end': 95, 'label': 'V'}, 'child_span': {'start': 507, 'end': 527, 'token_start': 91, 'token_end': 91, 'label': 'Z'}, 'color': '#c5bdf4', 'label': 'ARG0'}, {'head': 95, 'child': 94, 'head_span': {'start': 541, 'end': 546, 'token_start': 95, 'token_end': 95, 'label': 'V'}, 'child_span': {'start': 535, 'end': 540, 'token_start': 94, 'token_end': 94, 'label': 'Z'}, 'color': '#ffd882', 'label': 'ARG1'}, {'head': 95, 'child': 92, 'head_span': {'start': 541, 'end': 546, 'token_start': 95, 'token_end': 95, 'label': 'V'}, 'child_span': {'start': 528, 'end': 530, 'token_start': 92, 'token_end': 92, 'label': 'PRÄP'}, 'color': '#d9fbad', 'label': 'ARG'}, {'head': 98, 'child': 94, 'head_span': {'start': 562, 'end': 570, 'token_start': 98, 'token_end': 98, 'label': 'V'}, 'child_span': {'start': 535, 'end': 540, 'token_start': 94, 'token_end': 94, 'label': 'Z'}, 'color': '#c5bdf4', 'label': 'ARG0'}, {'head': 98, 'child': 97, 'head_span': {'start': 562, 'end': 570, 'token_start': 98, 'token_end': 98, 'label': 'V'}, 'child_span': {'start': 551, 'end': 561, 'token_start': 97, 'token_end': 97, 'label': 'ATTR'}, 'color': '#d9fbad', 'label': 'ARG'}, {'head': 102, 'child': 94, 'head_span': {'start': 583, 'end': 589, 'token_start': 102, 'token_end': 102, 'label': 'V'}, 'child_span': {'start': 535, 'end': 540, 'token_start': 94, 'token_end': 94, 'label': 'Z'}, 'color': '#c5bdf4', 'label': 'ARG0'}, {'head': 102, 'child': 101, 'head_span': {'start': 583, 'end': 589, 'token_start': 102, 'token_end': 102, 'label': 'V'}, 'child_span': {'start': 572, 'end': 582, 'token_start': 100, 'token_end': 101, 'label': 'ATTR'}, 'color': '#d9fbad', 'label': 'ARG'}]\n<class 'list'>\n[{'head': 0, 'child': 13, 'head_span': {'start': 0, 'end': 5, 'token_start': 0, 'token_end': 0, 'label': 'GGP'}, 'child_span': {'start': 62, 'end': 69, 'token_start': 11, 'token_end': 13, 'label': 'GGP'}, 'color': '#c2f2f6', 'label': 'Binds'}, {'head': 0, 'child': 17, 'head_span': {'start': 0, 'end': 5, 'token_start': 0, 'token_end': 0, 'label': 'GGP'}, 'child_span': {'start': 71, 'end': 78, 'token_start': 15, 'token_end': 17, 'label': 'GGP'}, 'color': '#c2f2f6', 'label': 'Binds'}, {'head': 0, 'child': 22, 'head_span': {'start': 0, 'end': 5, 'token_start': 0, 'token_end': 0, 'label': 'GGP'}, 'child_span': {'start': 84, 'end': 91, 'token_start': 20, 'token_end': 22, 'label': 'GGP'}, 'color': '#c2f2f6', 'label': 'Binds'}, {'head': 0, 'child': 30, 'head_span': {'start': 0, 'end': 5, 'token_start': 0, 'token_end': 0, 'label': 'GGP'}, 'child_span': {'start': 118, 'end': 125, 'token_start': 28, 'token_end': 30, 'label': 'GGP'}, 'color': '#c2f2f6', 'label': 'Binds'}, {'head': 0, 'child': 34, 'head_span': {'start': 0, 'end': 5, 'token_start': 0, 'token_end': 0, 'label': 'GGP'}, 'child_span': {'start': 127, 'end': 135, 'token_start': 32, 'token_end': 34, 'label': 'GGP'}, 'color': '#c2f2f6', 'label': 'Binds'}, {'head': 0, 'child': 38, 'head_span': {'start': 0, 'end': 5, 'token_start': 0, 'token_end': 0, 'label': 'GGP'}, 'child_span': {'start': 140, 'end': 148, 'token_start': 36, 'token_end': 38, 'label': 'GGP'}, 'color': '#c2f2f6', 'label': 'Binds'}, {'head': 0, 'child': 50, 'head_span': {'start': 0, 'end': 5, 'token_start': 0, 'token_end': 0, 'label': 'GGP'}, 'child_span': {'start': 207, 'end': 213, 'token_start': 50, 'token_end': 50, 'label': 'GGP'}, 'color': '#c5bdf4', 'label': 'Reg'}, {'head': 0, 'child': 52, 'head_span': {'start': 0, 'end': 5, 'token_start': 0, 'token_end': 0, 'label': 'GGP'}, 'child_span': {'start': 215, 'end': 221, 'token_start': 52, 'token_end': 52, 'label': 'GGP'}, 'color': '#c5bdf4', 'label': 'Reg'}, {'head': 0, 'child': 55, 'head_span': {'start': 0, 'end': 5, 'token_start': 0, 'token_end': 0, 'label': 'GGP'}, 'child_span': {'start': 227, 'end': 233, 'token_start': 55, 'token_end': 55, 'label': 'GGP'}, 'color': '#c5bdf4', 'label': 'Reg'}]\n"
     ]
    }
   ],
   "source": [
    "#relations\n",
    "#tokens\n",
    "print(type(df.iloc[1,7]))\n",
    "print(df.iloc[1,7])\n",
    "\n",
    "print(type(df2.iloc[1,8]))\n",
    "print(df2.iloc[1,8])"
   ]
  },
  {
   "source": [
    "df.iloc[0, 7]\n",
    "#{'head': 15, -> wievielte Token ist der head token (von dem relation ausgeht)\n",
    "#  'child': 1, -> wievielte token ist child token (zu dem relation hingeht) -> ending token des childs\n",
    "\n",
    "#head_span': {'start': 73,  -> starting character\n",
    "#  'end': 82,               -> ending character\n",
    "#  'token_start': 15,       -> start token\n",
    "#  'token_end': 15,         -> end token\n",
    "#  'label': 'V'}            -> label des span\n",
    "\n",
    "#'child_span': {'start': 4,\n",
    "#  'end': 13,\n",
    "#  'token_start': 1,        -> could also be 12 and\n",
    "#  'token_end': 1,          -> 14, if span contains multiple tokens\n",
    "#  'label': 'Z'}\n",
    "\n",
    "# 'color': '#c5bdf4',\n",
    "# 'label': 'ARG0'},         -> label der relation\n",
    "\n"
   ],
   "cell_type": "code",
   "metadata": {},
   "execution_count": 12,
   "outputs": [
    {
     "output_type": "execute_result",
     "data": {
      "text/plain": [
       "[]"
      ]
     },
     "metadata": {},
     "execution_count": 12
    }
   ]
  },
  {
   "cell_type": "code",
   "execution_count": null,
   "metadata": {},
   "outputs": [],
   "source": []
  }
 ]
}