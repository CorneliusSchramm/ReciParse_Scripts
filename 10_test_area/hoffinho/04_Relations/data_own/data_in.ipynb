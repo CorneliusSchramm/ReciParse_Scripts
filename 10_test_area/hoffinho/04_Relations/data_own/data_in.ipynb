{
 "metadata": {
  "language_info": {
   "codemirror_mode": {
    "name": "ipython",
    "version": 3
   },
   "file_extension": ".py",
   "mimetype": "text/x-python",
   "name": "python",
   "nbconvert_exporter": "python",
   "pygments_lexer": "ipython3",
   "version": "3.8.3-final"
  },
  "orig_nbformat": 2,
  "kernelspec": {
   "name": "python3",
   "display_name": "Python 3"
  }
 },
 "nbformat": 4,
 "nbformat_minor": 2,
 "cells": [
  {
   "cell_type": "code",
   "execution_count": 7,
   "metadata": {},
   "outputs": [],
   "source": [
    "import json\n",
    "import pandas as pd"
   ]
  },
  {
   "cell_type": "code",
   "execution_count": 3,
   "metadata": {},
   "outputs": [
    {
     "output_type": "execute_result",
     "data": {
      "text/plain": [
       "iseitegestellten Kartoffel- und Möhrenwürfel zugeben und die Suppe weitere 10 bis 15 Minuten kochen. 5 Minuten vor Ende der Garzeit die Erbsen zufügen.Die in Scheiben geschnittenen Würstchen im verbliebenen Öl anbraten und zur Suppe geben. Crème fraîche unterrühren und die Suppe mit Salz, Pfeffer und eventuell Chiliflocken abschmecken.Vor dem Servieren mit fein gehackter Petersilie oder mit Schnittlauchröllchen bestreuen.'},\n",
       " {'text': 'Die Kartoffeln in der Schale in Salzwasser gar kochen.Inzwischen die Radieschen putzen, waschen, in Scheiben schneiden und die Scheiben in Streifen teilen, mit etwas Salz bestreuen und ziehen lassen.Den Speck in feine Würfel schneiden, in der Pfanne anrösten und die Speckwürfel auf Küchenkrepp abtropfen lassen. Schnittlauch in Röllchen schneiden.Den Joghurt in einer großen Schüssel mit Mineralwasser glatt rühren, Radieschen, Speckwürfel und Schnittlauchröllchen dazugeben und mit Pfeffer, Zitronensaft und evtl. etwas Salz abschmecken.Die Kartoffeln pellen, mit Kresse bestreuen und zusammen mit dem Radieschen-Joghurt servieren.Den Radieschen-Joghurt kann man auch als Dip zu Kräckern oder Gemüsestiften reichen, dann die Radieschen in sehr feine Streifen schneiden.'},\n",
       " {'text': 'Aus Hack, Zwiebel eingeweichtem, ausgedrücktem Brötchen oder Bröseln, Ei und Gewürzen einen Teig kneten und Frikadellen daraus formen und braten.Restliche Zutaten schön kräftig durchrühren und Frikadellen aus der Pfanne nehmen und Soße angießen, evtl. etwas mit Wasser oder Brühe verdünnen und abschmecken, dann Frikadellen wieder reinlegen.Dazu passt Reis und ein grüner Salat!Tipp: die Soße kann man auch kalt dazu reichen!'},\n",
       " {'text': 'Ganze Kartoffeln mit Pelle in Salzwasser gar kochen. Den Knoblauch pressen, den Schnittlauch sehr fein hacken.Die Kartoffeln schälen und dann mit einer Gabel etwas grob zerdrücken. Knoblauch, Schnittlauch, Salz und Pfeffer unterrühren, mit Olivenöl großzügig abschmecken.Die Eier in Salzwasser mit etwas Essig pochieren, das Eigelb soll noch flüssig sein.Die Kartoffeln mit je zwei Eiern pro Portion sehr warm servieren. Etwas Öl darüber träufeln und wer mag, kann noch etwas Parmesan darüber streuen.Das Rezept ist schnell, duftend und schmeckt himmlisch.'},\n",
       " {'text': 'Spargel unten frisch anschneiden und wenn nötig das untere Drittel mit dem Sparschäler schälen. Die Stangen schräg in 2 cm breite Stücke schneiden, dickere Stücke halbieren. Die Pilze vierteln. Pouletfilets quer fein schneiden. Peperoncino in Ringe schneiden und nach Belieben die Kerne entfernen (= weniger scharf).In einer mittleren Pfanne das Kokosnuss-Extrakt aufkochen. Spargeln und Champignons beifügen und 5 Minuten köcheln. Poulet und Würzpaste (2 bis 4 EL, je nach Geschmack) hineingeben und weitere 5 bis 7 Minuten auf kleiner Hitze ziehen lassen, hin und wieder wenden. Basilikumblätter und die Peperoncino-Ringe in die Pfanne geben und das Gericht eine weitere Minute köcheln. Mit Zucker und Sojasauce abschmecken.Anrichten und mit den restlichen Basilikumblättern garnieren.Dazu passt Parfümreis oder geschmacksneutraler Langkornreis.'},\n",
       " {'text': 'Mett, Ei, Senf, Joghurt, Knoblauch und Pfeffer vermischen und daraus 30 kleine Klößchen formen (am besten mit 2 Teelöffeln), diese in Butterschmalz braten und auf Küchenpapier abtropfen lassen.Aubergine und Zucchini würfeln und salzen. Paprika würfeln.Die kleinen Kartoffeln bürsten, waschen und halbieren.Thymian abzupfen. Kartoffeln in 4 EL erhitztem Butterschmalz 15 Min. braten, salzen, pfeffern und herausnehmen.Die Gemüsewürfel in 2 EL Butterschmalz scharf anbraten und pfeffern. Kartoffeln, Mettklößchen, Gemüsewürfel und Thymian mischen. Gorgonzola darüberbröckeln und im vorgeheizten Backofen bei 220° 7-10 Min. überbacken. Der Käse soll schmelzen und evtl. eine leichte braune Kruste entstehen.Mit einer Vor- und Nachspeise reicht es auch für 5 Personen.'},\n",
       " {'text': \"Die roten Linsen waschen und abtropfen lassen. Kürbis, Zwiebeln, Knoblauch, Paprika, Frühlingszwiebeln und Ingwer nach Bedarf waschen, schälen, entkernen und würfeln. Kürbis und Paprika werden selbstverständlich grober gewürfelt als Ingwer oder Knoblauch.2 EL Öl in einem Topf erhitzen, Zwiebelwürfel darin anbraten. Anschließend restliche gewürfelte Zutaten zugeben, mit Curry bestäuben und weiter anbraten. Dann mit Gemüsebrühe aufgießen und ca. 10 Minuten köchlen lassen, bis die Linsen weich sind. Die Kokosmilch zugeben und erhitzen. Zum Schluss mit Salz - und wer's schärfer mag mit Chili - abschmecken. Eine kleine Prise Zucker ist kein Muss, aber rundet die Sache für mein Dafürhalten geschmacklich ab.Ganz nach Belieben kann die Suppe am Ende püriert oder als Eintopf serviert werden. Und noch ein Tipp zum Ingwer: in Scheiben lassen und nach dem Kochen rausfischen oder auch in einen Teefilter geben (ggf. zuschnüren) und in der Suppe ziehen lassen. Dann hat man die harten, faserigen Stückchen nicht in der Suppe.\"},\n",
       " {'text': 'Fett oder Speck zerlassen und darin die geschälte, klein geschnittene Zwiebel mit dem geputzten, gewaschenen und gewürfelten Suppengrün andünsten. Mit Fleischbrühe aufkochen lassen, die geschälten und kleingeschnittenen Kartoffeln hineingeben und alles 25 Minuten garen.Wenn die Kartoffeln weich sind, werden sie zerdrückt. Mit Salz und Majoran (evtl. Fleischextrakt) abschmecken. Brühwürstchen in die heiße Suppe geben und ziehen lassen.Die Suppe mit gewaschener, gehackter Petersilie oder auch mit gerösteten Weißbrotwürfeln anrichten.TIP:Die Suppe lässt sich durch 1/4 l saure Sahne oder Schmand verfeinern.Variation:500 g Kartoffeln können durch Möhren ersetzt werden.'},\n",
       " {'text': 'Die Eier hart kochen und unter kaltem Wasser abschrecken. Dann abschälen und, wenn sie abgekühlt sind, halbieren.Das Eigelb herausnehmen, gut zerdrückt mit Sahne, Senf, Salz, Pfeffer, Schnittlauch und den vermischen und pikant abschmecken. Die Eigelbcreme in die Eihälften füllen und auf Salatblättern anrichten.Für die grüne Sauce Kräuter ganz fein hacken, in zerlassener Butter mit einer Schalotte andünsten und mit etwas Gemüsebrühe aufgießen. Sodann die Masse pürieren und so lange mit Flüssigkeit aufgießen, bis die Sauce richtig sämig ist. Mit Salz, Pfeffer und etwas Zucker würzen. Die Sauce ebenfalls mit einigen Stückchen Tomate hübsch dekorieren und mit den gefüllten Eiern servieren. Dazu passt geröstetes Weißbrot oder Salzkartoffeln.'},\n",
       " {'text': \"Die Polenta mit Wasser und etwas Salz aufkochen lassen und zugedeckt bei kleinster Hitze gar ziehen lassen. Alternativ Reste von fertiger Polenta verwenden. Den Bärlauch waschen und fein hacken, mit Frischkäse und Polenta mischen, mit Salz und Pfeffer abschmecken.Das Hühnerbrustfilet flach aufschneiden, leicht salzen, die Polenta-Bärlauch-Masse darauf verteilen. Den Prosciutto auf einem Papier so auflegen, dass die Fläche für das Hühnerbrustfilet ausreicht. Das Fleisch daraufsetzen und einrollen.In etwas Olivenöl rundherum anbraten, dann im Backrohr bei 175°C in etwa 25 Minuten fertig garen.Besonders gut und 'rund' schmeckt es, wenn man die Roulade nach dem Anbraten noch mit Feigensenf an den Seiten und oben bestreicht. Anstatt Feigensenf kann auch ein Löffel Dijonsenf mit einem Löffel Marmelade, Sorte nach Geschmack, verrührt werden.Dazu einen grünen Salat und frisches Ciabatta reichen.\"},\n",
       " {'text': 'Kartoffeln schälen, reiben, auf einem Sieb abtropfen lassen. Sofort mit saurer Sahne (oder Sauermilch) vermischen, damit sie sich nicht verfärben. Den Teig mit dem Ei (oder mit weiterem Sauerrahm) und Kartoffelmehl oder Grieß binden (bei neuen Kartoffeln ist Grieß zu empfehlen), mit Salz gut abschmecken.Die fein gewiegten Kräuter unterheben, nach Belieben feingeriebene Zwiebel dazugeben. Reichlich Backfett erhitzen. Den Teig löffelweise hineingeben und flachdrücken. Pfannkuchen auf beiden Seiten braun und knusprig backen. Dazu gibt es Apfelmus.'},\n",
       " {'text': 'Die Kartoffeln nicht zu weich kochen, sofort pellen, schneiden und mit der Brühe heiß mischen. Ziehen lassen, bis alles abgekühlt ist.Sellerie roh in Streifen raspeln, die Äpfel ganz dünn schneiden, Petersilie hacken und alles unter die Kartoffeln geben. Mit den Gewürzen und Essig gut abschmecken. Speck würfeln, auslassen, die fein gewürfelten Zwiebeln darin anschwitzen und alles zum Salat geben (wer die Speckgrieben nicht mag, kann sie entfernen, bevor die Zwiebel dazu kommt). Alles gut ziehen lassen.Passt besonders gut zu Bratwurst, saftigen Kammsteaks oder auch zu Fisch.'},\n",
       " {'text': 'Eine Auflaufform mit der Butter einfetten.Man nimmt so viele Kartoffeln, wie man geschnitten benötigt, um die Auflaufform am Schluss abzudecken. Je nach Form können das 200 - 500 g sein. Die Kartoffeln als Pellkartoffeln kochen, schälen und in Scheiben schneiden.Die Zwiebel in Würfel schneiden und mit den in Scheiben geschnittenen Karotten und der klein geschnittenen Paprika im Öl garen, bis die Zwiebeln glasig sind und das Gemüse zart weich. Ich gebe die Paprika immer erst etwas später dazu, da die Karotten länger brauchen und die Paprika sonst zu weich wird.Die Bohnen, Baked Beans, Mais mit Flüssigkeit dazu geben, dann Tomatenmark und die Barbecuesoße unterrühren. Einmal aufkochen und dann weitere 5 Minuten auf mittlerer Hitze kochen.Die Gemüsemischung in die Auflaufform geben und den in Würfel geschnittenen Räucherkäse gleichmäßig drauf verteilen. Mit den Kartoffelscheiben abdecken, so dass sie jeweils leicht überlappen. Kleine Butterstücke darauf verteilen und im vorgeheizten Backofen bei 190°C 30-40 Minuten backen.'},\n",
       " {'text': 'Die Matjesfilets ca. 1 Std. wässern, danach alle Zutaten in kleine Würfel schneiden. Walnüsse hacken. Mayonnaise, saure Sahne, Essig, evtl. rote Beete Saft, verrühren unter die Zutaten mischen. Mit Salz, Pfeffer, Zucker abschmecken und evtl. Kapern zufügen.'},\n",
       " {'text': 'Butter, Zucker und Eier schaumig rühren. Magerquark und Zitronensaft einrühren. Rohen Milchreis, Milch und Äpfel unterheben. Bei 175 Grad ca. 1 1/4 Std. backen.'},\n",
       " {'text': 'Tortellini in eine Auflaufform geben.Für die Soße Zwiebeln und gekochten Schinken klein schneiden und in einem Topf anbraten. Süße Sahne, saure Sahne, Pilze, Tomatenmark, Salz und Pfeffer hinzugeben. Alles kräftig erhitzen und gut verrühren. Anschließend die Soße über die Tortellini geben und das Ganze mit Käse bestreuen.Im vorgeheizten Backofen bei 200°C ca. 30-40 Min. backen.Tipp: Man kann alternativ auch ungekochte Tortellini verwenden, diese dann bitte vorher nach Vorschrift kochen.'},\n",
       " {'text': 'Maronen kreuzweise einschneiden und in sprudelnd kochendem Wasser 10 Minuten kochen. Danach von Schale und Haut befreien. Dabei nicht alle Maronen auf einmal aus dem Topf nehmen, sonst kühlen sie zu schnell aus und die Schälerei wird noch mühsamer. Anschließend die Maronen grob zerkleinern.Kartoffeln und Zwiebeln schälen und in grobe Würfel schneiden. Kürbisse vierteln, von den Kernen befreien und in grobe Stücke schneiden. Petersilie fein hacken.Zwiebeln in etwas Butterschmalz in einem Topf anschwitzen, Kartoffeln und Kürbis zugeben, kurz mitbraten und mit der Brühe ablöschen. Einmal aufkochen lassen und dann etwa eine halbe Stunde leise köcheln lassen.Suppe im Topf pürieren. Speckwürfel in einer Pfanne auslassen und zur Suppe geben. Anschließend noch etwas Butterschmalz in die Pfanne geben und die Maronenstücke darin anbraten.Einen Becher Schmand in die Suppe geben und etwa 2/3 der Petersilie. Mit Salz, Zitronenpfeffer, Honig und Muskat abschmecken und vom Herd nehmen. Die Suppe auf Teller verteilen, die Maronenstücke darüber geben. Den zweiten Becher Schmand in einen Spritzbeutel o. ä. und in die Mitte jeder Portion einen guten Klecks davon setzen. Mit der restlichen Petersilie bestreuen und servieren.'},\n",
       " {'text': 'Die Kartoffeln waschen, schälen und in Scheiben schneiden. In kräftig gesalzenem Wasser in ca. 15 Minuten gar kochen.Während die Kartoffeln kochen, die Zwiebeln schälen und in Würfel schneiden. Den Speck ebenfalls würfeln. Speck und Zwiebeln in wenig Öl glasig braten - die Zwiebelwürfel dürfen ruhig etwas braun werden.Die Kartoffeln abgießen und kurz abdämpfen lassen. Die Zwiebel-Speck-Mischung über die Kartoffeln geben. Essig und Sahne (oder Kaffeesahne bzw. Kondensmilch - spart Kalorien) dazugeben. Erst einmal nur wenige Esslöffel. Gut unterrühren. Der Salat soll cremig weich sein, die Kartoffeln zerfallen dabei ein wenig. Nach Geschmack noch mehr Sahne zugeben und nach Bedarf nun mit Essig, Zucker, Salz und Pfeffer abschmecken. Der Salat soll cremig weich sein (die Kartoffeln zerfallen ein wenig) und würzig, süß-säuerlich schmecken, nur nicht zu fad.Das Rezept kenne ich aus meiner Kindheit von meiner Mutter und auch meine Kinder essen es sehr gerne. Dazu gibt es bei uns gebratenen Fisch oder Fischstäbchen und Remoulade. Geht schnell und schmeckt schön deftig. Eben Hausmannskost.Tipp: Vegetarier können den Speck auch weglassen, der Salat schmeckt auch ohne lecker.'},\n",
       " {'text': 'Die Hähnchen innen und außen waschen und abtrocknen. Mit Salz, Pfeffer, Saft einer halben Zitrone und fein gehacktem Rosmarin einreiben. Zwiebeln schälen und fein hacken. Die Butter in einem Bräter erhitzen, die Hähnchen darin auf allen Seiten anbraten. Zwiebeln zufügen und glasig werden lassen. Wein und Brühe angießen. Den Bräter zudecken und die Hähnchen in 30-35 Minuten garen.Zwischendurch häufig mit dem Bratfond begießen.Hähnchen herausheben und auf Alufolie in den vorgeheizten Ofen (220 Grad) legen.Honig und Saft einer halben Zitrone verrühren, die Hähnchen öfters damit bestreichen. Die Sauce passieren, zur Hälfte einkochen. Die zweite Zitrone schälen, in Filets teilen, die weiße Haut abziehen. Die Oliven halbieren und entsteinen. Die Sauce abschmecken, die restliche Honig-Zitronenmischung, die Olivenhälften und die Zitronenfilets zugeben. Die Hähnchen mit der Sauce anrichten.'},\n",
       " {'text': 'Paprikaschoten abbrausen, putzen und in dünne Streifen schneiden. Ananas in einem Sieb abtropfen lassen, dann in Stücke schneiden. Frühlingszwiebeln putzen, waschen und schräg in Stücke schneiden. Chilischote abbrausen und in feine Ringe schneiden.Öl in einer Pfanne erhitzen. Hackfleisch darin in ca. 5 Min. krümelig anbraten. Paprikastreifen, Ananasstücke und Chiliringe zufügen und mit anbraten. Brühe mit Curryketchup verrühren und in die Pfanne gießen. Bei milder Hitze zugedeckt ca. 15 Min. köcheln lassen.In der Zwischenzeit den Reis nach Packungsanweisung in kochendem Salzwasser garen.5 Min. vor Ende der Garzeit die Frühlingszwiebeln mit in die Pfanne zum Gehacktes geben. Mit Salz, Pfeffer und etwas Zucker abschmecken.Reis mit Hackfleisch-Gemüse auf Tellern anrichten und servieren.Tipp: Die Hackpfanne bekommt ein noch feineres Aroma, wenn Sie frische und reife Ananas verwenden. Alternativ schmecken auch andere exotische Früchte wie z.B. Mangos.'},\n",
       " {'text': 'Die Butter im Topf zergehen lassen. Unter ständigem Rühren das Mehl hinzugeben und anbräunen lassen. Mit dem Wasser und der Milch langsam unter ständigem Rühren zum Kochen bringen. Senf hinzugeben und gut unterrühren. Mit der Fleischbrühe und dem Pfeffer nach Bedarf abschmecken.Die hart gekochten Eier hinzugeben und alles nochmals bis zum Kochen bringen. Heiß servieren.Dazu passen Kartoffeln bzw. Kartoffelpüree und grüner Blattsalat.'},\n",
       " {'text': 'Zwiebel, Knoblauch, Zucchini und Paprika würfeln, in Öl anschwitzen. Vom Herd nehmen und den gewürfelten Schafkäse damit vorsichtig mischen, alles mit den Kräutern würzen.Den Blätterteig auslegen, Gemüse-Schafkäse-Masse auf einem Drittel der Fläche verteilen, den Teig einrollen. Den Strudel evtl. mit etwas Milch bestreichen und im Ofen bei 200°C ca. 20 Minuten backen.Für die Sauce die halbe Zwiebel hacken, in Öl anschwitzen, mit etwas Mehl bestäuben, mit Weißwein und Obers aufgießen. Die Sauce sämig einkochen, mit Salz und Pfeffer abschmecken und mit Schnittlauch verfeinern.'},\n",
       " {'text': 'Den gut gesäuberten Fisch mit Salz und Zitronensaft einreiben. Sauerampferblätter fein schneiden, in eine gefettete feuerfeste Form geben, den Fisch darauf legen, Wein angießen und Form fest verschließen.Im vorgeheizten Backofen 30 - 40 Minuten bei 175 °C garen. Fisch aus der Form nehmen und warm stellen.Den Fischsud mit den Sauerampferblättern in einen Topf geben und Sahne angießen. Butter und Mehl verkneten, in die Sauce rühren und aufkochen lassen. Die Sauce noch einmal mit Salz und Zitronensaft abschmecken.Fisch mit der Sauce anrichten.'},\n",
       " {'text': 'Bier und Ei verrühren und soviel Mehl dazugeben, dass ein zähflüssiger Teig entsteht.Camembert in den Teig legen.Sahne steif schlagen und mit den Preiselbeeren vermengen.Camembert in der Friteuse 5 Min. ausbacken.Mit der Preiselbeersahne und geröstetem Toast servieren'},\n",
       " {'text': '3 Liter Wasser in einen Topf geben und die Graupen zufügen.Den Sellerie und die Möhren schälen und in kleine Würfelchen schneiden. Den Lauch putzen und in feine Streifen schneiden. Die Kartoffeln schälen und in kleine Würfel schneiden.Den Sellerie, die Möhren und den Lauch zu den Graupen geben. 2 TL Salz in das kalte Wasser geben. Alles zusammen kurz aufkochen und in ca. 20 Min. weich köcheln. Anschließend die Wurst hinein geben. Nach ca. 10 Min. die Kartoffeln dazugeben. Alles zusammen weitere 20 Min. köcheln. Die Wurst herausnehmen und in mundgerechte Stücke schneiden. Wieder zurück in die Suppe geben. Die Suppe mit Salz und wenig Pfeffer abschmecken. Wer mag, kann noch mit etwas Maggi würzen.Hinweis: Die Graupen werden nicht separat abgespült. Das ist Absicht und hat den Effekt, daß sie leicht beim Kochen ausschleimen und so die Suppe sämig machen.'},\n",
       " {'text': 'Die Eier pochieren. Dafür in einem mittleren Topf Essigwasser zum Kochen bringen und danach ein bisschen herunterdrehen, bis das Wasser simmert. Mit einem Schneebesen im Wasser einen Strudel erzeugen. In diesen Strudel die Eier schlagen. Wichtig ist, dass das Wasser an diesem Punkt noch in Bewegung ist. Danach den Deckel auf den Topf setzen und je nach Eiergröße 2 - 3 Minuten simmern lassen. Danach die Eier mit einem Sieb vorsichtig aus dem Wasser heben und auf Küchenpapier abtropfen lassen.Die Toastbrötchenhälften im Toaster, einer Pfanne oder im Ofen kross toasten bzw. backen. Den Speck ohne Fett in einer Pfanne von beiden Seiten kross anbraten und ebenfalls auf Küchenpapier abtropfen lassen. Alternativ kann man den Speck auch im Ofen auslassen. Die Sauce Hollandaise in einem Topf oder ebenfalls im Ofen erhitzen.Alles zusammen mit den pochierten Eiern auf den Toastbrötchen anrichten. Ein paar Kräuter darüber streuen.'},\n",
       " {'text': '\\xad\\xad\\xad\\xad\\xad\\xad\\xad\\xad\\xad\\xad\\xad\\xad\\xad\\xad\\xad\\xad\\xad\\xad\\xad\\xad\\xad\\xadMelone entkernen und in Spalten schneiden. Das Fruchtfleisch auslösen und in Scheiben schneiden. Den Mozzarella in Scheiben schneiden.Melone und Mozzarella abwechselnd in eine große Schale schichten.Mit Meersalz würzen und mit dem Zitronensaft beträufeln. Olivenöl darüber träufeln.Die rote Zwiebel in feine Ringe hobeln und über den Mozzarella und die Melone geben. Geschnittenen Basilikum darüber streuen.Mit Alufolie abdecken und mindestens 1/2 Stunde durchziehen lassen.Dazu ein frisches Baguette.Ein herrlich leichtes Sommergericht oder eine leckere Vorspeise.'},\n",
       " {'text': 'Die Nudeln in Salzwasser bissfest kochen. Abtropfen lassen. Das Gemüse waschen und putzen, die Tomaten halbieren, die Zucchini längs halbieren und in Scheiben schneiden, die Lauchzwiebeln in Ringe, die Paprikaschote dritteln und in Streifen schneiden.Das Gyrosfleisch in Öl anbraten, dann herausnehmen und kurz beiseitestellen. Das Gemüse im Bratsatz anbraten, dann das Fleisch wieder dazugeben, Mehl darüber stäuben, kurz anschwitzen und mindestens 300 ml Wasser (je nachdem, wie viel Soße Ihr haben wollt), Sahne und Gemüsebrühe einrühren, aufkochen und 5 Minuten köcheln lassen. Mit Salz, Pfeffer und süßem Paprikapulver abschmecken.Nudeln, Gyros und 2/3 vom Käse abwechselnd in eine gefettete Form schichten, den übrigen Käse darüber streuen. Im vorgeheizten Backofen (Ober/Unterhitze 200°, Umluft 175°, Gas Stufe 3) ca. 20 Minuten überbacken.'}]"
      ]
     },
     "metadata": {},
     "execution_count": 3
    }
   ],
   "source": [
    "json_file = open(\"/Users/jhoff/Desktop/Capstone_local/03_Prodigy/01_Data/00_All/recipes_jona.json\")\n",
    "\n",
    "recipes = json.load(json_file)\n",
    "recipes"
   ]
  },
  {
   "cell_type": "code",
   "execution_count": 8,
   "metadata": {},
   "outputs": [
    {
     "output_type": "execute_result",
     "data": {
      "text/plain": [
       "                                                  text\n",
       "0    Kürbisfleisch würfeln. Möhren schälen und würf...\n",
       "1    Den Seeteufel in 2-3 cm große Würfel, den Schn...\n",
       "2    Die Dörrpflaumen mehrere Stunden (oder über Na...\n",
       "3    Die Schwarte mit einem scharfen Messer rautenf...\n",
       "4    Die Eier pochieren. Dafür in einem mittleren T...\n",
       "..                                                 ...\n",
       "495  Bier und Ei verrühren und soviel Mehl dazugebe...\n",
       "496  3 Liter Wasser in einen Topf geben und die Gra...\n",
       "497  Die Eier pochieren. Dafür in einem mittleren T...\n",
       "498  ­­­­­­­­­­­­­­­­­­­­­­Melone entkernen und in ...\n",
       "499  Die Nudeln in Salzwasser bissfest kochen. Abtr...\n",
       "\n",
       "[500 rows x 1 columns]"
      ],
      "text/html": "<div>\n<style scoped>\n    .dataframe tbody tr th:only-of-type {\n        vertical-align: middle;\n    }\n\n    .dataframe tbody tr th {\n        vertical-align: top;\n    }\n\n    .dataframe thead th {\n        text-align: right;\n    }\n</style>\n<table border=\"1\" class=\"dataframe\">\n  <thead>\n    <tr style=\"text-align: right;\">\n      <th></th>\n      <th>text</th>\n    </tr>\n  </thead>\n  <tbody>\n    <tr>\n      <th>0</th>\n      <td>Kürbisfleisch würfeln. Möhren schälen und würf...</td>\n    </tr>\n    <tr>\n      <th>1</th>\n      <td>Den Seeteufel in 2-3 cm große Würfel, den Schn...</td>\n    </tr>\n    <tr>\n      <th>2</th>\n      <td>Die Dörrpflaumen mehrere Stunden (oder über Na...</td>\n    </tr>\n    <tr>\n      <th>3</th>\n      <td>Die Schwarte mit einem scharfen Messer rautenf...</td>\n    </tr>\n    <tr>\n      <th>4</th>\n      <td>Die Eier pochieren. Dafür in einem mittleren T...</td>\n    </tr>\n    <tr>\n      <th>...</th>\n      <td>...</td>\n    </tr>\n    <tr>\n      <th>495</th>\n      <td>Bier und Ei verrühren und soviel Mehl dazugebe...</td>\n    </tr>\n    <tr>\n      <th>496</th>\n      <td>3 Liter Wasser in einen Topf geben und die Gra...</td>\n    </tr>\n    <tr>\n      <th>497</th>\n      <td>Die Eier pochieren. Dafür in einem mittleren T...</td>\n    </tr>\n    <tr>\n      <th>498</th>\n      <td>­­­­­­­­­­­­­­­­­­­­­­Melone entkernen und in ...</td>\n    </tr>\n    <tr>\n      <th>499</th>\n      <td>Die Nudeln in Salzwasser bissfest kochen. Abtr...</td>\n    </tr>\n  </tbody>\n</table>\n<p>500 rows × 1 columns</p>\n</div>"
     },
     "metadata": {},
     "execution_count": 8
    }
   ],
   "source": [
    "df = pd.DataFrame(recipes)\n",
    "df"
   ]
  },
  {
   "cell_type": "code",
   "execution_count": null,
   "metadata": {},
   "outputs": [],
   "source": []
  }
 ]
}