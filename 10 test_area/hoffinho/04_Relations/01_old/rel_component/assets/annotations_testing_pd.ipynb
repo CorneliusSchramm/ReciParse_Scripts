{
 "metadata": {
  "language_info": {
   "codemirror_mode": {
    "name": "ipython",
    "version": 3
   },
   "file_extension": ".py",
   "mimetype": "text/x-python",
   "name": "python",
   "nbconvert_exporter": "python",
   "pygments_lexer": "ipython3",
   "version": "3.8.3-final"
  },
  "orig_nbformat": 2,
  "kernelspec": {
   "name": "python3",
   "display_name": "Python 3"
  }
 },
 "nbformat": 4,
 "nbformat_minor": 2,
 "cells": [
  {
   "cell_type": "code",
   "execution_count": 2,
   "metadata": {},
   "outputs": [],
   "source": [
    "import json\n",
    "import pandas as pd"
   ]
  },
  {
   "cell_type": "code",
   "execution_count": 20,
   "metadata": {},
   "outputs": [],
   "source": [
    "false = False\n",
    "true = True\n",
    "null = \"test\"\n",
    "\n",
    "example_dict = [{\"text\": \"Furthermore, Smad-phosphorylation was followed by upregulation of Id1 mRNA and Id1 protein, whereas Id2 and Id3 expression was not affected.\", \n",
    "\n",
    "\"spans\": [{\"text\": \"Smad\", \"start\": 13, \"token_start\": 2, \"token_end\": 2, \"end\": 17, \"type\": \"span\", \"label\": \"GGP\"}\n",
    ", {\"text\": \"Id1\", \"start\": 66, \"token_start\": 10, \"token_end\": 10, \"end\": 69, \"type\": \"span\", \"label\": \"GGP\"}\n",
    ", {\"text\": \"Id1\", \"start\": 79, \"token_start\": 13, \"token_end\": 13, \"end\": 82, \"type\": \"span\", \"label\": \"GGP\"}\n",
    ", {\"text\": \"Id2\", \"start\": 100, \"token_start\": 17, \"token_end\": 17, \"end\": 103, \"type\": \"span\", \"label\": \"GGP\"}\n",
    ", {\"text\": \"Id3\", \"start\": 108, \"token_start\": 19, \"token_end\": 19, \"end\": 111, \"type\": \"span\", \"label\": \"GGP\"}\n",
    "]\n",
    ", \"meta\": {\"source\": \"BioNLP 2011 Genia Shared Task, PMC-1134658-00-TIAB.txt\"}, \n",
    "\n",
    "\"_input_hash\": -13216227, \n",
    "\"_task_hash\": -1944660624,\n",
    "\n",
    "\"tokens\": [{\"text\": \"Furthermore\", \"start\": 0, \"end\": 11, \"id\": 0, \"ws\": false, \"disabled\": true}\n",
    ", {\"text\": \",\", \"start\": 11, \"end\": 12, \"id\": 1, \"ws\": true, \"disabled\": true}\n",
    ", {\"text\": \"Smad\", \"start\": 13, \"end\": 17, \"id\": 2, \"ws\": false, \"disabled\": false}\n",
    ", {\"text\": \"-\", \"start\": 17, \"end\": 18, \"id\": 3, \"ws\": false, \"disabled\": true}\n",
    ", {\"text\": \"phosphorylation\", \"start\": 18, \"end\": 33, \"id\": 4, \"ws\": true, \"disabled\": true}\n",
    ", {\"text\": \"was\", \"start\": 34, \"end\": 37, \"id\": 5, \"ws\": true, \"disabled\": true}\n",
    ", {\"text\": \"followed\", \"start\": 38, \"end\": 46, \"id\": 6, \"ws\": true, \"disabled\": true}\n",
    ", {\"text\": \"by\", \"start\": 47, \"end\": 49, \"id\": 7, \"ws\": true, \"disabled\": true}\n",
    ", {\"text\": \"upregulation\", \"start\": 50, \"end\": 62, \"id\": 8, \"ws\": true, \"disabled\": true}\n",
    ", {\"text\": \"of\", \"start\": 63, \"end\": 65, \"id\": 9, \"ws\": true, \"disabled\": true}\n",
    ", {\"text\": \"Id1\", \"start\": 66, \"end\": 69, \"id\": 10, \"ws\": true, \"disabled\": false}\n",
    ", {\"text\": \"mRNA\", \"start\": 70, \"end\": 74, \"id\": 11, \"ws\": true, \"disabled\": true}\n",
    ", {\"text\": \"and\", \"start\": 75, \"end\": 78, \"id\": 12, \"ws\": true, \"disabled\": true}\n",
    ", {\"text\": \"Id1\", \"start\": 79, \"end\": 82, \"id\": 13, \"ws\": true, \"disabled\": false}\n",
    ", {\"text\": \"protein\", \"start\": 83, \"end\": 90, \"id\": 14, \"ws\": false, \"disabled\": true}\n",
    ", {\"text\": \",\", \"start\": 90, \"end\": 91, \"id\": 15, \"ws\": true, \"disabled\": true}\n",
    ", {\"text\": \"whereas\", \"start\": 92, \"end\": 99, \"id\": 16, \"ws\": true, \"disabled\": true}\n",
    ", {\"text\": \"Id2\", \"start\": 100, \"end\": 103, \"id\": 17, \"ws\": true, \"disabled\": false}\n",
    ", {\"text\": \"and\", \"start\": 104, \"end\": 107, \"id\": 18, \"ws\": true, \"disabled\": true}\n",
    ", {\"text\": \"Id3\", \"start\": 108, \"end\": 111, \"id\": 19, \"ws\": true, \"disabled\": false}\n",
    ", {\"text\": \"expression\", \"start\": 112, \"end\": 122, \"id\": 20, \"ws\": true, \"disabled\": true}\n",
    ", {\"text\": \"was\", \"start\": 123, \"end\": 126, \"id\": 21, \"ws\": true, \"disabled\": true}\n",
    ", {\"text\": \"not\", \"start\": 127, \"end\": 130, \"id\": 22, \"ws\": true, \"disabled\": true}\n",
    ", {\"text\": \"affected\", \"start\": 131, \"end\": 139, \"id\": 23, \"ws\": false, \"disabled\": true}\n",
    ", {\"text\": \".\", \"start\": 139, \"end\": 140, \"id\": 24, \"ws\": false, \"disabled\": true}\n",
    "], \n",
    "\"_session_id\": null, \n",
    "\"_view_id\": \"relations\", \n",
    "\n",
    "\n",
    "\"relations\": [\n",
    "\n",
    "{\t\"head\": 2, \n",
    "\t\"child\": 10, \n",
    "\t\"head_span\": {\"start\": 13, \"end\": 17, \"token_start\": 2, \"token_end\": 2, \"label\": \"GGP\"}, \n",
    "\t\"child_span\": {\"start\": 66, \"end\": 69, \"token_start\": 10, \"token_end\": 10, \"label\": \"GGP\"}, \n",
    "\t\"color\": \"#ffd882\", \n",
    "\t\"label\": \"Pos-Reg\"\n",
    "\t}\n",
    "\n",
    ", {\"head\": 2, \"child\": 13, \"head_span\": {\"start\": 13, \"end\": 17, \"token_start\": 2, \"token_end\": 2, \"label\": \"GGP\"}\n",
    ", \"child_span\": {\"start\": 79, \"end\": 82, \"token_start\": 13, \"token_end\": 13, \"label\": \"GGP\"}\n",
    ", \"color\": \"#ffd882\", \"label\": \"Pos-Reg\"}\n",
    "\n",
    ", {\"head\": 2, \"child\": 17, \"head_span\": {\"start\": 13, \"end\": 17, \"token_start\": 2, \"token_end\": 2, \"label\": \"GGP\"}\n",
    ", \"child_span\": {\"start\": 100, \"end\": 103, \"token_start\": 17, \"token_end\": 17, \"label\": \"GGP\"}\n",
    ", \"color\": \"#ffdaf9\", \"label\": \"No-rel\"}\n",
    "\n",
    ", {\"head\": 2, \"child\": 19, \"head_span\": {\"start\": 13, \"end\": 17, \"token_start\": 2, \"token_end\": 2, \"label\": \"GGP\"}\n",
    ", \"child_span\": {\"start\": 108, \"end\": 111, \"token_start\": 19, \"token_end\": 19, \"label\": \"GGP\"}\n",
    ", \"color\": \"#ffdaf9\", \"label\": \"No-rel\"}\n",
    "], \n",
    "\n",
    "\n",
    "\"answer\": \"accept\"}]"
   ]
  },
  {
   "cell_type": "code",
   "execution_count": 22,
   "metadata": {},
   "outputs": [
    {
     "output_type": "execute_result",
     "data": {
      "text/plain": [
       "                                                text  \\\n",
       "0  Furthermore, Smad-phosphorylation was followed...   \n",
       "\n",
       "                                               spans  \\\n",
       "0  [{'text': 'Smad', 'start': 13, 'token_start': ...   \n",
       "\n",
       "                                                meta  _input_hash  _task_hash  \\\n",
       "0  {'source': 'BioNLP 2011 Genia Shared Task, PMC...    -13216227 -1944660624   \n",
       "\n",
       "                                              tokens _session_id   _view_id  \\\n",
       "0  [{'text': 'Furthermore', 'start': 0, 'end': 11...        test  relations   \n",
       "\n",
       "                                           relations  answer  \n",
       "0  [{'head': 2, 'child': 10, 'head_span': {'start...  accept  "
      ],
      "text/html": "<div>\n<style scoped>\n    .dataframe tbody tr th:only-of-type {\n        vertical-align: middle;\n    }\n\n    .dataframe tbody tr th {\n        vertical-align: top;\n    }\n\n    .dataframe thead th {\n        text-align: right;\n    }\n</style>\n<table border=\"1\" class=\"dataframe\">\n  <thead>\n    <tr style=\"text-align: right;\">\n      <th></th>\n      <th>text</th>\n      <th>spans</th>\n      <th>meta</th>\n      <th>_input_hash</th>\n      <th>_task_hash</th>\n      <th>tokens</th>\n      <th>_session_id</th>\n      <th>_view_id</th>\n      <th>relations</th>\n      <th>answer</th>\n    </tr>\n  </thead>\n  <tbody>\n    <tr>\n      <th>0</th>\n      <td>Furthermore, Smad-phosphorylation was followed...</td>\n      <td>[{'text': 'Smad', 'start': 13, 'token_start': ...</td>\n      <td>{'source': 'BioNLP 2011 Genia Shared Task, PMC...</td>\n      <td>-13216227</td>\n      <td>-1944660624</td>\n      <td>[{'text': 'Furthermore', 'start': 0, 'end': 11...</td>\n      <td>test</td>\n      <td>relations</td>\n      <td>[{'head': 2, 'child': 10, 'head_span': {'start...</td>\n      <td>accept</td>\n    </tr>\n  </tbody>\n</table>\n</div>"
     },
     "metadata": {},
     "execution_count": 22
    }
   ],
   "source": [
    "df = pd.DataFrame(example_dict)\n",
    "df"
   ]
  }
 ]
}