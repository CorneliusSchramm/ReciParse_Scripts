{
 "cells": [
  {
   "cell_type": "code",
   "execution_count": 6,
   "metadata": {},
   "outputs": [],
   "source": [
    "import spacy \n",
    "import pandas\n",
    "import itertools as it\n",
    "import json"
   ]
  },
  {
   "cell_type": "code",
   "execution_count": 8,
   "metadata": {
    "scrolled": false
   },
   "outputs": [
    {
     "name": "stdout",
     "output_type": "stream",
     "text": [
      "<class 'spacy.lang.en.English'>\n"
     ]
    }
   ],
   "source": [
    "nlp = spacy.load(\"en_core_web_sm\")\n",
    "print(type(nlp)) #nlp is instance of Language class"
   ]
  },
  {
   "cell_type": "markdown",
   "metadata": {},
   "source": [
    "## Callable Objects\n",
    "* Language is a callable class (done by using magic methode \"__call__\")\n",
    "* allows instances of your class to behave as if they were functions \n",
    "* x() is the same as x.__call__()\n",
    "* can be particularly useful in classes with instances that often need to change state\n"
   ]
  },
  {
   "cell_type": "markdown",
   "metadata": {},
   "source": [
    "#      "
   ]
  },
  {
   "cell_type": "code",
   "execution_count": 36,
   "metadata": {},
   "outputs": [
    {
     "data": {
      "text/plain": [
       "[('tagger', <spacy.pipeline.pipes.Tagger at 0x117db2310>),\n",
       " ('parser', <spacy.pipeline.pipes.DependencyParser at 0x118e82460>),\n",
       " ('ner', <spacy.pipeline.pipes.EntityRecognizer at 0x118e82580>)]"
      ]
     },
     "execution_count": 36,
     "metadata": {},
     "output_type": "execute_result"
    }
   ],
   "source": [
    "nlp.pipeline #When you call nlp on a text, spaCy first tokenizes the text to produce a Doc object. \n",
    "#The Doc is then processed in several different steps"
   ]
  },
  {
   "cell_type": "code",
   "execution_count": 42,
   "metadata": {},
   "outputs": [
    {
     "name": "stdout",
     "output_type": "stream",
     "text": [
      "<class 'spacy.tokens.doc.Doc'>\n"
     ]
    }
   ],
   "source": [
    "doc = nlp(\"hallo, das ist ein Test, um zu sehen wie SpaCy funktioniert. Deswegen werde ich hier einiges jetzt ausprobieren!\")\n",
    "print(type(doc)) #sequence of tokens"
   ]
  },
  {
   "cell_type": "code",
   "execution_count": 43,
   "metadata": {},
   "outputs": [
    {
     "data": {
      "text/plain": [
       "(hallo, das, ein Test, zu sehen wie, funktioniert, Deswegen)"
      ]
     },
     "execution_count": 43,
     "metadata": {},
     "output_type": "execute_result"
    }
   ],
   "source": [
    "doc.ents"
   ]
  },
  {
   "cell_type": "code",
   "execution_count": null,
   "metadata": {},
   "outputs": [],
   "source": []
  },
  {
   "cell_type": "code",
   "execution_count": null,
   "metadata": {},
   "outputs": [],
   "source": []
  },
  {
   "cell_type": "code",
   "execution_count": 25,
   "metadata": {},
   "outputs": [],
   "source": [
    "class test: \n",
    "    \n",
    "    def __init__(self):\n",
    "        print(\"Class test was initialized\")\n",
    "        self.gucci = 1111\n",
    "        \n",
    "    def __call__(self, text): #allows instances of your class to behave as if they were functions\n",
    "        for el in text.split():\n",
    "            print(el)\n",
    "            print(\"---\")\n",
    "        return self.gucci\n",
    "    \n",
    "\n",
    "            \n",
    "        "
   ]
  },
  {
   "cell_type": "code",
   "execution_count": 26,
   "metadata": {},
   "outputs": [
    {
     "name": "stdout",
     "output_type": "stream",
     "text": [
      "Class test was initialized\n",
      "1111\n",
      "Hallo,\n",
      "---\n",
      "ich\n",
      "---\n",
      "möchte\n",
      "---\n",
      "sehen\n",
      "---\n",
      "wie\n",
      "---\n",
      "das\n",
      "---\n",
      "funktioniert\n",
      "---\n",
      "1111\n"
     ]
    }
   ],
   "source": [
    "a = test()\n",
    "print(a.gucci)\n",
    "\n",
    "x = a(\"Hallo, ich möchte sehen wie das funktioniert\")\n",
    "print(x)"
   ]
  },
  {
   "cell_type": "code",
   "execution_count": 27,
   "metadata": {
    "scrolled": true
   },
   "outputs": [
    {
     "name": "stdout",
     "output_type": "stream",
     "text": [
      "<class 'builtin_function_or_method'>\n",
      "mmm\n"
     ]
    }
   ],
   "source": [
    "h = print\n",
    "print(type(h))\n",
    "x = h(\"mmm\")"
   ]
  }
 ],
 "metadata": {
  "kernelspec": {
   "display_name": "Python 3",
   "language": "python",
   "name": "python3"
  },
  "language_info": {
   "codemirror_mode": {
    "name": "ipython",
    "version": 3
   },
   "file_extension": ".py",
   "mimetype": "text/x-python",
   "name": "python",
   "nbconvert_exporter": "python",
   "pygments_lexer": "ipython3",
   "version": "3.8.3"
  }
 },
 "nbformat": 4,
 "nbformat_minor": 4
}
