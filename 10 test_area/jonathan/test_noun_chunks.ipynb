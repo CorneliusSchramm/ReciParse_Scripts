{
 "metadata": {
  "language_info": {
   "codemirror_mode": {
    "name": "ipython",
    "version": 3
   },
   "file_extension": ".py",
   "mimetype": "text/x-python",
   "name": "python",
   "nbconvert_exporter": "python",
   "pygments_lexer": "ipython3",
   "version": "3.8.3-final"
  },
  "orig_nbformat": 2,
  "kernelspec": {
   "name": "python3",
   "display_name": "Python 3"
  }
 },
 "nbformat": 4,
 "nbformat_minor": 2,
 "cells": [
  {
   "source": [
    "## Test Noun Chunks\n",
    "####  2. November 2020\n",
    "### Input\n",
    "nothing\n",
    "### Output\n",
    "noun chunks of doc"
   ],
   "cell_type": "markdown",
   "metadata": {}
  },
  {
   "cell_type": "code",
   "execution_count": 3,
   "metadata": {},
   "outputs": [],
   "source": [
    "# imports\n",
    "import spacy\n",
    "from spacy import displacy\n",
    "\n",
    "# load german model\n",
    "nlp = spacy.load(\"de_core_news_lg\")"
   ]
  },
  {
   "cell_type": "code",
   "execution_count": 4,
   "metadata": {},
   "outputs": [],
   "source": [
    "# create doc1\n",
    "doc1 = nlp(\"Pfeffer-, Piment- und Korianderkörner im Mörser grob zerkleinern. Die Zimtstange etwas zerbröseln. Alles in ein Gewürzsäckchen aus feiner Gaze geben und zubinden. (Geht auch mit einem Einmal-Teefilter.) Den Wein im Fonduetopf zusammen mit dem Zucker zum Kochen bringen und das zugebundene Gewürzbeutelchen hineinhängen. Die 3 Salzsorten mischen und jedem in einem kleinen Schälchen etwas zum Würzen des gegarten Fleisches hinstellen. Die Fleischscheiben auf Fonduegabeln spießen, im kochenden Wein etwa 1/2 bis 1 Minute garen und mit der Salzmischung würzen.Dazu passen: Weißbrot und verschiedene Würzsaucen, wie Currysauce, Cumberlandsauce, Salsa.... Der Fantasie sind da keine Grenzen gesetzt. Wir essen auch noch gerne einen grünen Salat dazu.\")\n",
    "\n",
    "# print all noun chunks\n",
    "for chunk in doc1.noun_chunks:\n",
    "    print(chunk.text)"
   ]
  },
  {
   "cell_type": "code",
   "execution_count": 7,
   "metadata": {},
   "outputs": [
    {
     "output_type": "stream",
     "name": "stdout",
     "text": [
      "die restlichen 20g Zucker\n"
     ]
    }
   ],
   "source": [
    "# create doc2\n",
    "doc2 = nlp(\"die restlichen 20g Zucker einrieseln lassen\")\n",
    "for chunk in doc2.noun_chunks:\n",
    "    print(chunk.text)"
   ]
  },
  {
   "cell_type": "code",
   "execution_count": 8,
   "metadata": {},
   "outputs": [
    {
     "output_type": "stream",
     "name": "stdout",
     "text": [
      "Das der DET ART nk Xxx True True\nWasser Wasser NOUN NN oa Xxxxx True False\nzum zum ADP APPRART mo xxx True True\nKochen Kochen NOUN NN nk Xxxxx True False\nbringen bringen VERB VVINF ROOT xxxx True False\n. . PUNCT $. punct . False False\n"
     ]
    }
   ],
   "source": [
    "doc3 = nlp(\"Das Wasser zum Kochen bringen.\")\n",
    "for token in doc3:\n",
    "    print(token.text, token.lemma_, token.pos_, token.tag_, token.dep_,\n",
    "            token.shape_, token.is_alpha, token.is_stop)"
   ]
  }
 ]
}