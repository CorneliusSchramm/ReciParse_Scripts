{
 "metadata": {
  "language_info": {
   "codemirror_mode": {
    "name": "ipython",
    "version": 3
   },
   "file_extension": ".py",
   "mimetype": "text/x-python",
   "name": "python",
   "nbconvert_exporter": "python",
   "pygments_lexer": "ipython3",
   "version": "3.8.3-final"
  },
  "orig_nbformat": 2,
  "kernelspec": {
   "name": "python3",
   "display_name": "Python 3"
  }
 },
 "nbformat": 4,
 "nbformat_minor": 2,
 "cells": [
  {
   "source": [
    "## Output JSON NE and Relations to Input JSON for NER Training\n",
    "####  17. November 2020\n",
    "### Input\n",
    "JSON from annotation with NE and relations\n",
    "### Output\n",
    "JSON for input NER Training"
   ],
   "cell_type": "markdown",
   "metadata": {}
  },
  {
   "cell_type": "code",
   "execution_count": 9,
   "metadata": {},
   "outputs": [],
   "source": [
    "import pandas as pd\n",
    "import numpy as np\n",
    "import json"
   ]
  },
  {
   "cell_type": "code",
   "execution_count": 49,
   "metadata": {},
   "outputs": [],
   "source": [
    "# Coco Path\n",
    "# path = r\"C:\\Users\\CocoL\\Universität St.Gallen\\STUD-Capstoneproject Tell 6 - General\\02-Coding\"\n",
    "# Jona Path\n",
    "# path = r\"/Users/jhoff/Universität St.Gallen/STUD-Capstoneproject Tell 6 - Dokumente/General/02-Coding\"\n",
    "# Giovanni Path\n",
    "# path = r\"/Users/jonathanebner/Universität St.Gallen/STUD-Capstoneproject Tell 6 - General/02-Coding\"\n",
    "# Leo Path\n",
    "# path = r\"/Users/Leonidas/Universität St.Gallen/STUD-Capstoneproject Tell 6 - General/02-Coding\"\n",
    "\n",
    "path = r\"/Users/jonathanebner/Desktop/ReciParse_Github/ReciParse_Scripts/test_area/jonathan/JSON_TO_JSONNER\""
   ]
  },
  {
   "cell_type": "code",
   "execution_count": 50,
   "metadata": {},
   "outputs": [],
   "source": [
    "# load input JSON into dict data_input\n",
    "with open(path + '/input_json.jsonl') as f:\n",
    "  data_input = json.load(f)"
   ]
  },
  {
   "cell_type": "code",
   "execution_count": 51,
   "metadata": {
    "tags": []
   },
   "outputs": [],
   "source": [
    "# load output JSON into dict data_input\n",
    "with open(path + '/output_json_2.jsonl') as g:\n",
    "  data_output = json.load(g)"
   ]
  },
  {
   "source": [
    "### Inhalt Input:\n",
    "\"text\" <br>\n",
    "\"_input_hash\" <br>\n",
    "\"task_hash\" <br>\n",
    "\"spans\" <br>\n",
    "\"tokens\" <br>\n",
    "\"_session_id\" <br>\n",
    "\"_view_id\" <br> \n",
    "\"relations\" <br>\n",
    "\"answer\" <br>"
   ],
   "cell_type": "markdown",
   "metadata": {}
  },
  {
   "source": [
    "### Inhalt Output:\n",
    "\"text\" <br>\n",
    "\"_input_hash\" <br>\n",
    "\"_task_hash\" <br>\n",
    "\"tokens\" <br>\n",
    "\"_session_id\" <br>\n",
    "\"_view_id\" <br>\n",
    "\"spans\" <br>\n",
    "\"answer\" "
   ],
   "cell_type": "markdown",
   "metadata": {}
  },
  {
   "cell_type": "code",
   "execution_count": 52,
   "metadata": {},
   "outputs": [],
   "source": [
    "output_keys = [\"text\", \"_input_hash\", \"_task_hash\", \"tokens\", \"_session_id\", \"_view_id\", \"spans\", \"answer\"]"
   ]
  },
  {
   "cell_type": "code",
   "execution_count": 53,
   "metadata": {},
   "outputs": [],
   "source": [
    "# create output JSON from input JSON\n",
    "output = {}\n",
    "for key in output_keys:\n",
    "    output[key] = data_input[key]"
   ]
  },
  {
   "cell_type": "code",
   "execution_count": 57,
   "metadata": {},
   "outputs": [],
   "source": [
    "# convert dict output into string\n",
    "output_string = json.dumps(output)"
   ]
  },
  {
   "cell_type": "code",
   "execution_count": 58,
   "metadata": {},
   "outputs": [],
   "source": [
    "# write JSON string into JSON file\n",
    "with open(path + \"/test.jsonl\",\"w\") as f:\n",
    "  f.write(output_string)"
   ]
  },
  {
   "cell_type": "code",
   "execution_count": null,
   "metadata": {},
   "outputs": [],
   "source": []
  },
  {
   "cell_type": "code",
   "execution_count": null,
   "metadata": {},
   "outputs": [],
   "source": []
  }
 ]
}