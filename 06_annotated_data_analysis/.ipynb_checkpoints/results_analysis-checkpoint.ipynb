{
 "cells": [
  {
   "cell_type": "code",
   "execution_count": 7,
   "metadata": {},
   "outputs": [
    {
     "name": "stdout",
     "output_type": "stream",
     "text": [
      "custom functions OK\n"
     ]
    }
   ],
   "source": [
    "import spacy\n",
    "import pandas\n",
    "\n",
    "import random\n",
    "import typer\n",
    "from pathlib import Path\n",
    "from spacy.tokens import DocBin, Doc\n",
    "from spacy.training.example import Example\n",
    "\n",
    "# make the factory work\n",
    "from rel_pipe import make_relation_extractor, score_relations\n",
    "\n",
    "# make the config work\n",
    "from rel_model import create_relation_model, create_classification_layer, create_instances, create_tensors\n",
    "\n",
    "import custom_functions"
   ]
  },
  {
   "cell_type": "code",
   "execution_count": 30,
   "metadata": {},
   "outputs": [],
   "source": [
    "ner = spacy.load(\"/Users/leonidas/OneDrive - Universität St.Gallen/General/02-Coding/03-Models/NER trained on nightly/ner-cb1-159-15-12\")\n",
    "rel = spacy.load(\"/Users/leonidas/OneDrive - Universität St.Gallen/General/02-Coding/04-performance/rel-trf-01_04-coco/training/model-best\")"
   ]
  },
  {
   "cell_type": "code",
   "execution_count": 39,
   "metadata": {},
   "outputs": [],
   "source": [
    "doc1 = \"Die weichen Eier kochen.\"\n",
    "doc2 = \"Die Würste anbraten\"\n",
    "docs = [doc1,doc2]"
   ]
  },
  {
   "cell_type": "code",
   "execution_count": 37,
   "metadata": {},
   "outputs": [
    {
     "name": "stdout",
     "output_type": "stream",
     "text": [
      "\u001b[38;5;4mℹ Detected 1 total instances.\u001b[0m\n"
     ]
    }
   ],
   "source": [
    "pred = ner(doc)\n",
    "for name, proc in rel.pipeline:\n",
    "    pred = proc(pred)"
   ]
  },
  {
   "cell_type": "code",
   "execution_count": 38,
   "metadata": {},
   "outputs": [
    {
     "data": {
      "text/plain": [
       "(weichen Eier, kochen)"
      ]
     },
     "execution_count": 38,
     "metadata": {},
     "output_type": "execute_result"
    }
   ],
   "source": [
    "pred.ents"
   ]
  },
  {
   "cell_type": "code",
   "execution_count": 35,
   "metadata": {},
   "outputs": [
    {
     "data": {
      "text/plain": [
       "{(2, 1): {'Arg0Z': 0.92616594,\n",
       "  'Arg0Tool': 0.00048617643,\n",
       "  'Arg1Z': 1.2861152e-07,\n",
       "  'Arg1Tool': 3.2280102e-06,\n",
       "  'ArgAttr': 8.3310944e-08,\n",
       "  'ArgTemp': 0.00018765136,\n",
       "  'ArgDauer': 4.0179548e-05,\n",
       "  'ArgZeitp': 1.2566496e-05,\n",
       "  'ArgPräp': 7.212849e-07}}"
      ]
     },
     "execution_count": 35,
     "metadata": {},
     "output_type": "execute_result"
    }
   ],
   "source": [
    "pred._.rel"
   ]
  },
  {
   "cell_type": "code",
   "execution_count": null,
   "metadata": {},
   "outputs": [],
   "source": []
  },
  {
   "cell_type": "code",
   "execution_count": null,
   "metadata": {},
   "outputs": [],
   "source": []
  }
 ],
 "metadata": {
  "kernelspec": {
   "display_name": "Python 3",
   "language": "python",
   "name": "python3"
  },
  "language_info": {
   "codemirror_mode": {
    "name": "ipython",
    "version": 3
   },
   "file_extension": ".py",
   "mimetype": "text/x-python",
   "name": "python",
   "nbconvert_exporter": "python",
   "pygments_lexer": "ipython3",
   "version": "3.8.5"
  }
 },
 "nbformat": 4,
 "nbformat_minor": 4
}
