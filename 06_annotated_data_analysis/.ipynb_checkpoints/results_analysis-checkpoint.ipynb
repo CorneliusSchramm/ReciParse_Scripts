{
 "cells": [
  {
   "cell_type": "code",
   "execution_count": 1,
   "metadata": {},
   "outputs": [
    {
     "name": "stdout",
     "output_type": "stream",
     "text": [
      "custom functions OK\n"
     ]
    }
   ],
   "source": [
    "import spacy\n",
    "import pandas\n",
    "import json\n",
    "\n",
    "import random\n",
    "import typer\n",
    "from pathlib import Path\n",
    "from spacy.tokens import DocBin, Doc\n",
    "from spacy.training.example import Example\n",
    "\n",
    "# make the factory work\n",
    "from rel_pipe import make_relation_extractor, score_relations\n",
    "\n",
    "# make the config work\n",
    "from rel_model import create_relation_model, create_classification_layer, create_instances, create_tensors\n",
    "\n",
    "import custom_functions"
   ]
  },
  {
   "cell_type": "code",
   "execution_count": 2,
   "metadata": {},
   "outputs": [],
   "source": [
    "# --> Alternative a. Loading annotated Data\n",
    "input_path = \"/Users/leonidas/ReciParse_Scripts/06_annotated_data_analysis/stats_data_test_annotated.jsonl\"\n",
    "with open(input_path, encoding=\"utf8\") as json_file:\n",
    "    anno = [json.loads(line) for line in json_file]"
   ]
  },
  {
   "cell_type": "code",
   "execution_count": 3,
   "metadata": {},
   "outputs": [
    {
     "data": {
      "text/plain": [
       "dict_keys(['text', '_input_hash', '_task_hash', 'spans', 'tokens', '_session_id', '_view_id', 'relations', 'answer'])"
      ]
     },
     "execution_count": 3,
     "metadata": {},
     "output_type": "execute_result"
    }
   ],
   "source": [
    "# a. List with recipe instructions taken from annotations\n",
    "docs = [ doc[\"text\"] for doc in anno ]\n",
    "anno[0].keys()"
   ]
  },
  {
   "cell_type": "code",
   "execution_count": 51,
   "metadata": {},
   "outputs": [
    {
     "ename": "NameError",
     "evalue": "name 'test_data' is not defined",
     "output_type": "error",
     "traceback": [
      "\u001b[0;31m---------------------------------------------------------------------------\u001b[0m",
      "\u001b[0;31mNameError\u001b[0m                                 Traceback (most recent call last)",
      "\u001b[0;32m<ipython-input-51-0c3e8c057108>\u001b[0m in \u001b[0;36m<module>\u001b[0;34m\u001b[0m\n\u001b[0;32m----> 1\u001b[0;31m \u001b[0mdoc_bin\u001b[0m \u001b[0;34m=\u001b[0m \u001b[0mDocBin\u001b[0m\u001b[0;34m(\u001b[0m\u001b[0mstore_user_data\u001b[0m\u001b[0;34m=\u001b[0m\u001b[0;32mTrue\u001b[0m\u001b[0;34m)\u001b[0m\u001b[0;34m.\u001b[0m\u001b[0mfrom_disk\u001b[0m\u001b[0;34m(\u001b[0m\u001b[0mtest_data\u001b[0m\u001b[0;34m)\u001b[0m\u001b[0;34m\u001b[0m\u001b[0;34m\u001b[0m\u001b[0m\n\u001b[0m\u001b[1;32m      2\u001b[0m \u001b[0mannos\u001b[0m \u001b[0;34m=\u001b[0m \u001b[0mdoc_bin\u001b[0m\u001b[0;34m.\u001b[0m\u001b[0mget_docs\u001b[0m\u001b[0;34m(\u001b[0m\u001b[0mnlp\u001b[0m\u001b[0;34m.\u001b[0m\u001b[0mvocab\u001b[0m\u001b[0;34m)\u001b[0m\u001b[0;34m\u001b[0m\u001b[0;34m\u001b[0m\u001b[0m\n",
      "\u001b[0;31mNameError\u001b[0m: name 'test_data' is not defined"
     ]
    }
   ],
   "source": [
    "# --> Alternative b. (!) Load test data and name annotated data \"golds\"\n",
    "test_data = \"\"\n",
    "doc_bin = DocBin(store_user_data=True).from_disk(test_data)\n",
    "golds = doc_bin.get_docs(nlp.vocab)"
   ]
  },
  {
   "cell_type": "code",
   "execution_count": null,
   "metadata": {},
   "outputs": [],
   "source": []
  },
  {
   "cell_type": "code",
   "execution_count": 4,
   "metadata": {},
   "outputs": [],
   "source": [
    "# --> Loading Models\n",
    "ner = spacy.load(\"/Users/leonidas/OneDrive - Universität St.Gallen/General/02-Coding/03-Models/NER trained on nightly/ner-cb1-159-15-12\")\n",
    "rel = spacy.load(\"/Users/leonidas/OneDrive - Universität St.Gallen/General/02-Coding/04-performance/rel-trf-01_04-coco/training/model-best\")"
   ]
  },
  {
   "cell_type": "code",
   "execution_count": 5,
   "metadata": {},
   "outputs": [
    {
     "name": "stdout",
     "output_type": "stream",
     "text": [
      "\u001b[38;5;4mℹ Detected 1 total instances.\u001b[0m\n",
      "\u001b[38;5;4mℹ Detected 1 total instances.\u001b[0m\n"
     ]
    }
   ],
   "source": [
    "# --> Apply predictions\n",
    "# Apply NE predictions to all recipes (=docs list items)\n",
    "preds = [ ner(doc) for doc in docs ]\n",
    "# Apply TRF and REL predictions to all recipe-docs (=pred list items) sequentially\n",
    "for name, proc in rel.pipeline:\n",
    "    preds = list(map(proc, preds))"
   ]
  },
  {
   "cell_type": "code",
   "execution_count": 6,
   "metadata": {},
   "outputs": [
    {
     "name": "stdout",
     "output_type": "stream",
     "text": [
      "(weichen Eier, kochen)\n",
      "{(3, 1): {'Arg0Z': 0.9660588, 'Arg0Tool': 0.00023567607, 'Arg1Z': 1.5515877e-07, 'Arg1Tool': 4.554615e-06, 'ArgAttr': 7.6507305e-08, 'ArgTemp': 0.00038245105, 'ArgDauer': 4.1598723e-05, 'ArgZeitp': 2.9924007e-05, 'ArgPräp': 2.6526047e-07}}\n"
     ]
    }
   ],
   "source": [
    "pred = preds[0]\n",
    "print(pred.ents)\n",
    "print(pred._.rel)"
   ]
  },
  {
   "cell_type": "code",
   "execution_count": 7,
   "metadata": {},
   "outputs": [],
   "source": [
    "# Nur weil wir die daten nicht im richtigen format haben\n",
    "golds = preds.copy()"
   ]
  },
  {
   "cell_type": "code",
   "execution_count": 8,
   "metadata": {},
   "outputs": [
    {
     "name": "stdout",
     "output_type": "stream",
     "text": [
      "\u001b[38;5;4mℹ Detected 1 total instances.\u001b[0m\n",
      "(weichen Eier, kochen)\n",
      "(weichen Eier, kochen)\n",
      "{(3, 1): {'Arg0Z': 0.9660588, 'Arg0Tool': 0.00023567607, 'Arg1Z': 1.5515877e-07, 'Arg1Tool': 4.554615e-06, 'ArgAttr': 7.6507305e-08, 'ArgTemp': 0.00038245105, 'ArgDauer': 4.1598723e-05, 'ArgZeitp': 2.9924007e-05, 'ArgPräp': 2.6526047e-07}}\n",
      "{(3, 1): {'Arg0Z': 0.9660588, 'Arg0Tool': 0.00023567607, 'Arg1Z': 1.5515877e-07, 'Arg1Tool': 4.554615e-06, 'ArgAttr': 7.6507305e-08, 'ArgTemp': 0.00038245105, 'ArgDauer': 4.1598723e-05, 'ArgZeitp': 2.9924007e-05, 'ArgPräp': 2.6526047e-07}}\n",
      "\u001b[38;5;4mℹ Detected 1 total instances.\u001b[0m\n",
      "(Würste, anbraten)\n",
      "(Würste, anbraten)\n",
      "{(2, 1): {'Arg0Z': 0.97967404, 'Arg0Tool': 0.00020522613, 'Arg1Z': 1.32585965e-05, 'Arg1Tool': 3.0015774e-06, 'ArgAttr': 7.2193046e-08, 'ArgTemp': 9.2490336e-05, 'ArgDauer': 2.1178766e-05, 'ArgZeitp': 1.1901096e-05, 'ArgPräp': 1.4318662e-05}}\n",
      "{(2, 1): {'Arg0Z': 0.97967404, 'Arg0Tool': 0.00020522613, 'Arg1Z': 1.32585965e-05, 'Arg1Tool': 3.0015774e-06, 'ArgAttr': 7.2193046e-08, 'ArgTemp': 9.2490336e-05, 'ArgDauer': 2.1178766e-05, 'ArgZeitp': 1.1901096e-05, 'ArgPräp': 1.4318662e-05}}\n"
     ]
    }
   ],
   "source": [
    "examples = []\n",
    "for gold in golds:\n",
    "    pred = ner(gold.text)\n",
    "    for name, proc in rel.pipeline:\n",
    "        pred = proc(pred)\n",
    "    print(pred.ents)\n",
    "    print(gold.ents)\n",
    "    print(pred._.rel)\n",
    "    print(gold._.rel)"
   ]
  },
  {
   "cell_type": "code",
   "execution_count": 9,
   "metadata": {},
   "outputs": [
    {
     "data": {
      "text/plain": [
       "{'doc_annotation': {'cats': {}, 'entities': ['O', 'U-Z', 'U-V', 'O'], 'links': {}}, 'token_annotation': {'ORTH': ['Die', 'Würste', 'anbraten', '.'], 'SPACY': [True, True, False, False], 'TAG': ['', '', '', ''], 'LEMMA': ['', '', '', ''], 'POS': ['', '', '', ''], 'MORPH': ['', '', '', ''], 'HEAD': [0, 1, 2, 3], 'DEP': ['', '', '', ''], 'SENT_START': [1, 0, 0, 0]}}"
      ]
     },
     "execution_count": 9,
     "metadata": {},
     "output_type": "execute_result"
    }
   ],
   "source": [
    "Example(pred, gold)"
   ]
  },
  {
   "cell_type": "code",
   "execution_count": 11,
   "metadata": {},
   "outputs": [],
   "source": [
    "relation_extractor = rel.get_pipe(\"relation_extractor\")\n",
    "get_instances = relation_extractor.model.attrs[\"get_instances\"]"
   ]
  },
  {
   "cell_type": "code",
   "execution_count": null,
   "metadata": {},
   "outputs": [],
   "source": []
  },
  {
   "cell_type": "code",
   "execution_count": 12,
   "metadata": {},
   "outputs": [],
   "source": [
    "# --> Create Random Baseline\n",
    "rands = preds.copy()\n",
    "# Loop through instances in one recipe\n",
    "for pred in rands:\n",
    "    for (e1, e2) in get_instances(pred):\n",
    "        # Create offset tuple: (anbraten, Würste) --> (2,1)\n",
    "        offset = (e1.start, e2.start)\n",
    "        # Check whether offset is a key in relations \n",
    "        if offset not in pred._.rel:\n",
    "            # Create an empty dictionary for every insatnce\n",
    "            pred._.rel[offset] = {}\n",
    "        for label in relation_extractor.labels:\n",
    "            # Assign random probability to each label\n",
    "            pred._.rel[offset][label] = random.uniform(0, 1)"
   ]
  },
  {
   "cell_type": "code",
   "execution_count": 15,
   "metadata": {},
   "outputs": [
    {
     "data": {
      "text/plain": [
       "{'doc_annotation': {'cats': {}, 'entities': ['O', 'U-Z', 'U-V', 'O'], 'links': {}}, 'token_annotation': {'ORTH': ['Die', 'Würste', 'anbraten', '.'], 'SPACY': [True, True, False, False], 'TAG': ['', '', '', ''], 'LEMMA': ['', '', '', ''], 'POS': ['', '', '', ''], 'MORPH': ['', '', '', ''], 'HEAD': [0, 1, 2, 3], 'DEP': ['', '', '', ''], 'SENT_START': [1, 0, 0, 0]}}"
      ]
     },
     "execution_count": 15,
     "metadata": {},
     "output_type": "execute_result"
    }
   ],
   "source": [
    "Example(rands[0], gold)"
   ]
  },
  {
   "cell_type": "code",
   "execution_count": 19,
   "metadata": {
    "scrolled": true
   },
   "outputs": [
    {
     "name": "stdout",
     "output_type": "stream",
     "text": [
      "threshold 0.00 \t {'rel_micro_p': '0.00', 'rel_micro_r': '0.00', 'rel_micro_f': '0.00'}\n",
      "threshold 0.05 \t {'rel_micro_p': '0.00', 'rel_micro_r': '0.00', 'rel_micro_f': '0.00'}\n",
      "threshold 0.10 \t {'rel_micro_p': '0.00', 'rel_micro_r': '0.00', 'rel_micro_f': '0.00'}\n",
      "threshold 0.20 \t {'rel_micro_p': '0.00', 'rel_micro_r': '0.00', 'rel_micro_f': '0.00'}\n",
      "threshold 0.30 \t {'rel_micro_p': '0.00', 'rel_micro_r': '0.00', 'rel_micro_f': '0.00'}\n",
      "threshold 0.40 \t {'rel_micro_p': '0.00', 'rel_micro_r': '0.00', 'rel_micro_f': '0.00'}\n",
      "threshold 0.50 \t {'rel_micro_p': '0.00', 'rel_micro_r': '0.00', 'rel_micro_f': '0.00'}\n",
      "threshold 0.60 \t {'rel_micro_p': '0.00', 'rel_micro_r': '0.00', 'rel_micro_f': '0.00'}\n",
      "threshold 0.70 \t {'rel_micro_p': '0.00', 'rel_micro_r': '0.00', 'rel_micro_f': '0.00'}\n",
      "threshold 0.80 \t {'rel_micro_p': '0.00', 'rel_micro_r': '0.00', 'rel_micro_f': '0.00'}\n",
      "threshold 0.90 \t {'rel_micro_p': '0.00', 'rel_micro_r': '0.00', 'rel_micro_f': '0.00'}\n",
      "threshold 0.99 \t {'rel_micro_p': '0.00', 'rel_micro_r': '0.00', 'rel_micro_f': '0.00'}\n",
      "threshold 1.00 \t {'rel_micro_p': '0.00', 'rel_micro_r': '0.00', 'rel_micro_f': '0.00'}\n"
     ]
    }
   ],
   "source": [
    "def _score_and_format(examples, thresholds):\n",
    "    for threshold in thresholds:\n",
    "        r = score_relations(examples, threshold)\n",
    "        results = {k: \"{:.2f}\".format(v * 100) for k, v in r.items()}\n",
    "        print(f\"threshold {'{:.2f}'.format(threshold)} \\t {results}\")\n",
    "\n",
    "thresholds = [0.000, 0.050, 0.100, 0.2, 0.3, 0.4, 0.5, 0.6, 0.7, 0.8, 0.9, 0.99, 0.999]\n",
    "examples = [Example(pred, gold)]\n",
    "_score_and_format(examples, thresholds)"
   ]
  },
  {
   "cell_type": "code",
   "execution_count": 20,
   "metadata": {},
   "outputs": [
    {
     "data": {
      "text/plain": [
       "{(2, 1): {'Arg0Z': 0.30755617815616054,\n",
       "  'Arg0Tool': 0.06381770515319951,\n",
       "  'Arg1Z': 0.1521107819953479,\n",
       "  'Arg1Tool': 0.5125050215426092,\n",
       "  'ArgAttr': 0.20452392676777587,\n",
       "  'ArgTemp': 0.704336032347859,\n",
       "  'ArgDauer': 0.7273810761931065,\n",
       "  'ArgZeitp': 0.42888012139400944,\n",
       "  'ArgPräp': 0.2515695703962717}}"
      ]
     },
     "execution_count": 20,
     "metadata": {},
     "output_type": "execute_result"
    }
   ],
   "source": [
    "Example(pred, gold).reference._.rel"
   ]
  },
  {
   "cell_type": "code",
   "execution_count": 23,
   "metadata": {},
   "outputs": [
    {
     "data": {
      "text/plain": [
       "True"
      ]
     },
     "execution_count": 23,
     "metadata": {},
     "output_type": "execute_result"
    }
   ],
   "source": [
    "Example(pred, gold).predicted._.rel == Example(pred, gold).reference._.rel"
   ]
  },
  {
   "cell_type": "code",
   "execution_count": null,
   "metadata": {},
   "outputs": [],
   "source": []
  }
 ],
 "metadata": {
  "kernelspec": {
   "display_name": "Python 3",
   "language": "python",
   "name": "python3"
  },
  "language_info": {
   "codemirror_mode": {
    "name": "ipython",
    "version": 3
   },
   "file_extension": ".py",
   "mimetype": "text/x-python",
   "name": "python",
   "nbconvert_exporter": "python",
   "pygments_lexer": "ipython3",
   "version": "3.8.5"
  }
 },
 "nbformat": 4,
 "nbformat_minor": 4
}
