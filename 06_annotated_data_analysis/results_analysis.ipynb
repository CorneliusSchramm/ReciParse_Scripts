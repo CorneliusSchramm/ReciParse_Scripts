{
 "cells": [
  {
   "cell_type": "code",
   "execution_count": 7,
   "metadata": {},
   "outputs": [
    {
     "name": "stdout",
     "output_type": "stream",
     "text": [
      "custom functions OK\n"
     ]
    }
   ],
   "source": [
    "import spacy\n",
    "import pandas\n",
    "\n",
    "import random\n",
    "import typer\n",
    "from pathlib import Path\n",
    "from spacy.tokens import DocBin, Doc\n",
    "from spacy.training.example import Example\n",
    "\n",
    "# make the factory work\n",
    "from rel_pipe import make_relation_extractor, score_relations\n",
    "\n",
    "# make the config work\n",
    "from rel_model import create_relation_model, create_classification_layer, create_instances, create_tensors\n",
    "\n",
    "import custom_functions"
   ]
  },
  {
   "cell_type": "code",
   "execution_count": 30,
   "metadata": {},
   "outputs": [],
   "source": [
    "ner = spacy.load(\"/Users/leonidas/OneDrive - Universität St.Gallen/General/02-Coding/03-Models/NER trained on nightly/ner-cb1-159-15-12\")\n",
    "rel = spacy.load(\"/Users/leonidas/OneDrive - Universität St.Gallen/General/02-Coding/04-performance/rel-trf-01_04-coco/training/model-best\")"
   ]
  },
  {
   "cell_type": "code",
   "execution_count": 39,
   "metadata": {},
   "outputs": [],
   "source": [
    "doc1 = \"Die weichen Eier kochen.\"\n",
    "doc2 = \"Die Würste anbraten\"\n",
    "docs = [doc1,doc2]"
   ]
  },
  {
   "cell_type": "code",
   "execution_count": 37,
   "metadata": {},
   "outputs": [
    {
     "name": "stdout",
     "output_type": "stream",
     "text": [
      "\u001b[38;5;4mℹ Detected 1 total instances.\u001b[0m\n"
     ]
    }
   ],
   "source": [
    "pred = ner(doc)\n",
    "for name, proc in rel.pipeline:\n",
    "    pred = proc(pred)"
   ]
  },
  {
   "cell_type": "code",
   "execution_count": 38,
   "metadata": {},
   "outputs": [
    {
     "data": {
      "text/plain": [
       "(weichen Eier, kochen)"
      ]
     },
     "execution_count": 38,
     "metadata": {},
     "output_type": "execute_result"
    }
   ],
   "source": [
    "pred.ents"
   ]
  },
  {
   "cell_type": "code",
   "execution_count": 40,
   "metadata": {},
   "outputs": [
    {
     "data": {
      "text/plain": [
       "dict_items([((3, 1), {'Arg0Z': 0.9660588, 'Arg0Tool': 0.00023567607, 'Arg1Z': 1.5515877e-07, 'Arg1Tool': 4.554615e-06, 'ArgAttr': 7.6507305e-08, 'ArgTemp': 0.00038245105, 'ArgDauer': 4.1598723e-05, 'ArgZeitp': 2.9924007e-05, 'ArgPräp': 2.6526047e-07})])"
      ]
     },
     "execution_count": 40,
     "metadata": {},
     "output_type": "execute_result"
    }
   ],
   "source": [
    "pred._.rel.items()"
   ]
  },
  {
   "cell_type": "code",
   "execution_count": null,
   "metadata": {},
   "outputs": [],
   "source": []
  },
  {
   "cell_type": "code",
   "execution_count": null,
   "metadata": {},
   "outputs": [],
   "source": []
  }
 ],
 "metadata": {
  "kernelspec": {
   "display_name": "Python 3",
   "language": "python",
   "name": "python3"
  },
  "language_info": {
   "codemirror_mode": {
    "name": "ipython",
    "version": 3
   },
   "file_extension": ".py",
   "mimetype": "text/x-python",
   "name": "python",
   "nbconvert_exporter": "python",
   "pygments_lexer": "ipython3",
   "version": "3.8.5"
  }
 },
 "nbformat": 4,
 "nbformat_minor": 4
}
