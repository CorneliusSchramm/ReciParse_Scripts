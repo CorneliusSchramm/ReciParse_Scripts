{
 "cells": [
  {
   "cell_type": "code",
   "execution_count": 156,
   "metadata": {},
   "outputs": [],
   "source": [
    "import spacy\n",
    "import pandas\n",
    "import json\n",
    "\n",
    "import random\n",
    "import typer\n",
    "from pathlib import Path\n",
    "from spacy.tokens import DocBin, Doc\n",
    "from spacy.training.example import Example\n",
    "\n",
    "# make the factory work\n",
    "from rel_pipe import make_relation_extractor, score_relations\n",
    "\n",
    "# make the config work\n",
    "from rel_model import create_relation_model, create_classification_layer, create_instances, create_tensors\n",
    "\n",
    "import custom_functions"
   ]
  },
  {
   "cell_type": "code",
   "execution_count": 157,
   "metadata": {},
   "outputs": [],
   "source": [
    "# --> Loading Models\n",
    "ner = spacy.load(\"/Users/leonidas/OneDrive - Universität St.Gallen/General/02-Coding/03-Models/NER trained on nightly/ner-cb1-159-15-12\")\n",
    "rel = spacy.load(\"/Users/leonidas/OneDrive - Universität St.Gallen/General/02-Coding/03-Models/Relations/0-trained-on-djx/2021-09-01/training/model-best\")"
   ]
  },
  {
   "cell_type": "code",
   "execution_count": 158,
   "metadata": {},
   "outputs": [],
   "source": [
    "# --> Load test data and name annotated data \"golds\"\n",
    "test_data = \"/Users/leonidas/ReciParse_Scripts/06_annotated_data_analysis/test.spacy\"\n",
    "doc_bin = DocBin(store_user_data=True).from_disk(test_data)\n",
    "golds = doc_bin.get_docs(rel.vocab)"
   ]
  },
  {
   "cell_type": "code",
   "execution_count": 159,
   "metadata": {},
   "outputs": [
    {
     "name": "stdout",
     "output_type": "stream",
     "text": [
      "\u001b[38;5;4mℹ Detected 282 total instances.\u001b[0m\n",
      "\n",
      "Text: Knoblauch, Zitronengras, Ingwer, Peperoni, Fischsoße, 3 EL Zitronensaft und Zucker verrühren. Fleisch in ca. 1 cm große Würfel schneiden, mit der Hälfte der Marinade mischen.Glasnudeln mit kochendem Wasser übergießen, 5 Min. ziehen lassen, danach gut abtropfen. Mit Sesamöl und 1 EL Zitronensaft mischen.Möhre schälen, in feine Streifen raspeln. Gurke waschen, längs halbieren, entkernen und quer in dünne Scheiben schneiden. Gemüse mit den Glasnudeln mischen, Frühlingszwiebeln unter die restliche Marinade rühren.Fleisch auf Holzspieße stecken. Erdnussöl in einer Pfanne erhitzen, die Spieße darin ca. 7 Min. braten, dabei einmal wenden. Mit Glasnudelsalat und Frühlingszwiebelsoße anrichten.\n",
      "spans: [(0, 'Knoblauch', 'Z'), (2, 'Zitronengras', 'Z'), (4, 'Ingwer', 'Z'), (6, 'Peperoni', 'Z'), (8, 'Fischsoße', 'Z'), (10, '3 EL Zitronensaft', 'Z'), (14, 'Zucker', 'Z'), (15, 'verrühren', 'V'), (17, 'Fleisch', 'Z'), (18, 'in ca. 1 cm große Würfel', 'ATTR'), (24, 'schneiden', 'V'), (26, 'mit', 'PRÄP'), (28, 'Hälfte der Marinade', 'Z'), (31, 'mischen', 'V'), (33, 'Glasnudeln', 'Z'), (34, 'mit', 'PRÄP'), (35, 'kochendem Wasser', 'Z'), (37, 'übergießen', 'V'), (39, '5 Min.', 'DAUER'), (42, 'ziehen', 'V'), (45, 'danach', 'ZEITP'), (46, 'gut', 'ATTR'), (47, 'abtropfen', 'V'), (49, 'Mit', 'PRÄP'), (50, 'Sesamöl', 'Z'), (52, '1 EL Zitronensaft', 'Z'), (55, 'mischen', 'V'), (57, 'Möhre', 'Z'), (58, 'schälen', 'V'), (60, 'in feine Streifen', 'ATTR'), (63, 'raspeln', 'V'), (65, 'Gurke', 'Z'), (66, 'waschen', 'V'), (68, 'längs', 'ATTR'), (69, 'halbieren', 'V'), (71, 'entkernen', 'V'), (73, 'quer', 'ATTR'), (74, 'in dünne Scheiben', 'ATTR'), (77, 'schneiden', 'V'), (79, 'Gemüse', 'Z'), (80, 'mit', 'PRÄP'), (82, 'Glasnudeln', 'Z'), (83, 'mischen', 'V'), (85, 'Frühlingszwiebeln', 'Z'), (86, 'unter', 'PRÄP'), (88, 'restliche Marinade', 'Z'), (90, 'rühren', 'V'), (92, 'Fleisch', 'Z'), (93, 'auf', 'PRÄP'), (94, 'Holzspieße', 'TOOL'), (95, 'stecken', 'V'), (97, 'Erdnussöl', 'Z'), (98, 'in', 'PRÄP'), (100, 'Pfanne', 'TOOL'), (101, 'erhitzen', 'V'), (104, 'Spieße', 'Z'), (106, 'ca. 7 Min.', 'DAUER'), (110, 'braten', 'V'), (112, 'dabei', 'ZEITP'), (113, 'einmal', 'ATTR'), (114, 'wenden', 'V'), (116, 'Mit', 'PRÄP'), (117, 'Glasnudelsalat', 'Z'), (119, 'Frühlingszwiebelsoße', 'Z'), (120, 'anrichten', 'V')]\n",
      " pair: (15, 0) --> gold labels: ['Arg0Z'] --> predicted values: {'Arg0Z': 0.9990416, 'Arg0Tool': 0.00039122681, 'Arg1Z': 6.134945e-05, 'Arg1Tool': 1.9978481e-06, 'ArgAttr': 3.372229e-08, 'ArgTemp': 3.8345115e-05, 'ArgDauer': 1.8063851e-06, 'ArgZeitp': 5.0027615e-05, 'ArgPräp': 9.1257125e-06}\n",
      " pair: (15, 2) --> gold labels: ['Arg0Z'] --> predicted values: {'Arg0Z': 0.98833466, 'Arg0Tool': 0.00016326859, 'Arg1Z': 0.0003114663, 'Arg1Tool': 1.7640035e-06, 'ArgAttr': 2.775598e-08, 'ArgTemp': 2.1205647e-05, 'ArgDauer': 1.723221e-06, 'ArgZeitp': 7.454073e-05, 'ArgPräp': 1.127865e-05}\n",
      " pair: (15, 4) --> gold labels: ['Arg0Z'] --> predicted values: {'Arg0Z': 0.9875271, 'Arg0Tool': 0.00018849471, 'Arg1Z': 0.00053568016, 'Arg1Tool': 2.5472175e-06, 'ArgAttr': 2.3216346e-08, 'ArgTemp': 3.4265842e-05, 'ArgDauer': 1.5337716e-06, 'ArgZeitp': 6.4468084e-05, 'ArgPräp': 1.2747282e-05}\n",
      " pair: (15, 6) --> gold labels: ['Arg0Z'] --> predicted values: {'Arg0Z': 0.99526584, 'Arg0Tool': 0.00019499061, 'Arg1Z': 0.0003845473, 'Arg1Tool': 3.0080823e-06, 'ArgAttr': 4.7181018e-08, 'ArgTemp': 4.5926627e-05, 'ArgDauer': 2.0680457e-06, 'ArgZeitp': 8.32931e-05, 'ArgPräp': 1.0831547e-05}\n",
      " pair: (15, 8) --> gold labels: ['Arg0Z'] --> predicted values: {'Arg0Z': 0.9941063, 'Arg0Tool': 0.00021284328, 'Arg1Z': 0.00034406278, 'Arg1Tool': 3.8051596e-06, 'ArgAttr': 2.6203056e-08, 'ArgTemp': 4.7278576e-05, 'ArgDauer': 1.2768982e-06, 'ArgZeitp': 9.416313e-05, 'ArgPräp': 8.644052e-06}\n",
      " pair: (15, 10) --> gold labels: ['Arg0Z'] --> predicted values: {'Arg0Z': 0.994021, 'Arg0Tool': 0.00026961227, 'Arg1Z': 0.00038334698, 'Arg1Tool': 3.5793043e-06, 'ArgAttr': 2.7448419e-08, 'ArgTemp': 5.442772e-05, 'ArgDauer': 2.4978688e-06, 'ArgZeitp': 7.464288e-05, 'ArgPräp': 7.565688e-06}\n",
      " pair: (15, 14) --> gold labels: ['Arg0Z'] --> predicted values: {'Arg0Z': 0.98215, 'Arg0Tool': 0.00015924075, 'Arg1Z': 0.0011029788, 'Arg1Tool': 2.3151604e-06, 'ArgAttr': 2.8667761e-08, 'ArgTemp': 3.429955e-05, 'ArgDauer': 1.747384e-06, 'ArgZeitp': 5.6256267e-05, 'ArgPräp': 1.0302759e-05}\n"
     ]
    },
    {
     "ename": "KeyError",
     "evalue": "(24, 0)",
     "output_type": "error",
     "traceback": [
      "\u001b[0;31m---------------------------------------------------------------------------\u001b[0m",
      "\u001b[0;31mKeyError\u001b[0m                                  Traceback (most recent call last)",
      "\u001b[0;32m<ipython-input-159-2815bb574dd9>\u001b[0m in \u001b[0;36m<module>\u001b[0;34m\u001b[0m\n\u001b[1;32m     40\u001b[0m                     )\n\u001b[1;32m     41\u001b[0m             \u001b[0mprint\u001b[0m\u001b[0;34m(\u001b[0m\u001b[0;34m)\u001b[0m\u001b[0;34m\u001b[0m\u001b[0;34m\u001b[0m\u001b[0m\n\u001b[0;32m---> 42\u001b[0;31m \u001b[0mcreate_examples\u001b[0m\u001b[0;34m(\u001b[0m\u001b[0;32mFalse\u001b[0m\u001b[0;34m,\u001b[0m \u001b[0;32mTrue\u001b[0m\u001b[0;34m)\u001b[0m\u001b[0;34m\u001b[0m\u001b[0;34m\u001b[0m\u001b[0m\n\u001b[0m",
      "\u001b[0;32m<ipython-input-159-2815bb574dd9>\u001b[0m in \u001b[0;36mcreate_examples\u001b[0;34m(predict_ents, print_details)\u001b[0m\n\u001b[1;32m     34\u001b[0m             \u001b[0mprint\u001b[0m\u001b[0;34m(\u001b[0m\u001b[0;34mf\"spans: {[(e.start, e.text, e.label_) for e in pred.ents]}\"\u001b[0m\u001b[0;34m)\u001b[0m\u001b[0;34m\u001b[0m\u001b[0;34m\u001b[0m\u001b[0m\n\u001b[1;32m     35\u001b[0m             \u001b[0;32mfor\u001b[0m \u001b[0mvalue\u001b[0m\u001b[0;34m,\u001b[0m \u001b[0mrel_dict\u001b[0m \u001b[0;32min\u001b[0m \u001b[0mpred\u001b[0m\u001b[0;34m.\u001b[0m\u001b[0m_\u001b[0m\u001b[0;34m.\u001b[0m\u001b[0mrel\u001b[0m\u001b[0;34m.\u001b[0m\u001b[0mitems\u001b[0m\u001b[0;34m(\u001b[0m\u001b[0;34m)\u001b[0m\u001b[0;34m:\u001b[0m\u001b[0;34m\u001b[0m\u001b[0;34m\u001b[0m\u001b[0m\n\u001b[0;32m---> 36\u001b[0;31m                 \u001b[0mgold_labels\u001b[0m \u001b[0;34m=\u001b[0m \u001b[0;34m[\u001b[0m\u001b[0mk\u001b[0m \u001b[0;32mfor\u001b[0m \u001b[0;34m(\u001b[0m\u001b[0mk\u001b[0m\u001b[0;34m,\u001b[0m \u001b[0mv\u001b[0m\u001b[0;34m)\u001b[0m \u001b[0;32min\u001b[0m \u001b[0mgold\u001b[0m\u001b[0;34m.\u001b[0m\u001b[0m_\u001b[0m\u001b[0;34m.\u001b[0m\u001b[0mrel\u001b[0m\u001b[0;34m[\u001b[0m\u001b[0mvalue\u001b[0m\u001b[0;34m]\u001b[0m\u001b[0;34m.\u001b[0m\u001b[0mitems\u001b[0m\u001b[0;34m(\u001b[0m\u001b[0;34m)\u001b[0m \u001b[0;32mif\u001b[0m \u001b[0mv\u001b[0m \u001b[0;34m==\u001b[0m \u001b[0;36m1.0\u001b[0m\u001b[0;34m]\u001b[0m\u001b[0;34m\u001b[0m\u001b[0;34m\u001b[0m\u001b[0m\n\u001b[0m\u001b[1;32m     37\u001b[0m                 \u001b[0;32mif\u001b[0m \u001b[0mgold_labels\u001b[0m\u001b[0;34m:\u001b[0m\u001b[0;34m\u001b[0m\u001b[0;34m\u001b[0m\u001b[0m\n\u001b[1;32m     38\u001b[0m                     print(\n",
      "\u001b[0;31mKeyError\u001b[0m: (24, 0)"
     ]
    }
   ],
   "source": [
    "examples = []\n",
    "def create_examples(predict_ents=True, print_details=False):\n",
    "    for gold in golds:\n",
    "        # ner prediction\n",
    "        if predict_ents == True:\n",
    "            pred = ner(gold.text)\n",
    "        else:\n",
    "            pred = Doc(rel.vocab,\n",
    "                       words=[t.text for t in gold],\n",
    "                       spaces=[t.whitespace_ for t in gold],)\n",
    "            pred.ents = gold.ents\n",
    "            \n",
    "        # rel prediction\n",
    "        for name, proc in rel.pipeline:\n",
    "            pred = proc(pred)\n",
    "        # Create pair of pred and anno & Append pair to list\n",
    "        examples.append(Example(pred, gold))\n",
    "\n",
    "        # Print comparison\n",
    "        # print(\"--- TEXT ---\")\n",
    "        # print(gold.text)\n",
    "        # print(\"--- GOLD ---\")\n",
    "        # print(example.reference.ents)\n",
    "        # print(\"--- PRED ---\")\n",
    "        # print(example.predicted.ents)\n",
    "        \n",
    "        # print(pred._.rel.keys())\n",
    "        # print(gold._.rel.keys())\n",
    "        # break\n",
    "\n",
    "        if print_details:\n",
    "            print()\n",
    "            print(f\"Text: {gold.text}\")\n",
    "            print(f\"spans: {[(e.start, e.text, e.label_) for e in pred.ents]}\")\n",
    "            for value, rel_dict in pred._.rel.items():\n",
    "                gold_labels = [k for (k, v) in gold._.rel[value].items() if v == 1.0]\n",
    "                if gold_labels:\n",
    "                    print(\n",
    "                        f\" pair: {value} --> gold labels: {gold_labels} --> predicted values: {rel_dict}\"\n",
    "                    )\n",
    "            print()\n",
    "create_examples(False, True)"
   ]
  },
  {
   "cell_type": "code",
   "execution_count": 151,
   "metadata": {},
   "outputs": [
    {
     "data": {
      "text/plain": [
       "{'rel_micro_p': 0.0, 'rel_micro_r': 0.0, 'rel_micro_f': 0.0}"
      ]
     },
     "execution_count": 151,
     "metadata": {},
     "output_type": "execute_result"
    }
   ],
   "source": [
    "from spacy.scorer import PRFScore\n",
    "\n",
    "def score_relations(examples, threshold):\n",
    "    \"\"\"Score a batch of examples.\"\"\"\n",
    "    micro_prf = PRFScore()\n",
    "    for example in examples:\n",
    "        gold = example.reference._.rel\n",
    "        pred = example.predicted._.rel\n",
    "        for key, pred_dict in pred.items():\n",
    "            gold_labels = [k for (k, v) in gold[key].items() if v == 1.0]\n",
    "            for k, v in pred_dict.items():\n",
    "                if v >= threshold:\n",
    "                    if k in gold_labels:\n",
    "                        micro_prf.tp += 1\n",
    "                    else:\n",
    "                        micro_prf.fp += 1\n",
    "                else:\n",
    "                    if k in gold_labels:\n",
    "                        micro_prf.fn += 1\n",
    "    return {\n",
    "        \"rel_micro_p\": micro_prf.precision,\n",
    "        \"rel_micro_r\": micro_prf.recall,\n",
    "        \"rel_micro_f\": micro_prf.fscore,\n",
    "    }\n",
    "\n",
    "\n",
    "threshold = 0\n",
    "score_relations(examples, threshold)\n"
   ]
  },
  {
   "cell_type": "code",
   "execution_count": 66,
   "metadata": {},
   "outputs": [
    {
     "name": "stdout",
     "output_type": "stream",
     "text": [
      "((4, 1), {'Arg0Z': 0.98250717, 'Arg0Tool': 0.0027200435, 'Arg1Z': 2.4258585e-05, 'Arg1Tool': 0.00021370326, 'ArgAttr': 0.0058646654, 'ArgTemp': 0.0008637497, 'ArgDauer': 0.00029359866, 'ArgZeitp': 0.00420872, 'ArgPräp': 1.6493268e-05})\n",
      "Arg0Z\n",
      "((4, 1), {'Arg0Z': 0.98250717, 'Arg0Tool': 0.0027200435, 'Arg1Z': 2.4258585e-05, 'Arg1Tool': 0.00021370326, 'ArgAttr': 0.0058646654, 'ArgTemp': 0.0008637497, 'ArgDauer': 0.00029359866, 'ArgZeitp': 0.00420872, 'ArgPräp': 1.6493268e-05})\n",
      "ArgAttr\n",
      "((4, 1), {'Arg0Z': 0.98250717, 'Arg0Tool': 0.0027200435, 'Arg1Z': 2.4258585e-05, 'Arg1Tool': 0.00021370326, 'ArgAttr': 0.0058646654, 'ArgTemp': 0.0008637497, 'ArgDauer': 0.00029359866, 'ArgZeitp': 0.00420872, 'ArgPräp': 1.6493268e-05})\n"
     ]
    },
    {
     "ename": "ValueError",
     "evalue": "1 is not in list",
     "output_type": "error",
     "traceback": [
      "\u001b[0;31m---------------------------------------------------------------------------\u001b[0m",
      "\u001b[0;31mValueError\u001b[0m                                Traceback (most recent call last)",
      "\u001b[0;32m<ipython-input-66-504e39662e99>\u001b[0m in \u001b[0;36m<module>\u001b[0;34m\u001b[0m\n\u001b[1;32m      4\u001b[0m     \u001b[0;32mfor\u001b[0m \u001b[0mkey\u001b[0m\u001b[0;34m,\u001b[0m \u001b[0mpred_dict\u001b[0m \u001b[0;32min\u001b[0m \u001b[0mpred\u001b[0m\u001b[0;34m.\u001b[0m\u001b[0mitems\u001b[0m\u001b[0;34m(\u001b[0m\u001b[0;34m)\u001b[0m\u001b[0;34m:\u001b[0m\u001b[0;34m\u001b[0m\u001b[0;34m\u001b[0m\u001b[0m\n\u001b[1;32m      5\u001b[0m         \u001b[0mprint\u001b[0m\u001b[0;34m(\u001b[0m\u001b[0mitem\u001b[0m\u001b[0;34m)\u001b[0m\u001b[0;34m\u001b[0m\u001b[0;34m\u001b[0m\u001b[0m\n\u001b[0;32m----> 6\u001b[0;31m         \u001b[0mgold_label\u001b[0m \u001b[0;34m=\u001b[0m \u001b[0mlist\u001b[0m\u001b[0;34m(\u001b[0m\u001b[0mgold\u001b[0m\u001b[0;34m[\u001b[0m\u001b[0mkey\u001b[0m\u001b[0;34m]\u001b[0m\u001b[0;34m.\u001b[0m\u001b[0mkeys\u001b[0m\u001b[0;34m(\u001b[0m\u001b[0;34m)\u001b[0m\u001b[0;34m)\u001b[0m\u001b[0;34m[\u001b[0m\u001b[0mlist\u001b[0m\u001b[0;34m(\u001b[0m\u001b[0mgold\u001b[0m\u001b[0;34m[\u001b[0m\u001b[0mkey\u001b[0m\u001b[0;34m]\u001b[0m\u001b[0;34m.\u001b[0m\u001b[0mvalues\u001b[0m\u001b[0;34m(\u001b[0m\u001b[0;34m)\u001b[0m\u001b[0;34m)\u001b[0m\u001b[0;34m.\u001b[0m\u001b[0mindex\u001b[0m\u001b[0;34m(\u001b[0m\u001b[0;36m1\u001b[0m\u001b[0;34m)\u001b[0m\u001b[0;34m]\u001b[0m\u001b[0;34m\u001b[0m\u001b[0;34m\u001b[0m\u001b[0m\n\u001b[0m\u001b[1;32m      7\u001b[0m         \u001b[0mprint\u001b[0m\u001b[0;34m(\u001b[0m\u001b[0mgold_label\u001b[0m\u001b[0;34m)\u001b[0m\u001b[0;34m\u001b[0m\u001b[0;34m\u001b[0m\u001b[0m\n\u001b[1;32m      8\u001b[0m \u001b[0;34m\u001b[0m\u001b[0m\n",
      "\u001b[0;31mValueError\u001b[0m: 1 is not in list"
     ]
    }
   ],
   "source": [
    "for example in examples:\n",
    "    gold = example.reference._.rel\n",
    "    pred = example.predicted._.rel\n",
    "    for key, pred_dict in pred.items():\n",
    "        print(item)\n",
    "        gold_label = list(gold[key].keys())[list(gold[key].values()).index(1)]\n",
    "        print(gold_label)\n",
    "        \n",
    "    break"
   ]
  },
  {
   "cell_type": "code",
   "execution_count": null,
   "metadata": {},
   "outputs": [],
   "source": []
  },
  {
   "cell_type": "code",
   "execution_count": 11,
   "metadata": {},
   "outputs": [],
   "source": [
    "relation_extractor = rel.get_pipe(\"relation_extractor\")\n",
    "get_instances = relation_extractor.model.attrs[\"get_instances\"]"
   ]
  },
  {
   "cell_type": "code",
   "execution_count": 12,
   "metadata": {},
   "outputs": [],
   "source": [
    "# --> Create Random Baseline\n",
    "rands = preds.copy()\n",
    "# Loop through instances in one recipe\n",
    "for pred in rands:\n",
    "    for (e1, e2) in get_instances(pred):\n",
    "        # Create offset tuple: (anbraten, Würste) --> (2,1)\n",
    "        offset = (e1.start, e2.start)\n",
    "        # Check whether offset is a key in relations \n",
    "        if offset not in pred._.rel:\n",
    "            # Create an empty dictionary for every insatnce\n",
    "            pred._.rel[offset] = {}\n",
    "        for label in relation_extractor.labels:\n",
    "            # Assign random probability to each label\n",
    "            pred._.rel[offset][label] = random.uniform(0, 1)"
   ]
  },
  {
   "cell_type": "code",
   "execution_count": 19,
   "metadata": {
    "scrolled": true
   },
   "outputs": [
    {
     "name": "stdout",
     "output_type": "stream",
     "text": [
      "threshold 0.00 \t {'rel_micro_p': '0.00', 'rel_micro_r': '0.00', 'rel_micro_f': '0.00'}\n",
      "threshold 0.05 \t {'rel_micro_p': '0.00', 'rel_micro_r': '0.00', 'rel_micro_f': '0.00'}\n",
      "threshold 0.10 \t {'rel_micro_p': '0.00', 'rel_micro_r': '0.00', 'rel_micro_f': '0.00'}\n",
      "threshold 0.20 \t {'rel_micro_p': '0.00', 'rel_micro_r': '0.00', 'rel_micro_f': '0.00'}\n",
      "threshold 0.30 \t {'rel_micro_p': '0.00', 'rel_micro_r': '0.00', 'rel_micro_f': '0.00'}\n",
      "threshold 0.40 \t {'rel_micro_p': '0.00', 'rel_micro_r': '0.00', 'rel_micro_f': '0.00'}\n",
      "threshold 0.50 \t {'rel_micro_p': '0.00', 'rel_micro_r': '0.00', 'rel_micro_f': '0.00'}\n",
      "threshold 0.60 \t {'rel_micro_p': '0.00', 'rel_micro_r': '0.00', 'rel_micro_f': '0.00'}\n",
      "threshold 0.70 \t {'rel_micro_p': '0.00', 'rel_micro_r': '0.00', 'rel_micro_f': '0.00'}\n",
      "threshold 0.80 \t {'rel_micro_p': '0.00', 'rel_micro_r': '0.00', 'rel_micro_f': '0.00'}\n",
      "threshold 0.90 \t {'rel_micro_p': '0.00', 'rel_micro_r': '0.00', 'rel_micro_f': '0.00'}\n",
      "threshold 0.99 \t {'rel_micro_p': '0.00', 'rel_micro_r': '0.00', 'rel_micro_f': '0.00'}\n",
      "threshold 1.00 \t {'rel_micro_p': '0.00', 'rel_micro_r': '0.00', 'rel_micro_f': '0.00'}\n"
     ]
    }
   ],
   "source": [
    "def _score_and_format(examples, thresholds):\n",
    "    for threshold in thresholds:\n",
    "        r = score_relations(examples, threshold)\n",
    "        results = {k: \"{:.2f}\".format(v * 100) for k, v in r.items()}\n",
    "        print(f\"threshold {'{:.2f}'.format(threshold)} \\t {results}\")\n",
    "\n",
    "thresholds = [0.000, 0.050, 0.100, 0.2, 0.3, 0.4, 0.5, 0.6, 0.7, 0.8, 0.9, 0.99, 0.999]\n",
    "examples = [Example(pred, gold)]\n",
    "_score_and_format(examples, thresholds)"
   ]
  },
  {
   "cell_type": "code",
   "execution_count": null,
   "metadata": {},
   "outputs": [],
   "source": []
  }
 ],
 "metadata": {
  "kernelspec": {
   "display_name": "Python 3",
   "language": "python",
   "name": "python3"
  },
  "language_info": {
   "codemirror_mode": {
    "name": "ipython",
    "version": 3
   },
   "file_extension": ".py",
   "mimetype": "text/x-python",
   "name": "python",
   "nbconvert_exporter": "python",
   "pygments_lexer": "ipython3",
   "version": "3.8.5"
  }
 },
 "nbformat": 4,
 "nbformat_minor": 4
}
