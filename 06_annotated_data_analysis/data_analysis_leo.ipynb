{
 "cells": [
  {
   "cell_type": "markdown",
   "metadata": {},
   "source": [
    "## Setup"
   ]
  },
  {
   "cell_type": "code",
   "execution_count": 2,
   "metadata": {},
   "outputs": [],
   "source": [
    "import pandas as pd\n",
    "import numpy as np\n",
    "import json\n",
    "import spacy\n",
    "import matplotlib.pyplot as plt\n",
    "import seaborn as sns\n",
    "from collections import Counter\n",
    "\n",
    "sns.set()"
   ]
  },
  {
   "cell_type": "code",
   "execution_count": 3,
   "metadata": {},
   "outputs": [],
   "source": [
    "#input_path = \"/Users/Leonidas/Universität St.Gallen/STUD-Capstoneproject Tell 6 - General/02-Coding/01-Data/12_annotated_batches/batch1_all_f.jsonl\"\n",
    "#path = r\"/Users/Leonidas/Universität St.Gallen/STUD-Capstoneproject Tell 6 - General/\""
   ]
  },
  {
   "cell_type": "code",
   "execution_count": 4,
   "metadata": {},
   "outputs": [],
   "source": [
    "path = r\"/Users/jonathanebner/Universität St.Gallen/STUD-Capstoneproject Tell 6 - General/\"\n",
    "input_path = \"/Users/jonathanebner/Universität St.Gallen/STUD-Capstoneproject Tell 6 - General/02-Coding/01-Data/12_annotated_batches/combined/batch1+2all/batch2all_all_f.jsonl\""
   ]
  },
  {
   "cell_type": "code",
   "execution_count": 5,
   "metadata": {},
   "outputs": [],
   "source": [
    "# Initiate nlp model\n",
    "disabled = ['parser', 'tagger', 'ner']\n",
    "# nlp = spacy.load('de_core_news_lg', disable=disabled)\n",
    "nlp = spacy.load('de_core_news_lg')\n",
    "#tokenize = spacy.load(\"/Users/jonathanebner/Universität St.Gallen/STUD-Capstoneproject Tell 6 - General/02-Coding/03-Models/Custom Tokenizer/de_custom_v2\")"
   ]
  },
  {
   "cell_type": "markdown",
   "metadata": {},
   "source": [
    "## Exploratory Data Analysis"
   ]
  },
  {
   "cell_type": "code",
   "execution_count": 6,
   "metadata": {},
   "outputs": [
    {
     "name": "stdout",
     "output_type": "stream",
     "text": [
      "Number of imported recipes:  12190\n"
     ]
    }
   ],
   "source": [
    "# Load data and seperate instructions at @ as defined\n",
    "data = pd.read_csv(path+\"/02-Coding/01-Data/01_instructions/instructions.csv\", sep=\"@\", encoding=\"utf-16\", header=None, error_bad_lines=False)\n",
    "print(\"Number of imported recipes: \",len(data))"
   ]
  },
  {
   "cell_type": "code",
   "execution_count": 7,
   "metadata": {},
   "outputs": [],
   "source": [
    "data.columns = [\"text\"]\n",
    "data_dedup = data.drop_duplicates(subset='text', keep=\"first\")"
   ]
  },
  {
   "cell_type": "code",
   "execution_count": 8,
   "metadata": {},
   "outputs": [
    {
     "name": "stdout",
     "output_type": "stream",
     "text": [
      "all recipes: 12190\n",
      "unique recipes: 4291\n",
      "removed duplicates: 7899\n"
     ]
    }
   ],
   "source": [
    "print(\"all recipes:\",len(data))\n",
    "print(\"unique recipes:\",len(data_dedup))\n",
    "print(\"removed duplicates:\",len(data)-len(data_dedup))\n",
    "data = data_dedup"
   ]
  },
  {
   "cell_type": "code",
   "execution_count": 9,
   "metadata": {},
   "outputs": [
    {
     "ename": "NameError",
     "evalue": "name 'tokenize' is not defined",
     "output_type": "error",
     "traceback": [
      "\u001b[0;31m---------------------------------------------------------------------------\u001b[0m",
      "\u001b[0;31mNameError\u001b[0m                                 Traceback (most recent call last)",
      "\u001b[0;32m<ipython-input-9-a3915415aca9>\u001b[0m in \u001b[0;36m<module>\u001b[0;34m\u001b[0m\n\u001b[1;32m      2\u001b[0m \u001b[0mdata\u001b[0m\u001b[0;34m.\u001b[0m\u001b[0mcolumns\u001b[0m\u001b[0;34m=\u001b[0m\u001b[0;34m[\u001b[0m\u001b[0;34m\"Instructions\"\u001b[0m\u001b[0;34m]\u001b[0m\u001b[0;34m\u001b[0m\u001b[0;34m\u001b[0m\u001b[0m\n\u001b[1;32m      3\u001b[0m \u001b[0;31m# Create a column with tokenized instructions using spacy\u001b[0m\u001b[0;34m\u001b[0m\u001b[0;34m\u001b[0m\u001b[0;34m\u001b[0m\u001b[0m\n\u001b[0;32m----> 4\u001b[0;31m \u001b[0mdata\u001b[0m\u001b[0;34m[\u001b[0m\u001b[0;34m\"Tokenized\"\u001b[0m\u001b[0;34m]\u001b[0m \u001b[0;34m=\u001b[0m \u001b[0mdata\u001b[0m\u001b[0;34m[\u001b[0m\u001b[0;34m\"Instructions\"\u001b[0m\u001b[0;34m]\u001b[0m\u001b[0;34m.\u001b[0m\u001b[0mapply\u001b[0m\u001b[0;34m(\u001b[0m\u001b[0mtokenize\u001b[0m\u001b[0;34m)\u001b[0m\u001b[0;34m\u001b[0m\u001b[0;34m\u001b[0m\u001b[0m\n\u001b[0m\u001b[1;32m      5\u001b[0m \u001b[0mdata\u001b[0m\u001b[0;34m[\u001b[0m\u001b[0;34m\"NLP\"\u001b[0m\u001b[0;34m]\u001b[0m \u001b[0;34m=\u001b[0m \u001b[0mdata\u001b[0m\u001b[0;34m[\u001b[0m\u001b[0;34m\"Instructions\"\u001b[0m\u001b[0;34m]\u001b[0m\u001b[0;34m.\u001b[0m\u001b[0mapply\u001b[0m\u001b[0;34m(\u001b[0m\u001b[0mnlp\u001b[0m\u001b[0;34m)\u001b[0m\u001b[0;34m\u001b[0m\u001b[0;34m\u001b[0m\u001b[0m\n",
      "\u001b[0;31mNameError\u001b[0m: name 'tokenize' is not defined"
     ]
    }
   ],
   "source": [
    "# Name Instructions column\n",
    "data.columns=[\"Instructions\"]\n",
    "# Create a column with tokenized instructions using spacy\n",
    "data[\"Tokenized\"] = data[\"Instructions\"].apply(tokenize) \n",
    "data[\"NLP\"] = data[\"Instructions\"].apply(nlp) "
   ]
  },
  {
   "cell_type": "code",
   "execution_count": null,
   "metadata": {},
   "outputs": [],
   "source": [
    "data.head()"
   ]
  },
  {
   "cell_type": "code",
   "execution_count": null,
   "metadata": {},
   "outputs": [],
   "source": [
    "# doc = data[\"NLP\"].iloc[0]\n",
    "\n",
    "doc = []\n",
    "\n",
    "for rec in data[\"NLP\"]:\n",
    "    for token in rec:\n",
    "        doc.append(token)\n",
    "\n",
    "# all tokens that arent stop words or punctuations\n",
    "words = [token.text for token in doc if token.is_stop != True and token.is_punct != True and token.like_num == False]\n",
    "\n",
    "# noun tokens that arent stop words or punctuations\n",
    "nouns = [token.text for token in doc if token.is_stop != True and token.is_punct != True and token.pos_ == \"NOUN\"]\n",
    "verbs = [token.text for token in doc if token.is_stop != True and token.is_punct != True and token.pos_ == \"VERB\"]\n",
    "\n",
    "# Word Cats\n",
    "word_freq = Counter(words)\n",
    "noun_freq = Counter(nouns)\n",
    "verb_freq = Counter(verbs)\n",
    "\n",
    "# Commons\n",
    "n = 20\n",
    "common_words = pd.DataFrame(word_freq.most_common(n))\n",
    "common_nouns = pd.DataFrame(noun_freq.most_common(n))\n",
    "common_verbs = pd.DataFrame(verb_freq.most_common(n))\n",
    "\n",
    "freqs = [common_words, common_verbs, common_nouns]"
   ]
  },
  {
   "cell_type": "code",
   "execution_count": null,
   "metadata": {},
   "outputs": [],
   "source": [
    "# Visualize Word frequency\n",
    "cat = 1\n",
    "plt.bar(x=range(n), height=freqs[cat][1], tick_label=freqs[cat][0])\n",
    "plt.xticks(range(n), freqs[cat][0], rotation='vertical')"
   ]
  },
  {
   "cell_type": "code",
   "execution_count": null,
   "metadata": {},
   "outputs": [],
   "source": [
    "doc = data[\"NLP\"].iloc[0]\n",
    "for token in doc:\n",
    "    print(token.text, token.tag_, token.pos_, token.is_punct, token.is_stop)"
   ]
  },
  {
   "cell_type": "markdown",
   "metadata": {},
   "source": [
    "#### Length of Recipes"
   ]
  },
  {
   "cell_type": "code",
   "execution_count": 43,
   "metadata": {},
   "outputs": [
    {
     "name": "stdout",
     "output_type": "stream",
     "text": [
      "---------- METRICS ----------\n",
      "\n",
      "Minimum Length of a Recipe:  10\n",
      "Maximum Length of a Recipe:  868\n",
      "Mean Length of a Recipe:  141\n",
      "Standard Deviation of the Length of all Recipes:  71\n",
      "Number of Recipes longer than 512 Tokens:  12\n",
      "\n",
      "-----------------------------\n"
     ]
    },
    {
     "data": {
      "text/plain": [
       "<matplotlib.collections.LineCollection at 0x13ad7db80>"
      ]
     },
     "execution_count": 43,
     "metadata": {},
     "output_type": "execute_result"
    },
    {
     "data": {
      "image/png": "[encoded data removed]",
      "text/plain": [
       "<Figure size 1152x432 with 1 Axes>"
      ]
     },
     "metadata": {},
     "output_type": "display_data"
    }
   ],
   "source": [
    "# Create a column with the amount of tokens per recipe\n",
    "data[\"Length\"] = data[\"Tokenized\"].apply(len)\n",
    "# Print some metrics about the length of the recipes\n",
    "print(\"---------- METRICS ----------\")\n",
    "print(\"\")\n",
    "print(\"Minimum Length of a Recipe: \", min(data.Length))\n",
    "print(\"Maximum Length of a Recipe: \", max(data.Length))\n",
    "print(\"Mean Length of a Recipe: \", round(np.mean(data.Length)))\n",
    "print(\"Standard Deviation of the Length of all Recipes: \", round(np.std(data.Length)))\n",
    "print(\"Number of Recipes longer than 512 Tokens: \", len(data.Length[data[\"Length\"]>512]))\n",
    "print(\"\")\n",
    "print(\"-----------------------------\")\n",
    "# Init plot and increase figure size\n",
    "plt.figure(figsize=(16, 6))\n",
    "# Add histogram of recipe length in no. of tokens to the plot\n",
    "plt.hist(data.Length, bins = 100)\n",
    "\n",
    "# Mark important metrics with vertical lines\n",
    "plt.vlines(512, label=\"Max size BERT\", ymin= 0, ymax= 900)\n",
    "plt.vlines(np.mean(data.Length), label=\"Mean Length\", ymin= 0, ymax= 900)\n",
    "plt.vlines(np.mean(data.Length)-np.std(data.Length), label=\"Mean Length\", ymin= 0, ymax= 500)\n",
    "plt.vlines(np.mean(data.Length)+np.std(data.Length), label=\"Mean Length\", ymin= 0, ymax= 500)\n",
    "\n",
    "# Save figure to 02-Coding --> 02-Plots --> chefkoch_recipe_length_hist.png before showing\n",
    "# plt.savefig(path+\"/02-Plots/chefkoch_recipe_length_hist.png\")"
   ]
  },
  {
   "cell_type": "code",
   "execution_count": null,
   "metadata": {},
   "outputs": [],
   "source": []
  },
  {
   "cell_type": "code",
   "execution_count": 190,
   "metadata": {},
   "outputs": [],
   "source": []
  },
  {
   "cell_type": "code",
   "execution_count": 20,
   "metadata": {},
   "outputs": [],
   "source": [
    "class_labels = []\n",
    "class_colors = []\n",
    "rel_labels = []\n",
    "rel_cols = []"
   ]
  },
  {
   "cell_type": "code",
   "execution_count": 10,
   "metadata": {},
   "outputs": [],
   "source": [
    "with open(input_path, \"r\", encoding=\"utf8\") as json_file:\n",
    "    annotated_recipes = [json.loads(line) for line in json_file]"
   ]
  },
  {
   "cell_type": "code",
   "execution_count": 11,
   "metadata": {},
   "outputs": [
    {
     "name": "stdout",
     "output_type": "stream",
     "text": [
      "Rows: 594\n",
      "Columns: 9\n"
     ]
    }
   ],
   "source": [
    "data = pd.DataFrame(annotated_recipes)\n",
    "print(\"Rows:\", data.shape[0])\n",
    "print(\"Columns:\", data.shape[1])"
   ]
  },
  {
   "cell_type": "code",
   "execution_count": 12,
   "metadata": {},
   "outputs": [],
   "source": [
    "# nlp = spacy.load(\"/Users/Leonidas/Universität St.Gallen/STUD-Capstoneproject Tell 6 - General/02-Coding/03-Models/Custom Tokenizer/de_custom_v2\")\n",
    "# data[\"tokenized\"] = data[\"text\"].apply(nlp)\n",
    "data = data.drop(['_input_hash', '_task_hash', \"_session_id\", \"_view_id\", \"answer\"], axis=1)\n",
    "data[\"#words\"] = data[\"text\"].apply(lambda x: len(x.split()))\n",
    "data[\"#tokens\"] = data[\"tokens\"].apply(lambda x: len(x))\n",
    "data[\"#spans\"] = data[\"spans\"].apply(lambda x: len(x))\n",
    "data[\"#relations\"] = data[\"relations\"].apply(lambda x: len(x))"
   ]
  },
  {
   "cell_type": "code",
   "execution_count": 13,
   "metadata": {},
   "outputs": [],
   "source": [
    "data[\"#arg0\"] = data[\"relations\"].apply(lambda x: [x[i][\"label\"] for i in range(len(x))].count(\"ARG0\"))\n",
    "data[\"#arg1\"] = data[\"relations\"].apply(lambda x: [x[i][\"label\"] for i in range(len(x))].count(\"ARG1\"))\n",
    "data[\"#arg\"] = data[\"relations\"].apply(lambda x: [x[i][\"label\"] for i in range(len(x))].count(\"ARG\"))"
   ]
  },
  {
   "cell_type": "code",
   "execution_count": 14,
   "metadata": {},
   "outputs": [],
   "source": [
    "data[\"#Z\"] = data[\"spans\"].apply(lambda x: [x[i][\"label\"] for i in range(len(x))].count(\"Z\"))\n",
    "data[\"#V\"] = data[\"spans\"].apply(lambda x: [x[i][\"label\"] for i in range(len(x))].count(\"V\"))\n",
    "data[\"#T\"] = data[\"spans\"].apply(lambda x: [x[i][\"label\"] for i in range(len(x))].count(\"TOOL\"))\n",
    "data[\"#ZP\"] = data[\"spans\"].apply(lambda x: [x[i][\"label\"] for i in range(len(x))].count(\"ZEITP\"))\n",
    "data[\"#D\"] = data[\"spans\"].apply(lambda x: [x[i][\"label\"] for i in range(len(x))].count(\"DAUER\"))\n",
    "data[\"#A\"] = data[\"spans\"].apply(lambda x: [x[i][\"label\"] for i in range(len(x))].count(\"ATTR\"))\n",
    "data[\"#TP\"] = data[\"spans\"].apply(lambda x: [x[i][\"label\"] for i in range(len(x))].count(\"TEMP\"))\n",
    "data[\"#P\"] = data[\"spans\"].apply(lambda x: [x[i][\"label\"] for i in range(len(x))].count(\"PRÄP\"))"
   ]
  },
  {
   "cell_type": "code",
   "execution_count": 15,
   "metadata": {},
   "outputs": [
    {
     "data": {
      "text/html": [
       "<div>\n",
       "<style scoped>\n",
       "    .dataframe tbody tr th:only-of-type {\n",
       "        vertical-align: middle;\n",
       "    }\n",
       "\n",
       "    .dataframe tbody tr th {\n",
       "        vertical-align: top;\n",
       "    }\n",
       "\n",
       "    .dataframe thead th {\n",
       "        text-align: right;\n",
       "    }\n",
       "</style>\n",
       "<table border=\"1\" class=\"dataframe\">\n",
       "  <thead>\n",
       "    <tr style=\"text-align: right;\">\n",
       "      <th></th>\n",
       "      <th>text</th>\n",
       "      <th>spans</th>\n",
       "      <th>tokens</th>\n",
       "      <th>relations</th>\n",
       "      <th>#words</th>\n",
       "      <th>#tokens</th>\n",
       "      <th>#spans</th>\n",
       "      <th>#relations</th>\n",
       "      <th>#arg0</th>\n",
       "      <th>#arg1</th>\n",
       "      <th>#arg</th>\n",
       "      <th>#Z</th>\n",
       "      <th>#V</th>\n",
       "      <th>#T</th>\n",
       "      <th>#ZP</th>\n",
       "      <th>#D</th>\n",
       "      <th>#A</th>\n",
       "      <th>#TP</th>\n",
       "      <th>#P</th>\n",
       "    </tr>\n",
       "  </thead>\n",
       "  <tbody>\n",
       "    <tr>\n",
       "      <th>0</th>\n",
       "      <td>Knoblauch und eine Schalotte schälen und in kl...</td>\n",
       "      <td>[{'text': 'Knoblauch', 'start': 0, 'token_star...</td>\n",
       "      <td>[{'text': 'Knoblauch', 'start': 0, 'end': 9, '...</td>\n",
       "      <td>[{'head': 4, 'child': 3, 'head_span': {'start'...</td>\n",
       "      <td>138</td>\n",
       "      <td>163</td>\n",
       "      <td>83</td>\n",
       "      <td>71</td>\n",
       "      <td>28</td>\n",
       "      <td>15</td>\n",
       "      <td>28</td>\n",
       "      <td>26</td>\n",
       "      <td>25</td>\n",
       "      <td>5</td>\n",
       "      <td>1</td>\n",
       "      <td>2</td>\n",
       "      <td>9</td>\n",
       "      <td>1</td>\n",
       "      <td>14</td>\n",
       "    </tr>\n",
       "    <tr>\n",
       "      <th>1</th>\n",
       "      <td>Zunächst den Blumenkohl in Stücke schneiden. D...</td>\n",
       "      <td>[{'start': 0, 'end': 8, 'token_start': 0, 'tok...</td>\n",
       "      <td>[{'text': 'Zunächst', 'start': 0, 'end': 8, 'i...</td>\n",
       "      <td>[{'head': 5, 'child': 2, 'head_span': {'start'...</td>\n",
       "      <td>68</td>\n",
       "      <td>82</td>\n",
       "      <td>40</td>\n",
       "      <td>31</td>\n",
       "      <td>18</td>\n",
       "      <td>1</td>\n",
       "      <td>12</td>\n",
       "      <td>10</td>\n",
       "      <td>16</td>\n",
       "      <td>1</td>\n",
       "      <td>2</td>\n",
       "      <td>4</td>\n",
       "      <td>4</td>\n",
       "      <td>2</td>\n",
       "      <td>1</td>\n",
       "    </tr>\n",
       "    <tr>\n",
       "      <th>2</th>\n",
       "      <td>Auberginen würfeln, Knoblauch, Zwiebeln und Ch...</td>\n",
       "      <td>[{'text': 'Auberginen', 'start': 0, 'token_sta...</td>\n",
       "      <td>[{'text': 'Auberginen', 'start': 0, 'end': 10,...</td>\n",
       "      <td>[{'head': 1, 'child': 0, 'head_span': {'start'...</td>\n",
       "      <td>108</td>\n",
       "      <td>137</td>\n",
       "      <td>35</td>\n",
       "      <td>35</td>\n",
       "      <td>16</td>\n",
       "      <td>10</td>\n",
       "      <td>9</td>\n",
       "      <td>14</td>\n",
       "      <td>8</td>\n",
       "      <td>2</td>\n",
       "      <td>2</td>\n",
       "      <td>1</td>\n",
       "      <td>2</td>\n",
       "      <td>1</td>\n",
       "      <td>5</td>\n",
       "    </tr>\n",
       "    <tr>\n",
       "      <th>3</th>\n",
       "      <td>Porree putzen und Zwiebel schälen. Beides in R...</td>\n",
       "      <td>[{'text': 'Porree', 'start': 0, 'token_start':...</td>\n",
       "      <td>[{'text': 'Porree', 'start': 0, 'end': 6, 'id'...</td>\n",
       "      <td>[{'head': 1, 'child': 0, 'head_span': {'start'...</td>\n",
       "      <td>87</td>\n",
       "      <td>105</td>\n",
       "      <td>57</td>\n",
       "      <td>48</td>\n",
       "      <td>26</td>\n",
       "      <td>9</td>\n",
       "      <td>13</td>\n",
       "      <td>20</td>\n",
       "      <td>21</td>\n",
       "      <td>2</td>\n",
       "      <td>1</td>\n",
       "      <td>1</td>\n",
       "      <td>5</td>\n",
       "      <td>0</td>\n",
       "      <td>7</td>\n",
       "    </tr>\n",
       "    <tr>\n",
       "      <th>4</th>\n",
       "      <td>Den Kürbis schälen, die Kerne entfernen und da...</td>\n",
       "      <td>[{'text': 'Kürbis', 'start': 4, 'token_start':...</td>\n",
       "      <td>[{'text': 'Den', 'start': 0, 'end': 3, 'id': 0...</td>\n",
       "      <td>[{'head': 2, 'child': 1, 'head_span': {'start'...</td>\n",
       "      <td>87</td>\n",
       "      <td>107</td>\n",
       "      <td>52</td>\n",
       "      <td>42</td>\n",
       "      <td>30</td>\n",
       "      <td>4</td>\n",
       "      <td>8</td>\n",
       "      <td>23</td>\n",
       "      <td>21</td>\n",
       "      <td>0</td>\n",
       "      <td>2</td>\n",
       "      <td>1</td>\n",
       "      <td>3</td>\n",
       "      <td>0</td>\n",
       "      <td>2</td>\n",
       "    </tr>\n",
       "  </tbody>\n",
       "</table>\n",
       "</div>"
      ],
      "text/plain": [
       "                                                text  \\\n",
       "0  Knoblauch und eine Schalotte schälen und in kl...   \n",
       "1  Zunächst den Blumenkohl in Stücke schneiden. D...   \n",
       "2  Auberginen würfeln, Knoblauch, Zwiebeln und Ch...   \n",
       "3  Porree putzen und Zwiebel schälen. Beides in R...   \n",
       "4  Den Kürbis schälen, die Kerne entfernen und da...   \n",
       "\n",
       "                                               spans  \\\n",
       "0  [{'text': 'Knoblauch', 'start': 0, 'token_star...   \n",
       "1  [{'start': 0, 'end': 8, 'token_start': 0, 'tok...   \n",
       "2  [{'text': 'Auberginen', 'start': 0, 'token_sta...   \n",
       "3  [{'text': 'Porree', 'start': 0, 'token_start':...   \n",
       "4  [{'text': 'Kürbis', 'start': 4, 'token_start':...   \n",
       "\n",
       "                                              tokens  \\\n",
       "0  [{'text': 'Knoblauch', 'start': 0, 'end': 9, '...   \n",
       "1  [{'text': 'Zunächst', 'start': 0, 'end': 8, 'i...   \n",
       "2  [{'text': 'Auberginen', 'start': 0, 'end': 10,...   \n",
       "3  [{'text': 'Porree', 'start': 0, 'end': 6, 'id'...   \n",
       "4  [{'text': 'Den', 'start': 0, 'end': 3, 'id': 0...   \n",
       "\n",
       "                                           relations  #words  #tokens  #spans  \\\n",
       "0  [{'head': 4, 'child': 3, 'head_span': {'start'...     138      163      83   \n",
       "1  [{'head': 5, 'child': 2, 'head_span': {'start'...      68       82      40   \n",
       "2  [{'head': 1, 'child': 0, 'head_span': {'start'...     108      137      35   \n",
       "3  [{'head': 1, 'child': 0, 'head_span': {'start'...      87      105      57   \n",
       "4  [{'head': 2, 'child': 1, 'head_span': {'start'...      87      107      52   \n",
       "\n",
       "   #relations  #arg0  #arg1  #arg  #Z  #V  #T  #ZP  #D  #A  #TP  #P  \n",
       "0          71     28     15    28  26  25   5    1   2   9    1  14  \n",
       "1          31     18      1    12  10  16   1    2   4   4    2   1  \n",
       "2          35     16     10     9  14   8   2    2   1   2    1   5  \n",
       "3          48     26      9    13  20  21   2    1   1   5    0   7  \n",
       "4          42     30      4     8  23  21   0    2   1   3    0   2  "
      ]
     },
     "execution_count": 15,
     "metadata": {},
     "output_type": "execute_result"
    }
   ],
   "source": [
    "data.head()"
   ]
  },
  {
   "cell_type": "markdown",
   "metadata": {},
   "source": [
    "## Annotated Data"
   ]
  },
  {
   "cell_type": "code",
   "execution_count": 16,
   "metadata": {},
   "outputs": [],
   "source": [
    "stats = data.describe().round(2).drop([\"count\"], axis=0)"
   ]
  },
  {
   "cell_type": "code",
   "execution_count": 17,
   "metadata": {},
   "outputs": [
    {
     "data": {
      "text/plain": [
       "<matplotlib.legend.Legend at 0x7fa073856460>"
      ]
     },
     "execution_count": 17,
     "metadata": {},
     "output_type": "execute_result"
    },
    {
     "data": {
      "image/png": "[encoded data removed]",
      "text/plain": [
       "<Figure size 432x288 with 1 Axes>"
      ]
     },
     "metadata": {},
     "output_type": "display_data"
    }
   ],
   "source": [
    "# plt.hist(x=data[\"#words\"], bins=50, alpha = 0.3)\n",
    "# plt.hist(x=data[\"#tokens\"], bins=50, alpha = 0.3)\n",
    "plt.hist(x=data[\"#spans\"], bins=50, alpha = 0.3)\n",
    "# for xc,label in zip(list(stats[\"#spans\"]),list(stats.index)):\n",
    "#     plt.axvline(x=xc, color='k', linestyle='--', label=label)\n",
    "plt.axvline(x=stats[\"#spans\"].iloc[0], color='k', linestyle='--', label=\"mean\")\n",
    "plt.legend()"
   ]
  },
  {
   "cell_type": "code",
   "execution_count": 18,
   "metadata": {},
   "outputs": [
    {
     "data": {
      "text/plain": [
       "<BarContainer object of 8 artists>"
      ]
     },
     "execution_count": 18,
     "metadata": {},
     "output_type": "execute_result"
    },
    {
     "data": {
      "image/png": "[encoded data removed]",
      "text/plain": [
       "<Figure size 432x288 with 1 Axes>"
      ]
     },
     "metadata": {},
     "output_type": "display_data"
    }
   ],
   "source": [
    "plt.bar(x=range(8), height=list(stats.iloc[0,7:]), tick_label=list(stats.columns)[7:])"
   ]
  },
  {
   "cell_type": "code",
   "execution_count": 21,
   "metadata": {},
   "outputs": [
    {
     "data": {
      "text/plain": [
       "<matplotlib.axes._subplots.AxesSubplot at 0x7feb25526e20>"
      ]
     },
     "execution_count": 21,
     "metadata": {},
     "output_type": "execute_result"
    },
    {
     "data": {
      "image/png": "[encoded data removed]",
      "text/plain": [
       "<Figure size 432x288 with 1 Axes>"
      ]
     },
     "metadata": {},
     "output_type": "display_data"
    }
   ],
   "source": [
    "# stacked bar Graph with 1 bar = class split into args\n",
    "combs = []\n",
    "for rec_i in range(len(data)):\n",
    "    for relation in data[\"relations\"][rec_i]:\n",
    "        combs.append((relation[\"child_span\"][\"label\"], relation[\"label\"]))\n",
    "df = pd.DataFrame(combs, columns=[\"span\", \"relation\"])\n",
    "df[\"number\"] = 1\n",
    "df.groupby([\"span\", \"relation\"]).count().filter(items=[('TOOL', \"ARG1\"),('TOOL', \"ARG0\"),(\"Z\", \"ARG0\"),(\"Z\", \"ARG1\")], axis=0).unstack().plot(kind='bar', stacked=False)"
   ]
  },
  {
   "cell_type": "code",
   "execution_count": 22,
   "metadata": {},
   "outputs": [
    {
     "data": {
      "text/plain": [
       "<matplotlib.axes._subplots.AxesSubplot at 0x7feb255517c0>"
      ]
     },
     "execution_count": 22,
     "metadata": {},
     "output_type": "execute_result"
    },
    {
     "data": {
      "image/png": "[encoded data removed]",
      "text/plain": [
       "<Figure size 432x288 with 1 Axes>"
      ]
     },
     "metadata": {},
     "output_type": "display_data"
    }
   ],
   "source": [
    "df.groupby([\"span\", \"relation\"]).count().unstack().plot(kind='bar', stacked=False)"
   ]
  },
  {
   "cell_type": "code",
   "execution_count": 157,
   "metadata": {},
   "outputs": [
    {
     "data": {
      "text/plain": [
       "<matplotlib.axes._subplots.AxesSubplot at 0x1283b62e0>"
      ]
     },
     "execution_count": 157,
     "metadata": {},
     "output_type": "execute_result"
    },
    {
     "data": {
      "image/png": "[encoded data removed]",
      "text/plain": [
       "<Figure size 432x288 with 1 Axes>"
      ]
     },
     "metadata": {},
     "output_type": "display_data"
    }
   ],
   "source": [
    "# stacked bar Graph with 1 bar = arg split into classes\n",
    "df.groupby([\"relation\", \"span\"]).count().unstack().plot(kind='bar', stacked=True)"
   ]
  },
  {
   "cell_type": "markdown",
   "metadata": {},
   "source": [
    "## Training Results"
   ]
  },
  {
   "cell_type": "markdown",
   "metadata": {},
   "source": [
    "### NER"
   ]
  },
  {
   "cell_type": "code",
   "execution_count": 162,
   "metadata": {},
   "outputs": [
    {
     "data": {
      "text/plain": [
       "<matplotlib.axes._subplots.AxesSubplot at 0x12848b820>"
      ]
     },
     "execution_count": 162,
     "metadata": {},
     "output_type": "execute_result"
    },
    {
     "data": {
      "image/png": "[encoded data removed]",
      "text/plain": [
       "<Figure size 432x288 with 1 Axes>"
      ]
     },
     "metadata": {},
     "output_type": "display_data"
    }
   ],
   "source": [
    "# Training Curve on Batch 1 NER\n",
    "pd.DataFrame([(\"0%\",0.00),(\"5%\",75.35),(\"10%\",81.16),(\"15%\",83.61),(\"20%\",86.32),(\"25%\",88.28),(\"30%\",88.68),(\"35%\",89.75),(\"40%\",89.71),(\"45%\",90.41),(\"50%\",90.87),(\"55%\",90.84),(\"60%\",91.37),(\"65%\",91.29),(\"70%\",91.13),(\"75%\",91.20),(\"80%\",91.17),(\"85%\",92.14),(\"90%\",91.85),(\"95%\",92.09),(\"100%\",92.27)], columns=[\"%set\",\"acc\"]).plot()\n"
   ]
  },
  {
   "cell_type": "code",
   "execution_count": 184,
   "metadata": {},
   "outputs": [
    {
     "data": {
      "text/plain": [
       "<matplotlib.axes._subplots.AxesSubplot at 0x128a61fa0>"
      ]
     },
     "execution_count": 184,
     "metadata": {},
     "output_type": "execute_result"
    },
    {
     "data": {
      "image/png": "[encoded data removed]",
      "text/plain": [
       "<Figure size 432x288 with 1 Axes>"
      ]
     },
     "metadata": {},
     "output_type": "display_data"
    }
   ],
   "source": [
    "# F, P, R on Batch 1 NER\n",
    "scores = pd.DataFrame([(\"PRÄP\" ,91.697,92.701,92.196),\n",
    "                       (\"Z\"    ,92.746,95.467,94.087),\n",
    "                       (\"TOOL\" ,89.412,80.851,84.916),\n",
    "                       (\"ATTR\" ,83.871,85.246,84.553),\n",
    "                       (\"ZEITP\",79.518,83.544,81.481),\n",
    "                       (\"TEMP\" ,80.000,80.000,80.000),\n",
    "                       (\"V\"    ,96.144,98.811,97.459),\n",
    "                       (\"DAUER\",75.610,73.810,74.699)],columns= [\"Class\",\"P\",\"R\",\"F\"])\n",
    "scores = scores.set_index(scores[\"Class\"]).drop([\"Class\"], axis=1)\n",
    "scores.sort_values(by=\"F\").plot.bar()"
   ]
  },
  {
   "cell_type": "markdown",
   "metadata": {},
   "source": [
    "### REL"
   ]
  },
  {
   "cell_type": "code",
   "execution_count": 23,
   "metadata": {},
   "outputs": [],
   "source": [
    "# Impact of max_length likee the train_curve plot"
   ]
  },
  {
   "cell_type": "markdown",
   "metadata": {},
   "source": [
    "## Jonathan"
   ]
  },
  {
   "cell_type": "code",
   "execution_count": 20,
   "metadata": {},
   "outputs": [],
   "source": [
    "with open(input_path, \"r\", encoding=\"utf8\") as json_file:\n",
    "    annotated_recipes = [json.loads(line) for line in json_file]"
   ]
  },
  {
   "cell_type": "code",
   "execution_count": 21,
   "metadata": {},
   "outputs": [
    {
     "name": "stdout",
     "output_type": "stream",
     "text": [
      "(594, 9)\n",
      "(582, 9)\n"
     ]
    }
   ],
   "source": [
    "df_j = pd.DataFrame(annotated_recipes)\n",
    "print(df_j.shape)\n",
    "df_j = df_j[df_j[\"answer\"] == \"accept\"]\n",
    "print(df_j.shape)"
   ]
  },
  {
   "cell_type": "code",
   "execution_count": 22,
   "metadata": {},
   "outputs": [
    {
     "data": {
      "text/html": [
       "<div>\n",
       "<style scoped>\n",
       "    .dataframe tbody tr th:only-of-type {\n",
       "        vertical-align: middle;\n",
       "    }\n",
       "\n",
       "    .dataframe tbody tr th {\n",
       "        vertical-align: top;\n",
       "    }\n",
       "\n",
       "    .dataframe thead th {\n",
       "        text-align: right;\n",
       "    }\n",
       "</style>\n",
       "<table border=\"1\" class=\"dataframe\">\n",
       "  <thead>\n",
       "    <tr style=\"text-align: right;\">\n",
       "      <th></th>\n",
       "      <th>text</th>\n",
       "      <th>_input_hash</th>\n",
       "      <th>_task_hash</th>\n",
       "      <th>spans</th>\n",
       "      <th>tokens</th>\n",
       "      <th>_session_id</th>\n",
       "      <th>_view_id</th>\n",
       "      <th>relations</th>\n",
       "      <th>answer</th>\n",
       "    </tr>\n",
       "  </thead>\n",
       "  <tbody>\n",
       "    <tr>\n",
       "      <th>0</th>\n",
       "      <td>Knoblauch und eine Schalotte schälen und in kl...</td>\n",
       "      <td>-1244292165</td>\n",
       "      <td>636678082</td>\n",
       "      <td>[{'text': 'Knoblauch', 'start': 0, 'token_star...</td>\n",
       "      <td>[{'text': 'Knoblauch', 'start': 0, 'end': 9, '...</td>\n",
       "      <td>None</td>\n",
       "      <td>relations</td>\n",
       "      <td>[{'head': 4, 'child': 3, 'head_span': {'start'...</td>\n",
       "      <td>accept</td>\n",
       "    </tr>\n",
       "    <tr>\n",
       "      <th>1</th>\n",
       "      <td>Zunächst den Blumenkohl in Stücke schneiden. D...</td>\n",
       "      <td>-1859511681</td>\n",
       "      <td>-757387999</td>\n",
       "      <td>[{'start': 0, 'end': 8, 'token_start': 0, 'tok...</td>\n",
       "      <td>[{'text': 'Zunächst', 'start': 0, 'end': 8, 'i...</td>\n",
       "      <td>None</td>\n",
       "      <td>relations</td>\n",
       "      <td>[{'head': 5, 'child': 2, 'head_span': {'start'...</td>\n",
       "      <td>accept</td>\n",
       "    </tr>\n",
       "    <tr>\n",
       "      <th>2</th>\n",
       "      <td>Auberginen würfeln, Knoblauch, Zwiebeln und Ch...</td>\n",
       "      <td>-264018309</td>\n",
       "      <td>-826460417</td>\n",
       "      <td>[{'text': 'Auberginen', 'start': 0, 'token_sta...</td>\n",
       "      <td>[{'text': 'Auberginen', 'start': 0, 'end': 10,...</td>\n",
       "      <td>None</td>\n",
       "      <td>relations</td>\n",
       "      <td>[{'head': 1, 'child': 0, 'head_span': {'start'...</td>\n",
       "      <td>accept</td>\n",
       "    </tr>\n",
       "    <tr>\n",
       "      <th>3</th>\n",
       "      <td>Porree putzen und Zwiebel schälen. Beides in R...</td>\n",
       "      <td>2134396449</td>\n",
       "      <td>-2080968125</td>\n",
       "      <td>[{'text': 'Porree', 'start': 0, 'token_start':...</td>\n",
       "      <td>[{'text': 'Porree', 'start': 0, 'end': 6, 'id'...</td>\n",
       "      <td>None</td>\n",
       "      <td>relations</td>\n",
       "      <td>[{'head': 1, 'child': 0, 'head_span': {'start'...</td>\n",
       "      <td>accept</td>\n",
       "    </tr>\n",
       "    <tr>\n",
       "      <th>4</th>\n",
       "      <td>Den Kürbis schälen, die Kerne entfernen und da...</td>\n",
       "      <td>1250187647</td>\n",
       "      <td>219712066</td>\n",
       "      <td>[{'text': 'Kürbis', 'start': 4, 'token_start':...</td>\n",
       "      <td>[{'text': 'Den', 'start': 0, 'end': 3, 'id': 0...</td>\n",
       "      <td>None</td>\n",
       "      <td>relations</td>\n",
       "      <td>[{'head': 2, 'child': 1, 'head_span': {'start'...</td>\n",
       "      <td>accept</td>\n",
       "    </tr>\n",
       "  </tbody>\n",
       "</table>\n",
       "</div>"
      ],
      "text/plain": [
       "                                                text  _input_hash  _task_hash  \\\n",
       "0  Knoblauch und eine Schalotte schälen und in kl...  -1244292165   636678082   \n",
       "1  Zunächst den Blumenkohl in Stücke schneiden. D...  -1859511681  -757387999   \n",
       "2  Auberginen würfeln, Knoblauch, Zwiebeln und Ch...   -264018309  -826460417   \n",
       "3  Porree putzen und Zwiebel schälen. Beides in R...   2134396449 -2080968125   \n",
       "4  Den Kürbis schälen, die Kerne entfernen und da...   1250187647   219712066   \n",
       "\n",
       "                                               spans  \\\n",
       "0  [{'text': 'Knoblauch', 'start': 0, 'token_star...   \n",
       "1  [{'start': 0, 'end': 8, 'token_start': 0, 'tok...   \n",
       "2  [{'text': 'Auberginen', 'start': 0, 'token_sta...   \n",
       "3  [{'text': 'Porree', 'start': 0, 'token_start':...   \n",
       "4  [{'text': 'Kürbis', 'start': 4, 'token_start':...   \n",
       "\n",
       "                                              tokens _session_id   _view_id  \\\n",
       "0  [{'text': 'Knoblauch', 'start': 0, 'end': 9, '...        None  relations   \n",
       "1  [{'text': 'Zunächst', 'start': 0, 'end': 8, 'i...        None  relations   \n",
       "2  [{'text': 'Auberginen', 'start': 0, 'end': 10,...        None  relations   \n",
       "3  [{'text': 'Porree', 'start': 0, 'end': 6, 'id'...        None  relations   \n",
       "4  [{'text': 'Den', 'start': 0, 'end': 3, 'id': 0...        None  relations   \n",
       "\n",
       "                                           relations  answer  \n",
       "0  [{'head': 4, 'child': 3, 'head_span': {'start'...  accept  \n",
       "1  [{'head': 5, 'child': 2, 'head_span': {'start'...  accept  \n",
       "2  [{'head': 1, 'child': 0, 'head_span': {'start'...  accept  \n",
       "3  [{'head': 1, 'child': 0, 'head_span': {'start'...  accept  \n",
       "4  [{'head': 2, 'child': 1, 'head_span': {'start'...  accept  "
      ]
     },
     "execution_count": 22,
     "metadata": {},
     "output_type": "execute_result"
    }
   ],
   "source": [
    "df_j.head()"
   ]
  },
  {
   "cell_type": "code",
   "execution_count": 23,
   "metadata": {},
   "outputs": [
    {
     "data": {
      "text/html": [
       "<div>\n",
       "<style scoped>\n",
       "    .dataframe tbody tr th:only-of-type {\n",
       "        vertical-align: middle;\n",
       "    }\n",
       "\n",
       "    .dataframe tbody tr th {\n",
       "        vertical-align: top;\n",
       "    }\n",
       "\n",
       "    .dataframe thead th {\n",
       "        text-align: right;\n",
       "    }\n",
       "</style>\n",
       "<table border=\"1\" class=\"dataframe\">\n",
       "  <thead>\n",
       "    <tr style=\"text-align: right;\">\n",
       "      <th></th>\n",
       "      <th>text</th>\n",
       "      <th>spans</th>\n",
       "      <th>tokens</th>\n",
       "      <th>relations</th>\n",
       "      <th>#words</th>\n",
       "      <th>#tokens</th>\n",
       "      <th>#spans</th>\n",
       "      <th>#relations</th>\n",
       "    </tr>\n",
       "  </thead>\n",
       "  <tbody>\n",
       "    <tr>\n",
       "      <th>0</th>\n",
       "      <td>Knoblauch und eine Schalotte schälen und in kl...</td>\n",
       "      <td>[{'text': 'Knoblauch', 'start': 0, 'token_star...</td>\n",
       "      <td>[{'text': 'Knoblauch', 'start': 0, 'end': 9, '...</td>\n",
       "      <td>[{'head': 4, 'child': 3, 'head_span': {'start'...</td>\n",
       "      <td>138</td>\n",
       "      <td>163</td>\n",
       "      <td>83</td>\n",
       "      <td>71</td>\n",
       "    </tr>\n",
       "    <tr>\n",
       "      <th>1</th>\n",
       "      <td>Zunächst den Blumenkohl in Stücke schneiden. D...</td>\n",
       "      <td>[{'start': 0, 'end': 8, 'token_start': 0, 'tok...</td>\n",
       "      <td>[{'text': 'Zunächst', 'start': 0, 'end': 8, 'i...</td>\n",
       "      <td>[{'head': 5, 'child': 2, 'head_span': {'start'...</td>\n",
       "      <td>68</td>\n",
       "      <td>82</td>\n",
       "      <td>40</td>\n",
       "      <td>31</td>\n",
       "    </tr>\n",
       "    <tr>\n",
       "      <th>2</th>\n",
       "      <td>Auberginen würfeln, Knoblauch, Zwiebeln und Ch...</td>\n",
       "      <td>[{'text': 'Auberginen', 'start': 0, 'token_sta...</td>\n",
       "      <td>[{'text': 'Auberginen', 'start': 0, 'end': 10,...</td>\n",
       "      <td>[{'head': 1, 'child': 0, 'head_span': {'start'...</td>\n",
       "      <td>108</td>\n",
       "      <td>137</td>\n",
       "      <td>35</td>\n",
       "      <td>35</td>\n",
       "    </tr>\n",
       "    <tr>\n",
       "      <th>3</th>\n",
       "      <td>Porree putzen und Zwiebel schälen. Beides in R...</td>\n",
       "      <td>[{'text': 'Porree', 'start': 0, 'token_start':...</td>\n",
       "      <td>[{'text': 'Porree', 'start': 0, 'end': 6, 'id'...</td>\n",
       "      <td>[{'head': 1, 'child': 0, 'head_span': {'start'...</td>\n",
       "      <td>87</td>\n",
       "      <td>105</td>\n",
       "      <td>57</td>\n",
       "      <td>48</td>\n",
       "    </tr>\n",
       "    <tr>\n",
       "      <th>4</th>\n",
       "      <td>Den Kürbis schälen, die Kerne entfernen und da...</td>\n",
       "      <td>[{'text': 'Kürbis', 'start': 4, 'token_start':...</td>\n",
       "      <td>[{'text': 'Den', 'start': 0, 'end': 3, 'id': 0...</td>\n",
       "      <td>[{'head': 2, 'child': 1, 'head_span': {'start'...</td>\n",
       "      <td>87</td>\n",
       "      <td>107</td>\n",
       "      <td>52</td>\n",
       "      <td>42</td>\n",
       "    </tr>\n",
       "  </tbody>\n",
       "</table>\n",
       "</div>"
      ],
      "text/plain": [
       "                                                text  \\\n",
       "0  Knoblauch und eine Schalotte schälen und in kl...   \n",
       "1  Zunächst den Blumenkohl in Stücke schneiden. D...   \n",
       "2  Auberginen würfeln, Knoblauch, Zwiebeln und Ch...   \n",
       "3  Porree putzen und Zwiebel schälen. Beides in R...   \n",
       "4  Den Kürbis schälen, die Kerne entfernen und da...   \n",
       "\n",
       "                                               spans  \\\n",
       "0  [{'text': 'Knoblauch', 'start': 0, 'token_star...   \n",
       "1  [{'start': 0, 'end': 8, 'token_start': 0, 'tok...   \n",
       "2  [{'text': 'Auberginen', 'start': 0, 'token_sta...   \n",
       "3  [{'text': 'Porree', 'start': 0, 'token_start':...   \n",
       "4  [{'text': 'Kürbis', 'start': 4, 'token_start':...   \n",
       "\n",
       "                                              tokens  \\\n",
       "0  [{'text': 'Knoblauch', 'start': 0, 'end': 9, '...   \n",
       "1  [{'text': 'Zunächst', 'start': 0, 'end': 8, 'i...   \n",
       "2  [{'text': 'Auberginen', 'start': 0, 'end': 10,...   \n",
       "3  [{'text': 'Porree', 'start': 0, 'end': 6, 'id'...   \n",
       "4  [{'text': 'Den', 'start': 0, 'end': 3, 'id': 0...   \n",
       "\n",
       "                                           relations  #words  #tokens  #spans  \\\n",
       "0  [{'head': 4, 'child': 3, 'head_span': {'start'...     138      163      83   \n",
       "1  [{'head': 5, 'child': 2, 'head_span': {'start'...      68       82      40   \n",
       "2  [{'head': 1, 'child': 0, 'head_span': {'start'...     108      137      35   \n",
       "3  [{'head': 1, 'child': 0, 'head_span': {'start'...      87      105      57   \n",
       "4  [{'head': 2, 'child': 1, 'head_span': {'start'...      87      107      52   \n",
       "\n",
       "   #relations  \n",
       "0          71  \n",
       "1          31  \n",
       "2          35  \n",
       "3          48  \n",
       "4          42  "
      ]
     },
     "execution_count": 23,
     "metadata": {},
     "output_type": "execute_result"
    }
   ],
   "source": [
    "df_j = df_j.drop(['_input_hash', '_task_hash', \"_session_id\", \"_view_id\", \"answer\"], axis=1)\n",
    "df_j[\"#words\"] = df_j[\"text\"].apply(lambda x: len(x.split()))\n",
    "df_j[\"#tokens\"] = df_j[\"tokens\"].apply(lambda x: len(x))\n",
    "df_j[\"#spans\"] = df_j[\"spans\"].apply(lambda x: len(x))\n",
    "df_j[\"#relations\"] = df_j[\"relations\"].apply(lambda x: len(x))\n",
    "df_j.head()"
   ]
  },
  {
   "cell_type": "code",
   "execution_count": 24,
   "metadata": {},
   "outputs": [
    {
     "data": {
      "text/html": [
       "<div>\n",
       "<style scoped>\n",
       "    .dataframe tbody tr th:only-of-type {\n",
       "        vertical-align: middle;\n",
       "    }\n",
       "\n",
       "    .dataframe tbody tr th {\n",
       "        vertical-align: top;\n",
       "    }\n",
       "\n",
       "    .dataframe thead th {\n",
       "        text-align: right;\n",
       "    }\n",
       "</style>\n",
       "<table border=\"1\" class=\"dataframe\">\n",
       "  <thead>\n",
       "    <tr style=\"text-align: right;\">\n",
       "      <th></th>\n",
       "      <th>text</th>\n",
       "      <th>spans</th>\n",
       "      <th>tokens</th>\n",
       "      <th>relations</th>\n",
       "      <th>#words</th>\n",
       "      <th>#tokens</th>\n",
       "      <th>#spans</th>\n",
       "      <th>#relations</th>\n",
       "      <th>#arg0</th>\n",
       "      <th>#arg1</th>\n",
       "      <th>#arg</th>\n",
       "    </tr>\n",
       "  </thead>\n",
       "  <tbody>\n",
       "    <tr>\n",
       "      <th>0</th>\n",
       "      <td>Knoblauch und eine Schalotte schälen und in kl...</td>\n",
       "      <td>[{'text': 'Knoblauch', 'start': 0, 'token_star...</td>\n",
       "      <td>[{'text': 'Knoblauch', 'start': 0, 'end': 9, '...</td>\n",
       "      <td>[{'head': 4, 'child': 3, 'head_span': {'start'...</td>\n",
       "      <td>138</td>\n",
       "      <td>163</td>\n",
       "      <td>83</td>\n",
       "      <td>71</td>\n",
       "      <td>28</td>\n",
       "      <td>15</td>\n",
       "      <td>28</td>\n",
       "    </tr>\n",
       "    <tr>\n",
       "      <th>1</th>\n",
       "      <td>Zunächst den Blumenkohl in Stücke schneiden. D...</td>\n",
       "      <td>[{'start': 0, 'end': 8, 'token_start': 0, 'tok...</td>\n",
       "      <td>[{'text': 'Zunächst', 'start': 0, 'end': 8, 'i...</td>\n",
       "      <td>[{'head': 5, 'child': 2, 'head_span': {'start'...</td>\n",
       "      <td>68</td>\n",
       "      <td>82</td>\n",
       "      <td>40</td>\n",
       "      <td>31</td>\n",
       "      <td>18</td>\n",
       "      <td>1</td>\n",
       "      <td>12</td>\n",
       "    </tr>\n",
       "    <tr>\n",
       "      <th>2</th>\n",
       "      <td>Auberginen würfeln, Knoblauch, Zwiebeln und Ch...</td>\n",
       "      <td>[{'text': 'Auberginen', 'start': 0, 'token_sta...</td>\n",
       "      <td>[{'text': 'Auberginen', 'start': 0, 'end': 10,...</td>\n",
       "      <td>[{'head': 1, 'child': 0, 'head_span': {'start'...</td>\n",
       "      <td>108</td>\n",
       "      <td>137</td>\n",
       "      <td>35</td>\n",
       "      <td>35</td>\n",
       "      <td>16</td>\n",
       "      <td>10</td>\n",
       "      <td>9</td>\n",
       "    </tr>\n",
       "    <tr>\n",
       "      <th>3</th>\n",
       "      <td>Porree putzen und Zwiebel schälen. Beides in R...</td>\n",
       "      <td>[{'text': 'Porree', 'start': 0, 'token_start':...</td>\n",
       "      <td>[{'text': 'Porree', 'start': 0, 'end': 6, 'id'...</td>\n",
       "      <td>[{'head': 1, 'child': 0, 'head_span': {'start'...</td>\n",
       "      <td>87</td>\n",
       "      <td>105</td>\n",
       "      <td>57</td>\n",
       "      <td>48</td>\n",
       "      <td>26</td>\n",
       "      <td>9</td>\n",
       "      <td>13</td>\n",
       "    </tr>\n",
       "    <tr>\n",
       "      <th>4</th>\n",
       "      <td>Den Kürbis schälen, die Kerne entfernen und da...</td>\n",
       "      <td>[{'text': 'Kürbis', 'start': 4, 'token_start':...</td>\n",
       "      <td>[{'text': 'Den', 'start': 0, 'end': 3, 'id': 0...</td>\n",
       "      <td>[{'head': 2, 'child': 1, 'head_span': {'start'...</td>\n",
       "      <td>87</td>\n",
       "      <td>107</td>\n",
       "      <td>52</td>\n",
       "      <td>42</td>\n",
       "      <td>30</td>\n",
       "      <td>4</td>\n",
       "      <td>8</td>\n",
       "    </tr>\n",
       "  </tbody>\n",
       "</table>\n",
       "</div>"
      ],
      "text/plain": [
       "                                                text  \\\n",
       "0  Knoblauch und eine Schalotte schälen und in kl...   \n",
       "1  Zunächst den Blumenkohl in Stücke schneiden. D...   \n",
       "2  Auberginen würfeln, Knoblauch, Zwiebeln und Ch...   \n",
       "3  Porree putzen und Zwiebel schälen. Beides in R...   \n",
       "4  Den Kürbis schälen, die Kerne entfernen und da...   \n",
       "\n",
       "                                               spans  \\\n",
       "0  [{'text': 'Knoblauch', 'start': 0, 'token_star...   \n",
       "1  [{'start': 0, 'end': 8, 'token_start': 0, 'tok...   \n",
       "2  [{'text': 'Auberginen', 'start': 0, 'token_sta...   \n",
       "3  [{'text': 'Porree', 'start': 0, 'token_start':...   \n",
       "4  [{'text': 'Kürbis', 'start': 4, 'token_start':...   \n",
       "\n",
       "                                              tokens  \\\n",
       "0  [{'text': 'Knoblauch', 'start': 0, 'end': 9, '...   \n",
       "1  [{'text': 'Zunächst', 'start': 0, 'end': 8, 'i...   \n",
       "2  [{'text': 'Auberginen', 'start': 0, 'end': 10,...   \n",
       "3  [{'text': 'Porree', 'start': 0, 'end': 6, 'id'...   \n",
       "4  [{'text': 'Den', 'start': 0, 'end': 3, 'id': 0...   \n",
       "\n",
       "                                           relations  #words  #tokens  #spans  \\\n",
       "0  [{'head': 4, 'child': 3, 'head_span': {'start'...     138      163      83   \n",
       "1  [{'head': 5, 'child': 2, 'head_span': {'start'...      68       82      40   \n",
       "2  [{'head': 1, 'child': 0, 'head_span': {'start'...     108      137      35   \n",
       "3  [{'head': 1, 'child': 0, 'head_span': {'start'...      87      105      57   \n",
       "4  [{'head': 2, 'child': 1, 'head_span': {'start'...      87      107      52   \n",
       "\n",
       "   #relations  #arg0  #arg1  #arg  \n",
       "0          71     28     15    28  \n",
       "1          31     18      1    12  \n",
       "2          35     16     10     9  \n",
       "3          48     26      9    13  \n",
       "4          42     30      4     8  "
      ]
     },
     "execution_count": 24,
     "metadata": {},
     "output_type": "execute_result"
    }
   ],
   "source": [
    "df_j[\"#arg0\"] = df_j[\"relations\"].apply(lambda x: [x[i][\"label\"] for i in range(len(x))].count(\"ARG0\"))\n",
    "df_j[\"#arg1\"] = df_j[\"relations\"].apply(lambda x: [x[i][\"label\"] for i in range(len(x))].count(\"ARG1\"))\n",
    "df_j[\"#arg\"] = df_j[\"relations\"].apply(lambda x: [x[i][\"label\"] for i in range(len(x))].count(\"ARG\"))\n",
    "df_j.head()"
   ]
  },
  {
   "cell_type": "code",
   "execution_count": 25,
   "metadata": {},
   "outputs": [
    {
     "data": {
      "text/html": [
       "<div>\n",
       "<style scoped>\n",
       "    .dataframe tbody tr th:only-of-type {\n",
       "        vertical-align: middle;\n",
       "    }\n",
       "\n",
       "    .dataframe tbody tr th {\n",
       "        vertical-align: top;\n",
       "    }\n",
       "\n",
       "    .dataframe thead th {\n",
       "        text-align: right;\n",
       "    }\n",
       "</style>\n",
       "<table border=\"1\" class=\"dataframe\">\n",
       "  <thead>\n",
       "    <tr style=\"text-align: right;\">\n",
       "      <th></th>\n",
       "      <th>text</th>\n",
       "      <th>spans</th>\n",
       "      <th>tokens</th>\n",
       "      <th>relations</th>\n",
       "      <th>#words</th>\n",
       "      <th>#tokens</th>\n",
       "      <th>#spans</th>\n",
       "      <th>#relations</th>\n",
       "      <th>#arg0</th>\n",
       "      <th>#arg1</th>\n",
       "      <th>#arg</th>\n",
       "      <th>#Z</th>\n",
       "      <th>#V</th>\n",
       "      <th>#T</th>\n",
       "      <th>#ZP</th>\n",
       "      <th>#D</th>\n",
       "      <th>#A</th>\n",
       "      <th>#TP</th>\n",
       "      <th>#P</th>\n",
       "    </tr>\n",
       "  </thead>\n",
       "  <tbody>\n",
       "    <tr>\n",
       "      <th>0</th>\n",
       "      <td>Knoblauch und eine Schalotte schälen und in kl...</td>\n",
       "      <td>[{'text': 'Knoblauch', 'start': 0, 'token_star...</td>\n",
       "      <td>[{'text': 'Knoblauch', 'start': 0, 'end': 9, '...</td>\n",
       "      <td>[{'head': 4, 'child': 3, 'head_span': {'start'...</td>\n",
       "      <td>138</td>\n",
       "      <td>163</td>\n",
       "      <td>83</td>\n",
       "      <td>71</td>\n",
       "      <td>28</td>\n",
       "      <td>15</td>\n",
       "      <td>28</td>\n",
       "      <td>26</td>\n",
       "      <td>25</td>\n",
       "      <td>5</td>\n",
       "      <td>1</td>\n",
       "      <td>2</td>\n",
       "      <td>9</td>\n",
       "      <td>1</td>\n",
       "      <td>14</td>\n",
       "    </tr>\n",
       "    <tr>\n",
       "      <th>1</th>\n",
       "      <td>Zunächst den Blumenkohl in Stücke schneiden. D...</td>\n",
       "      <td>[{'start': 0, 'end': 8, 'token_start': 0, 'tok...</td>\n",
       "      <td>[{'text': 'Zunächst', 'start': 0, 'end': 8, 'i...</td>\n",
       "      <td>[{'head': 5, 'child': 2, 'head_span': {'start'...</td>\n",
       "      <td>68</td>\n",
       "      <td>82</td>\n",
       "      <td>40</td>\n",
       "      <td>31</td>\n",
       "      <td>18</td>\n",
       "      <td>1</td>\n",
       "      <td>12</td>\n",
       "      <td>10</td>\n",
       "      <td>16</td>\n",
       "      <td>1</td>\n",
       "      <td>2</td>\n",
       "      <td>4</td>\n",
       "      <td>4</td>\n",
       "      <td>2</td>\n",
       "      <td>1</td>\n",
       "    </tr>\n",
       "    <tr>\n",
       "      <th>2</th>\n",
       "      <td>Auberginen würfeln, Knoblauch, Zwiebeln und Ch...</td>\n",
       "      <td>[{'text': 'Auberginen', 'start': 0, 'token_sta...</td>\n",
       "      <td>[{'text': 'Auberginen', 'start': 0, 'end': 10,...</td>\n",
       "      <td>[{'head': 1, 'child': 0, 'head_span': {'start'...</td>\n",
       "      <td>108</td>\n",
       "      <td>137</td>\n",
       "      <td>35</td>\n",
       "      <td>35</td>\n",
       "      <td>16</td>\n",
       "      <td>10</td>\n",
       "      <td>9</td>\n",
       "      <td>14</td>\n",
       "      <td>8</td>\n",
       "      <td>2</td>\n",
       "      <td>2</td>\n",
       "      <td>1</td>\n",
       "      <td>2</td>\n",
       "      <td>1</td>\n",
       "      <td>5</td>\n",
       "    </tr>\n",
       "    <tr>\n",
       "      <th>3</th>\n",
       "      <td>Porree putzen und Zwiebel schälen. Beides in R...</td>\n",
       "      <td>[{'text': 'Porree', 'start': 0, 'token_start':...</td>\n",
       "      <td>[{'text': 'Porree', 'start': 0, 'end': 6, 'id'...</td>\n",
       "      <td>[{'head': 1, 'child': 0, 'head_span': {'start'...</td>\n",
       "      <td>87</td>\n",
       "      <td>105</td>\n",
       "      <td>57</td>\n",
       "      <td>48</td>\n",
       "      <td>26</td>\n",
       "      <td>9</td>\n",
       "      <td>13</td>\n",
       "      <td>20</td>\n",
       "      <td>21</td>\n",
       "      <td>2</td>\n",
       "      <td>1</td>\n",
       "      <td>1</td>\n",
       "      <td>5</td>\n",
       "      <td>0</td>\n",
       "      <td>7</td>\n",
       "    </tr>\n",
       "    <tr>\n",
       "      <th>4</th>\n",
       "      <td>Den Kürbis schälen, die Kerne entfernen und da...</td>\n",
       "      <td>[{'text': 'Kürbis', 'start': 4, 'token_start':...</td>\n",
       "      <td>[{'text': 'Den', 'start': 0, 'end': 3, 'id': 0...</td>\n",
       "      <td>[{'head': 2, 'child': 1, 'head_span': {'start'...</td>\n",
       "      <td>87</td>\n",
       "      <td>107</td>\n",
       "      <td>52</td>\n",
       "      <td>42</td>\n",
       "      <td>30</td>\n",
       "      <td>4</td>\n",
       "      <td>8</td>\n",
       "      <td>23</td>\n",
       "      <td>21</td>\n",
       "      <td>0</td>\n",
       "      <td>2</td>\n",
       "      <td>1</td>\n",
       "      <td>3</td>\n",
       "      <td>0</td>\n",
       "      <td>2</td>\n",
       "    </tr>\n",
       "  </tbody>\n",
       "</table>\n",
       "</div>"
      ],
      "text/plain": [
       "                                                text  \\\n",
       "0  Knoblauch und eine Schalotte schälen und in kl...   \n",
       "1  Zunächst den Blumenkohl in Stücke schneiden. D...   \n",
       "2  Auberginen würfeln, Knoblauch, Zwiebeln und Ch...   \n",
       "3  Porree putzen und Zwiebel schälen. Beides in R...   \n",
       "4  Den Kürbis schälen, die Kerne entfernen und da...   \n",
       "\n",
       "                                               spans  \\\n",
       "0  [{'text': 'Knoblauch', 'start': 0, 'token_star...   \n",
       "1  [{'start': 0, 'end': 8, 'token_start': 0, 'tok...   \n",
       "2  [{'text': 'Auberginen', 'start': 0, 'token_sta...   \n",
       "3  [{'text': 'Porree', 'start': 0, 'token_start':...   \n",
       "4  [{'text': 'Kürbis', 'start': 4, 'token_start':...   \n",
       "\n",
       "                                              tokens  \\\n",
       "0  [{'text': 'Knoblauch', 'start': 0, 'end': 9, '...   \n",
       "1  [{'text': 'Zunächst', 'start': 0, 'end': 8, 'i...   \n",
       "2  [{'text': 'Auberginen', 'start': 0, 'end': 10,...   \n",
       "3  [{'text': 'Porree', 'start': 0, 'end': 6, 'id'...   \n",
       "4  [{'text': 'Den', 'start': 0, 'end': 3, 'id': 0...   \n",
       "\n",
       "                                           relations  #words  #tokens  #spans  \\\n",
       "0  [{'head': 4, 'child': 3, 'head_span': {'start'...     138      163      83   \n",
       "1  [{'head': 5, 'child': 2, 'head_span': {'start'...      68       82      40   \n",
       "2  [{'head': 1, 'child': 0, 'head_span': {'start'...     108      137      35   \n",
       "3  [{'head': 1, 'child': 0, 'head_span': {'start'...      87      105      57   \n",
       "4  [{'head': 2, 'child': 1, 'head_span': {'start'...      87      107      52   \n",
       "\n",
       "   #relations  #arg0  #arg1  #arg  #Z  #V  #T  #ZP  #D  #A  #TP  #P  \n",
       "0          71     28     15    28  26  25   5    1   2   9    1  14  \n",
       "1          31     18      1    12  10  16   1    2   4   4    2   1  \n",
       "2          35     16     10     9  14   8   2    2   1   2    1   5  \n",
       "3          48     26      9    13  20  21   2    1   1   5    0   7  \n",
       "4          42     30      4     8  23  21   0    2   1   3    0   2  "
      ]
     },
     "execution_count": 25,
     "metadata": {},
     "output_type": "execute_result"
    }
   ],
   "source": [
    "df_j[\"#Z\"] = df_j[\"spans\"].apply(lambda x: [x[i][\"label\"] for i in range(len(x))].count(\"Z\"))\n",
    "df_j[\"#V\"] = df_j[\"spans\"].apply(lambda x: [x[i][\"label\"] for i in range(len(x))].count(\"V\"))\n",
    "df_j[\"#T\"] = df_j[\"spans\"].apply(lambda x: [x[i][\"label\"] for i in range(len(x))].count(\"TOOL\"))\n",
    "df_j[\"#ZP\"] = df_j[\"spans\"].apply(lambda x: [x[i][\"label\"] for i in range(len(x))].count(\"ZEITP\"))\n",
    "df_j[\"#D\"] = df_j[\"spans\"].apply(lambda x: [x[i][\"label\"] for i in range(len(x))].count(\"DAUER\"))\n",
    "df_j[\"#A\"] = df_j[\"spans\"].apply(lambda x: [x[i][\"label\"] for i in range(len(x))].count(\"ATTR\"))\n",
    "df_j[\"#TP\"] = df_j[\"spans\"].apply(lambda x: [x[i][\"label\"] for i in range(len(x))].count(\"TEMP\"))\n",
    "df_j[\"#P\"] = df_j[\"spans\"].apply(lambda x: [x[i][\"label\"] for i in range(len(x))].count(\"PRÄP\"))\n",
    "df_j.head()"
   ]
  },
  {
   "cell_type": "code",
   "execution_count": 26,
   "metadata": {},
   "outputs": [
    {
     "name": "stdout",
     "output_type": "stream",
     "text": [
      "31333\n"
     ]
    }
   ],
   "source": [
    "# Anzahl gelabelter Entities:\n",
    "entities_total = df_j[\"#spans\"].sum()\n",
    "print(entities_total)"
   ]
  },
  {
   "cell_type": "code",
   "execution_count": 27,
   "metadata": {},
   "outputs": [
    {
     "name": "stdout",
     "output_type": "stream",
     "text": [
      "26622\n"
     ]
    }
   ],
   "source": [
    "# Anzahl gelabelter Relations:\n",
    "relations_total = df_j[\"#relations\"].sum()\n",
    "print(relations_total)"
   ]
  },
  {
   "cell_type": "code",
   "execution_count": 28,
   "metadata": {},
   "outputs": [],
   "source": [
    "# Anzahl Entities per Klasse\n",
    "entities = [\"#Z\", \"#V\",\"#T\",\"#ZP\",\"#D\",\"#A\",\"#TP\",\"#P\"]\n",
    "amount_ent = []\n",
    "for ent in entities:\n",
    "    amount_ent.append((ent, df_j[ent].sum()))"
   ]
  },
  {
   "cell_type": "code",
   "execution_count": 29,
   "metadata": {},
   "outputs": [
    {
     "data": {
      "text/plain": [
       "[('#Z', 10215),\n",
       " ('#V', 9909),\n",
       " ('#T', 1467),\n",
       " ('#ZP', 943),\n",
       " ('#D', 998),\n",
       " ('#A', 3515),\n",
       " ('#TP', 364),\n",
       " ('#P', 3922)]"
      ]
     },
     "execution_count": 29,
     "metadata": {},
     "output_type": "execute_result"
    }
   ],
   "source": [
    "amount_ent"
   ]
  },
  {
   "cell_type": "code",
   "execution_count": 30,
   "metadata": {},
   "outputs": [
    {
     "data": {
      "text/plain": [
       "<BarContainer object of 8 artists>"
      ]
     },
     "execution_count": 30,
     "metadata": {},
     "output_type": "execute_result"
    },
    {
     "data": {
      "image/png": "[encoded data removed]",
      "text/plain": [
       "<Figure size 432x288 with 1 Axes>"
      ]
     },
     "metadata": {},
     "output_type": "display_data"
    }
   ],
   "source": [
    "plt.bar([i[0] for i in amount_ent], [i[1] for i in amount_ent])"
   ]
  },
  {
   "cell_type": "code",
   "execution_count": 31,
   "metadata": {},
   "outputs": [],
   "source": [
    "# Anzahl Relations per Klasse\n",
    "relations = [\"#arg0\", \"#arg1\", \"#arg\"]\n",
    "amount_rel = []\n",
    "for rel in relations:\n",
    "    amount_rel.append((rel, df_j[rel].sum()))"
   ]
  },
  {
   "cell_type": "code",
   "execution_count": 32,
   "metadata": {},
   "outputs": [
    {
     "data": {
      "text/plain": [
       "[('#arg0', 11905), ('#arg1', 5044), ('#arg', 9673)]"
      ]
     },
     "execution_count": 32,
     "metadata": {},
     "output_type": "execute_result"
    }
   ],
   "source": [
    "amount_rel"
   ]
  },
  {
   "cell_type": "code",
   "execution_count": 33,
   "metadata": {},
   "outputs": [
    {
     "data": {
      "text/plain": [
       "<BarContainer object of 3 artists>"
      ]
     },
     "execution_count": 33,
     "metadata": {},
     "output_type": "execute_result"
    },
    {
     "data": {
      "image/png": "[encoded data removed]",
      "text/plain": [
       "<Figure size 432x288 with 1 Axes>"
      ]
     },
     "metadata": {},
     "output_type": "display_data"
    }
   ],
   "source": [
    "plt.bar([i[0] for i in amount_rel], [i[1] for i in amount_rel])"
   ]
  },
  {
   "cell_type": "code",
   "execution_count": 43,
   "metadata": {},
   "outputs": [
    {
     "name": "stdout",
     "output_type": "stream",
     "text": [
      "Entities pro Rezept: 53.83676975945017\n"
     ]
    }
   ],
   "source": [
    "# durchschnitt pro rezept\n",
    "entities = [\"#Z\", \"#V\",\"#T\",\"#ZP\",\"#D\",\"#A\",\"#TP\",\"#P\"]\n",
    "av_ent = []\n",
    "for ent in entities:\n",
    "    av_ent.append((ent, df_j[ent].mean()))\n",
    "print(\"Entities pro Rezept:\", sum([i[1] for i in av_ent]))"
   ]
  },
  {
   "cell_type": "code",
   "execution_count": 44,
   "metadata": {},
   "outputs": [
    {
     "name": "stdout",
     "output_type": "stream",
     "text": [
      "Relations pro Rezept: 45.74226804123711\n"
     ]
    }
   ],
   "source": [
    "relations = [\"#arg0\", \"#arg1\", \"#arg\"]\n",
    "av_rel = []\n",
    "for rel in relations:\n",
    "    av_rel.append((rel, df_j[rel].mean()))\n",
    "print(\"Relations pro Rezept:\", sum([i[1] for i in av_rel]))"
   ]
  },
  {
   "cell_type": "code",
   "execution_count": 40,
   "metadata": {},
   "outputs": [
    {
     "data": {
      "text/plain": [
       "[('#arg0', 20.4553264604811),\n",
       " ('#arg1', 8.666666666666666),\n",
       " ('#arg', 16.620274914089347)]"
      ]
     },
     "execution_count": 40,
     "metadata": {},
     "output_type": "execute_result"
    }
   ],
   "source": [
    "av_rel"
   ]
  },
  {
   "cell_type": "code",
   "execution_count": 45,
   "metadata": {},
   "outputs": [
    {
     "data": {
      "text/plain": [
       "[('#Z', 17.551546391752577),\n",
       " ('#V', 17.02577319587629),\n",
       " ('#T', 2.520618556701031),\n",
       " ('#ZP', 1.620274914089347),\n",
       " ('#D', 1.7147766323024054),\n",
       " ('#A', 6.0395189003436425),\n",
       " ('#TP', 0.6254295532646048),\n",
       " ('#P', 6.738831615120275)]"
      ]
     },
     "execution_count": 45,
     "metadata": {},
     "output_type": "execute_result"
    }
   ],
   "source": [
    "av_ent"
   ]
  },
  {
   "cell_type": "code",
   "execution_count": null,
   "metadata": {},
   "outputs": [],
   "source": []
  },
  {
   "cell_type": "code",
   "execution_count": null,
   "metadata": {},
   "outputs": [],
   "source": []
  }
 ],
 "metadata": {
  "kernelspec": {
   "display_name": "Python 3",
   "language": "python",
   "name": "python3"
  },
  "language_info": {
   "codemirror_mode": {
    "name": "ipython",
    "version": 3
   },
   "file_extension": ".py",
   "mimetype": "text/x-python",
   "name": "python",
   "nbconvert_exporter": "python",
   "pygments_lexer": "ipython3",
   "version": "3.8.3"
  }
 },
 "nbformat": 4,
 "nbformat_minor": 4
}
