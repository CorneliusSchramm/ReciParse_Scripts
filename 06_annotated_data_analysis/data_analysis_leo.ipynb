{
 "cells": [
  {
   "cell_type": "markdown",
   "metadata": {},
   "source": [
    "## Setup"
   ]
  },
  {
   "cell_type": "code",
   "execution_count": 4,
   "metadata": {},
   "outputs": [],
   "source": [
    "import pandas as pd\n",
    "import numpy as np\n",
    "import json\n",
    "import spacy\n",
    "import matplotlib.pyplot as plt\n",
    "import seaborn as sns\n",
    "from collections import Counter\n",
    "\n",
    "sns.set()"
   ]
  },
  {
   "cell_type": "code",
   "execution_count": 5,
   "metadata": {},
   "outputs": [],
   "source": [
    "input_path = \"/Users/Leonidas/Universität St.Gallen/STUD-Capstoneproject Tell 6 - General/02-Coding/01-Data/12_annotated_batches/batch1_all_f.jsonl\"\n",
    "path = r\"/Users/Leonidas/Universität St.Gallen/STUD-Capstoneproject Tell 6 - General/\""
   ]
  },
  {
   "cell_type": "code",
   "execution_count": 8,
   "metadata": {},
   "outputs": [
    {
     "ename": "OSError",
     "evalue": "[E053] Could not read config.cfg from /Users/leonidas/anaconda3/envs/ds-env/lib/python3.8/site-packages/de_core_news_lg/de_core_news_lg-2.3.0/config.cfg",
     "output_type": "error",
     "traceback": [
      "\u001b[0;31m---------------------------------------------------------------------------\u001b[0m",
      "\u001b[0;31mOSError\u001b[0m                                   Traceback (most recent call last)",
      "\u001b[0;32m<ipython-input-8-a687324f66ee>\u001b[0m in \u001b[0;36m<module>\u001b[0;34m\u001b[0m\n\u001b[1;32m      2\u001b[0m \u001b[0mdisabled\u001b[0m \u001b[0;34m=\u001b[0m \u001b[0;34m[\u001b[0m\u001b[0;34m'parser'\u001b[0m\u001b[0;34m,\u001b[0m \u001b[0;34m'tagger'\u001b[0m\u001b[0;34m,\u001b[0m \u001b[0;34m'ner'\u001b[0m\u001b[0;34m]\u001b[0m\u001b[0;34m\u001b[0m\u001b[0;34m\u001b[0m\u001b[0m\n\u001b[1;32m      3\u001b[0m \u001b[0;31m# nlp = spacy.load('de_core_news_lg', disable=disabled)\u001b[0m\u001b[0;34m\u001b[0m\u001b[0;34m\u001b[0m\u001b[0;34m\u001b[0m\u001b[0m\n\u001b[0;32m----> 4\u001b[0;31m \u001b[0mnlp\u001b[0m \u001b[0;34m=\u001b[0m \u001b[0mspacy\u001b[0m\u001b[0;34m.\u001b[0m\u001b[0mload\u001b[0m\u001b[0;34m(\u001b[0m\u001b[0;34m'de_core_news_lg'\u001b[0m\u001b[0;34m)\u001b[0m\u001b[0;34m\u001b[0m\u001b[0;34m\u001b[0m\u001b[0m\n\u001b[0m\u001b[1;32m      5\u001b[0m \u001b[0mtokenize\u001b[0m \u001b[0;34m=\u001b[0m \u001b[0mspacy\u001b[0m\u001b[0;34m.\u001b[0m\u001b[0mload\u001b[0m\u001b[0;34m(\u001b[0m\u001b[0;34m\"/Users/Leonidas/Universität St.Gallen/STUD-Capstoneproject Tell 6 - General/02-Coding/03-Models/Custom Tokenizer/de_custom_v2\"\u001b[0m\u001b[0;34m)\u001b[0m\u001b[0;34m\u001b[0m\u001b[0;34m\u001b[0m\u001b[0m\n",
      "\u001b[0;32m~/anaconda3/envs/ds-env/lib/python3.8/site-packages/spacy/__init__.py\u001b[0m in \u001b[0;36mload\u001b[0;34m(name, disable, exclude, config)\u001b[0m\n",
      "\u001b[0;32m~/anaconda3/envs/ds-env/lib/python3.8/site-packages/spacy/util.py\u001b[0m in \u001b[0;36mload_model\u001b[0;34m(name, vocab, disable, exclude, config)\u001b[0m\n",
      "\u001b[0;32m~/anaconda3/envs/ds-env/lib/python3.8/site-packages/spacy/util.py\u001b[0m in \u001b[0;36mload_model_from_package\u001b[0;34m(name, vocab, disable, exclude, config)\u001b[0m\n",
      "\u001b[0;32m~/anaconda3/envs/ds-env/lib/python3.8/site-packages/de_core_news_lg/__init__.py\u001b[0m in \u001b[0;36mload\u001b[0;34m(**overrides)\u001b[0m\n\u001b[1;32m     10\u001b[0m \u001b[0;34m\u001b[0m\u001b[0m\n\u001b[1;32m     11\u001b[0m \u001b[0;32mdef\u001b[0m \u001b[0mload\u001b[0m\u001b[0;34m(\u001b[0m\u001b[0;34m**\u001b[0m\u001b[0moverrides\u001b[0m\u001b[0;34m)\u001b[0m\u001b[0;34m:\u001b[0m\u001b[0;34m\u001b[0m\u001b[0;34m\u001b[0m\u001b[0m\n\u001b[0;32m---> 12\u001b[0;31m     \u001b[0;32mreturn\u001b[0m \u001b[0mload_model_from_init_py\u001b[0m\u001b[0;34m(\u001b[0m\u001b[0m__file__\u001b[0m\u001b[0;34m,\u001b[0m \u001b[0;34m**\u001b[0m\u001b[0moverrides\u001b[0m\u001b[0;34m)\u001b[0m\u001b[0;34m\u001b[0m\u001b[0;34m\u001b[0m\u001b[0m\n\u001b[0m",
      "\u001b[0;32m~/anaconda3/envs/ds-env/lib/python3.8/site-packages/spacy/util.py\u001b[0m in \u001b[0;36mload_model_from_init_py\u001b[0;34m(init_file, vocab, disable, exclude, config)\u001b[0m\n",
      "\u001b[0;32m~/anaconda3/envs/ds-env/lib/python3.8/site-packages/spacy/util.py\u001b[0m in \u001b[0;36mload_model_from_path\u001b[0;34m(model_path, meta, vocab, disable, exclude, config)\u001b[0m\n",
      "\u001b[0;32m~/anaconda3/envs/ds-env/lib/python3.8/site-packages/spacy/util.py\u001b[0m in \u001b[0;36mload_config\u001b[0;34m(path, overrides, interpolate)\u001b[0m\n",
      "\u001b[0;31mOSError\u001b[0m: [E053] Could not read config.cfg from /Users/leonidas/anaconda3/envs/ds-env/lib/python3.8/site-packages/de_core_news_lg/de_core_news_lg-2.3.0/config.cfg"
     ]
    }
   ],
   "source": [
    "# Initiate nlp model\n",
    "disabled = ['parser', 'tagger', 'ner']\n",
    "# nlp = spacy.load('de_core_news_lg', disable=disabled)\n",
    "nlp = spacy.load('de_core_news_lg')\n",
    "tokenize = spacy.load(\"/Users/Leonidas/Universität St.Gallen/STUD-Capstoneproject Tell 6 - General/02-Coding/03-Models/Custom Tokenizer/de_custom_v2\")"
   ]
  },
  {
   "cell_type": "markdown",
   "metadata": {},
   "source": [
    "## Exploratory Data Analysis"
   ]
  },
  {
   "cell_type": "code",
   "execution_count": 4,
   "metadata": {},
   "outputs": [
    {
     "name": "stdout",
     "output_type": "stream",
     "text": [
      "Number of imported recipes:  12190\n"
     ]
    }
   ],
   "source": [
    "# Load data and seperate instructions at @ as defined\n",
    "data = pd.read_csv(path+\"/02-Coding/01-Data/01_instructions/instructions.csv\", sep=\"@\", encoding=\"utf-16\", header=None, error_bad_lines=False)\n",
    "print(\"Number of imported recipes: \",len(data))"
   ]
  },
  {
   "cell_type": "code",
   "execution_count": 5,
   "metadata": {},
   "outputs": [],
   "source": [
    "data.columns = [\"text\"]\n",
    "data_dedup = data.drop_duplicates(subset='text', keep=\"first\")"
   ]
  },
  {
   "cell_type": "code",
   "execution_count": 6,
   "metadata": {},
   "outputs": [
    {
     "name": "stdout",
     "output_type": "stream",
     "text": [
      "all recipes: 12190\n",
      "unique recipes: 4291\n",
      "removed duplicates: 7899\n"
     ]
    }
   ],
   "source": [
    "print(\"all recipes:\",len(data))\n",
    "print(\"unique recipes:\",len(data_dedup))\n",
    "print(\"removed duplicates:\",len(data)-len(data_dedup))\n",
    "data = data_dedup"
   ]
  },
  {
   "cell_type": "code",
   "execution_count": 7,
   "metadata": {},
   "outputs": [],
   "source": [
    "# Name Instructions column\n",
    "data.columns=[\"Instructions\"]\n",
    "# Create a column with tokenized instructions using spacy\n",
    "data[\"Tokenized\"] = data[\"Instructions\"].apply(tokenize) \n",
    "data[\"NLP\"] = data[\"Instructions\"].apply(nlp) "
   ]
  },
  {
   "cell_type": "code",
   "execution_count": 8,
   "metadata": {},
   "outputs": [
    {
     "data": {
      "text/html": [
       "<div>\n",
       "<style scoped>\n",
       "    .dataframe tbody tr th:only-of-type {\n",
       "        vertical-align: middle;\n",
       "    }\n",
       "\n",
       "    .dataframe tbody tr th {\n",
       "        vertical-align: top;\n",
       "    }\n",
       "\n",
       "    .dataframe thead th {\n",
       "        text-align: right;\n",
       "    }\n",
       "</style>\n",
       "<table border=\"1\" class=\"dataframe\">\n",
       "  <thead>\n",
       "    <tr style=\"text-align: right;\">\n",
       "      <th></th>\n",
       "      <th>Instructions</th>\n",
       "      <th>Tokenized</th>\n",
       "      <th>NLP</th>\n",
       "    </tr>\n",
       "  </thead>\n",
       "  <tbody>\n",
       "    <tr>\n",
       "      <th>0</th>\n",
       "      <td>Die Eier hart kochen. Dann pellen und mit eine...</td>\n",
       "      <td>(Die, Eier, hart, kochen, ., Dann, pellen, und...</td>\n",
       "      <td>(Die, Eier, hart, kochen, ., Dann, pellen, und...</td>\n",
       "    </tr>\n",
       "    <tr>\n",
       "      <th>1</th>\n",
       "      <td>Vorab folgende Bemerkung: Alle Mengen sind Cir...</td>\n",
       "      <td>(Vorab, folgende, Bemerkung, :, Alle, Mengen, ...</td>\n",
       "      <td>(Vorab, folgende, Bemerkung, :, Alle, Mengen, ...</td>\n",
       "    </tr>\n",
       "    <tr>\n",
       "      <th>2</th>\n",
       "      <td>Die Kirschen abtropfen lassen, dabei den Saft ...</td>\n",
       "      <td>(Die, Kirschen, abtropfen, lassen, ,, dabei, d...</td>\n",
       "      <td>(Die, Kirschen, abtropfen, lassen, ,, dabei, d...</td>\n",
       "    </tr>\n",
       "    <tr>\n",
       "      <th>3</th>\n",
       "      <td>Den Spargel säubern, die holzigen Enden abschn...</td>\n",
       "      <td>(Den, Spargel, säubern, ,, die, holzigen, Ende...</td>\n",
       "      <td>(Den, Spargel, säubern, ,, die, holzigen, Ende...</td>\n",
       "    </tr>\n",
       "    <tr>\n",
       "      <th>4</th>\n",
       "      <td>Kohlrabi schälen und klein würfeln. Mit der Br...</td>\n",
       "      <td>(Kohlrabi, schälen, und, klein, würfeln, ., Mi...</td>\n",
       "      <td>(Kohlrabi, schälen, und, klein, würfeln, ., Mi...</td>\n",
       "    </tr>\n",
       "  </tbody>\n",
       "</table>\n",
       "</div>"
      ],
      "text/plain": [
       "                                        Instructions  \\\n",
       "0  Die Eier hart kochen. Dann pellen und mit eine...   \n",
       "1  Vorab folgende Bemerkung: Alle Mengen sind Cir...   \n",
       "2  Die Kirschen abtropfen lassen, dabei den Saft ...   \n",
       "3  Den Spargel säubern, die holzigen Enden abschn...   \n",
       "4  Kohlrabi schälen und klein würfeln. Mit der Br...   \n",
       "\n",
       "                                           Tokenized  \\\n",
       "0  (Die, Eier, hart, kochen, ., Dann, pellen, und...   \n",
       "1  (Vorab, folgende, Bemerkung, :, Alle, Mengen, ...   \n",
       "2  (Die, Kirschen, abtropfen, lassen, ,, dabei, d...   \n",
       "3  (Den, Spargel, säubern, ,, die, holzigen, Ende...   \n",
       "4  (Kohlrabi, schälen, und, klein, würfeln, ., Mi...   \n",
       "\n",
       "                                                 NLP  \n",
       "0  (Die, Eier, hart, kochen, ., Dann, pellen, und...  \n",
       "1  (Vorab, folgende, Bemerkung, :, Alle, Mengen, ...  \n",
       "2  (Die, Kirschen, abtropfen, lassen, ,, dabei, d...  \n",
       "3  (Den, Spargel, säubern, ,, die, holzigen, Ende...  \n",
       "4  (Kohlrabi, schälen, und, klein, würfeln, ., Mi...  "
      ]
     },
     "execution_count": 8,
     "metadata": {},
     "output_type": "execute_result"
    }
   ],
   "source": [
    "data.head()"
   ]
  },
  {
   "cell_type": "code",
   "execution_count": 67,
   "metadata": {},
   "outputs": [],
   "source": [
    "# doc = data[\"NLP\"].iloc[0]\n",
    "\n",
    "doc = []\n",
    "\n",
    "for rec in data[\"NLP\"]:\n",
    "    for token in rec:\n",
    "        doc.append(token)\n",
    "\n",
    "# all tokens that arent stop words or punctuations\n",
    "words = [token.text for token in doc if token.is_stop != True and token.is_punct != True and token.like_num == False]\n",
    "\n",
    "# noun tokens that arent stop words or punctuations\n",
    "nouns = [token.text for token in doc if token.is_stop != True and token.is_punct != True and token.pos_ == \"NOUN\"]\n",
    "verbs = [token.text for token in doc if token.is_stop != True and token.is_punct != True and token.pos_ == \"VERB\"]\n",
    "\n",
    "# Word Cats\n",
    "word_freq = Counter(words)\n",
    "noun_freq = Counter(nouns)\n",
    "verb_freq = Counter(verbs)\n",
    "\n",
    "# Commons\n",
    "n = 20\n",
    "common_words = pd.DataFrame(word_freq.most_common(n))\n",
    "common_nouns = pd.DataFrame(noun_freq.most_common(n))\n",
    "common_verbs = pd.DataFrame(verb_freq.most_common(n))\n",
    "\n",
    "freqs = [common_words, common_verbs, common_nouns]"
   ]
  },
  {
   "cell_type": "code",
   "execution_count": 71,
   "metadata": {},
   "outputs": [
    {
     "data": {
      "text/plain": [
       "([<matplotlib.axis.XTick at 0x18223d9a0>,\n",
       "  <matplotlib.axis.XTick at 0x18223d970>,\n",
       "  <matplotlib.axis.XTick at 0x1822c0b50>,\n",
       "  <matplotlib.axis.XTick at 0x18220edf0>,\n",
       "  <matplotlib.axis.XTick at 0x182209340>,\n",
       "  <matplotlib.axis.XTick at 0x182209850>,\n",
       "  <matplotlib.axis.XTick at 0x182209490>,\n",
       "  <matplotlib.axis.XTick at 0x182209d60>,\n",
       "  <matplotlib.axis.XTick at 0x1822032b0>,\n",
       "  <matplotlib.axis.XTick at 0x1822037c0>,\n",
       "  <matplotlib.axis.XTick at 0x182203cd0>,\n",
       "  <matplotlib.axis.XTick at 0x182205220>,\n",
       "  <matplotlib.axis.XTick at 0x182205730>,\n",
       "  <matplotlib.axis.XTick at 0x182205c40>,\n",
       "  <matplotlib.axis.XTick at 0x1821fe190>,\n",
       "  <matplotlib.axis.XTick at 0x1822057c0>,\n",
       "  <matplotlib.axis.XTick at 0x182203850>,\n",
       "  <matplotlib.axis.XTick at 0x1822093d0>,\n",
       "  <matplotlib.axis.XTick at 0x1821fe730>,\n",
       "  <matplotlib.axis.XTick at 0x1821fec40>],\n",
       " [Text(0, 0, 'lassen'),\n",
       "  Text(0, 0, 'schneiden'),\n",
       "  Text(0, 0, 'geben'),\n",
       "  Text(0, 0, 'abschmecken'),\n",
       "  Text(0, 0, 'anbraten'),\n",
       "  Text(0, 0, 'würzen'),\n",
       "  Text(0, 0, 'schälen'),\n",
       "  Text(0, 0, 'waschen'),\n",
       "  Text(0, 0, 'erhitzen'),\n",
       "  Text(0, 0, 'dazugeben'),\n",
       "  Text(0, 0, 'kochen'),\n",
       "  Text(0, 0, 'servieren'),\n",
       "  Text(0, 0, 'braten'),\n",
       "  Text(0, 0, 'würfeln'),\n",
       "  Text(0, 0, 'zugeben'),\n",
       "  Text(0, 0, 'legen'),\n",
       "  Text(0, 0, 'köcheln'),\n",
       "  Text(0, 0, 'hacken'),\n",
       "  Text(0, 0, 'garen'),\n",
       "  Text(0, 0, 'putzen')])"
      ]
     },
     "execution_count": 71,
     "metadata": {},
     "output_type": "execute_result"
    },
    {
     "data": {
      "image/png": "[encoded data removed]",
      "text/plain": [
       "<Figure size 432x288 with 1 Axes>"
      ]
     },
     "metadata": {},
     "output_type": "display_data"
    }
   ],
   "source": [
    "# Visualize Word frequency\n",
    "cat = 1\n",
    "plt.bar(x=range(n), height=freqs[cat][1], tick_label=freqs[cat][0])\n",
    "plt.xticks(range(n), freqs[cat][0], rotation='vertical')"
   ]
  },
  {
   "cell_type": "code",
   "execution_count": 13,
   "metadata": {},
   "outputs": [
    {
     "name": "stdout",
     "output_type": "stream",
     "text": [
      "Die ART DET False True\n",
      "Eier NN NOUN False False\n",
      "hart ADJD ADJ False False\n",
      "kochen VVINF VERB False False\n",
      ". $. PUNCT True False\n",
      "Dann ADV ADV False True\n",
      "pellen VVFIN VERB False False\n",
      "und KON CCONJ False True\n",
      "mit APPR ADP False True\n",
      "einem ART DET False True\n",
      "Eierschneider NN NOUN False False\n",
      "in APPR ADP False True\n",
      "Scheiben NN NOUN False False\n",
      "schneiden VVINF VERB False False\n",
      ". $. PUNCT True False\n",
      "Den ART DET False True\n",
      "Reis NN NOUN False False\n",
      "halbgar ADJD ADJ False False\n",
      "kochen VVINF VERB False False\n",
      "und KON CCONJ False True\n",
      "zur APPRART ADP False True\n",
      "Seite NN NOUN False False\n",
      "stellen VVINF VERB False False\n",
      ". $. PUNCT True False\n",
      "Die ART DET False True\n",
      "Wurst NN NOUN False False\n",
      "( $( PUNCT True False\n",
      "Kolbász NE PROPN False False\n",
      ") $( PUNCT True False\n",
      "in APPR ADP False True\n",
      "dünne ADJA ADJ False False\n",
      "Scheiben NN NOUN False False\n",
      "schneiden VVINF VERB False False\n",
      ". $. PUNCT True False\n",
      "Den ART DET False True\n",
      "Knoblauch NN NOUN False False\n",
      "abziehen VVFIN VERB False False\n",
      "und KON CCONJ False True\n",
      "fein ADJD ADJ False False\n",
      "würfeln VVINF VERB False False\n",
      ". $. PUNCT True False\n",
      "Die ART DET False True\n",
      "Zwiebel NN NOUN False False\n",
      "schälen VVFIN VERB False False\n",
      ", $, PUNCT True False\n",
      "fein ADJD ADJ False False\n",
      "hacken VVINF VERB False False\n",
      "und KON CCONJ False True\n",
      "in APPR ADP False True\n",
      "etwas PIAT DET False True\n",
      "Fett NN NOUN False False\n",
      "glasig ADJD ADJ False False\n",
      "braten VVINF VERB False False\n",
      ". $. PUNCT True False\n",
      "Knoblauch NN NOUN False False\n",
      "und KON CCONJ False True\n",
      "Hackfleisch NN NOUN False False\n",
      "dazu PROAV ADV False True\n",
      "geben VVINF VERB False False\n",
      "und KON CCONJ False True\n",
      "so ADV ADV False True\n",
      "lange ADV ADV False True\n",
      "braten VVINF VERB False False\n",
      ", $, PUNCT True False\n",
      "bis KOUS SCONJ False True\n",
      "das ART DET False True\n",
      "Hackfleisch NN NOUN False False\n",
      "schön ADJD ADJ False False\n",
      "krümelig ADJD ADJ False False\n",
      "wird VAFIN AUX False True\n",
      ". $. PUNCT True False\n",
      "Den ART DET False True\n",
      "eigenen ADJA ADJ False True\n",
      "Saft NN NOUN False False\n",
      "nicht PTKNEG PART False True\n",
      "ganz ADV ADV False True\n",
      "verkochen VVINF VERB False False\n",
      "lassen VVINF VERB False False\n",
      ". $. PUNCT True False\n",
      "Die ART DET False True\n",
      "Fleischmasse NN NOUN False False\n",
      "mit APPR ADP False True\n",
      "Salz NN NOUN False False\n",
      ", $, PUNCT True False\n",
      "Pfeffer NN NOUN False False\n",
      "und KON CCONJ False True\n",
      "Paprikapulver NN NOUN False False\n",
      "würzen VVINF VERB False False\n",
      ". $. PUNCT True False\n",
      "Das ART DET False True\n",
      "Sauerkraut NN NOUN False False\n",
      "kurz ADJD ADJ False True\n",
      "durchspülen VVFIN VERB False False\n",
      ", $, PUNCT True False\n",
      "ausdrücken VVINF VERB False False\n",
      "und KON CCONJ False True\n",
      "abtropfen VVINF VERB False False\n",
      "lassen VVINF VERB False False\n",
      "( $( PUNCT True False\n",
      "damit KOUS SCONJ False True\n",
      "es PPER PRON False True\n",
      "nicht PTKNEG PART False True\n",
      "zu PTKA PART False True\n",
      "sauer ADJD ADJ False False\n",
      "wird VAFIN AUX False True\n",
      ") $( PUNCT True False\n",
      ". $. PUNCT True False\n",
      "Das ART DET False True\n",
      "Sauerkraut NN NOUN False False\n",
      "in APPR ADP False True\n",
      "einen ART DET False True\n",
      "Topf NN NOUN False False\n",
      "geben VVINF VERB False False\n",
      "und KON CCONJ False True\n",
      "mit APPR ADP False True\n",
      "dem ART DET False True\n",
      "Kümmel NN NOUN False False\n",
      "und KON CCONJ False True\n",
      "den ART DET False True\n",
      "Lorbeerblättern NN NOUN False False\n",
      "vermischen VVFIN VERB False False\n",
      ". $. PUNCT True False\n",
      "Ca NN NOUN False False\n",
      ". $. PUNCT True False\n",
      "30 CARD NUM False False\n",
      "Minuten NN NOUN False False\n",
      "unter APPR ADP False True\n",
      "Zugabe NN NOUN False False\n",
      "von APPR ADP False True\n",
      "wenig PIAT DET False True\n",
      "Wasser NN NOUN False False\n",
      "bei APPR ADP False True\n",
      "niedriger ADJA ADJ False False\n",
      "Stufe NN NOUN False False\n",
      "dünsten VVINF VERB False False\n",
      ". $. PUNCT True False\n",
      "Eine ART DET False True\n",
      "feuerfeste ADJA ADJ False False\n",
      "Form NN NOUN False False\n",
      "mit APPR ADP False True\n",
      "etwas PIAT DET False True\n",
      "Öl NN NOUN False False\n",
      "einfetten VVINF VERB False False\n",
      "und KON CCONJ False True\n",
      "den ART DET False True\n",
      "Boden NN NOUN False False\n",
      "dünn ADJD ADJ False False\n",
      "mit APPR ADP False True\n",
      "Sauerkraut NN NOUN False False\n",
      "belegen VVINF VERB False False\n",
      ". $. PUNCT True False\n",
      "Darauf PROAV ADV False True\n",
      "Kolbász NE PROPN False False\n",
      "und KON CCONJ False True\n",
      "die ART DET False True\n",
      "Hälfte NN NOUN False False\n",
      "der ART DET False True\n",
      "in APPR ADP False True\n",
      "Scheiben NN NOUN False False\n",
      "geschnittene ADJA ADJ False False\n",
      "Eier NN NOUN False False\n",
      "verteilen VVINF VERB False False\n",
      ", $, PUNCT True False\n",
      "dann ADV ADV False True\n",
      "eine ART DET False True\n",
      "weitere ADJA ADJ False True\n",
      "dünne ADJA ADJ False False\n",
      "Schicht NN NOUN False False\n",
      "Sauerkraut NN NOUN False False\n",
      "drüber PROAV ADV False False\n",
      "legen VVINF VERB False False\n",
      ". $. PUNCT True False\n",
      "Mit APPR ADP False True\n",
      "1 CARD NUM False False\n",
      "Becher NN NOUN False False\n",
      "Schmand NN NOUN False False\n",
      "bedecken VVFIN VERB False False\n",
      ". $. PUNCT True False\n",
      "Nun ADV ADV False True\n",
      "das ART DET False True\n",
      "Hackfleisch NN NOUN False False\n",
      "mit APPR ADP False True\n",
      "dem ART DET False True\n",
      "Reis NN NOUN False False\n",
      "mischen VVFIN VERB False False\n",
      "und KON CCONJ False True\n",
      "auf APPR ADP False True\n",
      "der ART DET False True\n",
      "Sauerkrautschicht NN NOUN False False\n",
      "gleichmäßig ADJD ADJ False False\n",
      "verteilen VVINF VERB False False\n",
      ". $. PUNCT True False\n",
      "Mit APPR ADP False True\n",
      "der ART DET False True\n",
      "zweiten ADJA ADJ False True\n",
      "Hälfte NN NOUN False False\n",
      "der ART DET False True\n",
      "Eier NN NOUN False False\n",
      "belegen VVINF VERB False False\n",
      "und KON CCONJ False True\n",
      "die ART DET False True\n",
      "dritte ADJA ADJ False True\n",
      "Schicht NN NOUN False False\n",
      "Sauerkraut NN NOUN False False\n",
      "oben ADV ADV False True\n",
      "drauf PROAV ADV False False\n",
      "verteilen VVINF VERB False False\n",
      ". $. PUNCT True False\n",
      "Wenn KOUS SCONJ False True\n",
      "noch ADV ADV False True\n",
      "Zutaten NN NOUN False False\n",
      "( $( PUNCT True False\n",
      "Hackfleisch-Reis-Masse NN NOUN False False\n",
      "und KON CCONJ False True\n",
      "Sauerkraut NN NOUN False False\n",
      ") $( PUNCT True False\n",
      "übrig ADJD ADJ False False\n",
      "sind VAFIN AUX False True\n",
      ", $, PUNCT True False\n",
      "kann VMFIN VERB False True\n",
      "man PIS PRON False True\n",
      "diese PDAT DET False True\n",
      "Schichten NN NOUN False False\n",
      "weiter ADV ADV False True\n",
      "so ADV ADV False True\n",
      "legen VVINF VERB False False\n",
      ". $. PUNCT True False\n",
      "Ganz ADV ADV False True\n",
      "oben ADV ADV False True\n",
      "kommt VVFIN VERB False True\n",
      "eine ART DET False True\n",
      "Schicht NN NOUN False False\n",
      "Sauerkraut NN NOUN False False\n",
      ". $. PUNCT True False\n",
      "Auf APPR ADP False True\n",
      "diese PDAT DET False True\n",
      "letzte ADJA ADJ False False\n",
      "Schicht NN NOUN False False\n",
      "verteilt VVFIN VERB False False\n",
      "man PIS PRON False True\n",
      "noch ADV ADV False True\n",
      "den ART DET False True\n",
      "Rest NN NOUN False False\n",
      "vom APPRART ADP False True\n",
      "Schmand NN NOUN False False\n",
      "( $( PUNCT True False\n",
      "sollte VMFIN VERB False True\n",
      "reichlich ADJD ADJ False False\n",
      "sein VAINF AUX False True\n",
      ") $( PUNCT True False\n",
      ". $. PUNCT True False\n",
      "Den ART DET False True\n",
      "Speck NN NOUN False False\n",
      "in APPR ADP False True\n",
      "dünne ADJA ADJ False False\n",
      "Scheiben NN NOUN False False\n",
      "schneiden VVINF VERB False False\n",
      "und KON CCONJ False True\n",
      "damit PROAV ADV False True\n",
      "alles PIS PRON False True\n",
      "abdecken VVINF VERB False False\n",
      ". $. PUNCT True False\n",
      "Mit APPR ADP False True\n",
      "etwas PIAT DET False True\n",
      "Öl NN NOUN False False\n",
      "besprenkeln VVINF VERB False False\n",
      ". $. PUNCT True False\n",
      "Die ART DET False True\n",
      "Form NN NOUN False False\n",
      "mit APPR ADP False True\n",
      "einem ART DET False True\n",
      "Deckel NN NOUN False False\n",
      "verschließend ADJD ADJ False False\n",
      ". $. PUNCT True False\n",
      "Im APPRART ADP False True\n",
      "vorgeheizten ADJA ADJ False False\n",
      "Backofen NN NOUN False False\n",
      "bei APPR ADP False True\n",
      "175 CARD NUM False False\n",
      "° NN NOUN False False\n",
      "C NE PROPN False False\n",
      "ober-/Unterhitze NE PROPN False False\n",
      "gut ADV ADV False True\n",
      "1 CARD NUM False False\n",
      "Std. NN NOUN False False\n",
      "garen VVINF VERB False False\n",
      ". $. PUNCT True False\n",
      "Ganz ADV ADV False True\n",
      "frische ADJA ADJ False False\n",
      "Baguettebrötchen NN NOUN False False\n",
      "oder KON CCONJ False True\n",
      "Weißbrot NN NOUN False False\n",
      "schmeckt VVFIN VERB False False\n",
      "am PTKA PART False True\n",
      "allerbesten ADJD ADJ False False\n",
      "dazu PROAV ADV False True\n",
      ". $. PUNCT True False\n",
      "Man PIS PRON False True\n",
      "kann VMFIN VERB False True\n",
      "aber ADV ADV False True\n",
      "auch ADV ADV False True\n",
      "Kartoffel- TRUNC X False False\n",
      "oder KON CCONJ False True\n",
      "Semmelknödel NN NOUN False False\n",
      "dazu PROAV ADV False True\n",
      "reichen VVINF VERB False False\n",
      ". $. PUNCT True False\n",
      "Etwas ADV ADV False True\n",
      "aufwendig ADJD ADJ False False\n",
      ", $, PUNCT True False\n",
      "aber KON CCONJ False True\n",
      "die ART DET False True\n",
      "Mühe NN NOUN False False\n",
      "lohnt VVFIN VERB False False\n",
      "sich PRF PRON False True\n",
      "... $( PUNCT True False\n",
      "es PPER PRON False True\n",
      "ist VAFIN AUX False True\n",
      "einfach ADV ADV False False\n",
      "mega-ober-lecker NN NOUN False False\n",
      ". $. PUNCT True False\n",
      "Anmerkung NN NOUN False False\n",
      ": $. PUNCT True False\n",
      "Für APPR ADP False True\n",
      "viele PIS PRON False True\n",
      "sind VAFIN AUX False True\n",
      "Eier NN NOUN False False\n",
      "in APPR ADP False True\n",
      "Verbindung NN NOUN False False\n",
      "mit APPR ADP False True\n",
      "Sauerkraut NN NOUN False False\n",
      "ein PTKVZ ADP False True\n",
      "No-Go $( PUNCT False False\n",
      ", $, PUNCT True False\n",
      "man PIS PRON False True\n",
      "kann VMFIN VERB False True\n",
      "sie PPER PRON False True\n",
      "also ADV ADV False True\n",
      "auch ADV ADV False True\n",
      "weglassen VVINF VERB False False\n",
      ". $. PUNCT True False\n"
     ]
    }
   ],
   "source": [
    "doc = data[\"NLP\"].iloc[0]\n",
    "for token in doc:\n",
    "    print(token.text, token.tag_, token.pos_, token.is_punct, token.is_stop)"
   ]
  },
  {
   "cell_type": "markdown",
   "metadata": {},
   "source": [
    "#### Length of Recipes"
   ]
  },
  {
   "cell_type": "code",
   "execution_count": 43,
   "metadata": {},
   "outputs": [
    {
     "name": "stdout",
     "output_type": "stream",
     "text": [
      "---------- METRICS ----------\n",
      "\n",
      "Minimum Length of a Recipe:  10\n",
      "Maximum Length of a Recipe:  868\n",
      "Mean Length of a Recipe:  141\n",
      "Standard Deviation of the Length of all Recipes:  71\n",
      "Number of Recipes longer than 512 Tokens:  12\n",
      "\n",
      "-----------------------------\n"
     ]
    },
    {
     "data": {
      "text/plain": [
       "<matplotlib.collections.LineCollection at 0x13ad7db80>"
      ]
     },
     "execution_count": 43,
     "metadata": {},
     "output_type": "execute_result"
    },
    {
     "data": {
      "image/png": "[encoded data removed]",
      "text/plain": [
       "<Figure size 1152x432 with 1 Axes>"
      ]
     },
     "metadata": {},
     "output_type": "display_data"
    }
   ],
   "source": [
    "# Create a column with the amount of tokens per recipe\n",
    "data[\"Length\"] = data[\"Tokenized\"].apply(len)\n",
    "# Print some metrics about the length of the recipes\n",
    "print(\"---------- METRICS ----------\")\n",
    "print(\"\")\n",
    "print(\"Minimum Length of a Recipe: \", min(data.Length))\n",
    "print(\"Maximum Length of a Recipe: \", max(data.Length))\n",
    "print(\"Mean Length of a Recipe: \", round(np.mean(data.Length)))\n",
    "print(\"Standard Deviation of the Length of all Recipes: \", round(np.std(data.Length)))\n",
    "print(\"Number of Recipes longer than 512 Tokens: \", len(data.Length[data[\"Length\"]>512]))\n",
    "print(\"\")\n",
    "print(\"-----------------------------\")\n",
    "# Init plot and increase figure size\n",
    "plt.figure(figsize=(16, 6))\n",
    "# Add histogram of recipe length in no. of tokens to the plot\n",
    "plt.hist(data.Length, bins = 100)\n",
    "\n",
    "# Mark important metrics with vertical lines\n",
    "plt.vlines(512, label=\"Max size BERT\", ymin= 0, ymax= 900)\n",
    "plt.vlines(np.mean(data.Length), label=\"Mean Length\", ymin= 0, ymax= 900)\n",
    "plt.vlines(np.mean(data.Length)-np.std(data.Length), label=\"Mean Length\", ymin= 0, ymax= 500)\n",
    "plt.vlines(np.mean(data.Length)+np.std(data.Length), label=\"Mean Length\", ymin= 0, ymax= 500)\n",
    "\n",
    "# Save figure to 02-Coding --> 02-Plots --> chefkoch_recipe_length_hist.png before showing\n",
    "# plt.savefig(path+\"/02-Plots/chefkoch_recipe_length_hist.png\")"
   ]
  },
  {
   "cell_type": "code",
   "execution_count": null,
   "metadata": {},
   "outputs": [],
   "source": []
  },
  {
   "cell_type": "code",
   "execution_count": 190,
   "metadata": {},
   "outputs": [],
   "source": []
  },
  {
   "cell_type": "code",
   "execution_count": 20,
   "metadata": {},
   "outputs": [],
   "source": [
    "class_labels = []\n",
    "class_colors = []\n",
    "rel_labels = []\n",
    "rel_cols = []"
   ]
  },
  {
   "cell_type": "code",
   "execution_count": 21,
   "metadata": {},
   "outputs": [],
   "source": [
    "with open(input_path, \"r\", encoding=\"utf8\") as json_file:\n",
    "    annotated_recipes = [json.loads(line) for line in json_file]"
   ]
  },
  {
   "cell_type": "code",
   "execution_count": 22,
   "metadata": {},
   "outputs": [
    {
     "name": "stdout",
     "output_type": "stream",
     "text": [
      "Rows: 199\n",
      "Columns: 9\n"
     ]
    }
   ],
   "source": [
    "data = pd.DataFrame(annotated_recipes)\n",
    "print(\"Rows:\", data.shape[0])\n",
    "print(\"Columns:\", data.shape[1])"
   ]
  },
  {
   "cell_type": "code",
   "execution_count": 23,
   "metadata": {},
   "outputs": [],
   "source": [
    "# nlp = spacy.load(\"/Users/Leonidas/Universität St.Gallen/STUD-Capstoneproject Tell 6 - General/02-Coding/03-Models/Custom Tokenizer/de_custom_v2\")\n",
    "# data[\"tokenized\"] = data[\"text\"].apply(nlp)\n",
    "data = data.drop(['_input_hash', '_task_hash', \"_session_id\", \"_view_id\", \"answer\"], axis=1)\n",
    "data[\"#words\"] = data[\"text\"].apply(lambda x: len(x.split()))\n",
    "data[\"#tokens\"] = data[\"tokens\"].apply(lambda x: len(x))\n",
    "data[\"#spans\"] = data[\"spans\"].apply(lambda x: len(x))\n",
    "data[\"#relations\"] = data[\"relations\"].apply(lambda x: len(x))"
   ]
  },
  {
   "cell_type": "code",
   "execution_count": 24,
   "metadata": {},
   "outputs": [],
   "source": [
    "data[\"#arg0\"] = data[\"relations\"].apply(lambda x: [x[i][\"label\"] for i in range(len(x))].count(\"ARG0\"))\n",
    "data[\"#arg1\"] = data[\"relations\"].apply(lambda x: [x[i][\"label\"] for i in range(len(x))].count(\"ARG1\"))\n",
    "data[\"#arg\"] = data[\"relations\"].apply(lambda x: [x[i][\"label\"] for i in range(len(x))].count(\"ARG\"))"
   ]
  },
  {
   "cell_type": "code",
   "execution_count": 25,
   "metadata": {},
   "outputs": [],
   "source": [
    "data[\"#Z\"] = data[\"spans\"].apply(lambda x: [x[i][\"label\"] for i in range(len(x))].count(\"Z\"))\n",
    "data[\"#V\"] = data[\"spans\"].apply(lambda x: [x[i][\"label\"] for i in range(len(x))].count(\"V\"))\n",
    "data[\"#T\"] = data[\"spans\"].apply(lambda x: [x[i][\"label\"] for i in range(len(x))].count(\"TOOL\"))\n",
    "data[\"#ZP\"] = data[\"spans\"].apply(lambda x: [x[i][\"label\"] for i in range(len(x))].count(\"ZEITP\"))\n",
    "data[\"#D\"] = data[\"spans\"].apply(lambda x: [x[i][\"label\"] for i in range(len(x))].count(\"DAUER\"))\n",
    "data[\"#A\"] = data[\"spans\"].apply(lambda x: [x[i][\"label\"] for i in range(len(x))].count(\"ATTR\"))\n",
    "data[\"#TP\"] = data[\"spans\"].apply(lambda x: [x[i][\"label\"] for i in range(len(x))].count(\"TEMP\"))\n",
    "data[\"#P\"] = data[\"spans\"].apply(lambda x: [x[i][\"label\"] for i in range(len(x))].count(\"PRÄP\"))"
   ]
  },
  {
   "cell_type": "markdown",
   "metadata": {},
   "source": [
    "## Annotated Data"
   ]
  },
  {
   "cell_type": "code",
   "execution_count": 26,
   "metadata": {},
   "outputs": [],
   "source": [
    "stats = data.describe().round(2).drop([\"count\"], axis=0)"
   ]
  },
  {
   "cell_type": "code",
   "execution_count": 27,
   "metadata": {},
   "outputs": [
    {
     "data": {
      "text/plain": [
       "<matplotlib.legend.Legend at 0x132441cd0>"
      ]
     },
     "execution_count": 27,
     "metadata": {},
     "output_type": "execute_result"
    },
    {
     "data": {
      "image/png": "[encoded data removed]",
      "text/plain": [
       "<Figure size 432x288 with 1 Axes>"
      ]
     },
     "metadata": {},
     "output_type": "display_data"
    }
   ],
   "source": [
    "# plt.hist(x=data[\"#words\"], bins=50, alpha = 0.3)\n",
    "# plt.hist(x=data[\"#tokens\"], bins=50, alpha = 0.3)\n",
    "plt.hist(x=data[\"#spans\"], bins=50, alpha = 0.3)\n",
    "# for xc,label in zip(list(stats[\"#spans\"]),list(stats.index)):\n",
    "#     plt.axvline(x=xc, color='k', linestyle='--', label=label)\n",
    "plt.axvline(x=stats[\"#spans\"].iloc[0], color='k', linestyle='--', label=\"mean\")\n",
    "plt.legend()"
   ]
  },
  {
   "cell_type": "code",
   "execution_count": 199,
   "metadata": {},
   "outputs": [
    {
     "data": {
      "text/plain": [
       "<BarContainer object of 8 artists>"
      ]
     },
     "execution_count": 199,
     "metadata": {},
     "output_type": "execute_result"
    },
    {
     "data": {
      "image/png": "[encoded data removed]",
      "text/plain": [
       "<Figure size 432x288 with 1 Axes>"
      ]
     },
     "metadata": {},
     "output_type": "display_data"
    }
   ],
   "source": [
    "plt.bar(x=range(8), height=list(stats.iloc[0,7:]), tick_label=list(stats.columns)[7:])"
   ]
  },
  {
   "cell_type": "code",
   "execution_count": 186,
   "metadata": {},
   "outputs": [
    {
     "data": {
      "text/plain": [
       "<matplotlib.axes._subplots.AxesSubplot at 0x1258cb0a0>"
      ]
     },
     "execution_count": 186,
     "metadata": {},
     "output_type": "execute_result"
    },
    {
     "data": {
      "image/png": "[encoded data removed]",
      "text/plain": [
       "<Figure size 432x288 with 1 Axes>"
      ]
     },
     "metadata": {},
     "output_type": "display_data"
    }
   ],
   "source": [
    "# stacked bar Graph with 1 bar = class split into args\n",
    "combs = []\n",
    "for rec_i in range(len(data)):\n",
    "    for relation in data[\"relations\"][rec_i]:\n",
    "        combs.append((relation[\"child_span\"][\"label\"], relation[\"label\"]))\n",
    "df = pd.DataFrame(combs, columns=[\"span\", \"relation\"])\n",
    "df[\"number\"] = 1\n",
    "df.groupby([\"span\", \"relation\"]).count().filter(items=[('TOOL', \"ARG1\"),('TOOL', \"ARG0\"),(\"Z\", \"ARG0\"),(\"Z\", \"ARG1\")], axis=0).unstack().plot(kind='bar', stacked=False)"
   ]
  },
  {
   "cell_type": "code",
   "execution_count": 185,
   "metadata": {},
   "outputs": [
    {
     "data": {
      "text/plain": [
       "<matplotlib.axes._subplots.AxesSubplot at 0x1289124f0>"
      ]
     },
     "execution_count": 185,
     "metadata": {},
     "output_type": "execute_result"
    },
    {
     "data": {
      "image/png": "[encoded data removed]",
      "text/plain": [
       "<Figure size 432x288 with 1 Axes>"
      ]
     },
     "metadata": {},
     "output_type": "display_data"
    }
   ],
   "source": [
    "df.groupby([\"span\", \"relation\"]).count().unstack().plot(kind='bar', stacked=False)"
   ]
  },
  {
   "cell_type": "code",
   "execution_count": 157,
   "metadata": {},
   "outputs": [
    {
     "data": {
      "text/plain": [
       "<matplotlib.axes._subplots.AxesSubplot at 0x1283b62e0>"
      ]
     },
     "execution_count": 157,
     "metadata": {},
     "output_type": "execute_result"
    },
    {
     "data": {
      "image/png": "[encoded data removed]",
      "text/plain": [
       "<Figure size 432x288 with 1 Axes>"
      ]
     },
     "metadata": {},
     "output_type": "display_data"
    }
   ],
   "source": [
    "# stacked bar Graph with 1 bar = arg split into classes\n",
    "df.groupby([\"relation\", \"span\"]).count().unstack().plot(kind='bar', stacked=True)"
   ]
  },
  {
   "cell_type": "markdown",
   "metadata": {},
   "source": [
    "## Training Results"
   ]
  },
  {
   "cell_type": "markdown",
   "metadata": {},
   "source": [
    "### NER"
   ]
  },
  {
   "cell_type": "code",
   "execution_count": 162,
   "metadata": {},
   "outputs": [
    {
     "data": {
      "text/plain": [
       "<matplotlib.axes._subplots.AxesSubplot at 0x12848b820>"
      ]
     },
     "execution_count": 162,
     "metadata": {},
     "output_type": "execute_result"
    },
    {
     "data": {
      "image/png": "[encoded data removed]",
      "text/plain": [
       "<Figure size 432x288 with 1 Axes>"
      ]
     },
     "metadata": {},
     "output_type": "display_data"
    }
   ],
   "source": [
    "# Training Curve on Batch 1 NER\n",
    "pd.DataFrame([(\"0%\",0.00),(\"5%\",75.35),(\"10%\",81.16),(\"15%\",83.61),(\"20%\",86.32),(\"25%\",88.28),(\"30%\",88.68),(\"35%\",89.75),(\"40%\",89.71),(\"45%\",90.41),(\"50%\",90.87),(\"55%\",90.84),(\"60%\",91.37),(\"65%\",91.29),(\"70%\",91.13),(\"75%\",91.20),(\"80%\",91.17),(\"85%\",92.14),(\"90%\",91.85),(\"95%\",92.09),(\"100%\",92.27)], columns=[\"%set\",\"acc\"]).plot()\n"
   ]
  },
  {
   "cell_type": "code",
   "execution_count": 184,
   "metadata": {},
   "outputs": [
    {
     "data": {
      "text/plain": [
       "<matplotlib.axes._subplots.AxesSubplot at 0x128a61fa0>"
      ]
     },
     "execution_count": 184,
     "metadata": {},
     "output_type": "execute_result"
    },
    {
     "data": {
      "image/png": "[encoded data removed]",
      "text/plain": [
       "<Figure size 432x288 with 1 Axes>"
      ]
     },
     "metadata": {},
     "output_type": "display_data"
    }
   ],
   "source": [
    "# F, P, R on Batch 1 NER\n",
    "scores = pd.DataFrame([(\"PRÄP\" ,91.697,92.701,92.196),\n",
    "                       (\"Z\"    ,92.746,95.467,94.087),\n",
    "                       (\"TOOL\" ,89.412,80.851,84.916),\n",
    "                       (\"ATTR\" ,83.871,85.246,84.553),\n",
    "                       (\"ZEITP\",79.518,83.544,81.481),\n",
    "                       (\"TEMP\" ,80.000,80.000,80.000),\n",
    "                       (\"V\"    ,96.144,98.811,97.459),\n",
    "                       (\"DAUER\",75.610,73.810,74.699)],columns= [\"Class\",\"P\",\"R\",\"F\"])\n",
    "scores = scores.set_index(scores[\"Class\"]).drop([\"Class\"], axis=1)\n",
    "scores.sort_values(by=\"F\").plot.bar()"
   ]
  },
  {
   "cell_type": "markdown",
   "metadata": {},
   "source": [
    "### REL"
   ]
  },
  {
   "cell_type": "code",
   "execution_count": null,
   "metadata": {},
   "outputs": [],
   "source": [
    "# Impact of max_length likee the train_curve plot"
   ]
  }
 ],
 "metadata": {
  "kernelspec": {
   "display_name": "Python 3",
   "language": "python",
   "name": "python3"
  },
  "language_info": {
   "codemirror_mode": {
    "name": "ipython",
    "version": 3
   },
   "file_extension": ".py",
   "mimetype": "text/x-python",
   "name": "python",
   "nbconvert_exporter": "python",
   "pygments_lexer": "ipython3",
   "version": "3.8.5"
  }
 },
 "nbformat": 4,
 "nbformat_minor": 4
}
