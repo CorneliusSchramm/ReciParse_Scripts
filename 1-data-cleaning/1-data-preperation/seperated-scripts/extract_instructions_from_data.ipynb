{
 "metadata": {
  "language_info": {
   "codemirror_mode": {
    "name": "ipython",
    "version": 3
   },
   "file_extension": ".py",
   "mimetype": "text/x-python",
   "name": "python",
   "nbconvert_exporter": "python",
   "pygments_lexer": "ipython3",
   "version": "3.8.3-final"
  },
  "orig_nbformat": 2,
  "kernelspec": {
   "name": "python3",
   "display_name": "Python 3"
  }
 },
 "nbformat": 4,
 "nbformat_minor": 2,
 "cells": [
  {
   "source": [
    "## Create clean Dataset based on Recipe Instruction of Chefkoch Data\n",
    "####  1. November 2020\n",
    "### Input\n",
    "Chefkoch Kaggle Dataset\n",
    "### Output\n",
    "Clean instruction data in .csv format\n",
    "\n"
   ],
   "cell_type": "markdown",
   "metadata": {}
  },
  {
   "cell_type": "code",
   "execution_count": 3,
   "metadata": {},
   "outputs": [],
   "source": [
    "# Coco Path\n",
    "# path = r\"C:\\Users\\CocoL\\Universität St.Gallen\\STUD-Capstoneproject Tell 6 - General\\02-Coding\"\n",
    "# Jona Path\n",
    "# path = r\"/Users/jhoff/Universität St.Gallen/STUD-Capstoneproject Tell 6 - Dokumente/General/02-Coding\"\n",
    "# Giovanni Path\n",
    "# path = r\"/Users/jonathanebner/Universität St.Gallen/STUD-Capstoneproject Tell 6 - General/02-Coding\"\n",
    "# Leo Path\n",
    "path = r\"/Users/Leonidas/Universität St.Gallen/STUD-Capstoneproject Tell 6 - General/02-Coding\"\n",
    "\n",
    "# Import packages\n",
    "import pandas as pd\n",
    "# import numpy as np"
   ]
  },
  {
   "cell_type": "code",
   "execution_count": 4,
   "metadata": {},
   "outputs": [],
   "source": [
    "# Read json file and save as \"data\"\n",
    "data = pd.read_json(path+\"/01-Data/recipes.json\")"
   ]
  },
  {
   "cell_type": "code",
   "execution_count": 5,
   "metadata": {},
   "outputs": [],
   "source": [
    "# Save instructions column in pd.Series \"instructions\"\n",
    "instructions = data.Instructions"
   ]
  },
  {
   "cell_type": "code",
   "execution_count": 6,
   "metadata": {},
   "outputs": [],
   "source": [
    "# Export instruction strings without labels and header into file \"instructions.csv\"\n",
    "# Set encoding to \"utf16\" to keep ä, ö, ü and ß\n",
    "instructions.to_csv(path+\"/01-Data/instructions.csv\", sep=\"@\", index=False, header=False, encoding=\"utf-16\")"
   ]
  },
  {
   "cell_type": "code",
   "execution_count": 6,
   "metadata": {},
   "outputs": [],
   "source": [
    "# Export small instructions into file \"instructions_sm.csv\"\n",
    "# Set encoding to \"utf16\" to keep ä, ö, ü and ß\n",
    "instructions[:12].to_csv(path+\"/01-Data/instructions_sm.csv\", index=False, header=False, encoding=\"utf-16\")"
   ]
  },
  {
   "cell_type": "code",
   "execution_count": null,
   "metadata": {},
   "outputs": [],
   "source": []
  }
 ]
}