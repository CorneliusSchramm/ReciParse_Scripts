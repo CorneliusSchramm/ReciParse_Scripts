{
 "metadata": {
  "language_info": {
   "codemirror_mode": {
    "name": "ipython",
    "version": 3
   },
   "file_extension": ".py",
   "mimetype": "text/x-python",
   "name": "python",
   "nbconvert_exporter": "python",
   "pygments_lexer": "ipython3",
   "version": "3.8.3-final"
  },
  "orig_nbformat": 2,
  "kernelspec": {
   "name": "Python 3.8.3 64-bit ('nlp-env': conda)",
   "display_name": "Python 3.8.3 64-bit ('nlp-env': conda)",
   "metadata": {
    "interpreter": {
     "hash": "e94a195423c03e6ca221f6d7bf4668d5d41ff3942174bd0f98efe498da7be866"
    }
   }
  }
 },
 "nbformat": 4,
 "nbformat_minor": 2,
 "cells": [
  {
   "cell_type": "code",
   "execution_count": 1,
   "metadata": {},
   "outputs": [],
   "source": [
    "# Coco Path\n",
    "# path = r\"C:\\Users\\CocoL\\Universität St.Gallen\\STUD-Capstoneproject Tell 6 - General\\02-Coding\"\n",
    "# Jona Path\n",
    "# path = r\"/Users/jhoff/Universität St.Gallen/STUD-Capstoneproject Tell 6 - Dokumente/General/02-Coding\"\n",
    "# Giovanni Path\n",
    "# path = r\"/Users/jonathanebner/Universität St.Gallen/STUD-Capstoneproject Tell 6 - General/02-Coding\"\n",
    "# Leo Path\n",
    "path = r\"/Users/Leonidas/Universität St.Gallen/STUD-Capstoneproject Tell 6 - General/02-Coding\""
   ]
  },
  {
   "cell_type": "code",
   "execution_count": 2,
   "metadata": {},
   "outputs": [],
   "source": [
    "import pandas as pd\n",
    "json = pd.read_json(\"/Users/Leonidas/Universität St.Gallen/STUD-Capstoneproject Tell 6 - General/02-Coding/01-Data/recipes.json\")"
   ]
  },
  {
   "cell_type": "code",
   "execution_count": 8,
   "metadata": {},
   "outputs": [
    {
     "output_type": "execute_result",
     "data": {
      "text/plain": [
       "['Die Eier hart kochen. Dann pellen und mit einem Eierschneider in Scheiben schneiden. Den Reis halbgar kochen und zur Seite stellen. Die Wurst (Kolbász) in dünne Scheiben schneiden.Den Knoblauch abziehen und fein würfeln. Die Zwiebel schälen, fein hacken und in etwas Fett glasig braten. Knoblauch und Hackfleisch dazu geben und so lange braten, bis das Hackfleisch schön krümelig wird. Den eigenen Saft nicht ganz verkochen lassen. Die Fleischmasse mit Salz, Pfeffer und Paprikapulver würzen.Das Sauerkraut kurz durchspülen, ausdrücken und abtropfen lassen (damit es nicht zu sauer wird). Das Sauerkraut in einen Topf geben und mit dem Kümmel und den Lorbeerblättern vermischen. Ca. 30 Minuten unter Zugabe von wenig Wasser bei niedriger Stufe dünsten.Eine feuerfeste Form mit etwas Öl einfetten und den Boden dünn mit Sauerkraut belegen. Darauf Kolbász und die Hälfte der in Scheiben geschnittene Eier verteilen, dann eine weitere dünne Schicht Sauerkraut drüber legen. Mit 1 Becher Schmand bedecken. Nun das Hackfleisch mit dem Reis mischen und auf der Sauerkrautschicht gleichmäßig verteilen. Mit der zweiten Hälfte der Eier belegen und die dritte Schicht Sauerkraut oben drauf verteilen. Wenn noch Zutaten (Hackfleisch-Reis-Masse und Sauerkraut) übrig sind, kann man diese Schichten weiter so legen. Ganz oben kommt eine Schicht Sauerkraut. Auf diese letzte Schicht verteilt man noch den Rest vom Schmand (sollte reichlich sein). Den Speck in dünne Scheiben schneiden und damit alles abdecken. Mit etwas Öl besprenkeln. Die Form mit einem Deckel verschließend.Im vorgeheizten Backofen bei 175°C ober-/Unterhitze gut 1 Std. garen.Ganz frische Baguettebrötchen oder Weißbrot schmeckt am allerbesten dazu. Man kann aber auch Kartoffel- oder Semmelknödel dazu reichen. Etwas aufwendig, aber die Mühe lohnt sich... es ist einfach mega-ober-lecker.Anmerkung: Für viele sind Eier in Verbindung mit Sauerkraut ein No-Go, man kann sie also auch weglassen.',\n",
       " 'Vorab folgende Bemerkung: Alle Mengen sind Circa-Angaben und können nach Geschmack variiert werden!Das Gemüse putzen und in Stücke schneiden (die Tomaten brauchen nicht geschält zu werden!). Alle Zutaten werden im Mixer püriert, das muss wegen der Mengen in mehreren Partien geschehen, und zu jeder Partie muss auch etwas von der Brühe gegeben werden. Auch das Toastbrot wird mitpüriert, es dient der Bindung. Am Schluss lässt man das Öl bei laufendem Mixer einfließen. In einer großen Schüssel alles gut verrühren und für mindestens eine Stunde im Kühlschrank gut durchkühlen lassen.Mit frischem Baguette an heißen Tagen ein Hochgenuss.Tipps: Wer mag, kann in kleine Würfel geschnittene Tomate, Gurke und Zwiebel separat dazu reichen.Die Suppe eignet sich hervorragend zum Einfrieren, so dass ich immer diese große Menge zubereite, um den Arbeitsaufwand gering zu halten.']"
      ]
     },
     "metadata": {},
     "execution_count": 8
    }
   ],
   "source": []
  },
  {
   "cell_type": "code",
   "execution_count": 11,
   "metadata": {},
   "outputs": [
    {
     "output_type": "error",
     "ename": "AttributeError",
     "evalue": "'str' object has no attribute 'to_csv'",
     "traceback": [
      "\u001b[0;31m---------------------------------------------------------------------------\u001b[0m",
      "\u001b[0;31mAttributeError\u001b[0m                            Traceback (most recent call last)",
      "\u001b[0;32m<ipython-input-11-a3bc2230b674>\u001b[0m in \u001b[0;36m<module>\u001b[0;34m\u001b[0m\n\u001b[0;32m----> 1\u001b[0;31m \u001b[0mjson\u001b[0m\u001b[0;34m.\u001b[0m\u001b[0mInstructions\u001b[0m\u001b[0;34m[\u001b[0m\u001b[0;36m1\u001b[0m\u001b[0;34m]\u001b[0m\u001b[0;34m.\u001b[0m\u001b[0mto_csv\u001b[0m\u001b[0;34m(\u001b[0m\u001b[0;34m\"/Users/Leonidas/Universität St.Gallen/STUD-Capstoneproject Tell 6 - General/Coding/instructions.csv\"\u001b[0m\u001b[0;34m)\u001b[0m\u001b[0;34m\u001b[0m\u001b[0;34m\u001b[0m\u001b[0m\n\u001b[0m",
      "\u001b[0;31mAttributeError\u001b[0m: 'str' object has no attribute 'to_csv'"
     ]
    }
   ],
   "source": [
    "json.Instructions[1].to_csv(\"/Users/Leonidas/Universität St.Gallen/STUD-Capstoneproject Tell 6 - General/Coding/instructions.csv\")"
   ]
  },
  {
   "cell_type": "code",
   "execution_count": 2,
   "metadata": {},
   "outputs": [
    {
     "output_type": "execute_result",
     "data": {
      "text/plain": [
       "0        Die Eier hart kochen. Dann pellen und mit eine...\n",
       "1        Vorab folgende Bemerkung: Alle Mengen sind Cir...\n",
       "2        Die Kirschen abtropfen lassen, dabei den Saft ...\n",
       "3        Den Spargel säubern, die holzigen Enden abschn...\n",
       "4        Kohlrabi schälen und klein würfeln. Mit der Br...\n",
       "                               ...                        \n",
       "12185    In einem nicht allzu großen Topf die Butter er...\n",
       "12186    Gurke waschen und in dünne Scheiben schneiden....\n",
       "12187    Die Gurken schälen und längs halbieren. Das In...\n",
       "12188    Die Knochen mit der Hälfte des Wurzelwerkes, d...\n",
       "12189    Aus Mehl, Hefe, den Gewürzen, Ei, Milch und de...\n",
       "Name: Instructions, Length: 12190, dtype: object"
      ]
     },
     "metadata": {},
     "execution_count": 2
    }
   ],
   "source": [
    "json.Instructions.to_csv(\"\")"
   ]
  },
  {
   "cell_type": "code",
   "execution_count": 10,
   "metadata": {},
   "outputs": [
    {
     "output_type": "stream",
     "name": "stdout",
     "text": [
      "Url              https://www.chefkoch.de/rezepte/185441079701305/\nInstructions    Die Eier hart kochen. Dann pellen und mit eine...\nIngredients     [600 g Hackfleisch, halb und halb, 800 g Sauer...\nDay                                                             1\nName                                       Gebratener Hasenrücken\nYear                                                         2009\nMonth                                                     January\nWeekday                                                  Thursday\nName: 0, dtype: object\n"
     ]
    }
   ],
   "source": [
    "print(json.iloc[0])"
   ]
  },
  {
   "cell_type": "code",
   "execution_count": 2,
   "metadata": {},
   "outputs": [],
   "source": [
    "ingredients = json[\"Ingredients\"]"
   ]
  },
  {
   "cell_type": "code",
   "execution_count": 4,
   "metadata": {},
   "outputs": [
    {
     "output_type": "execute_result",
     "data": {
      "text/plain": [
       "0    [600 g Hackfleisch, halb und halb, 800 g Sauer...\n",
       "1    [1 kg Strauchtomate(n), 1 Gemüsezwiebel(n), 1 ...\n",
       "2    [1 Glas Kirsche(n), 1 Pck. Vanillepuddingpulve...\n",
       "3    [500 g Spargel, grüner, 300 ml Brühe oder Fond...\n",
       "4    [250 g Kohlrabi, 150 ml Gemüsebrühe, 150 ml Mi...\n",
       "Name: Ingredients, dtype: object"
      ]
     },
     "metadata": {},
     "execution_count": 4
    }
   ],
   "source": [
    "ingredients.head()"
   ]
  },
  {
   "cell_type": "code",
   "execution_count": 5,
   "metadata": {},
   "outputs": [],
   "source": [
    "import spacy\n",
    "import de_core_news_lg"
   ]
  },
  {
   "cell_type": "code",
   "execution_count": 6,
   "metadata": {},
   "outputs": [
    {
     "output_type": "stream",
     "name": "stdout",
     "text": [
      "600 g Hackfleisch, halb und halb\n800 g Sauerkraut\n200 g Wurst, geräucherte (Csabai Kolbász)\n150 g Speck, durchwachsener, geräucherter\n100 g Reis\n1 m.-große Zwiebel(n)\n1 Zehe/n Knoblauch\n2 Becher Schmand\n1/2TL Kümmel, ganzer\n2 Lorbeerblätter\nSalz und Pfeffer\n4 Ei(er) (bei Bedarf)\nPaprikapulver\netwas Wasser\nÖl\n"
     ]
    }
   ],
   "source": [
    "for ing in ingredients[0]:\n",
    "    print(ing)"
   ]
  },
  {
   "cell_type": "code",
   "execution_count": 3,
   "metadata": {},
   "outputs": [
    {
     "output_type": "error",
     "ename": "NameError",
     "evalue": "name 'de_core_news_lg' is not defined",
     "traceback": [
      "\u001b[0;31m---------------------------------------------------------------------------\u001b[0m",
      "\u001b[0;31mNameError\u001b[0m                                 Traceback (most recent call last)",
      "\u001b[0;32m<ipython-input-3-05379fab375d>\u001b[0m in \u001b[0;36m<module>\u001b[0;34m\u001b[0m\n\u001b[0;32m----> 1\u001b[0;31m \u001b[0mnlp\u001b[0m \u001b[0;34m=\u001b[0m \u001b[0mde_core_news_lg\u001b[0m\u001b[0;34m.\u001b[0m\u001b[0mload\u001b[0m\u001b[0;34m(\u001b[0m\u001b[0;34m\"/Users/Leonidas/Universität St.Gallen/STUD-Capstoneproject Tell 6 - General/Coding/Instructions\"\u001b[0m\u001b[0;34m)\u001b[0m\u001b[0;34m\u001b[0m\u001b[0;34m\u001b[0m\u001b[0m\n\u001b[0m",
      "\u001b[0;31mNameError\u001b[0m: name 'de_core_news_lg' is not defined"
     ]
    }
   ],
   "source": [
    "nlp = de_core_news_lg.load(\"/Users/Leonidas/Universität St.Gallen/STUD-Capstoneproject Tell 6 - General/Coding/Instructions\")"
   ]
  },
  {
   "cell_type": "code",
   "execution_count": 11,
   "metadata": {},
   "outputs": [
    {
     "output_type": "stream",
     "name": "stdout",
     "text": [
      "CPU times: user 2.96 s, sys: 44.5 ms, total: 3.01 s\nWall time: 3.53 s\n"
     ]
    }
   ],
   "source": [
    "%%time\n",
    "zutaten = []\n",
    "for rec_num in range(30):\n",
    "    for ing in ingredients[rec_num]:\n",
    "        doc = nlp(ing)\n",
    "        # print([(w.text, w.pos_) for w in doc])\n",
    "        for np in doc.noun_chunks:\n",
    "            for w in np:\n",
    "                if w.pos_ == \"PROPN\" or w.pos_ == \"NOUN\":\n",
    "                    # zutaten.append((w.text, w.pos_))\n",
    "                    zutaten.append(w.text)"
   ]
  },
  {
   "cell_type": "code",
   "execution_count": 12,
   "metadata": {},
   "outputs": [
    {
     "output_type": "stream",
     "name": "stdout",
     "text": [
      "569\n233\n"
     ]
    }
   ],
   "source": [
    "print(len(zutaten))\n",
    "print(len(set(zutaten)))"
   ]
  },
  {
   "cell_type": "code",
   "execution_count": 14,
   "metadata": {},
   "outputs": [
    {
     "output_type": "stream",
     "name": "stdout",
     "text": [
      "['Zesten', 'Bedarf', 'Strauchtomate', 'Essig', 'Tabasco', 'Geflügelbrühe', 'Blüten', 'Feta-Käse', 'Zucker', 'Rinderbraten', 'Röllchen', 'Lachs', 'Bohnen', 'Saucenbinder', 'Kugel', 'getrocknete', '2Tasse', 'Guss', 'Fleischbrühe', 'Apfelkompott', 'Koriander', 'Liter', 'Weichweizengrieß', 'Paar', 'Tafelspitz', 'Champignons', 'Kümmel', 'Majoran', 'Farfalle', 'Birne', 'Arbeitsfläche', 'Thymian', 'Radicchio', 'Becher', 'Lauch', 'Schinken', 'Glas', 'Vanilleschote', 'Sojasauce', 'Schnaps', 'Kelche', 'Blumenkohl', 'Salz', 'Prise', 'Bund', 'Zweig', 'Ausbacken', 'Zucchini', 'Lorbeerblätter', 'Trockenhefe', 'Wurst', 'Einstreichen', 'Limone', 'ml', 'Sauerrahm', 'Rohrzucker', 'Kürbisfleisch', 'Toastbrot', 'Petersilie', 'Himbeeressig', 'm.-große', 'gekörnte', 'Kartoffeln', 'Mangochutney', 'Quark', 'Sahne', 'Butter', 'Schuss', 'Suppengemüse', 'Kerne', 'Mark', 'Kürbis', 'Olivenöl', 'Stück', 'Braten', 'Paprikaschote', 'Chilischote', 'Dose', 'Milch', 'Steak', 'Mineralwasser', 'Kirsche', 'Parmesan', 'Stiele', 'Käse', 'Brühe', 'braune', 'Karotte', 'Linsen', 'Geschmack', 'B.', 'Schwein', 'Sellerie', 'Stange', 'Weinessig', 'Walnüsse', 'Kalbfleisch', 'Tomate', 'Vanillezucker', 'Bandnudeln', 'Weizenmehl', 'Salatgurke', 'Ketchup', 'Kräuter', 'Püree', 'Teig', 'Bohnenkraut', 'Gouda', 'Provence', 'Lauchzwiebel', 'Hackfleisch', 'Frischkäse', 'Tomaten', 'Balsamico', 'Paprikamark', 'Knoblauch', 'Wasser', 'Gemüsebrühe', 'Cocktailtomaten', 'Sauerkirschen', 'Porree', 'Süßkartoffel', 'Currypulver', 'Fett', 'Fischfilet', 'Schmelzkäse', 'Emmentaler', 'Schweinelende', 'Wahl', 'Vortag', 'Apfelschnaps', 'Brennnesseln', 'Süßstoff', 'Gulasch', 'Schweinekotelett', 'Weißwein', 'Tube', 'Mühle', 'Keule', 'Haferflocken', 'Ei', 'Piri-Piri', 'Stücke', 'Mehl', 'Knoblauchzehe', 'Margarine', 'Öl', 'Kirschsaft', 'Cayennepfeffer', 'Senf', 'Huhn', 'Pck', 'Muskat', 'Wein', 'Orange', 'Pfeffer', 'Rosmarin', 'Spargel', 'Tasse', 'Taubnessel', 'Paprikapulver', 'Zitronensaft', 'Schweineschnitzel', 'Tomatenmark', 'Dressing', 'TL', 'Zwiebel', 'Räucherschinken', 'Möhren', 'g', 'Kochen', 'Alaskafilet', 'Butterschmalz', 'Joghurt', 'Gemüse', 'Apfelessig', 'Kochschinken', 'Langkornreis', 'Füllung', 'Spitzen', 'Fond', 'Kerbel', 'TK', 'Würste', 'Knollensellerie', 'Wunsch', 'Rind', 'Würfel', 'Pfirsich', 'Mais', 'Kalb', 'Rotwein', 'Semmelbrösel', 'Röstzwiebeln', 'Walnussöl', 'Rahm', 'Zehe', 'grüne', 'Wacholderbeere', 'Reis', 'edelsüß', 'Pastinake', 'Kräutern', 'Basilikum', 'Steckrübe', 'Kohlrabi', 'Rindfleisch', 'Mozzarella', 'Sauerkraut', 'Mürbeteig', 'Schnittlauch', 'Vanillepuddingpulver', 'Pfefferschote', 'Weißweinessig', 'Ananas', 'Gemüsezwiebel', 'edelsüßes', 'Kasar', 'Gorgonzola', 'Frischhefe', 'Speck', 'Möhre', 'Schmand', 'Hirsch', 'Kartoffel', 'Bergkäse', 'Scheibe', 'Handvoll', 'Sucuk', 'geschälte', 'Marinade', 'EL', 'Mengenangabe']\n"
     ]
    }
   ],
   "source": [
    "print(list(set(zutaten)))"
   ]
  },
  {
   "cell_type": "code",
   "execution_count": 15,
   "metadata": {},
   "outputs": [],
   "source": [
    "from ingredient_functions import _clean, _filter\n",
    "zutaten = list(set(zutaten))\n",
    "cleaned_ing = [_clean(token.text) for zutat in zutaten for token in nlp(zutat) if _filter(token) and len(_clean(token.text)) >= 2]\n"
   ]
  },
  {
   "cell_type": "code",
   "execution_count": 22,
   "metadata": {},
   "outputs": [
    {
     "output_type": "stream",
     "name": "stdout",
     "text": [
      "Anzahl Zutaten vor dem Säubern:  233\nAnzahl Zutaten nach dem Säubern:  223\nZutaten:\n"
     ]
    },
    {
     "output_type": "execute_result",
     "data": {
      "text/plain": [
       "['Zesten',\n",
       " 'Bedarf',\n",
       " 'Strauchtomate',\n",
       " 'Essig',\n",
       " 'Tabasco',\n",
       " 'Geflügelbrühe',\n",
       " 'Blüten',\n",
       " 'Feta-Käse',\n",
       " 'Zucker',\n",
       " 'Rinderbraten',\n",
       " 'Röllchen',\n",
       " 'Lachs',\n",
       " 'Bohnen',\n",
       " 'Saucenbinder',\n",
       " 'Kugel',\n",
       " '2Tasse',\n",
       " 'Guss',\n",
       " 'Fleischbrühe',\n",
       " 'Apfelkompott',\n",
       " 'Koriander']"
      ]
     },
     "metadata": {},
     "execution_count": 22
    }
   ],
   "source": [
    "print(\"Anzahl Zutaten vor dem Säubern: \", len(zutaten))\n",
    "print(\"Anzahl Zutaten nach dem Säubern: \", len(cleaned_ing))\n",
    "print(\"Zutaten:\")\n",
    "cleaned_ing[:20]\n",
    "# Fehlerhaft: Röllchen, Kugel, 2Tasse, Guss, ..."
   ]
  },
  {
   "cell_type": "code",
   "execution_count": null,
   "metadata": {},
   "outputs": [],
   "source": [
    "# Alle Wörter entfernen, die ein punct enthalten\n",
    "# Alle Wörter entfernen in denen auch der zweite buchstabe gross geschrieben ist? Gegenbeispiel: MONDAMIN\n",
    "# auch in die _filter function?"
   ]
  }
 ]
}