{
 "metadata": {
  "language_info": {
   "codemirror_mode": {
    "name": "ipython",
    "version": 3
   },
   "file_extension": ".py",
   "mimetype": "text/x-python",
   "name": "python",
   "nbconvert_exporter": "python",
   "pygments_lexer": "ipython3",
   "version": "3.8.3-final"
  },
  "orig_nbformat": 2,
  "kernelspec": {
   "name": "Python 3.8.3 64-bit ('nlp-env': conda)",
   "display_name": "Python 3.8.3 64-bit ('nlp-env': conda)",
   "metadata": {
    "interpreter": {
     "hash": "e94a195423c03e6ca221f6d7bf4668d5d41ff3942174bd0f98efe498da7be866"
    }
   }
  }
 },
 "nbformat": 4,
 "nbformat_minor": 2,
 "cells": [
  {
   "cell_type": "code",
   "execution_count": 1,
   "metadata": {},
   "outputs": [],
   "source": [
    "import pandas as pd\n",
    "json = pd.read_json(\"/Users/Leonidas/Universität St.Gallen/STUD-Capstoneproject Tell 6 - General/Coding/1-Data/recipes.json\")"
   ]
  },
  {
   "cell_type": "code",
   "execution_count": 10,
   "metadata": {},
   "outputs": [
    {
     "output_type": "stream",
     "name": "stdout",
     "text": [
      "Url              https://www.chefkoch.de/rezepte/185441079701305/\nInstructions    Die Eier hart kochen. Dann pellen und mit eine...\nIngredients     [600 g Hackfleisch, halb und halb, 800 g Sauer...\nDay                                                             1\nName                                       Gebratener Hasenrücken\nYear                                                         2009\nMonth                                                     January\nWeekday                                                  Thursday\nName: 0, dtype: object\n"
     ]
    }
   ],
   "source": [
    "print(json.iloc[0])"
   ]
  },
  {
   "cell_type": "code",
   "execution_count": 2,
   "metadata": {},
   "outputs": [],
   "source": [
    "ingredients = json[\"Ingredients\"]"
   ]
  },
  {
   "cell_type": "code",
   "execution_count": 4,
   "metadata": {},
   "outputs": [
    {
     "output_type": "execute_result",
     "data": {
      "text/plain": [
       "0    [600 g Hackfleisch, halb und halb, 800 g Sauer...\n",
       "1    [1 kg Strauchtomate(n), 1 Gemüsezwiebel(n), 1 ...\n",
       "2    [1 Glas Kirsche(n), 1 Pck. Vanillepuddingpulve...\n",
       "3    [500 g Spargel, grüner, 300 ml Brühe oder Fond...\n",
       "4    [250 g Kohlrabi, 150 ml Gemüsebrühe, 150 ml Mi...\n",
       "Name: Ingredients, dtype: object"
      ]
     },
     "metadata": {},
     "execution_count": 4
    }
   ],
   "source": [
    "ingredients.head()"
   ]
  },
  {
   "cell_type": "code",
   "execution_count": 5,
   "metadata": {},
   "outputs": [],
   "source": [
    "import spacy\n",
    "import de_core_news_lg"
   ]
  },
  {
   "cell_type": "code",
   "execution_count": 6,
   "metadata": {},
   "outputs": [
    {
     "output_type": "stream",
     "name": "stdout",
     "text": [
      "600 g Hackfleisch, halb und halb\n800 g Sauerkraut\n200 g Wurst, geräucherte (Csabai Kolbász)\n150 g Speck, durchwachsener, geräucherter\n100 g Reis\n1 m.-große Zwiebel(n)\n1 Zehe/n Knoblauch\n2 Becher Schmand\n1/2TL Kümmel, ganzer\n2 Lorbeerblätter\nSalz und Pfeffer\n4 Ei(er) (bei Bedarf)\nPaprikapulver\netwas Wasser\nÖl\n"
     ]
    }
   ],
   "source": [
    "for ing in ingredients[0]:\n",
    "    print(ing)"
   ]
  },
  {
   "cell_type": "code",
   "execution_count": 7,
   "metadata": {},
   "outputs": [],
   "source": [
    "nlp = de_core_news_lg.load()"
   ]
  },
  {
   "cell_type": "code",
   "execution_count": 11,
   "metadata": {},
   "outputs": [
    {
     "output_type": "stream",
     "name": "stdout",
     "text": [
      "CPU times: user 2.96 s, sys: 44.5 ms, total: 3.01 s\nWall time: 3.53 s\n"
     ]
    }
   ],
   "source": [
    "%%time\n",
    "zutaten = []\n",
    "for rec_num in range(30):\n",
    "    for ing in ingredients[rec_num]:\n",
    "        doc = nlp(ing)\n",
    "        # print([(w.text, w.pos_) for w in doc])\n",
    "        for np in doc.noun_chunks:\n",
    "            for w in np:\n",
    "                if w.pos_ == \"PROPN\" or w.pos_ == \"NOUN\":\n",
    "                    # zutaten.append((w.text, w.pos_))\n",
    "                    zutaten.append(w.text)"
   ]
  },
  {
   "cell_type": "code",
   "execution_count": 12,
   "metadata": {},
   "outputs": [
    {
     "output_type": "stream",
     "name": "stdout",
     "text": [
      "569\n233\n"
     ]
    }
   ],
   "source": [
    "print(len(zutaten))\n",
    "print(len(set(zutaten)))"
   ]
  },
  {
   "cell_type": "code",
   "execution_count": 14,
   "metadata": {},
   "outputs": [
    {
     "output_type": "stream",
     "name": "stdout",
     "text": [
      "['Zesten', 'Bedarf', 'Strauchtomate', 'Essig', 'Tabasco', 'Geflügelbrühe', 'Blüten', 'Feta-Käse', 'Zucker', 'Rinderbraten', 'Röllchen', 'Lachs', 'Bohnen', 'Saucenbinder', 'Kugel', 'getrocknete', '2Tasse', 'Guss', 'Fleischbrühe', 'Apfelkompott', 'Koriander', 'Liter', 'Weichweizengrieß', 'Paar', 'Tafelspitz', 'Champignons', 'Kümmel', 'Majoran', 'Farfalle', 'Birne', 'Arbeitsfläche', 'Thymian', 'Radicchio', 'Becher', 'Lauch', 'Schinken', 'Glas', 'Vanilleschote', 'Sojasauce', 'Schnaps', 'Kelche', 'Blumenkohl', 'Salz', 'Prise', 'Bund', 'Zweig', 'Ausbacken', 'Zucchini', 'Lorbeerblätter', 'Trockenhefe', 'Wurst', 'Einstreichen', 'Limone', 'ml', 'Sauerrahm', 'Rohrzucker', 'Kürbisfleisch', 'Toastbrot', 'Petersilie', 'Himbeeressig', 'm.-große', 'gekörnte', 'Kartoffeln', 'Mangochutney', 'Quark', 'Sahne', 'Butter', 'Schuss', 'Suppengemüse', 'Kerne', 'Mark', 'Kürbis', 'Olivenöl', 'Stück', 'Braten', 'Paprikaschote', 'Chilischote', 'Dose', 'Milch', 'Steak', 'Mineralwasser', 'Kirsche', 'Parmesan', 'Stiele', 'Käse', 'Brühe', 'braune', 'Karotte', 'Linsen', 'Geschmack', 'B.', 'Schwein', 'Sellerie', 'Stange', 'Weinessig', 'Walnüsse', 'Kalbfleisch', 'Tomate', 'Vanillezucker', 'Bandnudeln', 'Weizenmehl', 'Salatgurke', 'Ketchup', 'Kräuter', 'Püree', 'Teig', 'Bohnenkraut', 'Gouda', 'Provence', 'Lauchzwiebel', 'Hackfleisch', 'Frischkäse', 'Tomaten', 'Balsamico', 'Paprikamark', 'Knoblauch', 'Wasser', 'Gemüsebrühe', 'Cocktailtomaten', 'Sauerkirschen', 'Porree', 'Süßkartoffel', 'Currypulver', 'Fett', 'Fischfilet', 'Schmelzkäse', 'Emmentaler', 'Schweinelende', 'Wahl', 'Vortag', 'Apfelschnaps', 'Brennnesseln', 'Süßstoff', 'Gulasch', 'Schweinekotelett', 'Weißwein', 'Tube', 'Mühle', 'Keule', 'Haferflocken', 'Ei', 'Piri-Piri', 'Stücke', 'Mehl', 'Knoblauchzehe', 'Margarine', 'Öl', 'Kirschsaft', 'Cayennepfeffer', 'Senf', 'Huhn', 'Pck', 'Muskat', 'Wein', 'Orange', 'Pfeffer', 'Rosmarin', 'Spargel', 'Tasse', 'Taubnessel', 'Paprikapulver', 'Zitronensaft', 'Schweineschnitzel', 'Tomatenmark', 'Dressing', 'TL', 'Zwiebel', 'Räucherschinken', 'Möhren', 'g', 'Kochen', 'Alaskafilet', 'Butterschmalz', 'Joghurt', 'Gemüse', 'Apfelessig', 'Kochschinken', 'Langkornreis', 'Füllung', 'Spitzen', 'Fond', 'Kerbel', 'TK', 'Würste', 'Knollensellerie', 'Wunsch', 'Rind', 'Würfel', 'Pfirsich', 'Mais', 'Kalb', 'Rotwein', 'Semmelbrösel', 'Röstzwiebeln', 'Walnussöl', 'Rahm', 'Zehe', 'grüne', 'Wacholderbeere', 'Reis', 'edelsüß', 'Pastinake', 'Kräutern', 'Basilikum', 'Steckrübe', 'Kohlrabi', 'Rindfleisch', 'Mozzarella', 'Sauerkraut', 'Mürbeteig', 'Schnittlauch', 'Vanillepuddingpulver', 'Pfefferschote', 'Weißweinessig', 'Ananas', 'Gemüsezwiebel', 'edelsüßes', 'Kasar', 'Gorgonzola', 'Frischhefe', 'Speck', 'Möhre', 'Schmand', 'Hirsch', 'Kartoffel', 'Bergkäse', 'Scheibe', 'Handvoll', 'Sucuk', 'geschälte', 'Marinade', 'EL', 'Mengenangabe']\n"
     ]
    }
   ],
   "source": [
    "print(list(set(zutaten)))"
   ]
  },
  {
   "cell_type": "code",
   "execution_count": 15,
   "metadata": {},
   "outputs": [],
   "source": [
    "from ingredient_functions import _clean, _filter\n",
    "zutaten = list(set(zutaten))\n",
    "cleaned_ing = [_clean(token.text) for zutat in zutaten for token in nlp(zutat) if _filter(token) and len(_clean(token.text)) >= 2]\n"
   ]
  },
  {
   "cell_type": "code",
   "execution_count": 22,
   "metadata": {},
   "outputs": [
    {
     "output_type": "stream",
     "name": "stdout",
     "text": [
      "Anzahl Zutaten vor dem Säubern:  233\nAnzahl Zutaten nach dem Säubern:  223\nZutaten:\n"
     ]
    },
    {
     "output_type": "execute_result",
     "data": {
      "text/plain": [
       "['Zesten',\n",
       " 'Bedarf',\n",
       " 'Strauchtomate',\n",
       " 'Essig',\n",
       " 'Tabasco',\n",
       " 'Geflügelbrühe',\n",
       " 'Blüten',\n",
       " 'Feta-Käse',\n",
       " 'Zucker',\n",
       " 'Rinderbraten',\n",
       " 'Röllchen',\n",
       " 'Lachs',\n",
       " 'Bohnen',\n",
       " 'Saucenbinder',\n",
       " 'Kugel',\n",
       " '2Tasse',\n",
       " 'Guss',\n",
       " 'Fleischbrühe',\n",
       " 'Apfelkompott',\n",
       " 'Koriander']"
      ]
     },
     "metadata": {},
     "execution_count": 22
    }
   ],
   "source": [
    "print(\"Anzahl Zutaten vor dem Säubern: \", len(zutaten))\n",
    "print(\"Anzahl Zutaten nach dem Säubern: \", len(cleaned_ing))\n",
    "print(\"Zutaten:\")\n",
    "cleaned_ing[:20]\n",
    "# Fehlerhaft: Röllchen, Kugel, 2Tasse, Guss, ..."
   ]
  },
  {
   "cell_type": "code",
   "execution_count": null,
   "metadata": {},
   "outputs": [],
   "source": [
    "# Alle Wörter entfernen, die ein punct enthalten\n",
    "# Alle Wörter entfernen in denen auch der zweite buchstabe gross geschrieben ist? Gegenbeispiel: MONDAMIN\n",
    "# auch in die _filter function?"
   ]
  }
 ]
}