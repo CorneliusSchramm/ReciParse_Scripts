{
 "metadata": {
  "language_info": {
   "codemirror_mode": {
    "name": "ipython",
    "version": 3
   },
   "file_extension": ".py",
   "mimetype": "text/x-python",
   "name": "python",
   "nbconvert_exporter": "python",
   "pygments_lexer": "ipython3",
   "version": "3.8.3-final"
  },
  "orig_nbformat": 2,
  "kernelspec": {
   "name": "Python 3.8.3 64-bit ('nlp-env': conda)",
   "display_name": "Python 3.8.3 64-bit ('nlp-env': conda)",
   "metadata": {
    "interpreter": {
     "hash": "e94a195423c03e6ca221f6d7bf4668d5d41ff3942174bd0f98efe498da7be866"
    }
   }
  }
 },
 "nbformat": 4,
 "nbformat_minor": 2,
 "cells": [
  {
   "cell_type": "code",
   "execution_count": 1,
   "metadata": {},
   "outputs": [],
   "source": [
    "# Custom Training\n",
    "# https://www.youtube.com/watch?v=81OK6WHb_Q0"
   ]
  },
  {
   "cell_type": "code",
   "execution_count": null,
   "metadata": {},
   "outputs": [],
   "source": []
  }
 ]
}