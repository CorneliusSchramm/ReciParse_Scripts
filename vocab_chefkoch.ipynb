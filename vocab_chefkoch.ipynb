{
 "metadata": {
  "language_info": {
   "codemirror_mode": {
    "name": "ipython",
    "version": 3
   },
   "file_extension": ".py",
   "mimetype": "text/x-python",
   "name": "python",
   "nbconvert_exporter": "python",
   "pygments_lexer": "ipython3",
   "version": "3.8.3-final"
  },
  "orig_nbformat": 2,
  "kernelspec": {
   "name": "Python 3.8.3 64-bit ('nlp-env': conda)",
   "display_name": "Python 3.8.3 64-bit ('nlp-env': conda)",
   "metadata": {
    "interpreter": {
     "hash": "e94a195423c03e6ca221f6d7bf4668d5d41ff3942174bd0f98efe498da7be866"
    }
   }
  }
 },
 "nbformat": 4,
 "nbformat_minor": 2,
 "cells": [
  {
   "cell_type": "code",
   "execution_count": 1,
   "metadata": {},
   "outputs": [
    {
     "output_type": "execute_result",
     "data": {
      "text/plain": [
       "'\\nInput: Chefkoch Rezepte Dataset\\nOutput: Liste mit im Datensatz benutztem Vokabular\\nGrund: Ich dachte ich brauche das für das custom Trainieren für die synonyme aber not sure anymore\\n'"
      ]
     },
     "metadata": {},
     "execution_count": 1
    }
   ],
   "source": [
    "\"\"\"\n",
    "Input: Chefkoch Rezepte Dataset\n",
    "Output: Liste mit im Datensatz benutztem Vokabular\n",
    "Grund: Ich dachte ich brauche das für das custom Trainieren für die synonyme aber not sure anymore\n",
    "\"\"\""
   ]
  },
  {
   "cell_type": "code",
   "execution_count": 2,
   "metadata": {},
   "outputs": [],
   "source": [
    "import spacy\n",
    "import pandas as pd\n",
    "from ingredients.ingredient_functions import _clean, _filter"
   ]
  },
  {
   "cell_type": "code",
   "execution_count": 3,
   "metadata": {},
   "outputs": [],
   "source": [
    "# Load model\n",
    "nlp = spacy.load('de_core_news_lg', disable=['parser', 'tagger', 'ner'])"
   ]
  },
  {
   "cell_type": "code",
   "execution_count": 4,
   "metadata": {},
   "outputs": [],
   "source": [
    "# Load data\n",
    "df = pd.read_json(\"/Users/Leonidas/Universität St.Gallen/STUD-Capstoneproject Tell 6 - General/Coding/1-Data/recipes.json\")"
   ]
  },
  {
   "cell_type": "code",
   "execution_count": 5,
   "metadata": {},
   "outputs": [
    {
     "output_type": "stream",
     "name": "stdout",
     "text": [
      "543  stop words loaded.\n"
     ]
    }
   ],
   "source": [
    "# Load (German) stop words\n",
    "from spacy.lang.de.stop_words import STOP_WORDS\n",
    "stops = STOP_WORDS\n",
    "print(len(stops), \" stop words loaded.\")"
   ]
  },
  {
   "cell_type": "code",
   "execution_count": 6,
   "metadata": {},
   "outputs": [
    {
     "output_type": "stream",
     "name": "stdout",
     "text": [
      "CPU times: user 4.06 s, sys: 270 ms, total: 4.33 s\nWall time: 5.47 s\n"
     ]
    }
   ],
   "source": [
    "%%time\n",
    "# Filter for instructions and tokenize\n",
    "tokenized = [nlp(t) for t in df.Instructions.values]\n",
    "# Output: Liste mit 12190 list items, je ein ein spacy doc pro instruction des Rezeptes"
   ]
  },
  {
   "cell_type": "code",
   "execution_count": 7,
   "metadata": {},
   "outputs": [],
   "source": [
    "# Aufpassen dauert ne Weile\n",
    "# %%time\n",
    "\n",
    "# Create list of all tokens used in the 12k recipes\n",
    "tokens = []\n",
    "for text in tokenized[:10]:\n",
    "    for token in text:\n",
    "        tokens.append(token)"
   ]
  },
  {
   "cell_type": "code",
   "execution_count": 22,
   "metadata": {},
   "outputs": [],
   "source": [
    "cleaned_tokens = [_clean(token.text) for token in tokens if _filter(token, False) and len(_clean(token.text)) >= 2]"
   ]
  },
  {
   "cell_type": "code",
   "execution_count": 32,
   "metadata": {},
   "outputs": [],
   "source": [
    "# Normalize text?"
   ]
  },
  {
   "cell_type": "code",
   "execution_count": 14,
   "metadata": {},
   "outputs": [
    {
     "output_type": "stream",
     "name": "stdout",
     "text": [
      "Anzahl unique Token:  1503\nAnzahl Token nach Cleaning:  677\n"
     ]
    }
   ],
   "source": [
    "# print(\"Anzahl aller Token: \", anz_token)\n",
    "print(\"Anzahl unique Token: \", len(tokens))\n",
    "print(\"Anzahl Token nach Cleaning: \", len(cleaned_tokens))"
   ]
  },
  {
   "cell_type": "code",
   "execution_count": 17,
   "metadata": {},
   "outputs": [
    {
     "output_type": "stream",
     "name": "stdout",
     "text": [
      "Number of tokens: 1728929\nNumber of unique tokens: 17831\n"
     ]
    }
   ],
   "source": [
    "# Alternative Token Aufzählung\n",
    "# Dict mit allen Tokens und deren jeweiliger Anzahl \n",
    "vocab = {}\n",
    "for txt in tokenized:\n",
    "    for token in txt:\n",
    "        if token.text not in vocab.keys():\n",
    "            vocab[token.text] = 1\n",
    "        else: vocab[token.text] += 1\n",
    "print(\"Number of tokens: {}\".format(sum(vocab.values())))\n",
    "print(\"Number of unique tokens: {}\".format(len(vocab)))\n",
    "# Token nach Häufigkeit sortiert\n",
    "sort_anz = {k: v for k, v in reversed(sorted(vocab.items(), key=lambda item: item[1]))}"
   ]
  },
  {
   "cell_type": "code",
   "execution_count": 23,
   "metadata": {
    "tags": []
   },
   "outputs": [],
   "source": [
    "# Save token list to disk\n",
    "pd.DataFrame(cleaned_tokens).to_pickle(\"/Users/Leonidas/Universität St.Gallen/STUD-Capstoneproject Tell 6 - General/Coding/cleaned_tokens\")"
   ]
  }
 ]
}