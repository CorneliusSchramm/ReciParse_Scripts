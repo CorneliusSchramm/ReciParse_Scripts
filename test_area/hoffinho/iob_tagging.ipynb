{
 "metadata": {
  "language_info": {
   "codemirror_mode": {
    "name": "ipython",
    "version": 3
   },
   "file_extension": ".py",
   "mimetype": "text/x-python",
   "name": "python",
   "nbconvert_exporter": "python",
   "pygments_lexer": "ipython3",
   "version": "3.8.3-final"
  },
  "orig_nbformat": 2,
  "kernelspec": {
   "name": "Python 3.8.3 64-bit ('anaconda3': virtualenv)",
   "display_name": "Python 3.8.3 64-bit ('anaconda3': virtualenv)",
   "metadata": {
    "interpreter": {
     "hash": "dca0ade3e726a953b501b15e8e990130d2b7799f14cfd9f4271676035ebe5511"
    }
   }
  }
 },
 "nbformat": 4,
 "nbformat_minor": 2,
 "cells": [
  {
   "cell_type": "code",
   "execution_count": 2,
   "metadata": {},
   "outputs": [],
   "source": [
    "import pandas as pd\n",
    "import spacy\n",
    "import random\n",
    "import json"
   ]
  },
  {
   "cell_type": "code",
   "execution_count": 4,
   "metadata": {},
   "outputs": [
    {
     "output_type": "execute_result",
     "data": {
      "text/plain": [
       "                                                 Url  \\\n",
       "0   https://www.chefkoch.de/rezepte/185441079701305/   \n",
       "1  https://www.chefkoch.de/rezepte/2718181424631245/   \n",
       "2    https://www.chefkoch.de/rezepte/46341015661368/   \n",
       "3    https://www.chefkoch.de/rezepte/51051018014178/   \n",
       "4  https://www.chefkoch.de/rezepte/1555771262860408/   \n",
       "\n",
       "                                        Instructions  \\\n",
       "0  Die Eier hart kochen. Dann pellen und mit eine...   \n",
       "1  Vorab folgende Bemerkung: Alle Mengen sind Cir...   \n",
       "2  Die Kirschen abtropfen lassen, dabei den Saft ...   \n",
       "3  Den Spargel säubern, die holzigen Enden abschn...   \n",
       "4  Kohlrabi schälen und klein würfeln. Mit der Br...   \n",
       "\n",
       "                                         Ingredients  Day  \\\n",
       "0  [600 g Hackfleisch, halb und halb, 800 g Sauer...    1   \n",
       "1  [1 kg Strauchtomate(n), 1 Gemüsezwiebel(n), 1 ...    1   \n",
       "2  [1 Glas Kirsche(n), 1 Pck. Vanillepuddingpulve...    1   \n",
       "3  [500 g Spargel, grüner, 300 ml Brühe oder Fond...    1   \n",
       "4  [250 g Kohlrabi, 150 ml Gemüsebrühe, 150 ml Mi...    1   \n",
       "\n",
       "                                    Name  Year    Month   Weekday  \n",
       "0                 Gebratener Hasenrücken  2009  January  Thursday  \n",
       "1                        Pilz Stroganoff  2017     July  Saturday  \n",
       "2                   Kaninchen a la Gioff  2007  January    Monday  \n",
       "3         Spanisches Knoblauch-Kaninchen  2013    April    Monday  \n",
       "4  Gnocchi - Hack - Pfanne mit Basilikum  2017   August   Tuesday  "
      ],
      "text/html": "<div>\n<style scoped>\n    .dataframe tbody tr th:only-of-type {\n        vertical-align: middle;\n    }\n\n    .dataframe tbody tr th {\n        vertical-align: top;\n    }\n\n    .dataframe thead th {\n        text-align: right;\n    }\n</style>\n<table border=\"1\" class=\"dataframe\">\n  <thead>\n    <tr style=\"text-align: right;\">\n      <th></th>\n      <th>Url</th>\n      <th>Instructions</th>\n      <th>Ingredients</th>\n      <th>Day</th>\n      <th>Name</th>\n      <th>Year</th>\n      <th>Month</th>\n      <th>Weekday</th>\n    </tr>\n  </thead>\n  <tbody>\n    <tr>\n      <th>0</th>\n      <td>https://www.chefkoch.de/rezepte/185441079701305/</td>\n      <td>Die Eier hart kochen. Dann pellen und mit eine...</td>\n      <td>[600 g Hackfleisch, halb und halb, 800 g Sauer...</td>\n      <td>1</td>\n      <td>Gebratener Hasenrücken</td>\n      <td>2009</td>\n      <td>January</td>\n      <td>Thursday</td>\n    </tr>\n    <tr>\n      <th>1</th>\n      <td>https://www.chefkoch.de/rezepte/2718181424631245/</td>\n      <td>Vorab folgende Bemerkung: Alle Mengen sind Cir...</td>\n      <td>[1 kg Strauchtomate(n), 1 Gemüsezwiebel(n), 1 ...</td>\n      <td>1</td>\n      <td>Pilz Stroganoff</td>\n      <td>2017</td>\n      <td>July</td>\n      <td>Saturday</td>\n    </tr>\n    <tr>\n      <th>2</th>\n      <td>https://www.chefkoch.de/rezepte/46341015661368/</td>\n      <td>Die Kirschen abtropfen lassen, dabei den Saft ...</td>\n      <td>[1 Glas Kirsche(n), 1 Pck. Vanillepuddingpulve...</td>\n      <td>1</td>\n      <td>Kaninchen a la Gioff</td>\n      <td>2007</td>\n      <td>January</td>\n      <td>Monday</td>\n    </tr>\n    <tr>\n      <th>3</th>\n      <td>https://www.chefkoch.de/rezepte/51051018014178/</td>\n      <td>Den Spargel säubern, die holzigen Enden abschn...</td>\n      <td>[500 g Spargel, grüner, 300 ml Brühe oder Fond...</td>\n      <td>1</td>\n      <td>Spanisches Knoblauch-Kaninchen</td>\n      <td>2013</td>\n      <td>April</td>\n      <td>Monday</td>\n    </tr>\n    <tr>\n      <th>4</th>\n      <td>https://www.chefkoch.de/rezepte/1555771262860408/</td>\n      <td>Kohlrabi schälen und klein würfeln. Mit der Br...</td>\n      <td>[250 g Kohlrabi, 150 ml Gemüsebrühe, 150 ml Mi...</td>\n      <td>1</td>\n      <td>Gnocchi - Hack - Pfanne mit Basilikum</td>\n      <td>2017</td>\n      <td>August</td>\n      <td>Tuesday</td>\n    </tr>\n  </tbody>\n</table>\n</div>"
     },
     "metadata": {},
     "execution_count": 4
    }
   ],
   "source": [
    "\n",
    "path = r\"/Users/jhoff/Universität St.Gallen/STUD-Capstoneproject Tell 6 - Dokumente/General/Coding/1-Data/recipes.json\"\n",
    "df = pd.read_json(path)\n",
    "df.head(5)"
   ]
  },
  {
   "cell_type": "code",
   "execution_count": 5,
   "metadata": {},
   "outputs": [
    {
     "output_type": "execute_result",
     "data": {
      "text/plain": [
       "'Die Eier hart kochen. Dann pellen und mit einem Eierschneider in Scheiben schneiden. Den Reis halbgar kochen und zur Seite stellen. Die Wurst (Kolbász) in dünne Scheiben schneiden.Den Knoblauch abziehen und fein würfeln. Die Zwiebel schälen, fein hacken und in etwas Fett glasig braten. Knoblauch und Hackfleisch dazu geben und so lange braten, bis das Hackfleisch schön krümelig wird. Den eigenen Saft nicht ganz verkochen lassen. Die Fleischmasse mit Salz, Pfeffer und Paprikapulver würzen.Das Sauerkraut kurz durchspülen, ausdrücken und abtropfen lassen (damit es nicht zu sauer wird). Das Sauerkraut in einen Topf geben und mit dem Kümmel und den Lorbeerblättern vermischen. Ca. 30 Minuten unter Zugabe von wenig Wasser bei niedriger Stufe dünsten.Eine feuerfeste Form mit etwas Öl einfetten und den Boden dünn mit Sauerkraut belegen. Darauf Kolbász und die Hälfte der in Scheiben geschnittene Eier verteilen, dann eine weitere dünne Schicht Sauerkraut drüber legen. Mit 1 Becher Schmand bedecken. Nun das Hackfleisch mit dem Reis mischen und auf der Sauerkrautschicht gleichmäßig verteilen. Mit der zweiten Hälfte der Eier belegen und die dritte Schicht Sauerkraut oben drauf verteilen. Wenn noch Zutaten (Hackfleisch-Reis-Masse und Sauerkraut) übrig sind, kann man diese Schichten weiter so legen. Ganz oben kommt eine Schicht Sauerkraut. Auf diese letzte Schicht verteilt man noch den Rest vom Schmand (sollte reichlich sein). Den Speck in dünne Scheiben schneiden und damit alles abdecken. Mit etwas Öl besprenkeln. Die Form mit einem Deckel verschließend.Im vorgeheizten Backofen bei 175°C ober-/Unterhitze gut 1 Std. garen.Ganz frische Baguettebrötchen oder Weißbrot schmeckt am allerbesten dazu. Man kann aber auch Kartoffel- oder Semmelknödel dazu reichen. Etwas aufwendig, aber die Mühe lohnt sich... es ist einfach mega-ober-lecker.Anmerkung: Für viele sind Eier in Verbindung mit Sauerkraut ein No-Go, man kann sie also auch weglassen.'"
      ]
     },
     "metadata": {},
     "execution_count": 5
    }
   ],
   "source": [
    "example_recipe = df.iloc[0,1]\n",
    "example_recipe"
   ]
  },
  {
   "cell_type": "code",
   "execution_count": 7,
   "metadata": {},
   "outputs": [
    {
     "output_type": "execute_result",
     "data": {
      "text/plain": [
       "Die Eier hart kochen. Dann pellen und mit einem Eierschneider in Scheiben schneiden. Den Reis halbgar kochen und zur Seite stellen. Die Wurst (Kolbász) in dünne Scheiben schneiden.Den Knoblauch abziehen und fein würfeln. Die Zwiebel schälen, fein hacken und in etwas Fett glasig braten. Knoblauch und Hackfleisch dazu geben und so lange braten, bis das Hackfleisch schön krümelig wird. Den eigenen Saft nicht ganz verkochen lassen. Die Fleischmasse mit Salz, Pfeffer und Paprikapulver würzen.Das Sauerkraut kurz durchspülen, ausdrücken und abtropfen lassen (damit es nicht zu sauer wird). Das Sauerkraut in einen Topf geben und mit dem Kümmel und den Lorbeerblättern vermischen. Ca. 30 Minuten unter Zugabe von wenig Wasser bei niedriger Stufe dünsten.Eine feuerfeste Form mit etwas Öl einfetten und den Boden dünn mit Sauerkraut belegen. Darauf Kolbász und die Hälfte der in Scheiben geschnittene Eier verteilen, dann eine weitere dünne Schicht Sauerkraut drüber legen. Mit 1 Becher Schmand bedecken. Nun das Hackfleisch mit dem Reis mischen und auf der Sauerkrautschicht gleichmäßig verteilen. Mit der zweiten Hälfte der Eier belegen und die dritte Schicht Sauerkraut oben drauf verteilen. Wenn noch Zutaten (Hackfleisch-Reis-Masse und Sauerkraut) übrig sind, kann man diese Schichten weiter so legen. Ganz oben kommt eine Schicht Sauerkraut. Auf diese letzte Schicht verteilt man noch den Rest vom Schmand (sollte reichlich sein). Den Speck in dünne Scheiben schneiden und damit alles abdecken. Mit etwas Öl besprenkeln. Die Form mit einem Deckel verschließend.Im vorgeheizten Backofen bei 175°C ober-/Unterhitze gut 1 Std. garen.Ganz frische Baguettebrötchen oder Weißbrot schmeckt am allerbesten dazu. Man kann aber auch Kartoffel- oder Semmelknödel dazu reichen. Etwas aufwendig, aber die Mühe lohnt sich... es ist einfach mega-ober-lecker.Anmerkung: Für viele sind Eier in Verbindung mit Sauerkraut ein No-Go, man kann sie also auch weglassen."
      ]
     },
     "metadata": {},
     "execution_count": 7
    }
   ],
   "source": [
    "nlp = spacy.load(\"de_core_news_lg\")"
   ]
  },
  {
   "cell_type": "code",
   "execution_count": 8,
   "metadata": {},
   "outputs": [
    {
     "output_type": "execute_result",
     "data": {
      "text/plain": [
       "Die Eier hart kochen. Dann pellen und mit einem Eierschneider in Scheiben schneiden. Den Reis halbgar kochen und zur Seite stellen. Die Wurst (Kolbász) in dünne Scheiben schneiden.Den Knoblauch abziehen und fein würfeln. Die Zwiebel schälen, fein hacken und in etwas Fett glasig braten. Knoblauch und Hackfleisch dazu geben und so lange braten, bis das Hackfleisch schön krümelig wird. Den eigenen Saft nicht ganz verkochen lassen. Die Fleischmasse mit Salz, Pfeffer und Paprikapulver würzen.Das Sauerkraut kurz durchspülen, ausdrücken und abtropfen lassen (damit es nicht zu sauer wird). Das Sauerkraut in einen Topf geben und mit dem Kümmel und den Lorbeerblättern vermischen. Ca. 30 Minuten unter Zugabe von wenig Wasser bei niedriger Stufe dünsten.Eine feuerfeste Form mit etwas Öl einfetten und den Boden dünn mit Sauerkraut belegen. Darauf Kolbász und die Hälfte der in Scheiben geschnittene Eier verteilen, dann eine weitere dünne Schicht Sauerkraut drüber legen. Mit 1 Becher Schmand bedecken. Nun das Hackfleisch mit dem Reis mischen und auf der Sauerkrautschicht gleichmäßig verteilen. Mit der zweiten Hälfte der Eier belegen und die dritte Schicht Sauerkraut oben drauf verteilen. Wenn noch Zutaten (Hackfleisch-Reis-Masse und Sauerkraut) übrig sind, kann man diese Schichten weiter so legen. Ganz oben kommt eine Schicht Sauerkraut. Auf diese letzte Schicht verteilt man noch den Rest vom Schmand (sollte reichlich sein). Den Speck in dünne Scheiben schneiden und damit alles abdecken. Mit etwas Öl besprenkeln. Die Form mit einem Deckel verschließend.Im vorgeheizten Backofen bei 175°C ober-/Unterhitze gut 1 Std. garen.Ganz frische Baguettebrötchen oder Weißbrot schmeckt am allerbesten dazu. Man kann aber auch Kartoffel- oder Semmelknödel dazu reichen. Etwas aufwendig, aber die Mühe lohnt sich... es ist einfach mega-ober-lecker.Anmerkung: Für viele sind Eier in Verbindung mit Sauerkraut ein No-Go, man kann sie also auch weglassen."
      ]
     },
     "metadata": {},
     "execution_count": 8
    }
   ],
   "source": [
    "parsed_example = nlp(example_recipe)\n",
    "parsed_example"
   ]
  },
  {
   "cell_type": "code",
   "execution_count": 16,
   "metadata": {},
   "outputs": [
    {
     "output_type": "stream",
     "name": "stdout",
     "text": [
      "DET\nNOUN\nADJ\nVERB\nPUNCT\n"
     ]
    }
   ],
   "source": [
    "#splitting into sentences \n",
    "sents_list = [sentence for sentence in parsed_example.sents]\n"
   ]
  },
  {
   "cell_type": "code",
   "execution_count": 18,
   "metadata": {},
   "outputs": [],
   "source": [
    "#Extracting information from tokens\n",
    "\n",
    "token_list = [token for token in parsed_example]\n",
    "\n",
    "pos_list = [token.pos_ for token in parsed_example]\n",
    "\n",
    "lemma_list = [token.lemma_ for token in parsed_example]\n",
    "\n",
    "t_ent_type_list = [token.ent_type_ for token in parsed_example]\n",
    "\n",
    "t_ent_iob_list = [token.ent_iob_ for token in parsed_example]\n"
   ]
  },
  {
   "cell_type": "code",
   "execution_count": 23,
   "metadata": {},
   "outputs": [
    {
     "output_type": "execute_result",
     "data": {
      "text/plain": [
       "            Token Part of Speech          Lemma Entity Type Entity IOB\n",
       "0             Die            DET            der                      O\n",
       "1            Eier           NOUN             Ei                      O\n",
       "2            hart            ADJ           hart                      O\n",
       "3          kochen           VERB         kochen                      O\n",
       "4               .          PUNCT              .                      O\n",
       "5            Dann            ADV           Dann                      O\n",
       "6          pellen           VERB         pellen                      O\n",
       "7             und          CCONJ            und                      O\n",
       "8             mit            ADP            mit                      O\n",
       "9           einem            DET          einer                      O\n",
       "10  Eierschneider           NOUN  Eierschneider                      O\n",
       "11             in            ADP             in                      O\n",
       "12       Scheiben           NOUN        Scheibe                      O\n",
       "13      schneiden           VERB      schneiden                      O\n",
       "14              .          PUNCT              .                      O\n",
       "15            Den            DET            der                      O\n",
       "16           Reis           NOUN           Reis                      O\n",
       "17        halbgar            ADJ        halbgar                      O\n",
       "18         kochen           VERB         kochen                      O\n",
       "19            und          CCONJ            und                      O"
      ],
      "text/html": "<div>\n<style scoped>\n    .dataframe tbody tr th:only-of-type {\n        vertical-align: middle;\n    }\n\n    .dataframe tbody tr th {\n        vertical-align: top;\n    }\n\n    .dataframe thead th {\n        text-align: right;\n    }\n</style>\n<table border=\"1\" class=\"dataframe\">\n  <thead>\n    <tr style=\"text-align: right;\">\n      <th></th>\n      <th>Token</th>\n      <th>Part of Speech</th>\n      <th>Lemma</th>\n      <th>Entity Type</th>\n      <th>Entity IOB</th>\n    </tr>\n  </thead>\n  <tbody>\n    <tr>\n      <th>0</th>\n      <td>Die</td>\n      <td>DET</td>\n      <td>der</td>\n      <td></td>\n      <td>O</td>\n    </tr>\n    <tr>\n      <th>1</th>\n      <td>Eier</td>\n      <td>NOUN</td>\n      <td>Ei</td>\n      <td></td>\n      <td>O</td>\n    </tr>\n    <tr>\n      <th>2</th>\n      <td>hart</td>\n      <td>ADJ</td>\n      <td>hart</td>\n      <td></td>\n      <td>O</td>\n    </tr>\n    <tr>\n      <th>3</th>\n      <td>kochen</td>\n      <td>VERB</td>\n      <td>kochen</td>\n      <td></td>\n      <td>O</td>\n    </tr>\n    <tr>\n      <th>4</th>\n      <td>.</td>\n      <td>PUNCT</td>\n      <td>.</td>\n      <td></td>\n      <td>O</td>\n    </tr>\n    <tr>\n      <th>5</th>\n      <td>Dann</td>\n      <td>ADV</td>\n      <td>Dann</td>\n      <td></td>\n      <td>O</td>\n    </tr>\n    <tr>\n      <th>6</th>\n      <td>pellen</td>\n      <td>VERB</td>\n      <td>pellen</td>\n      <td></td>\n      <td>O</td>\n    </tr>\n    <tr>\n      <th>7</th>\n      <td>und</td>\n      <td>CCONJ</td>\n      <td>und</td>\n      <td></td>\n      <td>O</td>\n    </tr>\n    <tr>\n      <th>8</th>\n      <td>mit</td>\n      <td>ADP</td>\n      <td>mit</td>\n      <td></td>\n      <td>O</td>\n    </tr>\n    <tr>\n      <th>9</th>\n      <td>einem</td>\n      <td>DET</td>\n      <td>einer</td>\n      <td></td>\n      <td>O</td>\n    </tr>\n    <tr>\n      <th>10</th>\n      <td>Eierschneider</td>\n      <td>NOUN</td>\n      <td>Eierschneider</td>\n      <td></td>\n      <td>O</td>\n    </tr>\n    <tr>\n      <th>11</th>\n      <td>in</td>\n      <td>ADP</td>\n      <td>in</td>\n      <td></td>\n      <td>O</td>\n    </tr>\n    <tr>\n      <th>12</th>\n      <td>Scheiben</td>\n      <td>NOUN</td>\n      <td>Scheibe</td>\n      <td></td>\n      <td>O</td>\n    </tr>\n    <tr>\n      <th>13</th>\n      <td>schneiden</td>\n      <td>VERB</td>\n      <td>schneiden</td>\n      <td></td>\n      <td>O</td>\n    </tr>\n    <tr>\n      <th>14</th>\n      <td>.</td>\n      <td>PUNCT</td>\n      <td>.</td>\n      <td></td>\n      <td>O</td>\n    </tr>\n    <tr>\n      <th>15</th>\n      <td>Den</td>\n      <td>DET</td>\n      <td>der</td>\n      <td></td>\n      <td>O</td>\n    </tr>\n    <tr>\n      <th>16</th>\n      <td>Reis</td>\n      <td>NOUN</td>\n      <td>Reis</td>\n      <td></td>\n      <td>O</td>\n    </tr>\n    <tr>\n      <th>17</th>\n      <td>halbgar</td>\n      <td>ADJ</td>\n      <td>halbgar</td>\n      <td></td>\n      <td>O</td>\n    </tr>\n    <tr>\n      <th>18</th>\n      <td>kochen</td>\n      <td>VERB</td>\n      <td>kochen</td>\n      <td></td>\n      <td>O</td>\n    </tr>\n    <tr>\n      <th>19</th>\n      <td>und</td>\n      <td>CCONJ</td>\n      <td>und</td>\n      <td></td>\n      <td>O</td>\n    </tr>\n  </tbody>\n</table>\n</div>"
     },
     "metadata": {},
     "execution_count": 23
    }
   ],
   "source": [
    "df = pd.DataFrame(zip(token_list, pos_list, lemma_list, t_ent_type_list, t_ent_iob_list), columns=[\"Token\", \"Part of Speech\", \"Lemma\", \"Entity Type\", \"Entity IOB\"])\n",
    "df.head(20)"
   ]
  },
  {
   "source": [
    "# IOB Tagging"
   ],
   "cell_type": "markdown",
   "metadata": {}
  },
  {
   "cell_type": "code",
   "execution_count": null,
   "metadata": {},
   "outputs": [],
   "source": []
  },
  {
   "cell_type": "code",
   "execution_count": null,
   "metadata": {},
   "outputs": [],
   "source": []
  },
  {
   "source": [
    "  "
   ],
   "cell_type": "markdown",
   "metadata": {}
  },
  {
   "source": [
    "\n",
    "\n",
    "\n",
    "\n",
    "\n",
    "\n",
    "# Named Entity Recognition"
   ],
   "cell_type": "markdown",
   "metadata": {}
  },
  {
   "cell_type": "code",
   "execution_count": null,
   "metadata": {},
   "outputs": [],
   "source": [
    "TRAINING_DATA = [\n",
    "    (\n",
    "        \"Reddit partners with Patreon to help creators build communities\",\n",
    "        {\"entities\": [(0, 6, \"WEBSITE\"), (21, 28, \"WEBSITE\")]},\n",
    "    ),\n",
    "    (\"PewDiePie smashes YouTube record\", {\"entities\": [(18, 25, \"WEBSITE\")]}),\n",
    "    (\n",
    "        \"Reddit founder Alexis Ohanian gave away two Metallica tickets to fans\",\n",
    "        {\"entities\": [(0, 6, \"WEBSITE\")]},\n",
    "    ),\n",
    "    # And so on...\n",
    "]"
   ]
  },
  {
   "cell_type": "code",
   "execution_count": null,
   "metadata": {},
   "outputs": [],
   "source": [
    "# Create a blank \"en\" model\n",
    "nlp = spacy.blank(\"en\")\n",
    "\n",
    "# Create a new entity recognizer and add it to the pipeline\n",
    "ner = nlp.create_pipe(\"ner\")\n",
    "nlp.add_pipe(ner)\n",
    "\n",
    "# Add the label \"GADGET\" to the entity recognizer\n",
    "ner.add_label(\"GADGET\")"
   ]
  },
  {
   "cell_type": "code",
   "execution_count": null,
   "metadata": {},
   "outputs": [],
   "source": [
    "with open(\"exercises/en/gadgets.json\") as f:\n",
    "    TRAINING_DATA = json.loads(f.read())\n",
    "\n",
    "# Start the training\n",
    "nlp.begin_training()\n",
    "\n",
    "# Loop for 10 iterations\n",
    "for itn in range(10):\n",
    "    # Shuffle the training data\n",
    "    random.shuffle(TRAINING_DATA)\n",
    "    losses = {}\n",
    "\n",
    "    # Batch the examples and iterate over them\n",
    "    for batch in spacy.util.minibatch(TRAINING_DATA, size=2):\n",
    "        texts = [text for text, entities in batch]\n",
    "        annotations = [entities for text, entities in batch]\n",
    "\n",
    "        # Update the model\n",
    "        nlp.update(texts, annotations, losses=losses)\n",
    "    print(losses)"
   ]
  }
 ]
}