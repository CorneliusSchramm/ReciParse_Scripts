{
 "metadata": {
  "language_info": {
   "codemirror_mode": {
    "name": "ipython",
    "version": 3
   },
   "file_extension": ".py",
   "mimetype": "text/x-python",
   "name": "python",
   "nbconvert_exporter": "python",
   "pygments_lexer": "ipython3",
   "version": "3.8.3-final"
  },
  "orig_nbformat": 2,
  "kernelspec": {
   "name": "python3",
   "display_name": "Python 3"
  }
 },
 "nbformat": 4,
 "nbformat_minor": 2,
 "cells": [
  {
   "source": [
    "## Create four Dataset for labeling the recipes\n",
    "####  14. November 2020\n",
    "### Input\n",
    "Chefkoch Instructions data csv-file\n",
    "### Output\n",
    "8 JSONs (2 per person) <br>\n",
    "batch1: 10 overlap, 50 unique <br>\n",
    "batch2: 20, overlap, 70 unique"
   ],
   "cell_type": "markdown",
   "metadata": {}
  },
  {
   "cell_type": "code",
   "execution_count": 1,
   "metadata": {},
   "outputs": [],
   "source": [
    "# Coco Path\n",
    "# path = r\"C:\\Users\\CocoL\\Universität St.Gallen\\STUD-Capstoneproject Tell 6 - General\\\"\n",
    "# Jona Path\n",
    "# path = r\"/Users/jhoff/Universität St.Gallen/STUD-Capstoneproject Tell 6 - Dokumente/General/\"\n",
    "# Giovanni Path\n",
    "path = r\"/Users/jonathanebner/Universität St.Gallen/STUD-Capstoneproject Tell 6 - General\"\n",
    "# Leo Path\n",
    "#ath = r\"/Users/Leonidas/Universität St.Gallen/STUD-Capstoneproject Tell 6 - General/\"\n",
    "\n",
    "# Import packages\n",
    "import pandas as pd\n",
    "import numpy as np\n",
    "import spacy"
   ]
  },
  {
   "cell_type": "code",
   "execution_count": 69,
   "metadata": {},
   "outputs": [
    {
     "output_type": "stream",
     "name": "stdout",
     "text": [
      "Number of imported recipes:  12190\n"
     ]
    }
   ],
   "source": [
    "# Load data and seperate instructions at @ as defined\n",
    "data = pd.read_csv(path+\"/02-Coding/01-Data/01_instructions/instructions.csv\", sep=\"@\", encoding=\"utf-16\", header=None, error_bad_lines=False)\n",
    "print(\"Number of imported recipes: \",len(data))"
   ]
  },
  {
   "cell_type": "code",
   "execution_count": 70,
   "metadata": {},
   "outputs": [],
   "source": [
    "# Name column text to have the keys named text later\n",
    "data.columns = [\"text\"]"
   ]
  },
  {
   "cell_type": "code",
   "execution_count": 71,
   "metadata": {},
   "outputs": [
    {
     "output_type": "execute_result",
     "data": {
      "text/plain": [
       "                                                text  \\\n",
       "0  Die Eier hart kochen. Dann pellen und mit eine...   \n",
       "1  Vorab folgende Bemerkung: Alle Mengen sind Cir...   \n",
       "2  Die Kirschen abtropfen lassen, dabei den Saft ...   \n",
       "3  Den Spargel säubern, die holzigen Enden abschn...   \n",
       "4  Kohlrabi schälen und klein würfeln. Mit der Br...   \n",
       "\n",
       "                                           Tokenized  Length  \n",
       "0  (Die, Eier, hart, kochen, ., Dann, pellen, und...     341  \n",
       "1  (Vorab, folgende, Bemerkung, :, Alle, Mengen, ...     155  \n",
       "2  (Die, Kirschen, abtropfen, lassen, ,, dabei, d...     133  \n",
       "3  (Den, Spargel, säubern, ,, die, holzigen, Ende...     137  \n",
       "4  (Kohlrabi, schälen, und, klein, würfeln, ., Mi...      89  "
      ],
      "text/html": "<div>\n<style scoped>\n    .dataframe tbody tr th:only-of-type {\n        vertical-align: middle;\n    }\n\n    .dataframe tbody tr th {\n        vertical-align: top;\n    }\n\n    .dataframe thead th {\n        text-align: right;\n    }\n</style>\n<table border=\"1\" class=\"dataframe\">\n  <thead>\n    <tr style=\"text-align: right;\">\n      <th></th>\n      <th>text</th>\n      <th>Tokenized</th>\n      <th>Length</th>\n    </tr>\n  </thead>\n  <tbody>\n    <tr>\n      <th>0</th>\n      <td>Die Eier hart kochen. Dann pellen und mit eine...</td>\n      <td>(Die, Eier, hart, kochen, ., Dann, pellen, und...</td>\n      <td>341</td>\n    </tr>\n    <tr>\n      <th>1</th>\n      <td>Vorab folgende Bemerkung: Alle Mengen sind Cir...</td>\n      <td>(Vorab, folgende, Bemerkung, :, Alle, Mengen, ...</td>\n      <td>155</td>\n    </tr>\n    <tr>\n      <th>2</th>\n      <td>Die Kirschen abtropfen lassen, dabei den Saft ...</td>\n      <td>(Die, Kirschen, abtropfen, lassen, ,, dabei, d...</td>\n      <td>133</td>\n    </tr>\n    <tr>\n      <th>3</th>\n      <td>Den Spargel säubern, die holzigen Enden abschn...</td>\n      <td>(Den, Spargel, säubern, ,, die, holzigen, Ende...</td>\n      <td>137</td>\n    </tr>\n    <tr>\n      <th>4</th>\n      <td>Kohlrabi schälen und klein würfeln. Mit der Br...</td>\n      <td>(Kohlrabi, schälen, und, klein, würfeln, ., Mi...</td>\n      <td>89</td>\n    </tr>\n  </tbody>\n</table>\n</div>"
     },
     "metadata": {},
     "execution_count": 71
    }
   ],
   "source": [
    "# Initiate nlp model\n",
    "disabled = ['parser', 'tagger', 'ner']\n",
    "nlp = spacy.load('de_core_news_lg', disable=disabled)\n",
    "\n",
    "# Create a column with tokenized instructions using spacy\n",
    "data[\"Tokenized\"] = data[\"text\"].apply(nlp) \n",
    "# Create a column with the amount of tokens per recipe\n",
    "data[\"Length\"] = data[\"Tokenized\"].apply(len)\n",
    "data.head()"
   ]
  },
  {
   "cell_type": "code",
   "execution_count": 72,
   "metadata": {},
   "outputs": [
    {
     "output_type": "execute_result",
     "data": {
      "text/plain": [
       "                                                text  \\\n",
       "1  Vorab folgende Bemerkung: Alle Mengen sind Cir...   \n",
       "2  Die Kirschen abtropfen lassen, dabei den Saft ...   \n",
       "3  Den Spargel säubern, die holzigen Enden abschn...   \n",
       "4  Kohlrabi schälen und klein würfeln. Mit der Br...   \n",
       "5  Aus dem Mehl, der Butter, dem Ei und etwas Sal...   \n",
       "\n",
       "                                           Tokenized  Length  \n",
       "1  (Vorab, folgende, Bemerkung, :, Alle, Mengen, ...     155  \n",
       "2  (Die, Kirschen, abtropfen, lassen, ,, dabei, d...     133  \n",
       "3  (Den, Spargel, säubern, ,, die, holzigen, Ende...     137  \n",
       "4  (Kohlrabi, schälen, und, klein, würfeln, ., Mi...      89  \n",
       "5  (Aus, dem, Mehl, ,, der, Butter, ,, dem, Ei, u...     152  "
      ],
      "text/html": "<div>\n<style scoped>\n    .dataframe tbody tr th:only-of-type {\n        vertical-align: middle;\n    }\n\n    .dataframe tbody tr th {\n        vertical-align: top;\n    }\n\n    .dataframe thead th {\n        text-align: right;\n    }\n</style>\n<table border=\"1\" class=\"dataframe\">\n  <thead>\n    <tr style=\"text-align: right;\">\n      <th></th>\n      <th>text</th>\n      <th>Tokenized</th>\n      <th>Length</th>\n    </tr>\n  </thead>\n  <tbody>\n    <tr>\n      <th>1</th>\n      <td>Vorab folgende Bemerkung: Alle Mengen sind Cir...</td>\n      <td>(Vorab, folgende, Bemerkung, :, Alle, Mengen, ...</td>\n      <td>155</td>\n    </tr>\n    <tr>\n      <th>2</th>\n      <td>Die Kirschen abtropfen lassen, dabei den Saft ...</td>\n      <td>(Die, Kirschen, abtropfen, lassen, ,, dabei, d...</td>\n      <td>133</td>\n    </tr>\n    <tr>\n      <th>3</th>\n      <td>Den Spargel säubern, die holzigen Enden abschn...</td>\n      <td>(Den, Spargel, säubern, ,, die, holzigen, Ende...</td>\n      <td>137</td>\n    </tr>\n    <tr>\n      <th>4</th>\n      <td>Kohlrabi schälen und klein würfeln. Mit der Br...</td>\n      <td>(Kohlrabi, schälen, und, klein, würfeln, ., Mi...</td>\n      <td>89</td>\n    </tr>\n    <tr>\n      <th>5</th>\n      <td>Aus dem Mehl, der Butter, dem Ei und etwas Sal...</td>\n      <td>(Aus, dem, Mehl, ,, der, Butter, ,, dem, Ei, u...</td>\n      <td>152</td>\n    </tr>\n  </tbody>\n</table>\n</div>"
     },
     "metadata": {},
     "execution_count": 72
    }
   ],
   "source": [
    "# select all recipes with a token length of smaller 210\n",
    "data_smaller210 = data[data[\"Length\"] < 210]\n",
    "data_smaller210.head()"
   ]
  },
  {
   "cell_type": "code",
   "execution_count": 73,
   "metadata": {},
   "outputs": [],
   "source": [
    "# delete duplicates in text\n",
    "data_smaller210_nodupl = data_smaller210.drop_duplicates(subset='text', keep=\"first\")"
   ]
  },
  {
   "cell_type": "code",
   "execution_count": 74,
   "metadata": {},
   "outputs": [
    {
     "output_type": "stream",
     "name": "stdout",
     "text": [
      "All: 12190\nLength 210: 10650\nNo duplicates: 3761\n"
     ]
    }
   ],
   "source": [
    "print(\"All:\", len(data))\n",
    "print(\"Length 210:\", len(data_smaller210))\n",
    "print(\"No duplicates:\", len(data_smaller210_nodupl))"
   ]
  },
  {
   "cell_type": "code",
   "execution_count": 75,
   "metadata": {},
   "outputs": [
    {
     "output_type": "execute_result",
     "data": {
      "text/plain": [
       "                                                text\n",
       "0  Die Hähnchenbrust in Stücke schneiden, Größe j...\n",
       "1  Aus Milch, Mineralwasser, Mehl, Eiern und Salz...\n",
       "2  Aus Olivenöl, Knoblauch, süßem Senf und Ahorns...\n",
       "3  Die Kartoffeln in kleine Würfel schneiden und ...\n",
       "4  Speck goldbraun auslassen. Kohl, Brühe und Gew..."
      ],
      "text/html": "<div>\n<style scoped>\n    .dataframe tbody tr th:only-of-type {\n        vertical-align: middle;\n    }\n\n    .dataframe tbody tr th {\n        vertical-align: top;\n    }\n\n    .dataframe thead th {\n        text-align: right;\n    }\n</style>\n<table border=\"1\" class=\"dataframe\">\n  <thead>\n    <tr style=\"text-align: right;\">\n      <th></th>\n      <th>text</th>\n    </tr>\n  </thead>\n  <tbody>\n    <tr>\n      <th>0</th>\n      <td>Die Hähnchenbrust in Stücke schneiden, Größe j...</td>\n    </tr>\n    <tr>\n      <th>1</th>\n      <td>Aus Milch, Mineralwasser, Mehl, Eiern und Salz...</td>\n    </tr>\n    <tr>\n      <th>2</th>\n      <td>Aus Olivenöl, Knoblauch, süßem Senf und Ahorns...</td>\n    </tr>\n    <tr>\n      <th>3</th>\n      <td>Die Kartoffeln in kleine Würfel schneiden und ...</td>\n    </tr>\n    <tr>\n      <th>4</th>\n      <td>Speck goldbraun auslassen. Kohl, Brühe und Gew...</td>\n    </tr>\n  </tbody>\n</table>\n</div>"
     },
     "metadata": {},
     "execution_count": 75
    }
   ],
   "source": [
    "# shuffle all recipes\n",
    "data_shuffle = data_smaller210_nodupl.sample(frac=1).reset_index(drop=True).iloc[:,0]\n",
    "data_final = data_shuffle.to_frame()\n",
    "data_drop = data_final.copy()\n",
    "data_final.head()"
   ]
  },
  {
   "cell_type": "code",
   "execution_count": 81,
   "metadata": {},
   "outputs": [
    {
     "output_type": "stream",
     "name": "stdout",
     "text": [
      "Overlap: 30\nRest: 3251\n"
     ]
    },
    {
     "output_type": "execute_result",
     "data": {
      "text/plain": [
       "                                                   text\n",
       "1983  Grünkohl waschen und blanchieren, abschrecken,...\n",
       "3477  Kartoffeln säubern und in einem mit Wasser gef...\n",
       "2300  Kohl putzen, waschen und den Strunk herausschn...\n",
       "3272  Bohnen halbieren, in kochendes Salzwasser gebe...\n",
       "3595  Das Öl in einer Pfanne erhitzen und die Zwiebe..."
      ],
      "text/html": "<div>\n<style scoped>\n    .dataframe tbody tr th:only-of-type {\n        vertical-align: middle;\n    }\n\n    .dataframe tbody tr th {\n        vertical-align: top;\n    }\n\n    .dataframe thead th {\n        text-align: right;\n    }\n</style>\n<table border=\"1\" class=\"dataframe\">\n  <thead>\n    <tr style=\"text-align: right;\">\n      <th></th>\n      <th>text</th>\n    </tr>\n  </thead>\n  <tbody>\n    <tr>\n      <th>1983</th>\n      <td>Grünkohl waschen und blanchieren, abschrecken,...</td>\n    </tr>\n    <tr>\n      <th>3477</th>\n      <td>Kartoffeln säubern und in einem mit Wasser gef...</td>\n    </tr>\n    <tr>\n      <th>2300</th>\n      <td>Kohl putzen, waschen und den Strunk herausschn...</td>\n    </tr>\n    <tr>\n      <th>3272</th>\n      <td>Bohnen halbieren, in kochendes Salzwasser gebe...</td>\n    </tr>\n    <tr>\n      <th>3595</th>\n      <td>Das Öl in einer Pfanne erhitzen und die Zwiebe...</td>\n    </tr>\n  </tbody>\n</table>\n</div>"
     },
     "metadata": {},
     "execution_count": 81
    }
   ],
   "source": [
    "# create overlap of 30\n",
    "overlap = data_drop.sample(30)\n",
    "overlap.to_json(path+\"/02-Coding/01-Data/20_overlap/overlap.json\",orient='records',force_ascii=False)\n",
    "overlap_batch1 = overlap.iloc[:10]\n",
    "overlap_batch2 = overlap[10:]\n",
    "data_drop = data_drop.drop(list(overlap.index))\n",
    "print(\"Overlap:\", len(overlap))\n",
    "print(\"Rest:\", len(data_drop))\n",
    "overlap.head()"
   ]
  },
  {
   "cell_type": "code",
   "execution_count": 82,
   "metadata": {},
   "outputs": [],
   "source": [
    "amount_recipes_batch1 = 50\n",
    "amount_recipes_batch2 = 70"
   ]
  },
  {
   "cell_type": "code",
   "execution_count": 83,
   "metadata": {},
   "outputs": [
    {
     "output_type": "stream",
     "name": "stdout",
     "text": [
      "Rest: 3131\nRest: 3011\nRest: 2891\nRest: 2771\n"
     ]
    }
   ],
   "source": [
    "# create batch1 and batch2\n",
    "\n",
    "batch1_jona = data_drop.sample(amount_recipes_batch1)\n",
    "data_drop = data_drop.drop(list(batch1_jona.index))\n",
    "batch2_jona = data_drop.sample(amount_recipes_batch2)\n",
    "data_drop = data_drop.drop(list(batch2_jona.index))\n",
    "print(\"Rest:\", len(data_drop))\n",
    "\n",
    "batch1_leo = data_drop.sample(amount_recipes_batch1)\n",
    "data_drop = data_drop.drop(list(batch1_leo.index))\n",
    "batch2_leo = data_drop.sample(amount_recipes_batch2)\n",
    "data_drop = data_drop.drop(list(batch2_leo.index))\n",
    "print(\"Rest:\", len(data_drop))\n",
    "\n",
    "batch1_coco = data_drop.sample(amount_recipes_batch1)\n",
    "data_drop = data_drop.drop(list(batch1_coco.index))\n",
    "batch2_coco = data_drop.sample(amount_recipes_batch2)\n",
    "data_drop = data_drop.drop(list(batch2_coco.index))\n",
    "print(\"Rest:\", len(data_drop))\n",
    "\n",
    "batch1_jonathan = data_drop.sample(amount_recipes_batch1)\n",
    "data_drop = data_drop.drop(list(batch1_jonathan.index))\n",
    "batch2_jonathan = data_drop.sample(amount_recipes_batch2)\n",
    "data_drop = data_drop.drop(list(batch2_jonathan.index))\n",
    "print(\"Rest:\", len(data_drop))"
   ]
  },
  {
   "cell_type": "code",
   "execution_count": 84,
   "metadata": {},
   "outputs": [],
   "source": [
    "# mix batches with overlap\n",
    "\n",
    "batch1_jona_total = pd.concat([batch1_jona, overlap_batch1]).sample(frac = 1)\n",
    "batch2_jona_total = pd.concat([batch2_jona, overlap_batch2]).sample(frac = 1)\n",
    "\n",
    "batch1_leo_total = pd.concat([batch1_leo, overlap_batch1]).sample(frac = 1)\n",
    "batch2_leo_total = pd.concat([batch2_leo, overlap_batch2]).sample(frac = 1)\n",
    "\n",
    "batch1_coco_total = pd.concat([batch1_coco, overlap_batch1]).sample(frac = 1)\n",
    "batch2_coco_total = pd.concat([batch2_coco, overlap_batch2]).sample(frac = 1)\n",
    "\n",
    "batch1_jonathan_total = pd.concat([batch1_jonathan, overlap_batch1]).sample(frac = 1)\n",
    "batch2_jonathan_total = pd.concat([batch2_jonathan, overlap_batch2]).sample(frac = 1)"
   ]
  },
  {
   "cell_type": "code",
   "execution_count": 87,
   "metadata": {},
   "outputs": [],
   "source": [
    "# df to json\n",
    "def df_to_json():\n",
    "    batch1_jona_total.to_json(path+\"02-Coding/01-Data/11_clean_batches/batch1_jona.json\",orient='records',force_ascii=False)\n",
    "    batch2_jona_total.to_json(path+\"02-Coding/01-Data/11_clean_batches/batch2_jona.json\",orient='records',force_ascii=False)\n",
    "\n",
    "    batch1_leo_total.to_json(path+\"02-Coding/01-Data/11_clean_batches/batch1_leo.json\",orient='records',force_ascii=False)\n",
    "    batch2_leo_total.to_json(path+\"02-Coding/01-Data/11_clean_batches/batch2_leo.json\",orient='records',force_ascii=False)\n",
    "\n",
    "    batch1_coco_total.to_json(path+\"02-Coding/01-Data/11_clean_batches/batch1_coco.json\",orient='records',force_ascii=False)\n",
    "    batch2_coco_total.to_json(path+\"02-Coding/01-Data/11_clean_batches/batch2_coco.json\",orient='records',force_ascii=False)\n",
    "\n",
    "    batch1_jonathan_total.to_json(path+\"02-Coding/01-Data/11_clean_batches/batch1_jonathan.json\",orient='records',force_ascii=False)\n",
    "    batch2_jonathan_total.to_json(path+\"02-Coding/01-Data/11_clean_batches/batch2_jonathan.json\",orient='records',force_ascii=False)"
   ]
  },
  {
   "cell_type": "code",
   "execution_count": 89,
   "metadata": {},
   "outputs": [],
   "source": [
    "#df_to_json()"
   ]
  },
  {
   "cell_type": "code",
   "execution_count": null,
   "metadata": {},
   "outputs": [],
   "source": []
  }
 ]
}