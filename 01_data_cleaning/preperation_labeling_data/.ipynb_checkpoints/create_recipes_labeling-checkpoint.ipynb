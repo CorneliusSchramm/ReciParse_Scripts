{
 "cells": [
  {
   "cell_type": "markdown",
   "metadata": {},
   "source": [
    "## Create four Dataset for labeling the recipes\n",
    "####  14. November 2020\n",
    "### Input\n",
    "Chefkoch Instructions data csv-file\n",
    "### Output\n",
    "8 JSONs (2 per person) <br>\n",
    "batch1: 10 overlap, 50 unique <br>\n",
    "batch2: 20, overlap, 70 unique"
   ]
  },
  {
   "cell_type": "code",
   "execution_count": 1,
   "metadata": {},
   "outputs": [],
   "source": [
    "# Coco Path\n",
    "# path = r\"C:\\Users\\CocoL\\Universität St.Gallen\\STUD-Capstoneproject Tell 6 - General\\\"\n",
    "# Jona Path\n",
    "# path = r\"/Users/jhoff/Universität St.Gallen/STUD-Capstoneproject Tell 6 - Dokumente/General/\"\n",
    "# Giovanni Path\n",
    "path = r\"/Users/jonathanebner/Universität St.Gallen/STUD-Capstoneproject Tell 6 - General\"\n",
    "# Leo Path\n",
    "#ath = r\"/Users/Leonidas/Universität St.Gallen/STUD-Capstoneproject Tell 6 - General/\"\n",
    "\n",
    "# Import packages\n",
    "import pandas as pd\n",
    "import numpy as np\n",
    "import spacy\n",
    "import de_core_news_lg"
   ]
  },
  {
   "cell_type": "code",
   "execution_count": 2,
   "metadata": {},
   "outputs": [
    {
     "name": "stdout",
     "output_type": "stream",
     "text": [
      "Number of imported recipes:  12190\n"
     ]
    }
   ],
   "source": [
    "# Load data and seperate instructions at @ as defined\n",
    "data = pd.read_csv(path+\"/02-Coding/01-Data/01_instructions/instructions.csv\", sep=\"@\", encoding=\"utf-16\", header=None, error_bad_lines=False)\n",
    "print(\"Number of imported recipes: \",len(data))"
   ]
  },
  {
   "cell_type": "code",
   "execution_count": 3,
   "metadata": {},
   "outputs": [],
   "source": [
    "# Name column text to have the keys named text later\n",
    "data.columns = [\"text\"]"
   ]
  },
  {
   "cell_type": "code",
   "execution_count": 4,
   "metadata": {},
   "outputs": [
    {
     "data": {
      "text/html": [
       "<div>\n",
       "<style scoped>\n",
       "    .dataframe tbody tr th:only-of-type {\n",
       "        vertical-align: middle;\n",
       "    }\n",
       "\n",
       "    .dataframe tbody tr th {\n",
       "        vertical-align: top;\n",
       "    }\n",
       "\n",
       "    .dataframe thead th {\n",
       "        text-align: right;\n",
       "    }\n",
       "</style>\n",
       "<table border=\"1\" class=\"dataframe\">\n",
       "  <thead>\n",
       "    <tr style=\"text-align: right;\">\n",
       "      <th></th>\n",
       "      <th>text</th>\n",
       "      <th>Tokenized</th>\n",
       "      <th>Length</th>\n",
       "    </tr>\n",
       "  </thead>\n",
       "  <tbody>\n",
       "    <tr>\n",
       "      <th>0</th>\n",
       "      <td>Die Eier hart kochen. Dann pellen und mit eine...</td>\n",
       "      <td>(Die, Eier, hart, kochen, ., Dann, pellen, und...</td>\n",
       "      <td>341</td>\n",
       "    </tr>\n",
       "    <tr>\n",
       "      <th>1</th>\n",
       "      <td>Vorab folgende Bemerkung: Alle Mengen sind Cir...</td>\n",
       "      <td>(Vorab, folgende, Bemerkung, :, Alle, Mengen, ...</td>\n",
       "      <td>155</td>\n",
       "    </tr>\n",
       "    <tr>\n",
       "      <th>2</th>\n",
       "      <td>Die Kirschen abtropfen lassen, dabei den Saft ...</td>\n",
       "      <td>(Die, Kirschen, abtropfen, lassen, ,, dabei, d...</td>\n",
       "      <td>133</td>\n",
       "    </tr>\n",
       "    <tr>\n",
       "      <th>3</th>\n",
       "      <td>Den Spargel säubern, die holzigen Enden abschn...</td>\n",
       "      <td>(Den, Spargel, säubern, ,, die, holzigen, Ende...</td>\n",
       "      <td>137</td>\n",
       "    </tr>\n",
       "    <tr>\n",
       "      <th>4</th>\n",
       "      <td>Kohlrabi schälen und klein würfeln. Mit der Br...</td>\n",
       "      <td>(Kohlrabi, schälen, und, klein, würfeln, ., Mi...</td>\n",
       "      <td>89</td>\n",
       "    </tr>\n",
       "  </tbody>\n",
       "</table>\n",
       "</div>"
      ],
      "text/plain": [
       "                                                text  \\\n",
       "0  Die Eier hart kochen. Dann pellen und mit eine...   \n",
       "1  Vorab folgende Bemerkung: Alle Mengen sind Cir...   \n",
       "2  Die Kirschen abtropfen lassen, dabei den Saft ...   \n",
       "3  Den Spargel säubern, die holzigen Enden abschn...   \n",
       "4  Kohlrabi schälen und klein würfeln. Mit der Br...   \n",
       "\n",
       "                                           Tokenized  Length  \n",
       "0  (Die, Eier, hart, kochen, ., Dann, pellen, und...     341  \n",
       "1  (Vorab, folgende, Bemerkung, :, Alle, Mengen, ...     155  \n",
       "2  (Die, Kirschen, abtropfen, lassen, ,, dabei, d...     133  \n",
       "3  (Den, Spargel, säubern, ,, die, holzigen, Ende...     137  \n",
       "4  (Kohlrabi, schälen, und, klein, würfeln, ., Mi...      89  "
      ]
     },
     "execution_count": 4,
     "metadata": {},
     "output_type": "execute_result"
    }
   ],
   "source": [
    "# Initiate nlp model\n",
    "disabled = ['parser', 'tagger', 'ner']\n",
    "nlp = spacy.load('de_core_news_lg', disable=disabled)\n",
    "\n",
    "\n",
    "# Create a column with tokenized instructions using spacy\n",
    "data[\"Tokenized\"] = data[\"text\"].apply(nlp) \n",
    "# Create a column with the amount of tokens per recipe\n",
    "data[\"Length\"] = data[\"Tokenized\"].apply(len)\n",
    "data.head()"
   ]
  },
  {
   "cell_type": "code",
   "execution_count": 5,
   "metadata": {},
   "outputs": [
    {
     "data": {
      "text/html": [
       "<div>\n",
       "<style scoped>\n",
       "    .dataframe tbody tr th:only-of-type {\n",
       "        vertical-align: middle;\n",
       "    }\n",
       "\n",
       "    .dataframe tbody tr th {\n",
       "        vertical-align: top;\n",
       "    }\n",
       "\n",
       "    .dataframe thead th {\n",
       "        text-align: right;\n",
       "    }\n",
       "</style>\n",
       "<table border=\"1\" class=\"dataframe\">\n",
       "  <thead>\n",
       "    <tr style=\"text-align: right;\">\n",
       "      <th></th>\n",
       "      <th>text</th>\n",
       "      <th>Tokenized</th>\n",
       "      <th>Length</th>\n",
       "    </tr>\n",
       "  </thead>\n",
       "  <tbody>\n",
       "    <tr>\n",
       "      <th>1</th>\n",
       "      <td>Vorab folgende Bemerkung: Alle Mengen sind Cir...</td>\n",
       "      <td>(Vorab, folgende, Bemerkung, :, Alle, Mengen, ...</td>\n",
       "      <td>155</td>\n",
       "    </tr>\n",
       "    <tr>\n",
       "      <th>2</th>\n",
       "      <td>Die Kirschen abtropfen lassen, dabei den Saft ...</td>\n",
       "      <td>(Die, Kirschen, abtropfen, lassen, ,, dabei, d...</td>\n",
       "      <td>133</td>\n",
       "    </tr>\n",
       "    <tr>\n",
       "      <th>3</th>\n",
       "      <td>Den Spargel säubern, die holzigen Enden abschn...</td>\n",
       "      <td>(Den, Spargel, säubern, ,, die, holzigen, Ende...</td>\n",
       "      <td>137</td>\n",
       "    </tr>\n",
       "    <tr>\n",
       "      <th>4</th>\n",
       "      <td>Kohlrabi schälen und klein würfeln. Mit der Br...</td>\n",
       "      <td>(Kohlrabi, schälen, und, klein, würfeln, ., Mi...</td>\n",
       "      <td>89</td>\n",
       "    </tr>\n",
       "    <tr>\n",
       "      <th>5</th>\n",
       "      <td>Aus dem Mehl, der Butter, dem Ei und etwas Sal...</td>\n",
       "      <td>(Aus, dem, Mehl, ,, der, Butter, ,, dem, Ei, u...</td>\n",
       "      <td>152</td>\n",
       "    </tr>\n",
       "  </tbody>\n",
       "</table>\n",
       "</div>"
      ],
      "text/plain": [
       "                                                text  \\\n",
       "1  Vorab folgende Bemerkung: Alle Mengen sind Cir...   \n",
       "2  Die Kirschen abtropfen lassen, dabei den Saft ...   \n",
       "3  Den Spargel säubern, die holzigen Enden abschn...   \n",
       "4  Kohlrabi schälen und klein würfeln. Mit der Br...   \n",
       "5  Aus dem Mehl, der Butter, dem Ei und etwas Sal...   \n",
       "\n",
       "                                           Tokenized  Length  \n",
       "1  (Vorab, folgende, Bemerkung, :, Alle, Mengen, ...     155  \n",
       "2  (Die, Kirschen, abtropfen, lassen, ,, dabei, d...     133  \n",
       "3  (Den, Spargel, säubern, ,, die, holzigen, Ende...     137  \n",
       "4  (Kohlrabi, schälen, und, klein, würfeln, ., Mi...      89  \n",
       "5  (Aus, dem, Mehl, ,, der, Butter, ,, dem, Ei, u...     152  "
      ]
     },
     "execution_count": 5,
     "metadata": {},
     "output_type": "execute_result"
    }
   ],
   "source": [
    "# select all recipes with a token length of smaller 210\n",
    "data_smaller210 = data[data[\"Length\"] < 210]\n",
    "data_smaller210.head()"
   ]
  },
  {
   "cell_type": "code",
   "execution_count": 14,
   "metadata": {},
   "outputs": [
    {
     "data": {
      "text/html": [
       "<div>\n",
       "<style scoped>\n",
       "    .dataframe tbody tr th:only-of-type {\n",
       "        vertical-align: middle;\n",
       "    }\n",
       "\n",
       "    .dataframe tbody tr th {\n",
       "        vertical-align: top;\n",
       "    }\n",
       "\n",
       "    .dataframe thead th {\n",
       "        text-align: right;\n",
       "    }\n",
       "</style>\n",
       "<table border=\"1\" class=\"dataframe\">\n",
       "  <thead>\n",
       "    <tr style=\"text-align: right;\">\n",
       "      <th></th>\n",
       "      <th>text</th>\n",
       "    </tr>\n",
       "  </thead>\n",
       "  <tbody>\n",
       "    <tr>\n",
       "      <th>1</th>\n",
       "      <td>Vorab folgende Bemerkung: Alle Mengen sind Cir...</td>\n",
       "    </tr>\n",
       "    <tr>\n",
       "      <th>2</th>\n",
       "      <td>Die Kirschen abtropfen lassen, dabei den Saft ...</td>\n",
       "    </tr>\n",
       "    <tr>\n",
       "      <th>3</th>\n",
       "      <td>Den Spargel säubern, die holzigen Enden abschn...</td>\n",
       "    </tr>\n",
       "    <tr>\n",
       "      <th>4</th>\n",
       "      <td>Kohlrabi schälen und klein würfeln. Mit der Br...</td>\n",
       "    </tr>\n",
       "    <tr>\n",
       "      <th>5</th>\n",
       "      <td>Aus dem Mehl, der Butter, dem Ei und etwas Sal...</td>\n",
       "    </tr>\n",
       "    <tr>\n",
       "      <th>...</th>\n",
       "      <td>...</td>\n",
       "    </tr>\n",
       "    <tr>\n",
       "      <th>12125</th>\n",
       "      <td>Thunfisch bei Zimmertemperatur auftauen lassen...</td>\n",
       "    </tr>\n",
       "    <tr>\n",
       "      <th>12150</th>\n",
       "      <td>Die Zwiebel schälen, halbieren und in dünne St...</td>\n",
       "    </tr>\n",
       "    <tr>\n",
       "      <th>12176</th>\n",
       "      <td>Das Wasser mit der Sojasauce (gehört klassisch...</td>\n",
       "    </tr>\n",
       "    <tr>\n",
       "      <th>12179</th>\n",
       "      <td>Die Papaya schälen, die Kerne entfernen und au...</td>\n",
       "    </tr>\n",
       "    <tr>\n",
       "      <th>12180</th>\n",
       "      <td>Die Bohnen waschen, putzen und in feine, lange...</td>\n",
       "    </tr>\n",
       "  </tbody>\n",
       "</table>\n",
       "<p>3761 rows × 1 columns</p>\n",
       "</div>"
      ],
      "text/plain": [
       "                                                    text\n",
       "1      Vorab folgende Bemerkung: Alle Mengen sind Cir...\n",
       "2      Die Kirschen abtropfen lassen, dabei den Saft ...\n",
       "3      Den Spargel säubern, die holzigen Enden abschn...\n",
       "4      Kohlrabi schälen und klein würfeln. Mit der Br...\n",
       "5      Aus dem Mehl, der Butter, dem Ei und etwas Sal...\n",
       "...                                                  ...\n",
       "12125  Thunfisch bei Zimmertemperatur auftauen lassen...\n",
       "12150  Die Zwiebel schälen, halbieren und in dünne St...\n",
       "12176  Das Wasser mit der Sojasauce (gehört klassisch...\n",
       "12179  Die Papaya schälen, die Kerne entfernen und au...\n",
       "12180  Die Bohnen waschen, putzen und in feine, lange...\n",
       "\n",
       "[3761 rows x 1 columns]"
      ]
     },
     "execution_count": 14,
     "metadata": {},
     "output_type": "execute_result"
    }
   ],
   "source": [
    "# delete duplicates in text\n",
    "data_smaller210_nodupl = data_smaller210.drop_duplicates(subset='text', keep=\"first\")\n",
    "data_smaller210_nodupl_ = pd.DataFrame(data_smaller210_nodupl[\"text\"])\n",
    "data_smaller210_nodupl_\n",
    "data_smaller210_nodupl_.to_json(\"/Users/jonathanebner/Universität St.Gallen/STUD-Capstoneproject Tell 6 - General/02-Coding/01-Data/00_raw_data/recipes_cleaned.json\",orient='records',force_ascii=False)"
   ]
  },
  {
   "cell_type": "code",
   "execution_count": null,
   "metadata": {},
   "outputs": [],
   "source": [
    "print(\"All:\", len(data))\n",
    "print(\"Length 210:\", len(data_smaller210))\n",
    "print(\"No duplicates:\", len(data_smaller210_nodupl))"
   ]
  },
  {
   "cell_type": "code",
   "execution_count": null,
   "metadata": {},
   "outputs": [],
   "source": [
    "# shuffle all recipes\n",
    "data_shuffle = data_smaller210_nodupl.sample(frac=1).reset_index(drop=True).iloc[:,0]\n",
    "data_final = data_shuffle.to_frame()\n",
    "data_drop = data_final.copy()\n",
    "data_final.head()"
   ]
  },
  {
   "cell_type": "code",
   "execution_count": null,
   "metadata": {},
   "outputs": [],
   "source": [
    "# create overlap of 30\n",
    "overlap = data_drop.sample(30)\n",
    "overlap.to_json(path+\"/02-Coding/01-Data/20_overlap/overlap.json\",orient='records',force_ascii=False)\n",
    "overlap_batch1 = overlap.iloc[:10]\n",
    "overlap_batch2 = overlap[10:]\n",
    "data_drop = data_drop.drop(list(overlap.index))\n",
    "print(\"Overlap:\", len(overlap))\n",
    "print(\"Rest:\", len(data_drop))\n",
    "overlap.head()"
   ]
  },
  {
   "cell_type": "code",
   "execution_count": null,
   "metadata": {},
   "outputs": [],
   "source": [
    "amount_recipes_batch1 = 50\n",
    "amount_recipes_batch2 = 100"
   ]
  },
  {
   "cell_type": "code",
   "execution_count": null,
   "metadata": {},
   "outputs": [],
   "source": [
    "# create batch1 and batch2\n",
    "\n",
    "batch1_jona = data_drop.sample(amount_recipes_batch1)\n",
    "data_drop = data_drop.drop(list(batch1_jona.index))\n",
    "batch2_jona = data_drop.sample(amount_recipes_batch2)\n",
    "data_drop = data_drop.drop(list(batch2_jona.index))\n",
    "print(\"Rest:\", len(data_drop))\n",
    "\n",
    "batch1_leo = data_drop.sample(amount_recipes_batch1)\n",
    "data_drop = data_drop.drop(list(batch1_leo.index))\n",
    "batch2_leo = data_drop.sample(amount_recipes_batch2)\n",
    "data_drop = data_drop.drop(list(batch2_leo.index))\n",
    "print(\"Rest:\", len(data_drop))\n",
    "\n",
    "batch1_coco = data_drop.sample(amount_recipes_batch1)\n",
    "data_drop = data_drop.drop(list(batch1_coco.index))\n",
    "batch2_coco = data_drop.sample(amount_recipes_batch2)\n",
    "data_drop = data_drop.drop(list(batch2_coco.index))\n",
    "print(\"Rest:\", len(data_drop))\n",
    "\n",
    "batch1_jonathan = data_drop.sample(amount_recipes_batch1)\n",
    "data_drop = data_drop.drop(list(batch1_jonathan.index))\n",
    "batch2_jonathan = data_drop.sample(amount_recipes_batch2)\n",
    "data_drop = data_drop.drop(list(batch2_jonathan.index))\n",
    "print(\"Rest:\", len(data_drop))"
   ]
  },
  {
   "cell_type": "code",
   "execution_count": null,
   "metadata": {},
   "outputs": [],
   "source": [
    "# mix batches with overlap\n",
    "\n",
    "batch1_jona_total = pd.concat([batch1_jona, overlap_batch1]).sample(frac = 1)\n",
    "batch2_jona_total = pd.concat([batch2_jona, overlap_batch2]).sample(frac = 1)\n",
    "\n",
    "batch1_leo_total = pd.concat([batch1_leo, overlap_batch1]).sample(frac = 1)\n",
    "batch2_leo_total = pd.concat([batch2_leo, overlap_batch2]).sample(frac = 1)\n",
    "\n",
    "batch1_coco_total = pd.concat([batch1_coco, overlap_batch1]).sample(frac = 1)\n",
    "batch2_coco_total = pd.concat([batch2_coco, overlap_batch2]).sample(frac = 1)\n",
    "\n",
    "batch1_jonathan_total = pd.concat([batch1_jonathan, overlap_batch1]).sample(frac = 1)\n",
    "batch2_jonathan_total = pd.concat([batch2_jonathan, overlap_batch2]).sample(frac = 1)"
   ]
  },
  {
   "cell_type": "code",
   "execution_count": null,
   "metadata": {},
   "outputs": [],
   "source": [
    "# df to json\n",
    "def df_to_json_batch_1():\n",
    "    batch1_jona_total.to_json(path+\"02-Coding/01-Data/11_clean_batches/batch1_jona.json\",orient='records',force_ascii=False)\n",
    "\n",
    "    batch1_leo_total.to_json(path+\"02-Coding/01-Data/11_clean_batches/batch1_leo.json\",orient='records',force_ascii=False)\n",
    "\n",
    "    batch1_coco_total.to_json(path+\"02-Coding/01-Data/11_clean_batches/batch1_coco.json\",orient='records',force_ascii=False)\n",
    "\n",
    "    batch1_jonathan_total.to_json(path+\"02-Coding/01-Data/11_clean_batches/batch1_jonathan.json\",orient='records',force_ascii=False)"
   ]
  },
  {
   "cell_type": "code",
   "execution_count": null,
   "metadata": {},
   "outputs": [],
   "source": [
    "#df_to_json_batch1()"
   ]
  },
  {
   "cell_type": "code",
   "execution_count": null,
   "metadata": {},
   "outputs": [],
   "source": [
    "def df_to_json_batch_2():\n",
    "    batch2_jona_total.to_json(path+\"02-Coding/01-Data/11_clean_batches/batch2_jona.json\",orient='records',force_ascii=False)\n",
    "\n",
    "    batch2_leo_total.to_json(path+\"02-Coding/01-Data/11_clean_batches/batch2_leo.json\",orient='records',force_ascii=False)\n",
    "\n",
    "    batch2_coco_total.to_json(path+\"02-Coding/01-Data/11_clean_batches/batch2_coco.json\",orient='records',force_ascii=False)\n",
    "\n",
    "    batch2_jonathan_total.to_json(path+\"02-Coding/01-Data/11_clean_batches/batch2_jonathan.json\",orient='records',force_ascii=False)"
   ]
  },
  {
   "cell_type": "code",
   "execution_count": null,
   "metadata": {},
   "outputs": [],
   "source": [
    "df_to_json_batch2()"
   ]
  }
 ],
 "metadata": {
  "kernelspec": {
   "display_name": "Python 3",
   "language": "python",
   "name": "python3"
  },
  "language_info": {
   "codemirror_mode": {
    "name": "ipython",
    "version": 3
   },
   "file_extension": ".py",
   "mimetype": "text/x-python",
   "name": "python",
   "nbconvert_exporter": "python",
   "pygments_lexer": "ipython3",
   "version": "3.7.7"
  }
 },
 "nbformat": 4,
 "nbformat_minor": 2
}
