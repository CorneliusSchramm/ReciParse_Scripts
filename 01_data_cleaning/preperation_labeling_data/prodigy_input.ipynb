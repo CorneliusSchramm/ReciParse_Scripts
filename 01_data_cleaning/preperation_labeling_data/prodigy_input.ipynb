{
 "metadata": {
  "language_info": {
   "codemirror_mode": {
    "name": "ipython",
    "version": 3
   },
   "file_extension": ".py",
   "mimetype": "text/x-python",
   "name": "python",
   "nbconvert_exporter": "python",
   "pygments_lexer": "ipython3",
   "version": "3.8.3-final"
  },
  "orig_nbformat": 2,
  "kernelspec": {
   "name": "python3",
   "display_name": "Python 3"
  }
 },
 "nbformat": 4,
 "nbformat_minor": 2,
 "cells": [
  {
   "source": [
    "## Create Input for Prodigy Relations Annotation\n",
    "####  9. November 2020\n",
    "### Input\n",
    "Chefkoch Recipes csv\n",
    "### Output\n",
    "Prodigy Annotation input format recipes-texts.json\n"
   ],
   "cell_type": "markdown",
   "metadata": {}
  },
  {
   "cell_type": "code",
   "execution_count": 1,
   "metadata": {},
   "outputs": [],
   "source": [
    "# Coco Path\n",
    "# path = r\"C:\\Users\\CocoL\\Universität St.Gallen\\STUD-Capstoneproject Tell 6 - General\\\"\n",
    "# Jona Path\n",
    "# path = r\"/Users/jhoff/Universität St.Gallen/STUD-Capstoneproject Tell 6 - Dokumente/General/\"\n",
    "# Giovanni Path\n",
    "path = r\"/Users/jonathanebner/Universität St.Gallen/STUD-Capstoneproject Tell 6 - General/\"\n",
    "# Leo Path\n",
    "#path = r\"/Users/Leonidas/Universität St.Gallen/STUD-Capstoneproject Tell 6 - General/\"\n",
    "\n",
    "# Import packages\n",
    "import pandas as pd\n",
    "# import numpy as np"
   ]
  },
  {
   "cell_type": "code",
   "execution_count": 2,
   "metadata": {},
   "outputs": [
    {
     "output_type": "stream",
     "name": "stdout",
     "text": [
      "Number of imported recipes:  12190\n"
     ]
    }
   ],
   "source": [
    "# Load data and seperate instructions at @ as defined\n",
    "data = pd.read_csv(path+\"02-Coding/01-Data/instructions.csv\", sep=\"@\", encoding=\"utf-16\", header=None, error_bad_lines=False)\n",
    "print(\"Number of imported recipes: \",len(data))"
   ]
  },
  {
   "cell_type": "code",
   "execution_count": 3,
   "metadata": {},
   "outputs": [],
   "source": [
    "# Name column text to have the keys named text later\n",
    "data.columns = [\"text\"]"
   ]
  },
  {
   "cell_type": "code",
   "execution_count": 5,
   "metadata": {},
   "outputs": [
    {
     "output_type": "execute_result",
     "data": {
      "text/plain": [
       "pandas.core.frame.DataFrame"
      ]
     },
     "metadata": {},
     "execution_count": 5
    }
   ],
   "source": [
    "type(data)"
   ]
  },
  {
   "cell_type": "code",
   "execution_count": 4,
   "metadata": {},
   "outputs": [],
   "source": [
    "# Convert pandas dataframe to list of dicts with {\"text\": \"Instruction\"} per dict\n",
    "data.iloc[5:10,:].to_json(path+\"/02-Coding/01-Data/recipes-texts_test_annotation5.json\",orient='records', force_ascii=False)"
   ]
  },
  {
   "cell_type": "code",
   "execution_count": 40,
   "metadata": {},
   "outputs": [
    {
     "output_type": "execute_result",
     "data": {
      "text/plain": [
       "list"
      ]
     },
     "metadata": {},
     "execution_count": 40
    }
   ],
   "source": [
    "# Save as recipes-texts.json"
   ]
  },
  {
   "cell_type": "code",
   "execution_count": null,
   "metadata": {},
   "outputs": [],
   "source": []
  }
 ]
}